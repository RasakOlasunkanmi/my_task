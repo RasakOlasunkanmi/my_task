{
 "cells": [
  {
   "cell_type": "code",
   "execution_count": 1,
   "id": "ce44b982",
   "metadata": {},
   "outputs": [],
   "source": [
    "\n",
    "import numpy as np"
   ]
  },
  {
   "cell_type": "code",
   "execution_count": 2,
   "id": "1eea041c",
   "metadata": {},
   "outputs": [
    {
     "name": "stdout",
     "output_type": "stream",
     "text": [
      "1D array: [ 1  2  3  4  5  6  7  8  9 10 11 12 13 14 15 16 17 18 19 20]\n",
      "Shape of array: (20,)\n",
      "Size of array: 20\n",
      "Dimension of array: 1\n"
     ]
    }
   ],
   "source": [
    "# Q1. Create a 1D NumPy array containing integers from 1 to 20. Display the array and its shape, size, and ndim.\n",
    "# Creating a 1D array\n",
    "arr1d = np.array([1, 2, 3, 4, 5, 6, 7, 8, 9, 10, 11, 12, 13, 14, 15, 16, 17, 18, 19, 20])\n",
    "print(\"1D array:\", arr1d)\n",
    "print(\"Shape of array:\", arr1d.shape)\n",
    "print(\"Size of array:\", arr1d.size)\n",
    "print(\"Dimension of array:\", arr1d.ndim)"
   ]
  },
  {
   "cell_type": "code",
   "execution_count": 20,
   "id": "de4d602a",
   "metadata": {},
   "outputs": [
    {
     "name": "stdout",
     "output_type": "stream",
     "text": [
      "\n",
      "2D array:\n",
      " [[34 95 29 92]\n",
      " [47 40 83 56]\n",
      " [56 23 78 86]]\n",
      "Data type of array: int32\n",
      "Item size of array (in bytes): 4\n",
      "Total number of bytes consumed by the array: 48\n"
     ]
    }
   ],
   "source": [
    "# Q2. Create a 2D array (3×4) of random integers between 10 and 99. Display the array and print its dtype, itemsize, and nbytes.\n",
    "arr2d = np.random.randint(10, 100, size=(3, 4))\n",
    "print(\"\\n2D array:\\n\", arr2d)\n",
    "print(\"Data type of array:\", arr2d.dtype)\n",
    "print(\"Item size of array (in bytes):\", arr2d.itemsize)\n",
    "print(\"Total number of bytes consumed by the array:\", arr2d.nbytes)\n"
   ]
  },
  {
   "cell_type": "code",
   "execution_count": 5,
   "id": "7f0ce460",
   "metadata": {},
   "outputs": [
    {
     "name": "stdout",
     "output_type": "stream",
     "text": [
      "\n",
      "5x5 array of zeros:\n",
      " [[0. 0. 0. 0. 0.]\n",
      " [0. 0. 0. 0. 0.]\n",
      " [0. 0. 0. 0. 0.]\n",
      " [0. 0. 0. 0. 0.]\n",
      " [0. 0. 0. 0. 0.]]\n",
      "\n",
      "4x4 array of ones:\n",
      " [[1. 1. 1. 1.]\n",
      " [1. 1. 1. 1.]\n",
      " [1. 1. 1. 1.]\n",
      " [1. 1. 1. 1.]]\n",
      "\n",
      "6x6 identity matrix:\n",
      " [[1. 0. 0. 0. 0. 0.]\n",
      " [0. 1. 0. 0. 0. 0.]\n",
      " [0. 0. 1. 0. 0. 0.]\n",
      " [0. 0. 0. 1. 0. 0.]\n",
      " [0. 0. 0. 0. 1. 0.]\n",
      " [0. 0. 0. 0. 0. 1.]]\n"
     ]
    }
   ],
   "source": [
    "# Q3. Generate the following special arrays: A 5×5 array of zeros, A 4×4 array of ones, A 6×6 identity matrix.\n",
    "zeros = np.zeros((5, 5))\n",
    "print(\"\\n5x5 array of zeros:\\n\", zeros)\n",
    "\n",
    "ones = np.ones((4, 4))\n",
    "print(\"\\n4x4 array of ones:\\n\", ones)\n",
    "\n",
    "identity = np.eye(6)\n",
    "print(\"\\n6x6 identity matrix:\\n\", identity)"
   ]
  },
  {
   "cell_type": "code",
   "execution_count": 6,
   "id": "438e4f2f",
   "metadata": {},
   "outputs": [
    {
     "name": "stdout",
     "output_type": "stream",
     "text": [
      "\n",
      "Array of integers from 0 to 50 with a step of 5:\n",
      " [ 0  5 10 15 20 25 30 35 40 45 50]\n",
      "\n",
      "10 evenly spaced values between 0 and 1:\n",
      " [0.         0.11111111 0.22222222 0.33333333 0.44444444 0.55555556\n",
      " 0.66666667 0.77777778 0.88888889 1.        ]\n"
     ]
    }
   ],
   "source": [
    "# Q4. Use np.arange to create an array of integers from 0 to 50 with a step of 5. Then use np.linspace to generate 10 evenly spaced values between 0 and 1.\n",
    "np.arange(0, 51, 5)\n",
    "np.linspace(0, 1, 10)\n",
    "print(\"\\nArray of integers from 0 to 50 with a step of 5:\\n\", np.arange(0, 51, 5))\n",
    "print(\"\\n10 evenly spaced values between 0 and 1:\\n\", np.linspace(0, 1, 10))"
   ]
  },
  {
   "cell_type": "code",
   "execution_count": 7,
   "id": "8c3ffa5e",
   "metadata": {},
   "outputs": [
    {
     "name": "stdout",
     "output_type": "stream",
     "text": [
      "\n",
      "First row of the array:\n",
      " [ 5 12 18  7 25]\n",
      "\n",
      "Last column of the array:\n",
      " [25 10  2 11]\n",
      "\n",
      "Elements greater than 20:\n",
      " [25 30 22 28 35 40]\n"
     ]
    }
   ],
   "source": [
    "# Q5. Given a 2D array of shape (4,5), perform the following: Extract the first row, Extract the last column, Extract all elements greater than 20.\n",
    "arr_2d = np.array([[5, 12, 18, 7, 25],\n",
    "                   [30, 22, 15, 8, 10],\n",
    "                   [14, 28, 35, 40, 2],\n",
    "                   [1, 3, 6, 9, 11]])\n",
    "first_row = arr_2d[0, :]\n",
    "print(\"\\nFirst row of the array:\\n\", first_row)\n",
    "\n",
    "last_column = arr_2d[:, -1]\n",
    "print(\"\\nLast column of the array:\\n\", last_column)\n",
    "\n",
    "graeter_than_20 = arr_2d[arr_2d > 20]\n",
    "print(\"\\nElements greater than 20:\\n\", graeter_than_20)"
   ]
  },
  {
   "cell_type": "code",
   "execution_count": null,
   "id": "9cc4c5e8",
   "metadata": {},
   "outputs": [
    {
     "name": "stdout",
     "output_type": "stream",
     "text": [
      "\n",
      "3D array:\n",
      " [[[40 81 70  4]\n",
      "  [65 57 58 98]\n",
      "  [64 87 27 72]]\n",
      "\n",
      " [[ 4 88 36 15]\n",
      "  [98 42 24  2]\n",
      "  [ 5  6 84 45]]]\n",
      "Shape of 3D array: (2, 3, 4)\n",
      "Element at position [1,2,3]: 45\n"
     ]
    }
   ],
   "source": [
    "# Q6. Create a 3D NumPy array of shape (2,3,4) filled with random integers. Print its shape and access the element at position [1,2,3].\n",
    "arr3d = np.random.randint(0, 100, size=(2, 3, 4))\n",
    "print(\"\\n3D array:\\n\", arr3d)\n",
    "print(\"Shape of 3D array:\", arr3d.shape)\n",
    "element_1_2_3 = arr3d[1, 2, 3]\n",
    "print(\"Element at position [1,2,3]:\", element_1_2_3)\n"
   ]
  },
  {
   "cell_type": "code",
   "execution_count": 11,
   "id": "1d3fe341",
   "metadata": {},
   "outputs": [
    {
     "name": "stdout",
     "output_type": "stream",
     "text": [
      "\n",
      "Original array after modifying the view and copy:\n",
      " [10 99 30 40 50]\n",
      "Sliced view (after modification):\n",
      " [99 30 40]\n",
      "Fancy indexed copy (after modification):\n",
      " [88 30 40]\n"
     ]
    }
   ],
   "source": [
    "# Q7. Demonstrate the difference between slicing (returns a view) and fancy indexing (returns a copy) using a sample 1D array.\n",
    "sample_array = np.array([10, 20, 30, 40, 50])\n",
    "sliced_view = sample_array[1:4]  # slicing\n",
    "fancy_indexed_copy = sample_array[[1, 2, 3]]  # fancy indexing\n",
    "sliced_view[0] = 99  # Modifying the view\n",
    "fancy_indexed_copy[0] = 88  # Modifying the copy\n",
    "print(\"\\nOriginal array after modifying the view and copy:\\n\", sample_array)\n",
    "print(\"Sliced view (after modification):\\n\", sliced_view)\n",
    "print(\"Fancy indexed copy (after modification):\\n\", fancy_indexed_copy)\n"
   ]
  },
  {
   "cell_type": "code",
   "execution_count": 12,
   "id": "d848c454",
   "metadata": {},
   "outputs": [
    {
     "name": "stdout",
     "output_type": "stream",
     "text": [
      "\n",
      "Reshaped (4,6) array:\n",
      " [[ 0  1  2  3  4  5]\n",
      " [ 6  7  8  9 10 11]\n",
      " [12 13 14 15 16 17]\n",
      " [18 19 20 21 22 23]]\n",
      "\n",
      "Raveled array:\n",
      " [ 0  1  2  3  4  5  6  7  8  9 10 11 12 13 14 15 16 17 18 19 20 21 22 23]\n",
      "\n",
      "Flattened array:\n",
      " [ 0  1  2  3  4  5  6  7  8  9 10 11 12 13 14 15 16 17 18 19 20 21 22 23]\n"
     ]
    }
   ],
   "source": [
    "# Q8. Reshape a 1D array of 24 elements into a (4,6) array, then flatten it with ravel() and flatten(). Explain the difference in behavior.\n",
    "arr_1d = np.arange(24).reshape((4, 6))\n",
    "print(\"\\nReshaped (4,6) array:\\n\", arr_1d)\n",
    "raveled = arr_1d.ravel()\n",
    "flattened = arr_1d.flatten()\n",
    "print(\"\\nRaveled array:\\n\", raveled)\n",
    "print(\"\\nFlattened array:\\n\", flattened)\n",
    "\n",
    "\n",
    "# The difference is that ravel() returns a view of the original array whenever possible, while flatten() always returns a copy.\n",
    "\n"
   ]
  },
  {
   "cell_type": "code",
   "execution_count": 13,
   "id": "538b0714",
   "metadata": {},
   "outputs": [
    {
     "name": "stdout",
     "output_type": "stream",
     "text": [
      "\n",
      "Horizontal stack:\n",
      " [[ 1  2  3  7  8  9]\n",
      " [ 4  5  6 10 11 12]]\n",
      "\n",
      "Vertical stack:\n",
      " [[ 1  2  3]\n",
      " [ 4  5  6]\n",
      " [ 7  8  9]\n",
      " [10 11 12]]\n",
      "\n",
      "Horizontal split back into equal parts:\n",
      " [array([[1, 2, 3],\n",
      "       [4, 5, 6]]), array([[ 7,  8,  9],\n",
      "       [10, 11, 12]])]\n",
      "\n",
      "Vertical split back into equal parts:\n",
      " [array([[1, 2, 3],\n",
      "       [4, 5, 6]]), array([[ 7,  8,  9],\n",
      "       [10, 11, 12]])]\n"
     ]
    }
   ],
   "source": [
    "# Q9. Create two arrays and perform the following concatenations: Horizontal stack, Vertical stack, Split the resulting array back into equal parts.\n",
    "arr1 = np.array([[1, 2, 3], [4, 5, 6]])\n",
    "arr2 = np.array([[7, 8, 9], [10, 11, 12]])\n",
    "h_stack = np.hstack((arr1, arr2))\n",
    "v_stack = np.vstack((arr1, arr2))\n",
    "print(\"\\nHorizontal stack:\\n\", h_stack)\n",
    "print(\"\\nVertical stack:\\n\", v_stack)\n",
    "h_split = np.hsplit(h_stack, 2)\n",
    "v_split = np.vsplit(v_stack, 2)\n",
    "print(\"\\nHorizontal split back into equal parts:\\n\", h_split)\n",
    "print(\"\\nVertical split back into equal parts:\\n\", v_split)\n"
   ]
  },
  {
   "cell_type": "code",
   "execution_count": 15,
   "id": "c8710704",
   "metadata": {},
   "outputs": [
    {
     "name": "stdout",
     "output_type": "stream",
     "text": [
      "\n",
      "Original array:\n",
      " [85 50  4  3 40]\n",
      "\n",
      "Square root of each element:\n",
      " [9.21954446 7.07106781 2.         1.73205081 6.32455532]\n",
      "\n",
      "Exponential of each element:\n",
      " [8.22301271e+36 5.18470553e+21 5.45981500e+01 2.00855369e+01\n",
      " 2.35385267e+17]\n",
      "\n",
      "Each value rounded to 2 decimal places:\n",
      " [85 50  4  3 40]\n"
     ]
    }
   ],
   "source": [
    "# Q10. Perform the following element-wise operations on a random array of integers (size 5): Square root, Exponential (np.exp), Round each value to 2 decimal places.\n",
    "element = np.random.randint(1, 100, size=5) # Random array of integers\n",
    "print(\"\\nOriginal array:\\n\", element)\n",
    "sqrt_values = np.sqrt(element)\n",
    "exp_values = np.exp(element)\n",
    "rounded_values = np.round(element, 2)\n",
    "print(\"\\nSquare root of each element:\\n\", sqrt_values)\n",
    "print(\"\\nExponential of each element:\\n\", exp_values)\n",
    "print(\"\\nEach value rounded to 2 decimal places:\\n\", rounded_values)\n"
   ]
  },
  {
   "cell_type": "code",
   "execution_count": 16,
   "id": "91a07bcc",
   "metadata": {},
   "outputs": [
    {
     "name": "stdout",
     "output_type": "stream",
     "text": [
      "\n",
      "Original array:\n",
      " [ 1.5  2.7 -3.9  4.1]\n",
      "\n",
      "Floor values:\n",
      " [ 1.  2. -4.  4.]\n",
      "\n",
      "Ceil values:\n",
      " [ 2.  3. -3.  5.]\n",
      "\n",
      "Round values:\n",
      " [ 2.  3. -4.  4.]\n"
     ]
    }
   ],
   "source": [
    "# Q11. For the array a = np.array([1.5, 2.7, -3.9, 4.1]), compute: Floor, Ceil, Round to nearest integer.\n",
    "a = np.array([1.5, 2.7, -3.9, 4.1])\n",
    "floor_values = np.floor(a)\n",
    "ceil_values = np.ceil(a)\n",
    "round_values = np.round(a)\n",
    "print(\"\\nOriginal array:\\n\", a)\n",
    "print(\"\\nFloor values:\\n\", floor_values)\n",
    "print(\"\\nCeil values:\\n\", ceil_values)\n",
    "print(\"\\nRound values:\\n\", round_values)\n"
   ]
  },
  {
   "cell_type": "code",
   "execution_count": 17,
   "id": "69ebbbb1",
   "metadata": {},
   "outputs": [
    {
     "name": "stdout",
     "output_type": "stream",
     "text": [
      "\n",
      "Total sum of all scores: 775\n",
      "Mean score per student (row-wise): [84.33333333 85.33333333 88.66666667]\n",
      "Maximum score per subject (column-wise): [90 91 92]\n"
     ]
    }
   ],
   "source": [
    "# Q12. Given a 2D array of student scores, compute the following: Sum of all scores, Mean per student (row-wise), Maximum score per subject (column-wise).\n",
    "student_scores = np.array([[85, 90, 78],\n",
    "                           [88, 76, 92],\n",
    "                           [90, 91, 85]])\n",
    "total_sum = np.sum(student_scores)\n",
    "mean_per_student = np.mean(student_scores, axis=1)\n",
    "max_per_subject = np.max(student_scores, axis=0)\n",
    "print(\"\\nTotal sum of all scores:\", total_sum)\n",
    "print(\"Mean score per student (row-wise):\", mean_per_student)\n",
    "print(\"Maximum score per subject (column-wise):\", max_per_subject)"
   ]
  },
  {
   "cell_type": "code",
   "execution_count": 18,
   "id": "9c78f99d",
   "metadata": {},
   "outputs": [
    {
     "name": "stdout",
     "output_type": "stream",
     "text": [
      "\n",
      "Original 3x3 array:\n",
      " [[3 9 6]\n",
      " [9 8 9]\n",
      " [3 6 9]]\n",
      "\n",
      "Row vector:\n",
      " [8 2 5]\n",
      "\n",
      "Array after adding row vector (broadcasting):\n",
      " [[11 11 11]\n",
      " [17 10 14]\n",
      " [11  8 14]]\n",
      "\n",
      "Array after multiplying by scalar 5:\n",
      " [[15 45 30]\n",
      " [45 40 45]\n",
      " [15 30 45]]\n"
     ]
    }
   ],
   "source": [
    "# Q13. Demonstrate broadcasting with the following example: Create a 3×3 array of random integers, Add a 1D row vector of size 3 to it, Multiply the array by a scalar (e.g., 5).\n",
    "broadcast_array = np.random.randint(1, 10, size=(3, 3))\n",
    "row_vector = np.array([8, 2, 5])\n",
    "added_array = broadcast_array + row_vector\n",
    "print(\"\\nOriginal 3x3 array:\\n\", broadcast_array)\n",
    "print(\"\\nRow vector:\\n\", row_vector)\n",
    "print(\"\\nArray after adding row vector (broadcasting):\\n\", added_array)\n",
    "scaled_array = broadcast_array * 5\n",
    "print(\"\\nArray after multiplying by scalar 5:\\n\", scaled_array)\n"
   ]
  },
  {
   "cell_type": "code",
   "execution_count": 19,
   "id": "a8ebab78",
   "metadata": {},
   "outputs": [
    {
     "name": "stdout",
     "output_type": "stream",
     "text": [
      "\n",
      "Normalized array (each row divided by its row sum):\n",
      " [[0.16666667 0.33333333 0.5       ]\n",
      " [0.26666667 0.33333333 0.4       ]\n",
      " [0.29166667 0.33333333 0.375     ]]\n"
     ]
    }
   ],
   "source": [
    "# Q14. Normalize a 2D array by dividing each row by its row sum. (Hint: use np.newaxis or reshape for broadcasting).\n",
    "normalize_array = np.array([[1, 2, 3],\n",
    "                            [4, 5, 6],\n",
    "                            [7, 8, 9]])\n",
    "row_sums = normalize_array.sum(axis=1, keepdims=True)\n",
    "normalized = normalize_array / row_sums\n",
    "print(\"\\nNormalized array (each row divided by its row sum):\\n\", normalized)\n"
   ]
  },
  {
   "cell_type": "code",
   "execution_count": 21,
   "id": "2c527fef",
   "metadata": {},
   "outputs": [
    {
     "name": "stdout",
     "output_type": "stream",
     "text": [
      "\n",
      "Centered array (each column mean subtracted):\n",
      " [[-3. -3. -3.]\n",
      " [ 0.  0.  0.]\n",
      " [ 3.  3.  3.]]\n"
     ]
    }
   ],
   "source": [
    "# Q15. Create a function that: Takes a 2D array as input, Subtracts the mean of each column (centering data), Returns the centered array.\n",
    "input_array = np.array([[1, 2, 3], [4, 5, 6], [7, 8, 9]])\n",
    "def center_array(arr):\n",
    "    col_means = arr.mean(axis=0)\n",
    "    centered = arr - col_means\n",
    "    return centered\n",
    "centered_array = center_array(input_array)\n",
    "print(\"\\nCentered array (each column mean subtracted):\\n\", centered_array)\n"
   ]
  },
  {
   "cell_type": "markdown",
   "id": "1d9c5111",
   "metadata": {},
   "source": [
    "### Pandas"
   ]
  },
  {
   "cell_type": "code",
   "execution_count": 22,
   "id": "829ffc0a",
   "metadata": {},
   "outputs": [],
   "source": [
    "import pandas as pd"
   ]
  },
  {
   "cell_type": "code",
   "execution_count": 23,
   "id": "2d131224",
   "metadata": {},
   "outputs": [
    {
     "name": "stdout",
     "output_type": "stream",
     "text": [
      "Pandas Series:\n",
      " 0    94\n",
      "1    90\n",
      "2    36\n",
      "3    37\n",
      "4    84\n",
      "5    14\n",
      "6    61\n",
      "7    42\n",
      "8    11\n",
      "9    83\n",
      "dtype: int32\n",
      "Mean of Series: 55.2\n",
      "Median of Series: 51.5\n",
      "Standard Deviation of Series: 31.407005587925763\n"
     ]
    }
   ],
   "source": [
    "# Q1. Create a Pandas Series from a list of 10 random integers. Display the Series and its basic statistics (mean, median, std).\n",
    "series = pd.Series(np.random.randint(1, 100, size=10))\n",
    "print(\"Pandas Series:\\n\", series)\n",
    "print(\"Mean of Series:\", series.mean())\n",
    "print(\"Median of Series:\", series.median())\n",
    "print(\"Standard Deviation of Series:\", series.std())"
   ]
  },
  {
   "cell_type": "code",
   "execution_count": 37,
   "id": "6fefa28e",
   "metadata": {},
   "outputs": [
    {
     "name": "stdout",
     "output_type": "stream",
     "text": [
      "\n",
      "DataFrame of student data:\n",
      "     Name  Age  Score\n",
      "0    Ade   20     85\n",
      "1   Seun   21     67\n",
      "2    Ola   29     90\n",
      "3  David   22     45\n",
      "4  Sarah   24     78\n",
      "\n",
      "'Score' column:\n",
      " 0    85\n",
      "1    67\n",
      "2    90\n",
      "3    45\n",
      "4    78\n",
      "Name: Score, dtype: int64\n",
      "\n",
      "Rows with Score > 70:\n",
      "     Name  Age  Score\n",
      "0    Ade   20     85\n",
      "2    Ola   29     90\n",
      "4  Sarah   24     78\n"
     ]
    }
   ],
   "source": [
    "# Q2. Create a DataFrame of student data (Name, Age, Score). Display the DataFrame and show how to select the 'Score' column and rows with Score > 70.\n",
    "\n",
    "student_data = {\n",
    "    'Name': ['Ade', 'Seun', 'Ola', 'David', 'Sarah'],\n",
    "    'Age': [20, 21, 29, 22, 24],\n",
    "    'Score': [85, 67, 90, 45, 78]\n",
    "}\n",
    "df = pd.DataFrame(student_data)\n",
    "print(\"\\nDataFrame of student data:\\n\", df)\n",
    "select = df['Score']  # Selecting 'Score' column\n",
    "print(\"\\n'Score' column:\\n\", select)\n",
    "high_scores = df[df['Score'] > 70]  # Rows with Score > 70\n",
    "print(\"\\nRows with Score > 70:\\n\", high_scores) "
   ]
  },
  {
   "cell_type": "code",
   "execution_count": null,
   "id": "d246510e",
   "metadata": {},
   "outputs": [],
   "source": [
    "# Q3. Read a CSV file named 'data.csv' into a DataFrame and display the first 5 rows (assume file exists).\n",
    "df = pd.read_csv('data.csv')\n",
    "print(\"\\nFirst 5 rows of the CSV file:\\n\", df.head(5))"
   ]
  },
  {
   "cell_type": "code",
   "execution_count": null,
   "id": "c009797c",
   "metadata": {},
   "outputs": [],
   "source": [
    "# Q4. Given a DataFrame with missing values, demonstrate how to: (a) drop rows with any NA, (b) fill NA with column mean.\n",
    "df.dropna(inplace=True) # (a) Drop rows with any NA\n",
    "df.fillna(df.mean(), inplace=True)  # (b) Fill NA with column mean"
   ]
  },
  {
   "cell_type": "code",
   "execution_count": null,
   "id": "cf1403f7",
   "metadata": {},
   "outputs": [],
   "source": [
    "# Q5. Given a DataFrame df, demonstrate how to remove duplicate rows based on columns ['A','B'].\n",
    "df.drop_duplicated(subset=['A', 'B'], inplace=True)"
   ]
  },
  {
   "cell_type": "code",
   "execution_count": null,
   "id": "f7139384",
   "metadata": {},
   "outputs": [],
   "source": [
    "# Q6. Group df by column 'group' and compute mean and count for column 'value'.\n",
    "df.groupby('group')['value'].agg(['mean', 'count'])"
   ]
  },
  {
   "cell_type": "code",
   "execution_count": 40,
   "id": "efe6ab63",
   "metadata": {},
   "outputs": [
    {
     "name": "stdout",
     "output_type": "stream",
     "text": [
      "\n",
      "Merged DataFrame with left join:\n",
      "    id value1 value2\n",
      "0   1      A    NaN\n",
      "1   2      B      D\n",
      "2   3      C      E\n"
     ]
    }
   ],
   "source": [
    "# Q7. Merge two DataFrames df1 and df2 on column 'id' with a left join.\n",
    "df1 = pd.DataFrame({'id': [1, 2, 3], 'value1': ['A', 'B', 'C']})\n",
    "df2 = pd.DataFrame({'id': [2, 3, 4], 'value2': ['D', 'E', 'F']})\n",
    "merged_df = pd.merge(df1, df2, on='id', how='left')\n",
    "print(\"\\nMerged DataFrame with left join:\\n\", merged_df)"
   ]
  },
  {
   "cell_type": "code",
   "execution_count": null,
   "id": "0daad8a6",
   "metadata": {},
   "outputs": [],
   "source": [
    "# Q8. Create a pivot table from df with index='region', columns='year', values='sales', aggregating with sum.\n",
    "pd.pivot_table(df, index='region', columns='year', values='sales', aggfunc='sum')\n",
    "print(\"\\nPivot table:\\n\", pd.pivot_table(df, index='region', columns='year', values='sales', aggfunc='sum'))\n"
   ]
  },
  {
   "cell_type": "code",
   "execution_count": 43,
   "id": "5807c694",
   "metadata": {},
   "outputs": [
    {
     "name": "stdout",
     "output_type": "stream",
     "text": [
      "\n",
      "Melted DataFrame:\n",
      "    id  year  sales\n",
      "0   1  2018    100\n",
      "1   2  2018    150\n",
      "2   3  2018    200\n",
      "3   1  2019    110\n",
      "4   2  2019    160\n",
      "5   3  2019    210\n",
      "6   1  2020    120\n",
      "7   2  2020    170\n",
      "8   3  2020    220\n"
     ]
    }
   ],
   "source": [
    "# Q9. Melt a wide DataFrame with columns ['id','2018','2019','2020'] into long format with year and sales columns.\n",
    "df = pd.DataFrame({\n",
    "    'id': [1, 2, 3],\n",
    "    '2018': [100, 150, 200],\n",
    "    '2019': [110, 160, 210],\n",
    "    '2020': [120, 170, 220]\n",
    "})\n",
    "melted_df = pd.melt(df, id_vars=['id'], var_name='year', value_name='sales')\n",
    "print(\"\\nMelted DataFrame:\\n\", melted_df)"
   ]
  },
  {
   "cell_type": "code",
   "execution_count": null,
   "id": "083d286b",
   "metadata": {},
   "outputs": [],
   "source": [
    "# Q10. Demonstrate sorting a DataFrame by two columns: first by 'age' descending, then 'score' ascending.\n",
    "sort = df.sort_values(by=['age', 'score'], ascending=[False, True])\n",
    "print(\"\\nDataFrame sorted by 'age' descending and 'score' ascending:\\n\", sort)"
   ]
  },
  {
   "cell_type": "code",
   "execution_count": null,
   "id": "f70c7898",
   "metadata": {},
   "outputs": [],
   "source": [
    "# Q11. Convert a column 'date' in string format to datetime and set it as index, then resample monthly and compute mean.\n",
    "df['date'] = pd.to_datetime(df['date'])\n",
    "df.set_index('date', inplace=True)\n",
    "df.resample('M').mean()"
   ]
  },
  {
   "cell_type": "code",
   "execution_count": 46,
   "id": "c6313924",
   "metadata": {},
   "outputs": [
    {
     "name": "stdout",
     "output_type": "stream",
     "text": [
      "Original DataFrame:\n",
      "         date  value\n",
      "0  2023-01-10     15\n",
      "1  2023-01-20     25\n",
      "2  2023-02-05     30\n",
      "3  2023-02-15     40\n",
      "4  2023-03-12     55\n",
      "5  2023-03-25     65\n",
      "6  2023-04-08     70\n",
      "\n",
      "Data types of the original DataFrame:\n",
      "date     object\n",
      "value     int64\n",
      "dtype: object\n",
      "\n",
      "DataFrame after converting 'date' column to datetime:\n",
      "        date  value\n",
      "0 2023-01-10     15\n",
      "1 2023-01-20     25\n",
      "2 2023-02-05     30\n",
      "3 2023-02-15     40\n",
      "4 2023-03-12     55\n",
      "5 2023-03-25     65\n",
      "6 2023-04-08     70\n",
      "\n",
      "Data types after conversion:\n",
      "date     datetime64[ns]\n",
      "value             int64\n",
      "dtype: object\n",
      "\n",
      "DataFrame with 'date' set as the index:\n",
      "            value\n",
      "date             \n",
      "2023-01-10     15\n",
      "2023-01-20     25\n",
      "2023-02-05     30\n",
      "2023-02-15     40\n",
      "2023-03-12     55\n",
      "2023-03-25     65\n",
      "2023-04-08     70\n",
      "\n",
      "Monthly resampled data with the mean computed:\n",
      "            value\n",
      "date             \n",
      "2023-01-31   20.0\n",
      "2023-02-28   35.0\n",
      "2023-03-31   60.0\n",
      "2023-04-30   70.0\n"
     ]
    },
    {
     "name": "stderr",
     "output_type": "stream",
     "text": [
      "C:\\Users\\olasunkanmi\\AppData\\Local\\Temp\\ipykernel_10544\\672739665.py:29: FutureWarning: 'M' is deprecated and will be removed in a future version, please use 'ME' instead.\n",
      "  monthly_mean = df.resample('M').mean()\n"
     ]
    }
   ],
   "source": [
    "# 10\n",
    "\n",
    "# Create a sample DataFrame with a date column in string format\n",
    "data = {\n",
    "    'date': ['2023-01-10', '2023-01-20', '2023-02-05', '2023-02-15', '2023-03-12', '2023-03-25', '2023-04-08'],\n",
    "    'value': [15, 25, 30, 40, 55, 65, 70]\n",
    "}\n",
    "df = pd.DataFrame(data)\n",
    "\n",
    "print(\"Original DataFrame:\")\n",
    "print(df)\n",
    "print(\"\\nData types of the original DataFrame:\")\n",
    "print(df.dtypes)\n",
    "\n",
    "# Step 1: Convert the 'date' column to datetime format\n",
    "df['date'] = pd.to_datetime(df['date'])\n",
    "print(\"\\nDataFrame after converting 'date' column to datetime:\")\n",
    "print(df)\n",
    "print(\"\\nData types after conversion:\")\n",
    "print(df.dtypes)\n",
    "\n",
    "# Step 2: Set the 'date' column as the index\n",
    "df.set_index('date', inplace=True)\n",
    "print(\"\\nDataFrame with 'date' set as the index:\")\n",
    "print(df)\n",
    "\n",
    "# Step 3: Resample the data monthly and compute the mean\n",
    "# The 'M' argument in resample stands for month-end frequency\n",
    "monthly_mean = df.resample('M').mean()\n",
    "print(\"\\nMonthly resampled data with the mean computed:\")\n",
    "print(monthly_mean)\n"
   ]
  },
  {
   "cell_type": "code",
   "execution_count": 47,
   "id": "76edaf1e",
   "metadata": {},
   "outputs": [
    {
     "name": "stdout",
     "output_type": "stream",
     "text": [
      "\n",
      "Normalized DataFrame:\n",
      "           A         B\n",
      "0 -1.264911 -1.264911\n",
      "1 -0.632456 -0.632456\n",
      "2  0.000000  0.000000\n",
      "3  0.632456  0.632456\n",
      "4  1.264911  1.264911\n"
     ]
    }
   ],
   "source": [
    "# Q12. Show how to apply a function to normalize a numeric column (x - mean)/std using apply or transform.\n",
    "numeric_df = pd.DataFrame({\n",
    "    'A': [10, 20, 30, 40, 50],\n",
    "    'B': [5, 15, 25, 35, 45]\n",
    "})\n",
    "def normalize(x):\n",
    "    return (x - x.mean()) / x.std()\n",
    "normalized_df = numeric_df.apply(normalize)\n",
    "print(\"\\nNormalized DataFrame:\\n\", normalized_df)\n"
   ]
  },
  {
   "cell_type": "code",
   "execution_count": 52,
   "id": "998b6424",
   "metadata": {},
   "outputs": [
    {
     "name": "stdout",
     "output_type": "stream",
     "text": [
      "\n",
      "Joined DataFrame on index:\n",
      "    value1 value2\n",
      "id              \n",
      "2       B      D\n",
      "3       C      E\n"
     ]
    }
   ],
   "source": [
    "# Q13. Demonstrate joining on index: set index on df1 and df2 and perform df1.join(df2).\n",
    "df1 = pd.DataFrame({\n",
    "    'id': [1, 2, 3],\n",
    "    'value1': ['A', 'B', 'C']\n",
    "}).set_index('id')\n",
    "\n",
    "df2 = pd.DataFrame({\n",
    "    'id': [2, 3, 4],\n",
    "    'value2': ['D', 'E', 'F']\n",
    "}).set_index('id')\n",
    "joined_df = df1.join(df2, how='inner')  # Inner join on index\n",
    "print(\"\\nJoined DataFrame on index:\\n\", joined_df)\n"
   ]
  },
  {
   "cell_type": "code",
   "execution_count": null,
   "id": "48ff807c",
   "metadata": {},
   "outputs": [],
   "source": [
    "# Q14. Read only columns 'A' and 'B' from 'large.csv' and specify dtypes for memory efficiency.\n",
    "df = pd.read_csv('large.csv', usecols=['A', 'B'], dtype={'A': 'int64', 'B': 'float64'})\n",
    "print(\"\\nDataFrame with selected columns and specified dtypes:\\n\", df.info())"
   ]
  },
  {
   "cell_type": "code",
   "execution_count": null,
   "id": "7dda4980",
   "metadata": {},
   "outputs": [],
   "source": [
    "# Q15. Given a DataFrame with categorical column 'cat', show how to get dummy/one-hot encoding.\n",
    "df = pd.DataFrame({\n",
    "    'cat': ['A', 'B', 'A', 'C', 'B']\n",
    "})\n",
    "pd.get_dummies(df, columns=['cat'], prefix='cat')\n",
    "print(\"\\nDataFrame with one-hot encoding:\\n\", pd.get_dummies(df, columns=['cat'], prefix='cat'))\n"
   ]
  }
 ],
 "metadata": {
  "kernelspec": {
   "display_name": "base",
   "language": "python",
   "name": "python3"
  },
  "language_info": {
   "codemirror_mode": {
    "name": "ipython",
    "version": 3
   },
   "file_extension": ".py",
   "mimetype": "text/x-python",
   "name": "python",
   "nbconvert_exporter": "python",
   "pygments_lexer": "ipython3",
   "version": "3.12.7"
  }
 },
 "nbformat": 4,
 "nbformat_minor": 5
}
