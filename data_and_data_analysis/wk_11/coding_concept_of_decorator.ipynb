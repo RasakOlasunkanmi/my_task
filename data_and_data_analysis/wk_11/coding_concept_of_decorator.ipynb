{
 "cells": [
  {
   "cell_type": "markdown",
   "id": "0d3a1505",
   "metadata": {},
   "source": [
    "### Decorators"
   ]
  },
  {
   "cell_type": "markdown",
   "id": "06b620e0",
   "metadata": {},
   "source": [
    "**What Are Decorators?**\n",
    "A decorator is a way to modify or enhance a function without changing its original code. Think of it as \"wrapping\" extra functionality around an existing function."
   ]
  },
  {
   "cell_type": "markdown",
   "id": "364ff666",
   "metadata": {},
   "source": [
    "**Real-World Analogy**\n",
    "- Imagine you have a basic white shirt.\n",
    "\n",
    "    - Original shirt: Plain white shirt (your original function)\n",
    "    - Adding accessories: Tie, Blazer, Wristwatch, Shoes (decorators)\n",
    "    - Final look: Professional outfit (enhanced function)\n",
    "\n",
    "- The shirt is still the same, but the accessories transform how it looks and functions.\n",
    "\n",
    "**Another Analogy**\n",
    "- Lagos Street Food\n",
    "\n",
    "    - Basic rice: Plain white rice (original function)\n",
    "    - Adding extras: Stew, plantain, meat, salad (decorators)\n",
    "    - Final meal: Complete Nigerian rice meal (enhanced function)"
   ]
  },
  {
   "cell_type": "markdown",
   "id": "1771f696",
   "metadata": {},
   "source": [
    "**Lets define something that illustrate a decorator**\n",
    "- Understanding Function as Objects. In Python, functions are objects - they can be passed around.\n",
    "- Below is a function adding its own functionality to another function.\n",
    "- It illustrates that a fucntion can be added to another function, just to gain the benefit of tat function (is this clear?)"
   ]
  },
  {
   "cell_type": "code",
   "execution_count": 1,
   "id": "96126590",
   "metadata": {},
   "outputs": [
    {
     "name": "stdout",
     "output_type": "stream",
     "text": [
      "Welclome to our shop!\n",
      "Shopkeeper says: Welclome to our shop!\n"
     ]
    }
   ],
   "source": [
    "def greet_customer():\n",
    "    return \"Welclome to our shop!\"\n",
    "\n",
    "# You can assign functions to variables\n",
    "my_greeting = greet_customer\n",
    "print(my_greeting())   # Welcome to our shop!\n",
    "\n",
    "# You can pass functions as arguments\n",
    "def use_greeting(greeting_func):\n",
    "    return f\"Shopkeeper says: {greeting_func()}\"\n",
    "\n",
    "print(use_greeting(greet_customer))\n",
    "\n",
    "# Shopkeeper says: Welcome to out shop!"
   ]
  },
  {
   "cell_type": "markdown",
   "id": "f82ba75a",
   "metadata": {},
   "source": [
    "**Lets create our first decorator**"
   ]
  },
  {
   "cell_type": "code",
   "execution_count": 2,
   "id": "9a3585aa",
   "metadata": {},
   "outputs": [],
   "source": [
    "def add_nigerian_politeness(original_function):\n",
    "    \"\"\"This decorator adds Nigerian politeness to any greeting\"\"\"\n",
    "    def wrapper():\n",
    "        result = original_function()\n",
    "        return f\"Good morning ooo! {result} How is family?\"\n",
    "    return wrapper\n",
    "\n",
    "# Original simple greeting\n",
    "def basic_greeting():\n",
    "    return \"Hello\""
   ]
  },
  {
   "cell_type": "code",
   "execution_count": 3,
   "id": "c61bc9fb",
   "metadata": {},
   "outputs": [
    {
     "name": "stdout",
     "output_type": "stream",
     "text": [
      "Good morning ooo! Hello How is family?\n"
     ]
    }
   ],
   "source": [
    "# Apply the decorator manually\n",
    "polite_greeting = add_nigerian_politeness(basic_greeting)\n",
    "print(polite_greeting())"
   ]
  },
  {
   "cell_type": "code",
   "execution_count": 5,
   "id": "9c968088",
   "metadata": {},
   "outputs": [
    {
     "name": "stdout",
     "output_type": "stream",
     "text": [
      "Good morning ooo! Welcome to my provision store. How is family?\n"
     ]
    }
   ],
   "source": [
    "# Using the @ symbol (syntactic sugar)\n",
    "@add_nigerian_politeness\n",
    "def shop_greeting():\n",
    "    return \"Welcome to my provision store.\"\n",
    "\n",
    "print(shop_greeting())"
   ]
  },
  {
   "cell_type": "markdown",
   "id": "f6fb13a5",
   "metadata": {},
   "source": [
    "**This is what we did**"
   ]
  },
  {
   "cell_type": "markdown",
   "id": "ce115be6",
   "metadata": {},
   "source": [
    "- We created a decorator function that takes another function as input\n",
    "- Inside the decorator, we defined a wrapper function that adds extra behavior\n",
    "- The wrapper calls the original function and enhances its result\n",
    "- We return the wrapper function\n",
    "- The @ symbol is just a shortcut for applying the decorator"
   ]
  },
  {
   "cell_type": "markdown",
   "id": "b354b383",
   "metadata": {},
   "source": [
    "more example_2"
   ]
  },
  {
   "cell_type": "code",
   "execution_count": 6,
   "id": "7b4b91c0",
   "metadata": {},
   "outputs": [],
   "source": [
    "# This comes with arguments\n",
    "# Sometimes you want to pass information to your decorators"
   ]
  },
  {
   "cell_type": "code",
   "execution_count": 7,
   "id": "e30176fd",
   "metadata": {},
   "outputs": [],
   "source": [
    "def add_nigerian_time_greeting(time_of_day):\n",
    "    \"\"\"Decorator that adds appropriate Nigerian greeting based on time\"\"\"\n",
    "    def decorator(original_function):\n",
    "        def wrapper():\n",
    "            if time_of_day == \"morning\":\n",
    "                greeting = \"Good morning ooo!\"\n",
    "            elif time_of_day == \"afternoon\":\n",
    "                greeting = \"Good afternoon!\"\n",
    "            elif time_of_day == \"evening\":\n",
    "                greeting = \"Good evening ooo!\"\n",
    "            else:\n",
    "                greeting = \"How far!\"\n",
    "                \n",
    "            result = original_function()\n",
    "            return f\"{greeting} {result}\"\n",
    "        return wrapper\n",
    "    return decorator"
   ]
  },
  {
   "cell_type": "code",
   "execution_count": 9,
   "id": "374fc453",
   "metadata": {},
   "outputs": [],
   "source": [
    "# Using the decorator with different times\n",
    "@add_nigerian_time_greeting(\"morning\")\n",
    "def market_greeting():\n",
    "    return \"Welcome to our shop. How can we help you today?\""
   ]
  },
  {
   "cell_type": "code",
   "execution_count": 10,
   "id": "ef7d9281",
   "metadata": {},
   "outputs": [],
   "source": [
    "# Using the decorator with different times\n",
    "@add_nigerian_time_greeting(\"evening\")\n",
    "def restaurant_greeting():\n",
    "    return \"Welcome to our restaurant. What would you like to eat?\""
   ]
  },
  {
   "cell_type": "code",
   "execution_count": 11,
   "id": "2e3e1a7d",
   "metadata": {},
   "outputs": [
    {
     "name": "stdout",
     "output_type": "stream",
     "text": [
      "Good morning ooo! Welcome to our shop. How can we help you today?\n",
      "Good evening ooo! Welcome to our restaurant. What would you like to eat?\n"
     ]
    }
   ],
   "source": [
    "print(market_greeting())      # Good morning ooo! Welcome to our shop. How can we help you today?\n",
    "print(restaurant_greeting()) # Good evening ooo! Welcome to our restaurant. What would you like to eat"
   ]
  },
  {
   "cell_type": "markdown",
   "id": "49b20d35",
   "metadata": {},
   "source": [
    "more example 3"
   ]
  },
  {
   "cell_type": "code",
   "execution_count": 12,
   "id": "87d32129",
   "metadata": {},
   "outputs": [],
   "source": [
    "def naira_formatter(currency_symbol=\"₦\"):\n",
    "    \"\"\"Decorator to format prices in Nigerian Naira\"\"\"\n",
    "    def decorator(price_function):\n",
    "        def wrapper(*args, **kwargs):\n",
    "            price = price_function(*args, **kwargs)\n",
    "            return f\"{currency_symbol} {price:,}\"\n",
    "        return wrapper\n",
    "    return decorator"
   ]
  },
  {
   "cell_type": "code",
   "execution_count": 13,
   "id": "58e1a061",
   "metadata": {},
   "outputs": [],
   "source": [
    "@naira_formatter(\"₦\")\n",
    "def rice_price():\n",
    "    return 2500  "
   ]
  },
  {
   "cell_type": "code",
   "execution_count": 14,
   "id": "cbcd4a0d",
   "metadata": {},
   "outputs": [],
   "source": [
    "@naira_formatter(\"₦\")\n",
    "def calculate_transport_fare(distance_km):\n",
    "    base_fare = 200\n",
    "    per_km = 50\n",
    "    return base_fare + (distance_km * per_km)"
   ]
  },
  {
   "cell_type": "code",
   "execution_count": 15,
   "id": "c4a19d39",
   "metadata": {},
   "outputs": [
    {
     "name": "stdout",
     "output_type": "stream",
     "text": [
      "₦ 2,500\n",
      "₦ 450\n"
     ]
    }
   ],
   "source": [
    "print(rice_price())  \n",
    "                     \n",
    "print(calculate_transport_fare(5))  "
   ]
  },
  {
   "cell_type": "markdown",
   "id": "080c6175",
   "metadata": {},
   "source": [
    "more example 4"
   ]
  },
  {
   "cell_type": "code",
   "execution_count": 16,
   "id": "9363b08e",
   "metadata": {},
   "outputs": [],
   "source": [
    "# Shop Transaction Logger\n",
    "\n",
    "from datetime import datetime\n",
    "\n",
    "def log_transaction(log_file = \"shop_transactions.txt\"):\n",
    "    \"\"\"Decorator to log all shop transactions\"\"\"\n",
    "    def decorator(transaction_function):\n",
    "        def wrapper(*args, **kwargs):\n",
    "            # Before the transaction\n",
    "            start_time = datetime.now()\n",
    "            print(f\"[{start_time.strftime('%Y-%m-%d %H:%M:%S')}] Starting transaction...\")\n",
    "            \n",
    "            # Execute the transaction\n",
    "            result = transaction_function(*args, **kwargs)\n",
    "            \n",
    "            # After the transaction\n",
    "            end_time = datetime.now()\n",
    "            duration = end_time - start_time\n",
    "            \n",
    "            # Log the transaction\n",
    "            log_entry = f\"[{end_time.strftime('%Y-%m-%d %H:%M:%S')}] Transaction completed: {result} (Duration: {duration.total_seconds():.2f}s)\\n\"\n",
    "            print(log_entry.strip())\n",
    "            \n",
    "            # In real app, you'd write to file:\n",
    "            # with open(log_file, 'a') as f:\n",
    "            #     f.write(log_entry)\n",
    "            \n",
    "            return result\n",
    "        return wrapper\n",
    "    return decorator"
   ]
  },
  {
   "cell_type": "code",
   "execution_count": 17,
   "id": "df98b782",
   "metadata": {},
   "outputs": [],
   "source": [
    "@log_transaction(\"adunni_shop.txt\")\n",
    "def sell_item(item_name, quantity, price_per_item):\n",
    "    \"\"\"Sell items in Abiodun's provision store\"\"\"\n",
    "    total = quantity * price_per_item\n",
    "    return f\"Sold {quantity} {item_name}(s) for ₦{total:,}\""
   ]
  },
  {
   "cell_type": "code",
   "execution_count": 18,
   "id": "88182860",
   "metadata": {},
   "outputs": [],
   "source": [
    "@log_transaction(\"Taofeek_transport.txt\")\n",
    "def collect_transport_fare(passenger_name, destination, fare):\n",
    "    \"\"\"Collect fare in Taofeek's bus\"\"\"\n",
    "    return f\"Collected ₦{fare:,} from {passenger_name} going to {destination}\""
   ]
  },
  {
   "cell_type": "code",
   "execution_count": 19,
   "id": "2aef895f",
   "metadata": {},
   "outputs": [
    {
     "name": "stdout",
     "output_type": "stream",
     "text": [
      "[2025-10-18 15:47:09] Starting transaction...\n",
      "[2025-10-18 15:47:09] Transaction completed: Sold 5 Ladies' wear(s) for ₦750 (Duration: 0.01s)\n",
      "Sold 5 Ladies' wear(s) for ₦750\n",
      "[2025-10-18 15:47:09] Starting transaction...\n",
      "[2025-10-18 15:47:09] Transaction completed: Collected ₦500 from Kemi Adebayo going to Victoria Island (Duration: 0.00s)\n",
      "Collected ₦500 from Kemi Adebayo going to Victoria Island\n"
     ]
    }
   ],
   "source": [
    "# Using the decorated functions\n",
    "print(sell_item(\"Ladies' wear\", 5, 150))\n",
    "print(collect_transport_fare(\"Kemi Adebayo\", \"Victoria Island\", 500))"
   ]
  },
  {
   "cell_type": "markdown",
   "id": "452a9d6e",
   "metadata": {},
   "source": [
    "more example 5"
   ]
  },
  {
   "cell_type": "code",
   "execution_count": 20,
   "id": "72307dc0",
   "metadata": {},
   "outputs": [],
   "source": [
    "import time\n",
    "import functools\n",
    "\n",
    "def monitor_performance(max_execution_time=5.0):\n",
    "    \"\"\"Decorator to monitor function performance - useful for Nigerian apps with slow internet\"\"\"\n",
    "    def decorator(func):\n",
    "        @functools.wraps(func)  # Preserves original function metadata\n",
    "        def wrapper(*args, **kwargs):\n",
    "            start_time = time.time()\n",
    "            \n",
    "            print(f\"Starting {func.__name__}...\")\n",
    "            \n",
    "            try:\n",
    "                result = func(*args, **kwargs)\n",
    "                execution_time = time.time() - start_time\n",
    "                \n",
    "                if execution_time > max_execution_time:\n",
    "                    print(f\"{func.__name__} took {execution_time:.2f}s (slower than expected {max_execution_time}s)\")\n",
    "                    print(\" Consider optimizing for Nigerian internet speeds!\")\n",
    "                else:\n",
    "                    print(f\"{func.__name__} completed in {execution_time:.2f}s\")\n",
    "                \n",
    "                return result\n",
    "                \n",
    "            except Exception as e:\n",
    "                execution_time = time.time() - start_time\n",
    "                print(f\"{func.__name__} failed after {execution_time:.2f}s: {e}\")\n",
    "                raise\n",
    "        \n",
    "        return wrapper\n",
    "    return decorator"
   ]
  },
  {
   "cell_type": "code",
   "execution_count": 21,
   "id": "19d08e49",
   "metadata": {},
   "outputs": [],
   "source": [
    "@monitor_performance(max_execution_time=3.0)\n",
    "def process_bvn_verification(bvn_number):\n",
    "    \"\"\"Simulate BVN verification - often slow in Nigeria\"\"\"\n",
    "    print(f\"Verifying BVN: {bvn_number}\")\n",
    "    time.sleep(2)   # Simulate network delay\n",
    "    return f\"BVN {bvn_number} verified successfully\""
   ]
  },
  {
   "cell_type": "code",
   "execution_count": 22,
   "id": "bea8c0bf",
   "metadata": {},
   "outputs": [],
   "source": [
    "@monitor_performance(max_execution_time=1.0)\n",
    "def calculate_fuel_subsidy(liters, pump_price):\n",
    "    \"\"\"Calculate fuel subsidy - should be fast\"\"\"\n",
    "    subsidy_per_liter = 100\n",
    "    total_subsidy = liters * subsidy_per_liter\n",
    "    time.sleep(0.5)  # Small delay\n",
    "    return f\"Subsidy for {liters}L: ₦{total_subsidy:,}\""
   ]
  },
  {
   "cell_type": "code",
   "execution_count": 23,
   "id": "5f415bf7",
   "metadata": {},
   "outputs": [
    {
     "name": "stdout",
     "output_type": "stream",
     "text": [
      "Starting process_bvn_verification...\n",
      "Verifying BVN: 12345678901\n",
      "process_bvn_verification completed in 2.00s\n",
      "BVN 12345678901 verified successfully\n",
      "Starting calculate_fuel_subsidy...\n",
      "calculate_fuel_subsidy completed in 0.51s\n",
      "Subsidy for 50L: ₦5,000\n"
     ]
    }
   ],
   "source": [
    "# Test the decorated functions\n",
    "print(process_bvn_verification(\"12345678901\"))\n",
    "print(calculate_fuel_subsidy(50, 617))"
   ]
  },
  {
   "cell_type": "markdown",
   "id": "41068104",
   "metadata": {},
   "source": [
    "more example_6"
   ]
  },
  {
   "cell_type": "code",
   "execution_count": 1,
   "id": "1d8a0de0",
   "metadata": {},
   "outputs": [],
   "source": [
    "# Authorization Decorator for Government Systems\n",
    "def require_authorization(required_level):\n",
    "    \"\"\"Decorator for Nigerian government office authorization\"\"\"\n",
    "    def decorator(func):\n",
    "        def wrapper(*args, **kwargs):\n",
    "            # In real app, you'd get this from session/token\n",
    "            user_level = kwargs.get('user_level', 'citizen')\n",
    "            \n",
    "            authorization_hierarchy = {\n",
    "                'citizen': 1,\n",
    "                'local_govt_staff': 2,\n",
    "                'state_govt_staff': 3,\n",
    "                'federal_govt_staff': 4,\n",
    "                'minister': 5\n",
    "            }\n",
    "            \n",
    "            user_auth_level = authorization_hierarchy.get(user_level, 0)\n",
    "            required_auth_level = authorization_hierarchy.get(required_level, 0)\n",
    "            \n",
    "            if user_auth_level < required_auth_level:\n",
    "                return f\"Access Denied! {required_level} clearance required. You have {user_level} clearance.\"\n",
    "            \n",
    "            print(f\"Access granted to {user_level}\")\n",
    "            return func(*args, **kwargs)\n",
    "        \n",
    "        return wrapper\n",
    "    return decorator\n"
   ]
  },
  {
   "cell_type": "code",
   "execution_count": 2,
   "id": "8a8de156",
   "metadata": {},
   "outputs": [],
   "source": [
    "@require_authorization('local_govt_staff')\n",
    "def issue_certificate_of_occupancy(applicant_name, plot_number, user_level=None):\n",
    "    \"\"\"Issue C of O - requires local government staff clearance\"\"\"\n",
    "    return f\"Certificate of Occupancy issued to {applicant_name} for Plot {plot_number}\""
   ]
  },
  {
   "cell_type": "code",
   "execution_count": 3,
   "id": "357aab80",
   "metadata": {},
   "outputs": [],
   "source": [
    "@require_authorization('state_govt_staff')\n",
    "def approve_building_permit(applicant_name, building_type, user_level=None):\n",
    "    \"\"\"Approve building permit - requires state government clearance\"\"\"\n",
    "    return f\"Building permit approved for {applicant_name}'s {building_type}\""
   ]
  },
  {
   "cell_type": "code",
   "execution_count": 4,
   "id": "8db2be4e",
   "metadata": {},
   "outputs": [],
   "source": [
    "@require_authorization('federal_govt_staff')\n",
    "def process_international_passport(applicant_name, user_level=None):\n",
    "    \"\"\"Process passport - requires federal clearance\"\"\"\n",
    "    return f\"International passport processed for {applicant_name}\""
   ]
  },
  {
   "cell_type": "code",
   "execution_count": 5,
   "id": "9ef81292",
   "metadata": {},
   "outputs": [
    {
     "name": "stdout",
     "output_type": "stream",
     "text": [
      "Access Denied! local_govt_staff clearance required. You have citizen clearance.\n",
      "Access granted to local_govt_staff\n",
      "Certificate of Occupancy issued to Aderonke Esther for Plot Plot 123\n",
      "Access Denied! state_govt_staff clearance required. You have local_govt_staff clearance.\n",
      "Access granted to state_govt_staff\n",
      "Building permit approved for Elizbeth Mariam's Duplex\n"
     ]
    }
   ],
   "source": [
    "# Testing with different user levels\n",
    "print(issue_certificate_of_occupancy(\"Aderonke Esther\", \"Plot 123\", user_level=\"citizen\"))\n",
    "print(issue_certificate_of_occupancy(\"Aderonke Esther\", \"Plot 123\", user_level=\"local_govt_staff\"))\n",
    "print(approve_building_permit(\"Elizbeth Mariam\", \"Duplex\", user_level=\"local_govt_staff\"))\n",
    "print(approve_building_permit(\"Elizbeth Mariam\", \"Duplex\", user_level=\"state_govt_staff\"))"
   ]
  },
  {
   "cell_type": "markdown",
   "id": "8b19df98",
   "metadata": {},
   "source": [
    "more example_7"
   ]
  },
  {
   "cell_type": "code",
   "execution_count": 6,
   "id": "dc0577ce",
   "metadata": {},
   "outputs": [],
   "source": [
    "# Retry Decorator for Unreliable Nigerian Services\n",
    "\n",
    "import random\n",
    "import time\n",
    "\n",
    "def retry_on_failure(max_attempts=3, delay=1, exceptions=(Exception,)):\n",
    "    \"\"\"Decorator to retry failed operations - perfect for Nigerian internet/power issues\"\"\"\n",
    "    def decorator(func):\n",
    "        def wrapper(*args, **kwargs):\n",
    "            last_exception = None\n",
    "            \n",
    "            for attempt in range(1, max_attempts + 1):\n",
    "                try:\n",
    "                    print(f\"Attempt {attempt}/{max_attempts} for {func.__name__}\")\n",
    "                    result = func(*args, **kwargs)\n",
    "                    if attempt > 1:\n",
    "                        print(f\"Success on attempt {attempt}!\")\n",
    "                    return result\n",
    "                    \n",
    "                except exceptions as e:\n",
    "                    last_exception = e\n",
    "                    print(f\"Attempt {attempt} failed: {e}\")\n",
    "                    \n",
    "                    if attempt < max_attempts:\n",
    "                        print(f\"Waiting {delay} seconds before retry...\")\n",
    "                        time.sleep(delay)\n",
    "                    else:\n",
    "                        print(f\"All {max_attempts} attempts failed!\")\n",
    "            \n",
    "            raise last_exception\n",
    "        \n",
    "        return wrapper\n",
    "    return decorator"
   ]
  },
  {
   "cell_type": "code",
   "execution_count": 7,
   "id": "4170e737",
   "metadata": {},
   "outputs": [],
   "source": [
    "@retry_on_failure(max_attempts=3, delay=2)\n",
    "def transfer_money_online(sender, recipient, amount):\n",
    "    \"\"\"Simulate online money transfer - often fails due to network issues\"\"\"\n",
    "    # Simulate random failures (common in Nigeria)\n",
    "    if random.random() < 0.7:  # 70% chance of failure\n",
    "        failures = [\n",
    "            \"Network timeout - please try again\",\n",
    "            \"Bank server unavailable\", \n",
    "            \"Transaction declined by issuer\",\n",
    "            \"Service temporarily unavailable\"\n",
    "        ]\n",
    "        raise Exception(random.choice(failures))\n",
    "    \n",
    "    return f\"₦{amount:,} successfully transferred from {sender} to {recipient}\""
   ]
  },
  {
   "cell_type": "code",
   "execution_count": 8,
   "id": "9f2f3710",
   "metadata": {},
   "outputs": [],
   "source": [
    "@retry_on_failure(max_attempts=4, delay=1.5)\n",
    "def check_jamb_result(jamb_reg_number):\n",
    "    \"\"\"Check JAMB result - JAMB website often crashes during result season\"\"\"\n",
    "    if random.random() < 0.8:  # 80% chance of failure (JAMB website reality!)\n",
    "        failures = [\n",
    "            \"JAMB portal overloaded - too many requests\",\n",
    "            \"Database connection error\",\n",
    "            \"Server maintenance in progress\",\n",
    "            \"Your session has expired\"\n",
    "        ]\n",
    "        raise Exception(random.choice(failures))\n",
    "    \n",
    "    return f\"JAMB Result for {jamb_reg_number}: Score: 298/400 - Excellent!\""
   ]
  },
  {
   "cell_type": "code",
   "execution_count": 9,
   "id": "358eeff1",
   "metadata": {},
   "outputs": [
    {
     "name": "stdout",
     "output_type": "stream",
     "text": [
      "Attempt 1/3 for transfer_money_online\n",
      "Attempt 1 failed: Bank server unavailable\n",
      "Waiting 2 seconds before retry...\n",
      "Attempt 2/3 for transfer_money_online\n",
      "Success on attempt 2!\n",
      "₦50,000 successfully transferred from Adunni Olaleye to Emeka Nwosu\n",
      "\n",
      "==================================================\n",
      "\n",
      "Attempt 1/4 for check_jamb_result\n",
      "Attempt 1 failed: Server maintenance in progress\n",
      "Waiting 1.5 seconds before retry...\n",
      "Attempt 2/4 for check_jamb_result\n",
      "Attempt 2 failed: Server maintenance in progress\n",
      "Waiting 1.5 seconds before retry...\n",
      "Attempt 3/4 for check_jamb_result\n",
      "Attempt 3 failed: JAMB portal overloaded - too many requests\n",
      "Waiting 1.5 seconds before retry...\n",
      "Attempt 4/4 for check_jamb_result\n",
      "Attempt 4 failed: Server maintenance in progress\n",
      "All 4 attempts failed!\n",
      "Final failure: Server maintenance in progress\n"
     ]
    }
   ],
   "source": [
    "# Test the retry decorators\n",
    "try:\n",
    "    print(transfer_money_online(\"Adunni Olaleye\", \"Emeka Nwosu\", 50000))\n",
    "except Exception as e:\n",
    "    print(f\"Final failure: {e}\")\n",
    "\n",
    "print(\"\\n\" + \"=\"*50 + \"\\n\")\n",
    "\n",
    "try:\n",
    "    print(check_jamb_result(\"12345678CF\"))\n",
    "except Exception as e:\n",
    "    print(f\"Final failure: {e}\")"
   ]
  },
  {
   "cell_type": "markdown",
   "id": "bd6f8658",
   "metadata": {},
   "source": [
    "more example_8"
   ]
  },
  {
   "cell_type": "code",
   "execution_count": 10,
   "id": "c84a8c9c",
   "metadata": {},
   "outputs": [],
   "source": [
    "class GradeValidator:\n",
    "    \"\"\"Class-based decorator for validating grading system\"\"\"\n",
    "    \n",
    "    def __init__(self, min_score=0, max_score=100):\n",
    "        self.min_score = min_score\n",
    "        self.max_score = max_score\n",
    "        \n",
    "    def __call__(self, func):\n",
    "        def wrapper(*args, **kwargs):\n",
    "            # Get the score from arguments\n",
    "            if args:\n",
    "                score = args[0] if isinstance(args[0], (int, float)) else None\n",
    "            else:\n",
    "                score = kwargs.get('score')\n",
    "                \n",
    "            if score is not None:\n",
    "                if not (self.min_score <= score <= self.max_score):\n",
    "                    return f\"Invalid score: {score}. Must be between {self.min_score} and {self.max_score}\"\n",
    "            \n",
    "            return func(*args, **kwargs)\n",
    "        return wrapper"
   ]
  },
  {
   "cell_type": "code",
   "execution_count": 11,
   "id": "9d2eb83d",
   "metadata": {},
   "outputs": [],
   "source": [
    "@GradeValidator(min_score=0, max_score=100)\n",
    "def calculate_grade_point(score):\n",
    "    \"\"\"Calculate grade point using Nigerian university system\"\"\"\n",
    "    if score >= 70:\n",
    "        return f\"Score: {score} - Grade: A (5.0 points) - First Class!\"\n",
    "    elif score >= 60:\n",
    "        return f\"Score: {score} - Grade: B (4.0 points) - Second Class Upper\"\n",
    "    elif score >= 50:\n",
    "        return f\"Score: {score} - Grade: C (3.0 points) - Second Class Lower\"\n",
    "    elif score >= 45:\n",
    "        return f\"Score: {score} - Grade: D (2.0 points) - Third Class\"\n",
    "    else:\n",
    "        return f\"Score: {score} - Grade: F (0.0 points) - Fail\""
   ]
  },
  {
   "cell_type": "code",
   "execution_count": 12,
   "id": "ff45641c",
   "metadata": {},
   "outputs": [
    {
     "name": "stdout",
     "output_type": "stream",
     "text": [
      "Score: 85 - Grade: A (5.0 points) - First Class!\n",
      "Invalid score: 105. Must be between 0 and 100\n",
      "Invalid score: -5. Must be between 0 and 100\n"
     ]
    }
   ],
   "source": [
    "# Test the class-based decorator\n",
    "print(calculate_grade_point(85))    # Valid\n",
    "print(calculate_grade_point(105))   # Invalid - too high\n",
    "print(calculate_grade_point(-5))    # Invalid - too low"
   ]
  },
  {
   "cell_type": "markdown",
   "id": "4c56f0e1",
   "metadata": {},
   "source": [
    "more example_9"
   ]
  },
  {
   "cell_type": "code",
   "execution_count": 13,
   "id": "fe741850",
   "metadata": {},
   "outputs": [],
   "source": [
    "# Bank account generator\n",
    "class NigerianBankAccount:\n",
    "    def __init__(self, owner, initial_balance=0):\n",
    "        self.owner = owner\n",
    "        self._balance = initial_balance\n",
    "        self._transaction_limit = 50000  # Daily limit\n",
    "        self._transactions_today = 0\n",
    "    \n",
    "    @property\n",
    "    def balance(self):\n",
    "        \"\"\"Get balance with proper formatting\"\"\"\n",
    "        return f\"₦{self._balance:,}\"\n",
    "    \n",
    "    @balance.setter\n",
    "    def balance(self, amount):\n",
    "        \"\"\"Set balance with validation\"\"\"\n",
    "        if amount < 0:\n",
    "            raise ValueError(\"Balance cannot be negative!\")\n",
    "        self._balance = amount\n",
    "    \n",
    "    @property\n",
    "    def can_transact(self):\n",
    "        \"\"\"Check if user can make more transactions today\"\"\"\n",
    "        return self._transactions_today < self._transaction_limit\n",
    "    \n",
    "    @property\n",
    "    def account_status(self):\n",
    "        \"\"\"Get account status\"\"\"\n",
    "        if self._balance >= 100000:\n",
    "            return \"Premium Account\"\n",
    "        elif self._balance >= 50000:\n",
    "            return \"Silver Account\"\n",
    "        elif self._balance >= 10000:\n",
    "            return \"Regular Account\"\n",
    "        else:\n",
    "            return \"Basic Account\"\n",
    "    \n",
    "    def deposit(self, amount):\n",
    "        if amount <= 0:\n",
    "            return \"Invalid deposit amount\"\n",
    "        \n",
    "        self._balance += amount\n",
    "        self._transactions_today += amount\n",
    "        return f\"₦{amount:,} deposited. New balance: {self.balance}\"\n",
    "    \n",
    "    def withdraw(self, amount):\n",
    "        if amount <= 0:\n",
    "            return \"Invalid withdrawal amount\"\n",
    "        \n",
    "        if amount > self._balance:\n",
    "            return \"Insufficient funds\"\n",
    "        \n",
    "        if self._transactions_today + amount > self._transaction_limit:\n",
    "            return f\"Daily transaction limit (₦{self._transaction_limit:,}) exceeded\"\n",
    "        \n",
    "        self._balance -= amount\n",
    "        self._transactions_today += amount\n",
    "        return f\"₦{amount:,} withdrawn. New balance: {self.balance}\""
   ]
  },
  {
   "cell_type": "code",
   "execution_count": 14,
   "id": "b5d305ba",
   "metadata": {},
   "outputs": [
    {
     "name": "stdout",
     "output_type": "stream",
     "text": [
      "Owner: Osas Daniel\n",
      "Balance: ₦75,000\n",
      "Status: Silver Account\n",
      "Can transact: True\n",
      "₦25,000 deposited. New balance: ₦100,000\n",
      "New status: Premium Account\n"
     ]
    }
   ],
   "source": [
    "# Using property decorators\n",
    "account = NigerianBankAccount(\"Osas Daniel\", 75000)\n",
    "\n",
    "print(f\"Owner: {account.owner}\")\n",
    "print(f\"Balance: {account.balance}\")             # Uses @property\n",
    "print(f\"Status: {account.account_status}\")       # Uses @property\n",
    "print(f\"Can transact: {account.can_transact}\")   # Uses @property\n",
    "\n",
    "print(account.deposit(25000))\n",
    "print(f\"New status: {account.account_status}\")"
   ]
  },
  {
   "cell_type": "code",
   "execution_count": 18,
   "id": "9e5524e3",
   "metadata": {},
   "outputs": [
    {
     "name": "stdout",
     "output_type": "stream",
     "text": [
      "Error: Balance cannot be negative!\n"
     ]
    }
   ],
   "source": [
    "# Try to set balance directly\n",
    "try:\n",
    "    account.balance = -1000   # This will raise an error\n",
    "except ValueError as e:\n",
    "    print(f\"Error: {e}\")"
   ]
  },
  {
   "cell_type": "markdown",
   "id": "f3f84547",
   "metadata": {},
   "source": [
    "**Practice exercise**"
   ]
  },
  {
   "cell_type": "code",
   "execution_count": 19,
   "id": "ab782ef9",
   "metadata": {},
   "outputs": [],
   "source": [
    "import functools\n",
    "from datetime import datetime\n",
    "\n",
    "def log_order(func):\n",
    "    \"\"\"Log all restaurant orders\"\"\"\n",
    "    @functools.wraps(func)\n",
    "    def wrapper(*args, **kwargs):\n",
    "        timestamp = datetime.now().strftime(\"%Y-%m-%d %H:%M:%S\")\n",
    "        print(f\"[{timestamp}] Order logged for {func.__name__}\")\n",
    "        return func(*args, **kwargs)\n",
    "    return wrapper\n",
    "\n",
    "def calculate_vat(vat_rate=0.075):  # 7.5% VAT in Nigeria\n",
    "    \"\"\"Add VAT to restaurant orders\"\"\"\n",
    "    def decorator(func):\n",
    "        @functools.wraps(func)\n",
    "        def wrapper(*args, **kwargs):\n",
    "            result = func(*args, **kwargs)\n",
    "            if isinstance(result, dict) and 'total' in result:\n",
    "                vat_amount = result['total'] * vat_rate\n",
    "                result['vat'] = vat_amount\n",
    "                result['total_with_vat'] = result['total'] + vat_amount\n",
    "                print(f\"VAT ({vat_rate*100}%) added: ₦{vat_amount:,.2f}\")\n",
    "            return result\n",
    "        return wrapper\n",
    "    return decorator\n",
    "\n",
    "def apply_discount(discount_percent):\n",
    "    \"\"\"Apply discount to loyal customers\"\"\"\n",
    "    def decorator(func):\n",
    "        @functools.wraps(func)\n",
    "        def wrapper(*args, **kwargs):\n",
    "            result = func(*args, **kwargs)\n",
    "            if isinstance(result, dict) and 'total_with_vat' in result:\n",
    "                discount_amount = result['total_with_vat'] * (discount_percent / 100)\n",
    "                result['discount'] = discount_amount\n",
    "                result['final_total'] = result['total_with_vat'] - discount_amount\n",
    "                print(f\"{discount_percent}% loyalty discount applied: -₦{discount_amount:,.2f}\")\n",
    "            return result\n",
    "        return wrapper\n",
    "    return decorator\n",
    "\n",
    "def format_receipt(func):\n",
    "    \"\"\"Format the final receipt\"\"\"\n",
    "    @functools.wraps(func)\n",
    "    def wrapper(*args, **kwargs):\n",
    "        result = func(*args, **kwargs)\n",
    "        if isinstance(result, dict):\n",
    "            print(\"\\n\" + \"=\"*40)\n",
    "            print(\"MAMA NGOZI'S RESTAURANT RECEIPT\")\n",
    "            print(\"=\"*40)\n",
    "            print(f\"Items: {result.get('items', 'N/A')}\")\n",
    "            print(f\"Subtotal: ₦{result.get('total', 0):,.2f}\")\n",
    "            print(f\"VAT (7.5%): ₦{result.get('vat', 0):,.2f}\")\n",
    "            print(f\"Discount: -₦{result.get('discount', 0):,.2f}\")\n",
    "            print(\"-\" * 40)\n",
    "            print(f\"TOTAL: ₦{result.get('final_total', result.get('total_with_vat', result.get('total', 0))):,.2f}\")\n",
    "            print(\"=\"*40)\n",
    "            print(\"Thank you for dining with us!\")\n",
    "        return result\n",
    "    return wrapper"
   ]
  },
  {
   "cell_type": "code",
   "execution_count": null,
   "id": "b4ead20b",
   "metadata": {},
   "outputs": [],
   "source": [
    "# Apply multiple decorators (they execute from bottom to top)\n",
    "@format_receipt           # 4th - Format and print receipt\n",
    "@apply_discount(10)       # 3rd - Apply 10% discount\n",
    "@calculate_vat(0.075)     # 2nd - Add 7.5% VAT\n",
    "@log_order               # 1st - Log the order"
   ]
  },
  {
   "cell_type": "code",
   "execution_count": 22,
   "id": "010df810",
   "metadata": {},
   "outputs": [],
   "source": [
    "def process_meal_order(customer_name, items):\n",
    "    \"\"\"Process a complete Nigerian meal order\"\"\"\n",
    "    menu_prices = {\n",
    "        'jollof_rice': 1500,\n",
    "        'fried_rice': 1800,\n",
    "        'pounded_yam': 1200,\n",
    "        'egusi_soup': 2000,\n",
    "        'pepper_soup': 2500,\n",
    "        'suya': 1000,\n",
    "        'plantain': 500,\n",
    "        'moi_moi': 800,\n",
    "        'zobo': 300,\n",
    "        'chapman': 600\n",
    "    }\n",
    "    \n",
    "    total = 0\n",
    "    order_details = []\n",
    "    \n",
    "    for item, quantity in items.items():\n",
    "        if item in menu_prices:\n",
    "            item_total = menu_prices[item] * quantity\n",
    "            total += item_total\n",
    "            order_details.append(f\"{quantity}x {item.replace('_', ' ').title()}\")\n",
    "    \n",
    "    return {\n",
    "        'customer': customer_name,\n",
    "        'items': ', '.join(order_details),\n",
    "        'total': total\n",
    "    }\n",
    "\n",
    "# Test the stacked decorators\n",
    "customer_order = {\n",
    "    'jollof_rice': 2,\n",
    "    'egusi_soup': 1,\n",
    "    'plantain': 3,\n",
    "    'zobo': 2\n",
    "}\n",
    "\n",
    "result = process_meal_order(\"Gbemi Sunday\", customer_order)"
   ]
  },
  {
   "cell_type": "markdown",
   "id": "c5cb211b",
   "metadata": {},
   "source": [
    "**NOTE**\n",
    "1. Best Practice is to always use `functools.wraps`"
   ]
  },
  {
   "cell_type": "code",
   "execution_count": null,
   "id": "3ff61145",
   "metadata": {},
   "outputs": [],
   "source": [
    "from functools import wraps\n",
    "\n",
    "# Bad - loses original function metadata\n",
    "def bad_decorator(func):\n",
    "    def wrapper(*args, **kwargs):\n",
    "        return func(*args, **kwargs)\n",
    "    return wrapper"
   ]
  },
  {
   "cell_type": "code",
   "execution_count": 24,
   "id": "fbafe733",
   "metadata": {},
   "outputs": [],
   "source": [
    "# Good - preserves original function metadata  \n",
    "def good_decorator(func):\n",
    "    @wraps(func)\n",
    "    def wrapper(*args, **kwargs):\n",
    "        return func(*args, **kwargs)\n",
    "    return wrapper"
   ]
  },
  {
   "cell_type": "code",
   "execution_count": 31,
   "id": "0b6ff096",
   "metadata": {},
   "outputs": [],
   "source": [
    "@good_decorator\n",
    "def greeting():\n",
    "    \"\"\"A friendly Nigerian greeting function\"\"\"\n",
    "    return \"How far, my guy?\""
   ]
  },
  {
   "cell_type": "code",
   "execution_count": 34,
   "id": "7256f4ae",
   "metadata": {},
   "outputs": [
    {
     "name": "stdout",
     "output_type": "stream",
     "text": [
      "greeting\n",
      "A friendly Nigerian greeting function\n"
     ]
    },
    {
     "data": {
      "text/plain": [
       "'How far, my guy?'"
      ]
     },
     "execution_count": 34,
     "metadata": {},
     "output_type": "execute_result"
    }
   ],
   "source": [
    "\n",
    "print(greeting.__name__) \n",
    "print(greeting.__doc__) \n",
    "greeting()"
   ]
  },
  {
   "cell_type": "markdown",
   "id": "2679d51a",
   "metadata": {},
   "source": [
    "2. Handle Arguments Properly"
   ]
  },
  {
   "cell_type": "code",
   "execution_count": 35,
   "id": "c25159a4",
   "metadata": {},
   "outputs": [],
   "source": [
    "def flexible_decorator(func):\n",
    "    @wraps(func)\n",
    "    def wrapper(*args, **kwargs):\n",
    "        # Handle any number of arguments\n",
    "        print(f\"Calling {func.__name__} with {len(args)} args and {len(kwargs)} kwargs\")\n",
    "        return func(*args, **kwargs)\n",
    "    return wrapper\n",
    "\n",
    "@flexible_decorator\n",
    "def greet_customer(name):\n",
    "    return f\"Welcome {name}!\"\n",
    "\n",
    "@flexible_decorator  \n",
    "def calculate_bill(items, discount=0, tax=0.075):\n",
    "    total = sum(items.values())\n",
    "    total = total * (1 - discount) * (1 + tax)\n",
    "    return f\"Total bill: ₦{total:,.2f}\""
   ]
  },
  {
   "cell_type": "code",
   "execution_count": 36,
   "id": "bed277a1",
   "metadata": {},
   "outputs": [
    {
     "name": "stdout",
     "output_type": "stream",
     "text": [
      "Calling greet_customer with 1 args and 0 kwargs\n",
      "Welcome Juwon!\n",
      "Calling calculate_bill with 1 args and 1 kwargs\n",
      "Total bill: ₦3,386.25\n"
     ]
    }
   ],
   "source": [
    "print(greet_customer(\"Juwon\"))\n",
    "print(calculate_bill({\"rice\": 2000, \"chicken\": 1500}, discount=0.1))"
   ]
  },
  {
   "cell_type": "markdown",
   "id": "91870b09",
   "metadata": {},
   "source": [
    "3. Make Decorators Reusable"
   ]
  },
  {
   "cell_type": "code",
   "execution_count": 37,
   "id": "0080d597",
   "metadata": {},
   "outputs": [],
   "source": [
    "def create_logger(prefix=\"OUR_APP\"):\n",
    "    \"\"\"Factory function to create logging decorators\"\"\"\n",
    "    def decorator(func):\n",
    "        @wraps(func)\n",
    "        def wrapper(*args, **kwargs):\n",
    "            print(f\"[{prefix}]Starting {func.__name__}\")\n",
    "            try:\n",
    "                result = func(*args, **kwargs)\n",
    "                print(f\"[{prefix}]{func.__name__} completed successfully\")\n",
    "                return result\n",
    "            except Exception as e:\n",
    "                print(f\"[{prefix}] {func.__name__} failed: {e}\")\n",
    "                raise\n",
    "        return wrapper\n",
    "    return decorator"
   ]
  },
  {
   "cell_type": "code",
   "execution_count": 38,
   "id": "65e197c2",
   "metadata": {},
   "outputs": [
    {
     "name": "stdout",
     "output_type": "stream",
     "text": [
      "[NIGERIAN_BANK]Starting transfer_funds\n",
      "[NIGERIAN_BANK]transfer_funds completed successfully\n",
      "₦50,000 transferred to Adunni Olaleye\n",
      "[GOVT_SERVICE]Starting process_tax_payment\n",
      "[GOVT_SERVICE]process_tax_payment completed successfully\n",
      "Tax payment of ₦25,000 processed for TIN123456\n",
      "[ONLINE_SHOP]Starting process_order\n",
      "[ONLINE_SHOP]process_order completed successfully\n",
      "Order processed for Emeka Nwosu: 3 items\n"
     ]
    }
   ],
   "source": [
    "\n",
    "# Create different loggers for different Nigerian services\n",
    "bank_logger = create_logger(\"NIGERIAN_BANK\")\n",
    "govt_logger = create_logger(\"GOVT_SERVICE\")\n",
    "shop_logger = create_logger(\"ONLINE_SHOP\")\n",
    "\n",
    "@bank_logger\n",
    "def transfer_funds(amount, recipient):\n",
    "    return f\"₦{amount:,} transferred to {recipient}\"\n",
    "\n",
    "@govt_logger  \n",
    "def process_tax_payment(taxpayer_id, amount):\n",
    "    return f\"Tax payment of ₦{amount:,} processed for {taxpayer_id}\"\n",
    "\n",
    "@shop_logger\n",
    "def process_order(customer, items):\n",
    "    return f\"Order processed for {customer}: {len(items)} items\"\n",
    "\n",
    "# Test the reusable decorators\n",
    "print(transfer_funds(50000, \"Adunni Olaleye\"))\n",
    "print(process_tax_payment(\"TIN123456\", 25000))\n",
    "print(process_order(\"Emeka Nwosu\", [\"rice\", \"beans\", \"oil\"]))"
   ]
  },
  {
   "cell_type": "markdown",
   "id": "28158201",
   "metadata": {},
   "source": [
    "**Go through code!!!**"
   ]
  },
  {
   "cell_type": "code",
   "execution_count": 39,
   "id": "f6a65e6f",
   "metadata": {},
   "outputs": [],
   "source": [
    "# Study this code, let it inspire you to create something amazing and incredible"
   ]
  },
  {
   "cell_type": "code",
   "execution_count": 52,
   "id": "5cf2fa66",
   "metadata": {},
   "outputs": [],
   "source": [
    "import time\n",
    "import hashlib\n",
    "from datetime import datetime, timedelta\n",
    "from functools import wraps\n",
    "\n",
    "class EcommerceDecorators:\n",
    "    \"\"\"Collection of decorators for e-commerce platform\"\"\"\n",
    "    \n",
    "    # User session storage (in real app, use Redis/database)\n",
    "    user_sessions = {}\n",
    "    failed_attempts = {}\n",
    "    \n",
    "    @staticmethod\n",
    "    def require_login(func):\n",
    "        \"\"\"Decorator to require user login\"\"\"\n",
    "        @wraps(func)\n",
    "        def wrapper(*args, **kwargs):\n",
    "            user_id = kwargs.get('user_id')\n",
    "            if not user_id or user_id not in EcommerceDecorators.user_sessions:\n",
    "                return \"Please log in to access this feature\"\n",
    "            \n",
    "            # Check if session is still valid\n",
    "            session = EcommerceDecorators.user_sessions[user_id]\n",
    "            if datetime.now() > session['expires']:\n",
    "                del EcommerceDecorators.user_sessions[user_id]\n",
    "                return \"Session expired. Please log in again\"\n",
    "            \n",
    "            # Add user info to kwargs\n",
    "            kwargs['user_info'] = session\n",
    "            return func(*args, **kwargs)\n",
    "        return wrapper\n",
    "    \n",
    "    @staticmethod\n",
    "    def prevent_brute_force(max_attempts=3, lockout_minutes=15):\n",
    "        \"\"\"Decorator to prevent brute force attacks\"\"\"\n",
    "        def decorator(func):\n",
    "            @wraps(func)\n",
    "            def wrapper(*args, **kwargs):\n",
    "                user_identifier = kwargs.get('email', kwargs.get('phone', 'unknown'))\n",
    "                now = datetime.now()\n",
    "                \n",
    "                # Check if user is locked out\n",
    "                if user_identifier in EcommerceDecorators.failed_attempts:\n",
    "                    attempts_data = EcommerceDecorators.failed_attempts[user_identifier]\n",
    "                    if attempts_data['count'] >= max_attempts:\n",
    "                        if now < attempts_data['lockout_until']:\n",
    "                            remaining = attempts_data['lockout_until'] - now\n",
    "                            return f\"Account locked. Try again in {remaining.seconds//60} minutes\"\n",
    "                        else:\n",
    "                            # Lockout period expired, reset attempts\n",
    "                            del EcommerceDecorators.failed_attempts[user_identifier]\n",
    "                \n",
    "                try:\n",
    "                    result = func(*args, **kwargs)\n",
    "                    # Reset failed attempts on success\n",
    "                    if user_identifier in EcommerceDecorators.failed_attempts:\n",
    "                        del EcommerceDecorators.failed_attempts[user_identifier]\n",
    "                    return result\n",
    "                except Exception as e:\n",
    "                    # Record failed attempt\n",
    "                    if user_identifier not in EcommerceDecorators.failed_attempts:\n",
    "                        EcommerceDecorators.failed_attempts[user_identifier] = {\n",
    "                            'count': 0,\n",
    "                            'lockout_until': now\n",
    "                        }\n",
    "                    \n",
    "                    attempts_data = EcommerceDecorators.failed_attempts[user_identifier]\n",
    "                    attempts_data['count'] += 1\n",
    "                    \n",
    "                    if attempts_data['count'] >= max_attempts:\n",
    "                        attempts_data['lockout_until'] = now + timedelta(minutes=lockout_minutes)\n",
    "                        return f\"Too many failed attempts. Account locked for {lockout_minutes} minutes\"\n",
    "                    \n",
    "                    remaining_attempts = max_attempts - attempts_data['count']\n",
    "                    return f\"Login failed. {remaining_attempts} attempts remaining\"\n",
    "            \n",
    "            return wrapper\n",
    "        return decorator\n",
    "    \n",
    "    @staticmethod\n",
    "    def track_nigerian_location(func):\n",
    "        \"\"\"Decorator to track and validate Nigerian locations\"\"\"\n",
    "        @wraps(func)\n",
    "        def wrapper(*args, **kwargs):\n",
    "            # Simulate getting user location\n",
    "            user_location = kwargs.get('location', 'Lagos, Nigeria')\n",
    "            \n",
    "            nigerian_states = [\n",
    "                'Abia', 'Adamawa', 'Akwa Ibom', 'Anambra', 'Bauchi', 'Bayelsa',\n",
    "                'Benue', 'Borno', 'Cross River', 'Delta', 'Ebonyi', 'Edo',\n",
    "                'Ekiti', 'Enugu', 'FCT', 'Gombe', 'Imo', 'Jigawa', 'Kaduna',\n",
    "                'Kano', 'Katsina', 'Kebbi', 'Kogi', 'Kwara', 'Lagos', 'Nasarawa',\n",
    "                'Niger', 'Ogun', 'Ondo', 'Osun', 'Oyo', 'Plateau', 'Rivers',\n",
    "                'Sokoto', 'Taraba', 'Yobe', 'Zamfara'\n",
    "            ]\n",
    "            \n",
    "            is_nigerian_location = any(state in user_location for state in nigerian_states)\n",
    "            \n",
    "            if not is_nigerian_location:\n",
    "                print(f\"International order detected from: {user_location}\")\n",
    "                kwargs['is_international'] = True\n",
    "                kwargs['extra_fees'] = 14000  # International shipping fee\n",
    "            else:\n",
    "                print(f\"🇳🇬 Nigerian order from: {user_location}\")\n",
    "                kwargs['is_international'] = False\n",
    "                kwargs['extra_fees'] = 0\n",
    "            \n",
    "            return func(*args, **kwargs)\n",
    "        return wrapper\n",
    "\n",
    "#  E-commerce Application\n",
    "class RetailShop:\n",
    "    \"\"\"Nigerian online shop with decorated methods\"\"\"\n",
    "    \n",
    "    @EcommerceDecorators.prevent_brute_force(max_attempts=3, lockout_minutes=5)\n",
    "    def login(self, email, password, **kwargs):\n",
    "        \"\"\"User login with brute force protection\"\"\"\n",
    "        # Simulate login validation\n",
    "        valid_users = {\n",
    "            'adunni@gmail.com': 'password123',\n",
    "            'emeka@yahoo.com': 'mypassword',\n",
    "            'kemi@hotmail.com': 'secret456'\n",
    "        }\n",
    "        \n",
    "        if email in valid_users and valid_users[email] == password:\n",
    "            # Create session\n",
    "            user_id = hashlib.md5(email.encode()).hexdigest()[:8]\n",
    "            EcommerceDecorators.user_sessions[user_id] = {\n",
    "                'email': email,\n",
    "                'expires': datetime.now() + timedelta(hours=24),\n",
    "                'login_time': datetime.now()\n",
    "            }\n",
    "            return f\"Welcome back! Session ID: {user_id}\"\n",
    "        else:\n",
    "            raise Exception(\"Invalid credentials\")\n",
    "    \n",
    "    @EcommerceDecorators.require_login\n",
    "    @EcommerceDecorators.track_nigerian_location\n",
    "    def place_order(self, items, delivery_address, user_id=None, user_info=None, **kwargs):\n",
    "        \"\"\"Place order with login and location tracking\"\"\"\n",
    "        base_total = sum(items.values())\n",
    "        extra_fees = kwargs.get('extra_fees', 0)\n",
    "        is_international = kwargs.get('is_international', False)\n",
    "        \n",
    "        shipping_fee = 2000 if not is_international else 15000\n",
    "        total = base_total + shipping_fee + extra_fees\n",
    "        \n",
    "        location_note = \"International shipping\" if is_international else \"Local delivery\"\n",
    "        \n",
    "        return {\n",
    "            'order_id': f\"ORD{int(time.time())}\",\n",
    "            'customer': user_info['email'],\n",
    "            'items': items,\n",
    "            'subtotal': base_total,\n",
    "            'shipping': shipping_fee,\n",
    "            'extra_fees': extra_fees,\n",
    "            'total': total,\n",
    "            'delivery_address': delivery_address,\n",
    "            'location_note': location_note,\n",
    "            'order_time': datetime.now().strftime('%Y-%m-%d %H:%M:%S')\n",
    "        }\n",
    "    \n",
    "    @EcommerceDecorators.require_login  \n",
    "    def view_order_history(self, user_id=None, user_info=None, **kwargs):\n",
    "        \"\"\"View order history - requires login\"\"\"\n",
    "        return f\"Order history for {user_info['email']} (logged in since {user_info['login_time'].strftime('%H:%M')})\""
   ]
  },
  {
   "cell_type": "code",
   "execution_count": 69,
   "id": "4e370fd5",
   "metadata": {},
   "outputs": [
    {
     "name": "stdout",
     "output_type": "stream",
     "text": [
      "=== Testing E-commerce Decorators ===\n",
      "\n",
      "1. Testing login with brute force protection:\n",
      "Account locked. Try again in 4 minutes\n",
      "Account locked. Try again in 4 minutes\n",
      "Account locked. Try again in 4 minutes\n",
      "Account locked. Try again in 4 minutes\n",
      "\n",
      "2. Successful login:\n",
      "Welcome back! Session ID: b65a7ba2\n",
      "\n",
      "3. Placing order from Lagos:\n",
      "🇳🇬 Nigerian order from: Lagos, Nigeria\n",
      "Order placed:\n",
      "  order_id: ORD1760877939\n",
      "  customer: kemi@hotmail.com\n",
      "  items: {'Jollof Rice': 2500, 'Chicken': 3000, 'Plantain': 500}\n",
      "  subtotal: 6000\n",
      "  shipping: 2000\n",
      "  extra_fees: 0\n",
      "  total: 8000\n",
      "  delivery_address: 123 Victoria Island, Lagos\n",
      "  location_note: Local delivery\n",
      "  order_time: 2025-10-19 13:45:39\n",
      "\n",
      "4. Placing international order:\n",
      "International order detected from: London, UK\n",
      "International order placed:\n",
      "  order_id: ORD1760877939\n",
      "  customer: kemi@hotmail.com\n",
      "  items: {'Nigerian Spices': 5000, 'Palm Oil': 3000}\n",
      "  subtotal: 8000\n",
      "  shipping: 15000\n",
      "  extra_fees: 14000\n",
      "  total: 37000\n",
      "  delivery_address: 123 Main St, London, UK\n",
      "  location_note: International shipping\n",
      "  order_time: 2025-10-19 13:45:39\n",
      "\n",
      "5. Viewing order history:\n",
      "Order history for kemi@hotmail.com (logged in since 13:45)\n",
      "\n",
      "6. Trying to access without login:\n",
      "Please log in to access this feature\n"
     ]
    }
   ],
   "source": [
    "import json\n",
    "\n",
    "# Test the complete e-commerce system\n",
    "shop = RetailShop()\n",
    "\n",
    "print(\"=== Testing E-commerce Decorators ===\\n\")\n",
    "\n",
    "# Test brute force protection\n",
    "print(\"1. Testing login with brute force protection:\")\n",
    "print(shop.login(email=\"chris@gmail.com\", password=\"wrong\"))\n",
    "print(shop.login(email=\"chris@gmail.com\", password=\"wrong\"))\n",
    "print(shop.login(email=\"chris@gmail.com\", password=\"wrong\"))\n",
    "print(shop.login(email=\"chris@gmail.com\", password=\"wrong\"))  # Should be locked\n",
    "\n",
    "print(\"\\n2. Successful login:\")\n",
    "login_result = shop.login(email=\"kemi@hotmail.com\", password=\"secret456\")\n",
    "print(login_result)\n",
    "user_session_id = login_result.split(\": \")[1]\n",
    "\n",
    "print(\"\\n3. Placing order from Lagos:\")\n",
    "lagos_order = shop.place_order(\n",
    "    items={'Jollof Rice': 2500, 'Chicken': 3000, 'Plantain': 500},\n",
    "    delivery_address=\"123 Victoria Island, Lagos\",\n",
    "    location=\"Lagos, Nigeria\",\n",
    "    user_id=user_session_id\n",
    ")\n",
    "print(\"Order placed:\")\n",
    "for key, value in lagos_order.items():\n",
    "    print(f\"  {key}: {value}\")\n",
    "    \n",
    "\n",
    "print(\"\\n4. Placing international order:\")\n",
    "intl_order = shop.place_order(\n",
    "    items={'Nigerian Spices': 5000, 'Palm Oil': 3000},\n",
    "    delivery_address=\"123 Main St, London, UK\", \n",
    "    location=\"London, UK\",\n",
    "    user_id=user_session_id\n",
    ")\n",
    "print(\"International order placed:\")\n",
    "for key, value in intl_order.items():\n",
    "    print(f\"  {key}: {value}\")\n",
    "\n",
    "print(\"\\n5. Viewing order history:\")\n",
    "print(shop.view_order_history(user_id=user_session_id))\n",
    "\n",
    "print(\"\\n6. Trying to access without login:\")\n",
    "print(shop.view_order_history())  # Should fail"
   ]
  },
  {
   "cell_type": "code",
   "execution_count": null,
   "id": "8b680d65",
   "metadata": {},
   "outputs": [],
   "source": []
  }
 ],
 "metadata": {
  "kernelspec": {
   "display_name": "base",
   "language": "python",
   "name": "python3"
  },
  "language_info": {
   "codemirror_mode": {
    "name": "ipython",
    "version": 3
   },
   "file_extension": ".py",
   "mimetype": "text/x-python",
   "name": "python",
   "nbconvert_exporter": "python",
   "pygments_lexer": "ipython3",
   "version": "3.12.7"
  }
 },
 "nbformat": 4,
 "nbformat_minor": 5
}
