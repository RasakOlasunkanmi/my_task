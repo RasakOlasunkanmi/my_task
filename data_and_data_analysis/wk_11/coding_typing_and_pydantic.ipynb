{
 "cells": [
  {
   "cell_type": "markdown",
   "id": "700e758c",
   "metadata": {},
   "source": [
    "### **Python Typing**"
   ]
  },
  {
   "cell_type": "markdown",
   "id": "2214d9eb",
   "metadata": {},
   "source": [
    "Typing deals with data types like int, float, bool, str - these are the basic or primitive types and data structures like list, tuple, dict, set - these are the collection types.\n",
    "\n",
    "Now, typing is a system that lets you explicitly state what types( or combination)"
   ]
  }
 ],
 "metadata": {
  "language_info": {
   "name": "python"
  }
 },
 "nbformat": 4,
 "nbformat_minor": 5
}
