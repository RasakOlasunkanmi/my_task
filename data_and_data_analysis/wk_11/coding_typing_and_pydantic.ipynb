{
 "cells": [
  {
   "cell_type": "markdown",
   "id": "700e758c",
   "metadata": {},
   "source": [
    "### **Python Typing**"
   ]
  },
  {
   "cell_type": "markdown",
   "id": "2214d9eb",
   "metadata": {},
   "source": []
  }
 ],
 "metadata": {
  "language_info": {
   "name": "python"
  }
 },
 "nbformat": 4,
 "nbformat_minor": 5
}
