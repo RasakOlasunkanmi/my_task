{
 "cells": [
  {
   "cell_type": "markdown",
   "id": "700e758c",
   "metadata": {},
   "source": [
    "### **Python Typing**"
   ]
  },
  {
   "cell_type": "markdown",
   "id": "2214d9eb",
   "metadata": {},
   "source": [
    "**Typing** deals with data types like int, float, bool, str - these are the basic or primitive types and data structures like list, tuple, dict, set - these are the collection types.\n",
    "\n",
    "Now, **Typing** is a system that lets you explicitly state what types( or combination of types) your variables, function arguments and return values should be.\n",
    "\n",
    "But, you need to know that **Typing** extends a bit more. It is more about describing the shape if your data and how it flows through your program."
   ]
  },
  {
   "cell_type": "code",
   "execution_count": 1,
   "id": "36428099",
   "metadata": {},
   "outputs": [],
   "source": [
    "# Example\n",
    "\n",
    "def get_fellows_names(fellow: list[str]) -> list[str]:\n",
    "    return fellow"
   ]
  },
  {
   "cell_type": "markdown",
   "id": "4cae57f4",
   "metadata": {},
   "source": [
    "`(fellow: list[str])` - type of input the function should accept.\n",
    "\n",
    "`-> list[str]` - type of output you should expect."
   ]
  },
  {
   "cell_type": "markdown",
   "id": "fe24524f",
   "metadata": {},
   "source": [
    "The function is saying that fellow must be a list, not just any list but a list of strings.\n",
    "\n",
    "Here, we would understand that **Typing** helps to add **Precision** and **Intent**. You are not just saying that this is a list - you are saying, this is a list of students names\n",
    "\n",
    "Think of data types as ingredients(e.g, int, str, list) and **Typing** as the recipe - it tells us how those ingredients should fit together and flow through our program.\n",
    "\n",
    "So in summary, **Typing** is about using data types and data structure to define rules and expectations for our program."
   ]
  },
  {
   "cell_type": "markdown",
   "id": "477d5cb1",
   "metadata": {},
   "source": [
    "`names: list[str] = [\"Esther\", \"Peter\", \"David\"]`\n",
    "- Meaning that every value in the list should be strings\n",
    "\n",
    "so the function will not accept this\n",
    "\n",
    "`names: [\"Esther\", 22, True]`\n",
    "The reason is because it mixes different types(str, int, bool)"
   ]
  },
  {
   "cell_type": "code",
   "execution_count": 2,
   "id": "6aa2cc04",
   "metadata": {},
   "outputs": [],
   "source": [
    "def get_average(name: str, scores:list[float]) -> float:\n",
    "    average_score = sum(scores)/len(scores)\n",
    "    print(f\"{name}'s average score is {average_score}\")\n",
    "    return average_score"
   ]
  },
  {
   "cell_type": "markdown",
   "id": "8d3b22d2",
   "metadata": {},
   "source": [
    "`name: str` - The parameter `name` must be a string.\n",
    "\n",
    "`scores: list[float]` - The argument `scores` must be a list containing float.\n",
    "\n",
    "-> float - The function must return a floating point number."
   ]
  },
  {
   "cell_type": "code",
   "execution_count": 3,
   "id": "7e241a5d",
   "metadata": {},
   "outputs": [],
   "source": [
    "def greet(name: str) -> None:\n",
    "    print(f\"Hello, {name}\")"
   ]
  },
  {
   "cell_type": "markdown",
   "id": "5698882c",
   "metadata": {},
   "source": [
    "This function `prints` something, but it doesn't return anything with a return statement.\n",
    "\n",
    "So its \"return type\" is `None`.\n",
    "\n",
    "In Python, when a function has no `return` statement, or when it ends without returning a value, Python automatically returns `None` under the hood."
   ]
  },
  {
   "cell_type": "code",
   "execution_count": 4,
   "id": "8fde87b5",
   "metadata": {},
   "outputs": [],
   "source": [
    "def add(a:int, b:int) -> int:\n",
    "    return a + b"
   ]
  },
  {
   "cell_type": "code",
   "execution_count": 5,
   "id": "bfe6e5d1",
   "metadata": {},
   "outputs": [
    {
     "data": {
      "text/plain": [
       "3.8"
      ]
     },
     "execution_count": 5,
     "metadata": {},
     "output_type": "execute_result"
    }
   ],
   "source": [
    "add(1.0, 2.8)"
   ]
  },
  {
   "cell_type": "markdown",
   "id": "6cd7e1cc",
   "metadata": {},
   "source": [
    "**Typing Module**"
   ]
  },
  {
   "cell_type": "markdown",
   "metadata": {},
   "source": [
    "The **Typing module** is part of Python's standard library.\n",
    "\n",
    "It provides tools called **type hints** that let you describe what **_kind of data_** your variables, functions, and classes work with espcially when things get more complicated."
   ]
  },
  {
   "cell_type": "markdown",
   "id": "31071c12",
   "metadata": {},
   "source": [
    "**How To Use Typing**"
   ]
  },
  {
   "cell_type": "code",
   "execution_count": 6,
   "id": "e0513b18",
   "metadata": {},
   "outputs": [],
   "source": [
    "from typing import List, Dict, Union, Optional"
   ]
  },
  {
   "cell_type": "markdown",
   "id": "28806bf0",
   "metadata": {},
   "source": [
    "You don't need it for basic types like `int`, `float`, `str`, `list`, but you do need it when types start combining, nesting, or being flexible."
   ]
  },
  {
   "cell_type": "markdown",
   "id": "9841675d",
   "metadata": {},
   "source": [
    "**Why it Exists**"
   ]
  },
  {
   "cell_type": "markdown",
   "id": "4aad4480",
   "metadata": {},
   "source": [
    "Lets say you want to decribe\n",
    "- a list that contains strings or integers.\n",
    "- a dictionary where keys are strings and values are floats.\n",
    "- a function that sometimes returns a number, sometimes returns nothing.\n",
    "All of these can't be described clearly with basic hints alone. This is where the **Typing** module comes in. It gives you richer language for describing data."
   ]
  },
  {
   "cell_type": "markdown",
   "id": "766f0d89",
   "metadata": {},
   "source": [
    "**Common Tools From Typing**"
   ]
  },
  {
   "cell_type": "markdown",
   "id": "e5f4cbce",
   "metadata": {},
   "source": [
    "| Typing tool        | Used for                                          | Example                                      |\n",
    "| ------------------ | ------------------------------------------------- | -------------------------------------------- |\n",
    "| `List[T]`          | A list containing elements of type `T`            | `List[int]`, `List[str]`                     |\n",
    "| `Dict[K, V]`       | A dictionary with key type `K` and value type `V` | `Dict[str, int]`                             |\n",
    "| `Union[T1, T2]`    | A value that can be **either** type               | `Union[int, str]`                            |\n",
    "| `Optional[T]`      | A value that can be `T` **or** `None`             | `Optional[int]` (same as `Union[int, None]`) |\n",
    "| `Tuple[T1, T2, …]` | A fixed-length tuple of specified types           | `Tuple[str, int]`                            |\n",
    "| `Any`              | Anything (use when type can’t be known)           | `Any`                                        |"
   ]
  },
  {
   "cell_type": "code",
   "execution_count": 7,
   "id": "1b02c991",
   "metadata": {},
   "outputs": [],
   "source": [
    "# Lets try out example\n",
    "\n",
    "from typing import List, Dict, Union, Optional\n",
    "\n",
    "def process_scores(\n",
    "    scores: List[int],\n",
    "    info: Dict[str, Union[int, float]],\n",
    "    comment: Optional[str] = None) -> None:\n",
    "      print(\"Scores:\", scores)\n",
    "      print(\"Info:\", info)\n",
    "      if comment:\n",
    "          print(\"Comment:\", comment)"
   ]
  },
  {
   "cell_type": "markdown",
   "id": "a6bbe019",
   "metadata": {},
   "source": [
    "This tells Python that;\n",
    "- `scores` - is a list of integers\n",
    "- `info` - is a dictionary with string keys and values that can be `int` or `str`\n",
    "- `comment` is a `str` or `None`\n",
    "- `-> None` doesn't return anything"
   ]
  },
  {
   "cell_type": "markdown",
   "id": "fa98d8b4",
   "metadata": {},
   "source": [
    "**Union**"
   ]
  },
  {
   "cell_type": "markdown",
   "id": "9ddafe40",
   "metadata": {},
   "source": [
    "Union is used when a variable or argument can hold more than one possible type. \n",
    "Lets say you have a funtion that accepts either an integer or a string as an ID"
   ]
  },
  {
   "cell_type": "code",
   "execution_count": 17,
   "id": "9ffe573d",
   "metadata": {},
   "outputs": [],
   "source": [
    "from typing import Union\n",
    "def get_fellow_id(id: Union[int, str]) -> str:\n",
    "    return f\"fellow ID: {id}\""
   ]
  },
  {
   "cell_type": "code",
   "execution_count": 21,
   "id": "6e613435",
   "metadata": {},
   "outputs": [
    {
     "name": "stdout",
     "output_type": "stream",
     "text": [
      "fellow ID: 42\n",
      "fellow ID: 42\n"
     ]
    }
   ],
   "source": [
    "print(get_fellow_id(42))\n",
    "print(get_fellow_id(\"42\"))"
   ]
  },
  {
   "cell_type": "code",
   "execution_count": 22,
   "id": "db2a1aa6",
   "metadata": {},
   "outputs": [
    {
     "name": "stdout",
     "output_type": "stream",
     "text": [
      "fellow ID: 42.0\n"
     ]
    }
   ],
   "source": [
    "# Lets try giving it float\n",
    "\n",
    "print(get_fellow_id(42.0))   # Our IDE will flag it because it is not a string..."
   ]
  },
  {
   "cell_type": "markdown",
   "id": "8d352e8d",
   "metadata": {},
   "source": [
    "If you like... you can decide to chain two or more types `Union[int, float, str]`\n",
    "\n",
    "But you should keep it simple and not complicate matters."
   ]
  },
  {
   "cell_type": "code",
   "execution_count": 23,
   "id": "13e4ec02",
   "metadata": {},
   "outputs": [],
   "source": [
    "# Instead of Union you can use Pipe \"|\" - hold shift + backlash to get it.\n",
    "\n",
    "def get_fellow_id(id: int | str) -> str:\n",
    "    return f\"fellow ID: {id}\"\n",
    "\n",
    "# Same as\n",
    "\n",
    "def get_fellow_id(id: Union[int, str]) -> str:\n",
    "    return f\"fellow ID: {id}\""
   ]
  },
  {
   "cell_type": "code",
   "execution_count": 24,
   "id": "f86ee6d7",
   "metadata": {},
   "outputs": [],
   "source": [
    "from typing import Union\n",
    "\n",
    "def format_address(house_number: Union[int, str], street: str) -> str:\n",
    "    return f\"{house_number} {street}\""
   ]
  },
  {
   "cell_type": "code",
   "execution_count": 25,
   "id": "1e6ac808",
   "metadata": {},
   "outputs": [
    {
     "name": "stdout",
     "output_type": "stream",
     "text": [
      "23 Ajelogo Street\n",
      "23B Ajelogo Street\n"
     ]
    }
   ],
   "source": [
    "print(format_address(23, \"Ajelogo Street\"))   # 23 Ajelogo Street\n",
    "print(format_address(\"23B\", \"Ajelogo Street\"))   # 23B Ajelogo Street"
   ]
  },
  {
   "cell_type": "markdown",
   "id": "d7e66ed7",
   "metadata": {},
   "source": [
    "**Optional**"
   ]
  },
  {
   "cell_type": "markdown",
   "id": "f074cab5",
   "metadata": {},
   "source": [
    "Sometimes you don't just have \"this or that\", you have \"this or nothing\".\n",
    "\n",
    "This is where `Optional` comes in."
   ]
  },
  {
   "cell_type": "markdown",
   "id": "c3910471",
   "metadata": {},
   "source": [
    "Optional is just a shorthand for a very common Union case:\n",
    "\n",
    "```\n",
    "Optional[X] == Union[X, None]\n",
    "\n",
    "```\n",
    "\n",
    "```\n",
    "optional[str] # This means the value can be string or \"None\" (nothing)\n",
    "```"
   ]
  },
  {
   "cell_type": "markdown",
   "id": "9acd71b7",
   "metadata": {},
   "source": [
    "Now, in a real project, it is common to have parameters or fields that are not always provided.\n",
    "\n",
    "for example,\n",
    "- A user might have a middle name or might not\n",
    "- An API request might include a comment, or might leave it blank\n",
    "\n",
    "This is what **Optional** expresses."
   ]
  },
  {
   "cell_type": "code",
   "execution_count": 26,
   "id": "fb8f2451",
   "metadata": {},
   "outputs": [],
   "source": [
    "from typing import Optional\n",
    "\n",
    "def greet(first_name: str, last_name: Optional[str] = None) -> None:\n",
    "    if last_name:\n",
    "        print(f\"Hello {first_name} {last_name}\")\n",
    "    else:\n",
    "        print(f\"Hello {first_name}\")"
   ]
  },
  {
   "cell_type": "code",
   "execution_count": 27,
   "id": "0a20d17a",
   "metadata": {},
   "outputs": [
    {
     "name": "stdout",
     "output_type": "stream",
     "text": [
      "Hello Toyeebat Arike\n",
      "Hello Toyeebat\n"
     ]
    }
   ],
   "source": [
    "greet(\"Toyeebat\", \"Arike\")\n",
    "greet(\"Toyeebat\")"
   ]
  },
  {
   "cell_type": "markdown",
   "id": "dc762bdf",
   "metadata": {},
   "source": [
    "The last_name parameter can be a string or None.\n",
    "\n",
    "By default, we set it to None if the user doesn't supply one."
   ]
  },
  {
   "cell_type": "code",
   "execution_count": 28,
   "id": "cb024847",
   "metadata": {},
   "outputs": [],
   "source": [
    "def find_user(username: str) -> Optional[dict]:\n",
    "    if username == \"admin\":\n",
    "        return {\"username\": \"admin\", \"role\": \"supervisor\"}\n",
    "    return None"
   ]
  },
  {
   "cell_type": "markdown",
   "id": "c49806e4",
   "metadata": {},
   "source": [
    "The function returns a dictionary if the user exists.\n",
    "\n",
    "If not, it returns None.\n",
    "\n",
    "That's exactly what Optional describes."
   ]
  },
  {
   "cell_type": "code",
   "execution_count": 30,
   "id": "44bdc130",
   "metadata": {},
   "outputs": [
    {
     "data": {
      "text/plain": [
       "{'username': 'admin', 'role': 'supervisor'}"
      ]
     },
     "execution_count": 30,
     "metadata": {},
     "output_type": "execute_result"
    }
   ],
   "source": [
    "find_user(\"admin\")"
   ]
  },
  {
   "cell_type": "markdown",
   "id": "9dafd8a1",
   "metadata": {},
   "source": [
    "**Typed collections**\n",
    "\n",
    "- Starting with `dict` and `tuple`. These are quite important because when we get to Pydantic models and FastAPI, we will use them to decribe structed data."
   ]
  },
  {
   "cell_type": "markdown",
   "id": "e67dd8f8",
   "metadata": {},
   "source": [
    "**Dict - typed dictionary**"
   ]
  },
  {
   "cell_type": "markdown",
   "id": "f706ed24",
   "metadata": {},
   "source": [
    "`Dict[K,V]` describe a dictionary where\n",
    "- `k` - type of the keys\n",
    "- `v` - type of the values\n",
    "\n",
    "- This is takes the _**kwargs_ arguments"
   ]
  },
  {
   "cell_type": "code",
   "execution_count": 31,
   "id": "82588ec1",
   "metadata": {},
   "outputs": [],
   "source": [
    "from typing import Dict\n",
    "fellow_scores: Dict[str, int] = {\n",
    "    \"David\": 89,\n",
    "    \"Micheal\": 98\n",
    "}"
   ]
  },
  {
   "cell_type": "markdown",
   "id": "5bd8beed",
   "metadata": {},
   "source": [
    "This means that every key is a string and every value is an integer.\n",
    "The IDE will flag it if you decide to add a string as a value."
   ]
  },
  {
   "cell_type": "markdown",
   "id": "93530217",
   "metadata": {},
   "source": [
    "**Tuple Types Tuples**"
   ]
  },
  {
   "cell_type": "markdown",
   "id": "cc0b7e35",
   "metadata": {},
   "source": [
    "A tuple is like a small fixed-sized list, but we can define exactly what type each position should have."
   ]
  },
  {
   "cell_type": "code",
   "execution_count": 32,
   "id": "e48a28b7",
   "metadata": {},
   "outputs": [],
   "source": [
    "from typing import Tuple\n",
    "\n",
    "fellow: Tuple[str, int, str] = (\"Perpetual\", 88, \"AI Engineering\")"
   ]
  },
  {
   "cell_type": "markdown",
   "id": "d4d65a93",
   "metadata": {},
   "source": [
    "This means that position 0 takes on string, 1 takes on int while 2 takes on strings also. And it will be flagged if interchanged."
   ]
  },
  {
   "cell_type": "code",
   "execution_count": 33,
   "id": "34497d9f",
   "metadata": {},
   "outputs": [],
   "source": [
    "def ai_fellow(fellow: Tuple[str, int]) -> str:\n",
    "    name, score = fellow\n",
    "    return f\"{name} scored {score} in the last exam.\""
   ]
  },
  {
   "cell_type": "markdown",
   "id": "ea990939",
   "metadata": {},
   "source": [
    "**Pydantic**"
   ]
  },
  {
   "cell_type": "markdown",
   "id": "6d24a5f7",
   "metadata": {},
   "source": [
    "**Pydantic** like **Typing** is used to build a structured, type-safe data models. It uses these type hints to **Validate**, **Serialize**,**Parse** and **Structure** data automatically.\n",
    "\n",
    "In simple terms, it takes  messy or untrusted data like API input, JSON or form data and checks that it matches your type definitions.\n",
    "\n",
    "Now, if the data type doesn't match, **Pydantic** raises an error with a clear explanation."
   ]
  },
  {
   "cell_type": "markdown",
   "id": "57d8abaf",
   "metadata": {},
   "source": [
    "**Using Pydantic**"
   ]
  },
  {
   "cell_type": "markdown",
   "metadata": {},
   "source": [
    "You can `pip install pydantic` but if you have already installed `fastapi` that means you have it already."
   ]
  },
  {
   "cell_type": "code",
   "execution_count": null,
   "id": "1473cede",
   "metadata": {},
   "outputs": [],
   "source": [
    "%%capture\n",
    "%pip install pydantic"
   ]
  },
  {
   "cell_type": "code",
   "execution_count": 34,
   "id": "e8e8ec29",
   "metadata": {},
   "outputs": [],
   "source": [
    "# importing pydantic\n",
    "from pydantic import BaseModel"
   ]
  },
  {
   "cell_type": "markdown",
   "id": "f4f0a6cb",
   "metadata": {},
   "source": [
    "`BaseModel` - This is the core class in pydantic that all our models inherit from (do you still remember inheritance?)"
   ]
  },
  {
   "cell_type": "code",
   "execution_count": null,
   "id": "0462dcfd",
   "metadata": {},
   "outputs": [],
   "source": []
  }
 ],
 "metadata": {
  "kernelspec": {
   "display_name": "base",
   "language": "python",
   "name": "python3"
  },
  "language_info": {
   "codemirror_mode": {
    "name": "ipython",
    "version": 3
   },
   "file_extension": ".py",
   "mimetype": "text/x-python",
   "name": "python",
   "nbconvert_exporter": "python",
   "pygments_lexer": "ipython3",
   "version": "3.12.7"
  }
 },
 "nbformat": 4,
 "nbformat_minor": 5
}
