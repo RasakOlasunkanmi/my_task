{
 "cells": [
  {
   "cell_type": "markdown",
   "id": "700e758c",
   "metadata": {},
   "source": [
    "### **Python Typing**"
   ]
  },
  {
   "cell_type": "markdown",
   "id": "2214d9eb",
   "metadata": {},
   "source": [
    "**Typing** deals with data types like int, float, bool, str - these are the basic or primitive types and data structures like list, tuple, dict, set - these are the collection types.\n",
    "\n",
    "Now, **Typing** is a system that lets you explicitly state what types( or combination of types) your variables, function arguments and return values should be.\n",
    "\n",
    "But, you need to know that **Typing** extends a bit more. It is more about describing the shape if your data and how it flows through your program."
   ]
  },
  {
   "cell_type": "code",
   "execution_count": 1,
   "id": "36428099",
   "metadata": {},
   "outputs": [],
   "source": [
    "# Example\n",
    "\n",
    "def get_fellows_names(fellow: list[str]) -> list[str]:\n",
    "    return fellow"
   ]
  },
  {
   "cell_type": "markdown",
   "id": "4cae57f4",
   "metadata": {},
   "source": [
    "`(fellow: list[str])` - type of input the function should accept.\n",
    "\n",
    "`-> list[str]` - type of output you should expect."
   ]
  },
  {
   "cell_type": "markdown",
   "id": "fe24524f",
   "metadata": {},
   "source": [
    "The function is saying that fellow must be a list, not just any list but a list of strings.\n",
    "\n",
    "Here, we would understand that **Typing** helps to add **Precision** and **Intent**. You are not just saying that this is a list - you are saying, this is a list of students names\n",
    "\n",
    "Think of data types as ingredients(e.g, int, str, list) and **Typing** as the recipe - it tells us how those ingredients should fit together and flow through our program.\n",
    "\n",
    "So in summary, **Typing** is about using data types and data structure to define rules and expectations for our program."
   ]
  },
  {
   "cell_type": "markdown",
   "id": "477d5cb1",
   "metadata": {},
   "source": [
    "`names: list[str] = [\"Esther\", \"Peter\", \"David\"]`\n",
    "- Meaning that every value in the list should be strings\n",
    "\n",
    "so the function will not accept this\n",
    "\n",
    "`names: [\"Esther\", 22, True]`\n",
    "The reason is because it mixes different types(str, int, bool)"
   ]
  },
  {
   "cell_type": "code",
   "execution_count": 2,
   "id": "6aa2cc04",
   "metadata": {},
   "outputs": [],
   "source": [
    "def get_average(name: str, scores:list[float]) -> float:\n",
    "    average_score = sum(scores)/len(scores)\n",
    "    print(f\"{name}'s average score is {average_score}\")\n",
    "    return average_score"
   ]
  },
  {
   "cell_type": "markdown",
   "id": "8d3b22d2",
   "metadata": {},
   "source": [
    "`name: str` - The parameter `name` must be a string.\n",
    "\n",
    "`scores: list[float]` - The argument `scores` must be a list containing float.\n",
    "\n",
    "-> float - The function must return a floating point number."
   ]
  },
  {
   "cell_type": "code",
   "execution_count": 3,
   "id": "7e241a5d",
   "metadata": {},
   "outputs": [],
   "source": [
    "def greet(name: str) -> None:\n",
    "    print(f\"Hello, {name}\")"
   ]
  },
  {
   "cell_type": "markdown",
   "id": "5698882c",
   "metadata": {},
   "source": [
    "This function `prints` something, but it doesn't return anything with a return statement.\n",
    "\n",
    "So its \"return type\" is `None`.\n",
    "\n",
    "In Python, when a function has no `return` statement, or when it ends without returning a value, Python automatically returns `None` under the hood."
   ]
  },
  {
   "cell_type": "code",
   "execution_count": 4,
   "id": "8fde87b5",
   "metadata": {},
   "outputs": [],
   "source": [
    "def add(a:int, b:int) -> int:\n",
    "    return a + b"
   ]
  },
  {
   "cell_type": "code",
   "execution_count": 5,
   "id": "bfe6e5d1",
   "metadata": {},
   "outputs": [
    {
     "data": {
      "text/plain": [
       "3.8"
      ]
     },
     "execution_count": 5,
     "metadata": {},
     "output_type": "execute_result"
    }
   ],
   "source": [
    "add(1.0, 2.8)"
   ]
  },
  {
   "cell_type": "markdown",
   "id": "6cd7e1cc",
   "metadata": {},
   "source": [
    "**Typing Module**"
   ]
  },
  {
   "cell_type": "markdown",
   "metadata": {},
   "source": [
    "The **Typing module** is part of Python's standard library.\n",
    "\n",
    "It provides tools called **type hints** that let you describe what **_kind of data_** your variables, functions, and classes work with espcially when things get more complicated."
   ]
  },
  {
   "cell_type": "markdown",
   "id": "31071c12",
   "metadata": {},
   "source": [
    "**How To Use Typing**"
   ]
  },
  {
   "cell_type": "code",
   "execution_count": 6,
   "id": "e0513b18",
   "metadata": {},
   "outputs": [],
   "source": [
    "from typing import List, Dict, Union, Optional"
   ]
  },
  {
   "cell_type": "markdown",
   "id": "28806bf0",
   "metadata": {},
   "source": [
    "You don't need it for basic types like `int`, `float`, `str`, `list`, but you do need it when types start combining, nesting, or being flexible."
   ]
  },
  {
   "cell_type": "markdown",
   "id": "9841675d",
   "metadata": {},
   "source": [
    "**Why it Exists**"
   ]
  },
  {
   "cell_type": "markdown",
   "id": "4aad4480",
   "metadata": {},
   "source": [
    "Lets say you want to decribe\n",
    "- a list that contains strings or integers.\n",
    "- a dictionary where keys are strings and values are floats.\n",
    "- a function that sometimes returns a number, sometimes returns nothing.\n",
    "All of these can't be described clearly with basic hints alone. This is where the **Typing** module comes in. It gives you richer language for describing data."
   ]
  },
  {
   "cell_type": "markdown",
   "id": "766f0d89",
   "metadata": {},
   "source": [
    "**Common Tools From Typing**"
   ]
  },
  {
   "cell_type": "markdown",
   "id": "e5f4cbce",
   "metadata": {},
   "source": [
    "| Typing tool        | Used for                                          | Example                                      |\n",
    "| ------------------ | ------------------------------------------------- | -------------------------------------------- |\n",
    "| `List[T]`          | A list containing elements of type `T`            | `List[int]`, `List[str]`                     |\n",
    "| `Dict[K, V]`       | A dictionary with key type `K` and value type `V` | `Dict[str, int]`                             |\n",
    "| `Union[T1, T2]`    | A value that can be **either** type               | `Union[int, str]`                            |\n",
    "| `Optional[T]`      | A value that can be `T` **or** `None`             | `Optional[int]` (same as `Union[int, None]`) |\n",
    "| `Tuple[T1, T2, …]` | A fixed-length tuple of specified types           | `Tuple[str, int]`                            |\n",
    "| `Any`              | Anything (use when type can’t be known)           | `Any`                                        |"
   ]
  },
  {
   "cell_type": "code",
   "execution_count": 7,
   "id": "1b02c991",
   "metadata": {},
   "outputs": [],
   "source": [
    "# Lets try out example\n",
    "\n",
    "from typing import List, Dict, Union, Optional\n",
    "\n",
    "def process_scores(\n",
    "    scores: List[int],\n",
    "    info: Dict[str, Union[int, float]],\n",
    "    comment: Optional[str] = None) -> None:\n",
    "      print(\"Scores:\", scores)\n",
    "      print(\"Info:\", info)\n",
    "      if comment:\n",
    "          print(\"Comment:\", comment)"
   ]
  },
  {
   "cell_type": "markdown",
   "id": "a6bbe019",
   "metadata": {},
   "source": [
    "This tells Python that;\n",
    "- `scores` - is a list of integers\n",
    "- `info` - is a dictionary with string keys and values that can be `int` or `str`\n",
    "- `comment` is a `str` or `None`\n",
    "- `-> None` doesn't return anything"
   ]
  },
  {
   "cell_type": "markdown",
   "id": "fa98d8b4",
   "metadata": {},
   "source": [
    "**Union**"
   ]
  },
  {
   "cell_type": "markdown",
   "id": "9ddafe40",
   "metadata": {},
   "source": [
    "Union is used when a variable or argument can hold more than one possible type. \n",
    "Lets say you have a funtion that accepts either an integer or a string as an ID"
   ]
  },
  {
   "cell_type": "code",
   "execution_count": 8,
   "id": "9ffe573d",
   "metadata": {},
   "outputs": [],
   "source": [
    "from typing import Union\n",
    "def get_fellow_id(id: Union[int, str]) -> str:\n",
    "    return f\"fellow ID: {id}\""
   ]
  },
  {
   "cell_type": "code",
   "execution_count": 9,
   "id": "6e613435",
   "metadata": {},
   "outputs": [
    {
     "name": "stdout",
     "output_type": "stream",
     "text": [
      "fellow ID: 42\n",
      "fellow ID: 42\n"
     ]
    }
   ],
   "source": [
    "print(get_fellow_id(42))\n",
    "print(get_fellow_id(\"42\"))"
   ]
  },
  {
   "cell_type": "code",
   "execution_count": 10,
   "id": "db2a1aa6",
   "metadata": {},
   "outputs": [
    {
     "name": "stdout",
     "output_type": "stream",
     "text": [
      "fellow ID: 42.0\n"
     ]
    }
   ],
   "source": [
    "# Lets try giving it float\n",
    "\n",
    "print(get_fellow_id(42.0))   # Our IDE will flag it because it is not a string..."
   ]
  },
  {
   "cell_type": "markdown",
   "id": "8d352e8d",
   "metadata": {},
   "source": [
    "If you like... you can decide to chain two or more types `Union[int, float, str]`\n",
    "\n",
    "But you should keep it simple and not complicate matters."
   ]
  },
  {
   "cell_type": "code",
   "execution_count": 11,
   "id": "13e4ec02",
   "metadata": {},
   "outputs": [],
   "source": [
    "# Instead of Union you can use Pipe \"|\" - hold shift + backlash to get it.\n",
    "\n",
    "def get_fellow_id(id: int | str) -> str:\n",
    "    return f\"fellow ID: {id}\"\n",
    "\n",
    "# Same as\n",
    "\n",
    "def get_fellow_id(id: Union[int, str]) -> str:\n",
    "    return f\"fellow ID: {id}\""
   ]
  },
  {
   "cell_type": "code",
   "execution_count": 12,
   "id": "f86ee6d7",
   "metadata": {},
   "outputs": [],
   "source": [
    "from typing import Union\n",
    "\n",
    "def format_address(house_number: Union[int, str], street: str) -> str:\n",
    "    return f\"{house_number} {street}\""
   ]
  },
  {
   "cell_type": "code",
   "execution_count": 13,
   "id": "1e6ac808",
   "metadata": {},
   "outputs": [
    {
     "name": "stdout",
     "output_type": "stream",
     "text": [
      "23 Ajelogo Street\n",
      "23B Ajelogo Street\n"
     ]
    }
   ],
   "source": [
    "print(format_address(23, \"Ajelogo Street\"))   # 23 Ajelogo Street\n",
    "print(format_address(\"23B\", \"Ajelogo Street\"))   # 23B Ajelogo Street"
   ]
  },
  {
   "cell_type": "markdown",
   "id": "d7e66ed7",
   "metadata": {},
   "source": [
    "**Optional**"
   ]
  },
  {
   "cell_type": "markdown",
   "id": "f074cab5",
   "metadata": {},
   "source": [
    "Sometimes you don't just have \"this or that\", you have \"this or nothing\".\n",
    "\n",
    "This is where `Optional` comes in."
   ]
  },
  {
   "cell_type": "markdown",
   "id": "c3910471",
   "metadata": {},
   "source": [
    "Optional is just a shorthand for a very common Union case:\n",
    "\n",
    "```\n",
    "Optional[X] == Union[X, None]\n",
    "\n",
    "```\n",
    "\n",
    "```\n",
    "optional[str] # This means the value can be string or \"None\" (nothing)\n",
    "```"
   ]
  },
  {
   "cell_type": "markdown",
   "id": "9acd71b7",
   "metadata": {},
   "source": [
    "Now, in a real project, it is common to have parameters or fields that are not always provided.\n",
    "\n",
    "for example,\n",
    "- A user might have a middle name or might not\n",
    "- An API request might include a comment, or might leave it blank\n",
    "\n",
    "This is what **Optional** expresses."
   ]
  },
  {
   "cell_type": "code",
   "execution_count": 14,
   "id": "fb8f2451",
   "metadata": {},
   "outputs": [],
   "source": [
    "from typing import Optional\n",
    "\n",
    "def greet(first_name: str, last_name: Optional[str] = None) -> None:\n",
    "    if last_name:\n",
    "        print(f\"Hello {first_name} {last_name}\")\n",
    "    else:\n",
    "        print(f\"Hello {first_name}\")"
   ]
  },
  {
   "cell_type": "code",
   "execution_count": 15,
   "id": "0a20d17a",
   "metadata": {},
   "outputs": [
    {
     "name": "stdout",
     "output_type": "stream",
     "text": [
      "Hello Toyeebat Arike\n",
      "Hello Toyeebat\n"
     ]
    }
   ],
   "source": [
    "greet(\"Toyeebat\", \"Arike\")\n",
    "greet(\"Toyeebat\")"
   ]
  },
  {
   "cell_type": "markdown",
   "id": "dc762bdf",
   "metadata": {},
   "source": [
    "The last_name parameter can be a string or None.\n",
    "\n",
    "By default, we set it to None if the user doesn't supply one."
   ]
  },
  {
   "cell_type": "code",
   "execution_count": 16,
   "id": "cb024847",
   "metadata": {},
   "outputs": [],
   "source": [
    "def find_user(username: str) -> Optional[dict]:\n",
    "    if username == \"admin\":\n",
    "        return {\"username\": \"admin\", \"role\": \"supervisor\"}\n",
    "    return None"
   ]
  },
  {
   "cell_type": "markdown",
   "id": "c49806e4",
   "metadata": {},
   "source": [
    "The function returns a dictionary if the user exists.\n",
    "\n",
    "If not, it returns None.\n",
    "\n",
    "That's exactly what Optional describes."
   ]
  },
  {
   "cell_type": "code",
   "execution_count": 17,
   "id": "44bdc130",
   "metadata": {},
   "outputs": [
    {
     "data": {
      "text/plain": [
       "{'username': 'admin', 'role': 'supervisor'}"
      ]
     },
     "execution_count": 17,
     "metadata": {},
     "output_type": "execute_result"
    }
   ],
   "source": [
    "find_user(\"admin\")"
   ]
  },
  {
   "cell_type": "markdown",
   "id": "9dafd8a1",
   "metadata": {},
   "source": [
    "**Typed collections**\n",
    "\n",
    "- Starting with `dict` and `tuple`. These are quite important because when we get to Pydantic models and FastAPI, we will use them to decribe structed data."
   ]
  },
  {
   "cell_type": "markdown",
   "id": "e67dd8f8",
   "metadata": {},
   "source": [
    "**Dict - typed dictionary**"
   ]
  },
  {
   "cell_type": "markdown",
   "id": "f706ed24",
   "metadata": {},
   "source": [
    "`Dict[K,V]` describe a dictionary where\n",
    "- `k` - type of the keys\n",
    "- `v` - type of the values\n",
    "\n",
    "- This is takes the _**kwargs_ arguments"
   ]
  },
  {
   "cell_type": "code",
   "execution_count": 18,
   "id": "82588ec1",
   "metadata": {},
   "outputs": [],
   "source": [
    "from typing import Dict\n",
    "fellow_scores: Dict[str, int] = {\n",
    "    \"David\": 89,\n",
    "    \"Micheal\": 98\n",
    "}"
   ]
  },
  {
   "cell_type": "markdown",
   "id": "5bd8beed",
   "metadata": {},
   "source": [
    "This means that every key is a string and every value is an integer.\n",
    "The IDE will flag it if you decide to add a string as a value."
   ]
  },
  {
   "cell_type": "markdown",
   "id": "93530217",
   "metadata": {},
   "source": [
    "**Tuple Types Tuples**"
   ]
  },
  {
   "cell_type": "markdown",
   "id": "cc0b7e35",
   "metadata": {},
   "source": [
    "A tuple is like a small fixed-sized list, but we can define exactly what type each position should have."
   ]
  },
  {
   "cell_type": "code",
   "execution_count": 19,
   "id": "e48a28b7",
   "metadata": {},
   "outputs": [],
   "source": [
    "from typing import Tuple\n",
    "\n",
    "fellow: Tuple[str, int, str] = (\"Perpetual\", 88, \"AI Engineering\")"
   ]
  },
  {
   "cell_type": "markdown",
   "id": "d4d65a93",
   "metadata": {},
   "source": [
    "This means that position 0 takes on string, 1 takes on int while 2 takes on strings also. And it will be flagged if interchanged."
   ]
  },
  {
   "cell_type": "code",
   "execution_count": 20,
   "id": "34497d9f",
   "metadata": {},
   "outputs": [],
   "source": [
    "def ai_fellow(fellow: Tuple[str, int]) -> str:\n",
    "    name, score = fellow\n",
    "    return f\"{name} scored {score} in the last exam.\""
   ]
  },
  {
   "cell_type": "markdown",
   "id": "ea990939",
   "metadata": {},
   "source": [
    "**Pydantic**"
   ]
  },
  {
   "cell_type": "markdown",
   "id": "6d24a5f7",
   "metadata": {},
   "source": [
    "**Pydantic** like **Typing** is used to build a structured, type-safe data models. It uses these type hints to **Validate**, **Serialize**,**Parse** and **Structure** data automatically.\n",
    "\n",
    "In simple terms, it takes  messy or untrusted data like API input, JSON or form data and checks that it matches your type definitions.\n",
    "\n",
    "Now, if the data type doesn't match, **Pydantic** raises an error with a clear explanation."
   ]
  },
  {
   "cell_type": "markdown",
   "id": "57d8abaf",
   "metadata": {},
   "source": [
    "**Using Pydantic**"
   ]
  },
  {
   "cell_type": "markdown",
   "metadata": {},
   "source": [
    "You can `pip install pydantic` but if you have already installed `fastapi` that means you have it already."
   ]
  },
  {
   "cell_type": "code",
   "execution_count": 21,
   "id": "1473cede",
   "metadata": {},
   "outputs": [],
   "source": [
    "%%capture\n",
    "%pip install pydantic"
   ]
  },
  {
   "cell_type": "code",
   "execution_count": 22,
   "id": "e8e8ec29",
   "metadata": {},
   "outputs": [],
   "source": [
    "# importing pydantic\n",
    "from pydantic import BaseModel"
   ]
  },
  {
   "cell_type": "markdown",
   "id": "f4f0a6cb",
   "metadata": {},
   "source": [
    "`BaseModel` - This is the core class in pydantic that all our models inherit from (do you still remember inheritance?)\n",
    "\n",
    "- It gives your class the superpowers that makes **Pydantic** useful. It handles core concept like;\n",
    "- data validation\n",
    "- automatic type conversion\n",
    "- error reporting\n",
    "- serialization/ deserialization\n",
    "- schema generation - this one is heavily used in FastAPI"
   ]
  },
  {
   "cell_type": "code",
   "execution_count": 23,
   "id": "0462dcfd",
   "metadata": {},
   "outputs": [],
   "source": [
    "# Lets create a Pydantic data model\n",
    "\n",
    "class Fellow(BaseModel):\n",
    "    name: str\n",
    "    score: int\n",
    "    track: str"
   ]
  },
  {
   "cell_type": "markdown",
   "id": "d8acc24e",
   "metadata": {},
   "source": [
    "These data model knows\n",
    "- What fields it has (`name`, `score`, `track`)\n",
    "- What types those field should be (`str`, `int`, `str`)\n",
    "- How to check and clean input data\n",
    "- How to output itself as clean, structured data (`dict`, `json`, etc)"
   ]
  },
  {
   "cell_type": "markdown",
   "id": "580b65d3",
   "metadata": {},
   "source": [
    "**What is BaseModel Capable of...**"
   ]
  },
  {
   "cell_type": "code",
   "execution_count": 24,
   "id": "e385745e",
   "metadata": {},
   "outputs": [
    {
     "data": {
      "text/plain": [
       "Fellow(name='Perpetual', score=88, track='AI Engineering')"
      ]
     },
     "execution_count": 24,
     "metadata": {},
     "output_type": "execute_result"
    }
   ],
   "source": [
    "# 1. Validation - It automatically validates data passedto it\n",
    "\n",
    "Fellow(name=\"Perpetual\", score=88, track=\"AI Engineering\")    # This will work fine"
   ]
  },
  {
   "cell_type": "code",
   "execution_count": 25,
   "id": "840b5407",
   "metadata": {},
   "outputs": [
    {
     "ename": "ValidationError",
     "evalue": "1 validation error for Fellow\nscore\n  Input should be a valid integer, unable to parse string as an integer [type=int_parsing, input_value='eighty-seven', input_type=str]\n    For further information visit https://errors.pydantic.dev/2.8/v/int_parsing",
     "output_type": "error",
     "traceback": [
      "\u001b[1;31m---------------------------------------------------------------------------\u001b[0m",
      "\u001b[1;31mValidationError\u001b[0m                           Traceback (most recent call last)",
      "Cell \u001b[1;32mIn[25], line 1\u001b[0m\n\u001b[1;32m----> 1\u001b[0m Fellow(name\u001b[38;5;241m=\u001b[39m\u001b[38;5;124m\"\u001b[39m\u001b[38;5;124mZach\u001b[39m\u001b[38;5;124m\"\u001b[39m, score\u001b[38;5;241m=\u001b[39m\u001b[38;5;124m\"\u001b[39m\u001b[38;5;124meighty-seven\u001b[39m\u001b[38;5;124m\"\u001b[39m, track\u001b[38;5;241m=\u001b[39m\u001b[38;5;124m\"\u001b[39m\u001b[38;5;124mAI Engineering\u001b[39m\u001b[38;5;124m\"\u001b[39m)\n",
      "File \u001b[1;32mc:\\Users\\olasunkanmi\\anaconda3\\Lib\\site-packages\\pydantic\\main.py:193\u001b[0m, in \u001b[0;36mBaseModel.__init__\u001b[1;34m(self, **data)\u001b[0m\n\u001b[0;32m    191\u001b[0m \u001b[38;5;66;03m# `__tracebackhide__` tells pytest and some other tools to omit this function from tracebacks\u001b[39;00m\n\u001b[0;32m    192\u001b[0m __tracebackhide__ \u001b[38;5;241m=\u001b[39m \u001b[38;5;28;01mTrue\u001b[39;00m\n\u001b[1;32m--> 193\u001b[0m \u001b[38;5;28mself\u001b[39m\u001b[38;5;241m.\u001b[39m__pydantic_validator__\u001b[38;5;241m.\u001b[39mvalidate_python(data, self_instance\u001b[38;5;241m=\u001b[39m\u001b[38;5;28mself\u001b[39m)\n",
      "\u001b[1;31mValidationError\u001b[0m: 1 validation error for Fellow\nscore\n  Input should be a valid integer, unable to parse string as an integer [type=int_parsing, input_value='eighty-seven', input_type=str]\n    For further information visit https://errors.pydantic.dev/2.8/v/int_parsing"
     ]
    }
   ],
   "source": [
    "Fellow(name=\"Zach\", score=\"eighty-seven\", track=\"AI Engineering\")   # This will raise error"
   ]
  },
  {
   "cell_type": "code",
   "execution_count": null,
   "id": "6f2fb965",
   "metadata": {},
   "outputs": [
    {
     "name": "stdout",
     "output_type": "stream",
     "text": [
      "<class 'int'>\n"
     ]
    }
   ],
   "source": [
    "# 2. Parsing and Type conversion - It automatically converts compatible types\n",
    "# It reads and interpret data\n",
    "\n",
    "p = Fellow(name=\"Perpetual\", score=\"88\", track=\"AI Engineering\")\n",
    "print(type(p.score))"
   ]
  },
  {
   "cell_type": "markdown",
   "id": "ff40636e",
   "metadata": {},
   "source": [
    "This is telling us that the compatible class is int and not string as we have define above. "
   ]
  },
  {
   "cell_type": "code",
   "execution_count": null,
   "id": "3f8a04b9",
   "metadata": {},
   "outputs": [
    {
     "name": "stdout",
     "output_type": "stream",
     "text": [
      "name='Blessing' score=100 track='AI Engineering'\n",
      "<class 'int'>\n"
     ]
    }
   ],
   "source": [
    "# An incoming data\n",
    "data = {\"name\": \"Blessing\", \"score\": \"100\", \"track\": \"AI Engineering\"}\n",
    "\n",
    "# pydantic will parse it like this\n",
    "fellow = Fellow(**data)\n",
    "\n",
    "print(fellow)\n",
    "print(type(fellow.score))"
   ]
  },
  {
   "cell_type": "markdown",
   "id": "19bd70e0",
   "metadata": {},
   "source": [
    "Here, Pydantic `parsed` \"100\" (a string) into 100 (an int). It \"understood\" the data and converted it into a proper Python model."
   ]
  },
  {
   "cell_type": "code",
   "execution_count": null,
   "id": "09245628",
   "metadata": {},
   "outputs": [
    {
     "name": "stdout",
     "output_type": "stream",
     "text": [
      "{\"name\":\"Perpetual\",\"score\":88,\"track\":\"AI Engineering\"}\n"
     ]
    }
   ],
   "source": [
    "# 3. Serialization - It automatically converts data to JSON or Dictionary (converts to a format that can be stored or sent).\n",
    "# Its more like packaging a data for output.\n",
    "print(p.model_dump_json())"
   ]
  },
  {
   "cell_type": "code",
   "execution_count": null,
   "id": "d27f775e",
   "metadata": {},
   "outputs": [
    {
     "name": "stdout",
     "output_type": "stream",
     "text": [
      "{'name': 'Perpetual', 'score': 88, 'track': 'AI Engineering'}\n"
     ]
    }
   ],
   "source": [
    "print(p.model_dump())"
   ]
  },
  {
   "cell_type": "code",
   "execution_count": null,
   "id": "28f47001",
   "metadata": {},
   "outputs": [],
   "source": [
    "# 4. Nesting - Models can be nested to create complex data structures\n",
    "\n",
    "class Address(BaseModel):\n",
    "    street: str\n",
    "    city: str\n",
    "    state: str\n",
    "    country: str\n",
    "    \n",
    "class Fellow(BaseModel):\n",
    "    name: str\n",
    "    score: int\n",
    "    track: str\n",
    "    address: Address\n",
    "    \n",
    "\n",
    "# Pydantic will validate this automatically"
   ]
  },
  {
   "cell_type": "markdown",
   "id": "853e74c2",
   "metadata": {},
   "source": [
    "Here, Fellow contains and Address - so instead of just primitive types (str, int), you're using another Pydantic model (Address) as a field type."
   ]
  },
  {
   "cell_type": "code",
   "execution_count": null,
   "id": "275a0ae9",
   "metadata": {},
   "outputs": [
    {
     "name": "stdout",
     "output_type": "stream",
     "text": [
      "name='Perpetual' score=88 track='AI Engineering' address=Address(street='Ajelogo Street', city='Ketu', state='Lagos', country='Nigeria')\n"
     ]
    }
   ],
   "source": [
    "# Lets pass this data\n",
    "data = {\n",
    "    \"name\": \"Perpetual\",\n",
    "    \"score\": 88,\n",
    "    \"track\": \"AI Engineering\",\n",
    "    \n",
    "    \"address\": {\n",
    "        \"street\": \"Ajelogo Street\",\n",
    "        \"city\": \"Ketu\",\n",
    "        \"state\": \"Lagos\",\n",
    "        \"country\": \"Nigeria\"\n",
    "    }\n",
    "}\n",
    "\n",
    "\n",
    "# pydantic will parse it like this\n",
    "fellow = Fellow(**data)\n",
    "\n",
    "print(fellow)"
   ]
  },
  {
   "cell_type": "markdown",
   "id": "4a67ed29",
   "metadata": {},
   "source": [
    "**What is happening behind the scene**\n",
    "\n",
    "- Pydantic sees Fellow as a field address of type Address.\n",
    "\n",
    "- It looks at the dictionary under \"address\".\n",
    "\n",
    "- It automatically creates an Address object inside Fellow.\n",
    "\n",
    "- It validates that street, city, state and country are all strings.\n",
    "\n",
    "So, you get deep validation — Pydantic checks every layer of your data."
   ]
  },
  {
   "cell_type": "code",
   "execution_count": null,
   "id": "f64886b8",
   "metadata": {},
   "outputs": [
    {
     "name": "stdout",
     "output_type": "stream",
     "text": [
      "Ajelogo Street\n"
     ]
    }
   ],
   "source": [
    "# You can easily access inner fields if you need to\n",
    "\n",
    "print(fellow.address.street)"
   ]
  },
  {
   "cell_type": "code",
   "execution_count": null,
   "id": "8441176c",
   "metadata": {},
   "outputs": [
    {
     "name": "stdout",
     "output_type": "stream",
     "text": [
      "{'name': 'Perpetual', 'score': 88, 'track': 'AI Engineering', 'address': {'street': 'Ajelogo Street', 'city': 'Ketu', 'state': 'Lagos', 'country': 'Nigeria'}}\n"
     ]
    }
   ],
   "source": [
    "print(fellow.model_dump())"
   ]
  },
  {
   "cell_type": "code",
   "execution_count": null,
   "id": "538215bf",
   "metadata": {},
   "outputs": [
    {
     "name": "stdout",
     "output_type": "stream",
     "text": [
      "{\"name\":\"Perpetual\",\"score\":88,\"track\":\"AI Engineering\",\"address\":{\"street\":\"Ajelogo Street\",\"city\":\"Ketu\",\"state\":\"Lagos\",\"country\":\"Nigeria\"}}\n"
     ]
    }
   ],
   "source": [
    "print(fellow.model_dump_json())"
   ]
  },
  {
   "cell_type": "markdown",
   "id": "1d619749",
   "metadata": {},
   "source": [
    "**A list of Nested Models**"
   ]
  },
  {
   "cell_type": "markdown",
   "id": "0092bf76",
   "metadata": {},
   "source": [
    "This makes sense, lets say you are using two addresses, yea?"
   ]
  },
  {
   "cell_type": "code",
   "execution_count": null,
   "id": "78850ded",
   "metadata": {},
   "outputs": [],
   "source": [
    "# So, we can have something like this... for a list of address\n",
    "from typing import List\n",
    "from pydantic import BaseModel\n",
    "\n",
    "\n",
    "class Fellow(BaseModel):\n",
    "    name: str\n",
    "    score: int\n",
    "    track: str\n",
    "    addresses: List[Address]"
   ]
  },
  {
   "cell_type": "markdown",
   "id": "615c2a19",
   "metadata": {},
   "source": [
    "Here, addresses isn't just one Address - it's a list (List[Address]), meaning the person can have multiple addresses."
   ]
  },
  {
   "cell_type": "code",
   "execution_count": null,
   "id": "ff89adaf",
   "metadata": {},
   "outputs": [
    {
     "name": "stdout",
     "output_type": "stream",
     "text": [
      "name='Perpetual' score=88 track='AI Engineering' addresses=[Address(street='Idoroko Road', city='Sango', state='Ogun', country='Nigeria'), Address(street='Kobape', city='Abeokuta', state='Ogun', country='Nigeria')]\n"
     ]
    }
   ],
   "source": [
    "data = {\n",
    "    \"name\": \"Perpetual\",\n",
    "    \"score\": 88,\n",
    "    \"track\": \"AI Engineering\",\n",
    "    \"addresses\": [\n",
    "        {\"street\": \"Idoroko Road\", \"city\": \"Sango\", \"state\": \"Ogun\",\n",
    "        \"country\": \"Nigeria\"},\n",
    "        {\"street\": \"Kobape\", \"city\": \"Abeokuta\", \"state\": \"Ogun\",\n",
    "        \"country\": \"Nigeria\"}\n",
    "    ]\n",
    "}\n",
    "\n",
    "fellow = Fellow(**data)\n",
    "print(fellow)"
   ]
  },
  {
   "cell_type": "code",
   "execution_count": null,
   "id": "7b86b94d",
   "metadata": {},
   "outputs": [
    {
     "name": "stdout",
     "output_type": "stream",
     "text": [
      "Sango\n",
      "Abeokuta\n"
     ]
    }
   ],
   "source": [
    "# Accessing the nested Items\n",
    "\n",
    "print(fellow.addresses[0].city)\n",
    "print(fellow.addresses[1].city)"
   ]
  },
  {
   "cell_type": "code",
   "execution_count": null,
   "id": "5b0e3100",
   "metadata": {},
   "outputs": [
    {
     "name": "stdout",
     "output_type": "stream",
     "text": [
      "{\"name\":\"Perpetual\",\"score\":88,\"track\":\"AI Engineering\",\"addresses\":[{\"street\":\"Idoroko Road\",\"city\":\"Sango\",\"state\":\"Ogun\",\"country\":\"Nigeria\"},{\"street\":\"Kobape\",\"city\":\"Abeokuta\",\"state\":\"Ogun\",\"country\":\"Nigeria\"}]}\n",
      "\n",
      "\n",
      "{'name': 'Perpetual', 'score': 88, 'track': 'AI Engineering', 'addresses': [{'street': 'Idoroko Road', 'city': 'Sango', 'state': 'Ogun', 'country': 'Nigeria'}, {'street': 'Kobape', 'city': 'Abeokuta', 'state': 'Ogun', 'country': 'Nigeria'}]}\n"
     ]
    }
   ],
   "source": [
    "# We can serialize if we want to\n",
    "\n",
    "print(fellow.model_dump_json())\n",
    "print(\"\\n\")\n",
    "print(fellow.model_dump())"
   ]
  },
  {
   "cell_type": "markdown",
   "id": "d08ce499",
   "metadata": {},
   "source": [
    "**Understanding Validation**"
   ]
  },
  {
   "cell_type": "code",
   "execution_count": null,
   "id": "5f8db2cb",
   "metadata": {},
   "outputs": [
    {
     "name": "stdout",
     "output_type": "stream",
     "text": [
      "name='Micheal' score=-79 addresses=[Address(street='123 Marose St', city='Ikorodu'), Address(street='4 Babatunde Ave', city='Abiola Way')]\n"
     ]
    }
   ],
   "source": [
    "from typing import List\n",
    "from pydantic import BaseModel\n",
    "\n",
    "class Address(BaseModel):\n",
    "    street: str\n",
    "    city: str\n",
    "    \n",
    "    \n",
    "class Fellow(BaseModel):\n",
    "    name: str\n",
    "    score: int\n",
    "    addresses: List[Address]\n",
    "    \n",
    "data = {\n",
    "    \"name\": \"Micheal\",\n",
    "    \"score\": -79,\n",
    "    \"addresses\": [\n",
    "        {\"street\": \"123 Marose St\", \"city\": \"Ikorodu\"},\n",
    "        {\"street\": \"4 Babatunde Ave\", \"city\": \"Abiola Way\"}\n",
    "    ]\n",
    "}\n",
    "\n",
    "fellow = Fellow(**data)\n",
    "print(fellow)"
   ]
  },
  {
   "cell_type": "markdown",
   "id": "50c1aef5",
   "metadata": {},
   "source": [
    "This works fine, but right now, any value for score is accepted,\n",
    "even something unrealistic like -79 score.\n",
    "\n",
    "Let’s fix that.\n",
    "we would do that by adding a `field level validation`"
   ]
  },
  {
   "cell_type": "markdown",
   "id": "78c397c1",
   "metadata": {},
   "source": [
    "Pydantic lets you add constraints directly to fields\n",
    "using the `Field` helper"
   ]
  },
  {
   "cell_type": "code",
   "execution_count": null,
   "id": "ee0ab014",
   "metadata": {},
   "outputs": [],
   "source": [
    "from pydantic import BaseModel, Field\n",
    "from typing import List\n",
    "\n",
    "class Address(BaseModel):\n",
    "    street: str\n",
    "    city: str\n",
    "    \n",
    "class Fellow(BaseModel):\n",
    "    name: str\n",
    "    score: int = Field(..., ge=0, le=100)   # using the field\n",
    "    addresses: List[Address]"
   ]
  },
  {
   "cell_type": "markdown",
   "id": "4486e9fe",
   "metadata": {},
   "source": [
    "Here’s what that means:\n",
    "\n",
    "`ge=0` -> greater than or equal to 0\n",
    "\n",
    "`le=100` -> less than  or equal to 100\n",
    "\n",
    "The `...` -> means this field is required (it can’t be missing)"
   ]
  },
  {
   "cell_type": "code",
   "execution_count": null,
   "id": "74390c69",
   "metadata": {},
   "outputs": [],
   "source": [
    "Fellow(name=\"Hassan\", score= -40, addresses=[])"
   ]
  },
  {
   "cell_type": "markdown",
   "id": "81228dbb",
   "metadata": {},
   "source": [
    "...Read the error message above"
   ]
  },
  {
   "cell_type": "code",
   "execution_count": null,
   "id": "22bfe156",
   "metadata": {},
   "outputs": [
    {
     "data": {
      "text/plain": [
       "Fellow(name='Hassan', score=80, addresses=[])"
      ]
     },
     "execution_count": 40,
     "metadata": {},
     "output_type": "execute_result"
    }
   ],
   "source": [
    "Fellow(name=\"Hassan\", score= 80, addresses=[])"
   ]
  },
  {
   "cell_type": "markdown",
   "id": "0d836ce4",
   "metadata": {},
   "source": [
    "This kind of validation\n",
    "\n",
    "- prevents bad data from ever entering your system,\n",
    "\n",
    "- gives clear feedback to API clients,\n",
    "\n",
    "- and works automatically inside FastAPI (no extra code needed in your routes)."
   ]
  },
  {
   "cell_type": "markdown",
   "id": "ba23c1e0",
   "metadata": {},
   "source": [
    "**Custom Validation**"
   ]
  },
  {
   "cell_type": "markdown",
   "id": "e9c17be3",
   "metadata": {},
   "source": [
    "You can also write custom validation logic using a `@validator` decorator."
   ]
  },
  {
   "cell_type": "code",
   "execution_count": null,
   "id": "7d3c5510",
   "metadata": {},
   "outputs": [],
   "source": [
    "from pydantic import BaseModel, Field, field_validator\n",
    "\n",
    "class Person(BaseModel):\n",
    "    name: str\n",
    "    age: int = Field(..., ge=0)\n",
    "    \n",
    "    @field_validator(\"name\")\n",
    "    def name_must_start_with_capital(cls, v):\n",
    "        if not v[0].isupper():\n",
    "            raise ValueError(\"Name must start with a  capital letter\")\n",
    "        return v"
   ]
  },
  {
   "cell_type": "code",
   "execution_count": null,
   "id": "9cfc3ed4",
   "metadata": {},
   "outputs": [
    {
     "data": {
      "text/plain": [
       "Person(name='Solomon', age=20)"
      ]
     },
     "execution_count": 43,
     "metadata": {},
     "output_type": "execute_result"
    }
   ],
   "source": [
    "Person(name=\"Solomon\", age=20)"
   ]
  },
  {
   "cell_type": "markdown",
   "id": "65122e08",
   "metadata": {},
   "source": [
    "This is the essence of Pydantic validation, `field constraints + custom validators.`"
   ]
  },
  {
   "cell_type": "markdown",
   "id": "987816e4",
   "metadata": {},
   "source": [
    "These types handle both validation and conversion — if the input is compatible, Pydantic converts it automatically"
   ]
  },
  {
   "cell_type": "markdown",
   "id": "05bb0cda",
   "metadata": {},
   "source": [
    "| Type                         | Description                               | Example                   |\n",
    "| ---------------------------- | ----------------------------------------- | ------------------------- |\n",
    "| `EmailStr`                   | Validates email address                   | `email: EmailStr`         |\n",
    "| `AnyUrl`, `HttpUrl`          | Validates URLs                            | `website: HttpUrl`        |\n",
    "| `IPv4Address`, `IPv6Address` | Validates IP addresses                    | `ip: IPv4Address`         |\n",
    "| `PaymentCardNumber`          | Validates credit card numbers             | `card: PaymentCardNumber` |\n",
    "| `UUID`                       | Validates UUIDs                           | `id: UUID`                |\n",
    "| `Decimal`                    | For exact decimal values (money, scores)  | `price: Decimal`          |\n",
    "| `FilePath`, `DirectoryPath`  | Validates existing file or directory path | `file_path: FilePath`     |"
   ]
  },
  {
   "cell_type": "markdown",
   "id": "86e5f9ed",
   "metadata": {},
   "source": [
    "`Field()` allows you to apply numeric or string constraints to your fields."
   ]
  },
  {
   "cell_type": "markdown",
   "id": "9a6ba105",
   "metadata": {},
   "source": [
    "| Constraint    | Meaning                  | Example                                        |\n",
    "| ------------- | ------------------------ | ---------------------------------------------- |\n",
    "| `gt`          | greater than             | `age: int = Field(..., gt=0)`                  |\n",
    "| `ge`          | greater than or equal to | `score: int = Field(..., ge=0)`                |\n",
    "| `lt`          | less than                | `age: int = Field(..., lt=120)`                |\n",
    "| `le`          | less than or equal to    | `height: float = Field(..., le=2.5)`           |\n",
    "| `multiple_of` | must be a multiple of    | `even_number: int = Field(..., multiple_of=2)` |"
   ]
  },
  {
   "cell_type": "markdown",
   "id": "a6e7ce32",
   "metadata": {},
   "source": [
    "...these are string constraints...they also work with `Fields`"
   ]
  },
  {
   "cell_type": "markdown",
   "id": "b01e7767",
   "metadata": {},
   "source": [
    "| Constraint   | Meaning            | Example                                      |\n",
    "| ------------ | ------------------ | -------------------------------------------- |\n",
    "| `min_length` | minimum characters | `name: str = Field(..., min_length=2)`       |\n",
    "| `max_length` | maximum characters | `password: str = Field(..., max_length=20)`  |\n",
    "| `regex`      | must match pattern | `phone: str = Field(..., pattern=r'^\\d{11}$')` |"
   ]
  },
  {
   "cell_type": "markdown",
   "id": "e0995607",
   "metadata": {},
   "source": [
    "more constraints"
   ]
  },
  {
   "cell_type": "markdown",
   "id": "316307af",
   "metadata": {},
   "source": [
    "| Type / Field                    | Description                                | Example                                                                               |\n",
    "| ------------------------------- | ------------------------------------------ | ------------------------------------------------------------------------------------- |\n",
    "| `int` + `Field()`               | Constrained integer (e.g. positive, range) | `age: int = Field(..., gt=0, lt=120)`                                                 |\n",
    "| `str` + `Field()`               | Constrained string (length, pattern, etc.)   | `username: str = Field(..., min_length=3, max_length=12, pattern=r\"^[A-Za-z0-9_]+$\")` |\n",
    "| `list` + `Field()`              | Constrained list (size limits)             | `scores: list[int] = Field(..., min_length=3, max_length=5)`                          |\n",
    "| `Decimal` + `Field()`           | Constrained decimal (precision, limits)    | `price: Decimal = Field(..., gt=0, max_digits=6, decimal_places=2)`                   |\n",
    "| `float` + `Field()`             | Constrained float (min, max, multiple)     | `rating: float = Field(..., ge=0, le=5, multiple_of=0.5)`                             |\n",
    "| `bool` + `Field()`              | Boolean with default or description        | `is_active: bool = Field(default=True, description=\"User is active\")`                 |\n",
    "| `date` / `datetime` + `Field()` | Date/time validation                       | `created_at: datetime = Field(default_factory=datetime.now)`                       |\n"
   ]
  },
  {
   "cell_type": "code",
   "execution_count": null,
   "id": "51b78207",
   "metadata": {},
   "outputs": [],
   "source": [
    "from datetime import datetime\n",
    "from decimal import Decimal\n",
    "from pydantic import BaseModel, Field, ValidationError\n",
    "from typing import List\n",
    "\n",
    "# Lets create the model here\n",
    "\n",
    "class ProductReview(BaseModel):\n",
    "    \n",
    "    review_id: int = Field(..., gt=0, lt=10000)\n",
    "    username: str = Field(..., min_length=3, max_length=12, pattern=r\"^[A-Za-z0-9_]+$\")\n",
    "    scores: List[int] = Field(..., min_length=3, max_length=5)\n",
    "    price: Decimal = Field(..., gt=0, max_digits=6, decimal_places=2)\n",
    "    rating: float = Field(..., ge=0, le=5, multiple_of=0.5)\n",
    "    is_active: bool = Field(default=True)\n",
    "    created_at: datetime = Field(default_factory=datetime.now) "
   ]
  },
  {
   "cell_type": "code",
   "execution_count": null,
   "id": "4da58acc",
   "metadata": {},
   "outputs": [],
   "source": [
    "# Lets demo for each\n",
    "\n",
    "def demo_int_field():\n",
    "    print(\"Integer Field Validation\")\n",
    "    try:\n",
    "        ProductReview(review_id=2, username=\"shabi\", scores=[4, 5, 4], price=Decimal(\"10.00\"), rating=4.5)\n",
    "    except ValidationError as e:\n",
    "        print(e)"
   ]
  },
  {
   "cell_type": "code",
   "execution_count": null,
   "id": "68e704cf",
   "metadata": {},
   "outputs": [
    {
     "name": "stdout",
     "output_type": "stream",
     "text": [
      "Integer Field Validation\n"
     ]
    }
   ],
   "source": [
    "demo_int_field()"
   ]
  },
  {
   "cell_type": "code",
   "execution_count": null,
   "id": "a33fbdb2",
   "metadata": {},
   "outputs": [],
   "source": [
    "def demo_str_field():\n",
    "    print(\"String Field Validation\")\n",
    "    try:\n",
    "        ProductReview(review_id=1, username=\"Ask\", scores=[4, 5, 5], price=Decimal(\"20.00\"),rating=4.0)\n",
    "    except ValidationError as e:\n",
    "        print(e)"
   ]
  },
  {
   "cell_type": "code",
   "execution_count": null,
   "id": "bd115995",
   "metadata": {},
   "outputs": [
    {
     "name": "stdout",
     "output_type": "stream",
     "text": [
      "String Field Validation\n"
     ]
    }
   ],
   "source": [
    "demo_str_field()"
   ]
  },
  {
   "cell_type": "code",
   "execution_count": null,
   "id": "f30f1340",
   "metadata": {},
   "outputs": [],
   "source": [
    "def demo_list_field():\n",
    "    print(\"\\n List Field Validation\")\n",
    "    try:\n",
    "        ProductReview(review_id=2, username=\"ChrisDev\", scores=[5, 2, 6], price=Decimal(\"30.00\"), rating=3.5)\n",
    "    except ValidationError as e:\n",
    "        print(e)"
   ]
  },
  {
   "cell_type": "code",
   "execution_count": null,
   "id": "c409ca3a",
   "metadata": {},
   "outputs": [
    {
     "name": "stdout",
     "output_type": "stream",
     "text": [
      "\n",
      " List Field Validation\n"
     ]
    }
   ],
   "source": [
    "demo_list_field()"
   ]
  },
  {
   "cell_type": "code",
   "execution_count": null,
   "id": "c9bb8560",
   "metadata": {},
   "outputs": [],
   "source": [
    "def demo_decimal_field():\n",
    "    print(\"\\n Decimal Field Validation\")\n",
    "    try:\n",
    "        ProductReview(review_id=3, username=\"Tester\", scores=[4, 4, 5], price=Decimal(\"10.00\"), rating=4.5)\n",
    "    except ValidationError as e:\n",
    "        print(e)"
   ]
  },
  {
   "cell_type": "code",
   "execution_count": null,
   "id": "1cc892a3",
   "metadata": {},
   "outputs": [
    {
     "name": "stdout",
     "output_type": "stream",
     "text": [
      "\n",
      " Decimal Field Validation\n"
     ]
    }
   ],
   "source": [
    "demo_decimal_field()"
   ]
  },
  {
   "cell_type": "code",
   "execution_count": null,
   "id": "fc5f7393",
   "metadata": {},
   "outputs": [],
   "source": [
    "def demo_float_field():\n",
    "    print(\"\\n Float Field Validation\")\n",
    "    try:\n",
    "        ProductReview(review_id=4, username=\"SmartDev\", scores=[5, 4, 4], price=Decimal(\"99.99\"), rating=4.5)\n",
    "    except ValidationError as e:\n",
    "        print(e)"
   ]
  },
  {
   "cell_type": "code",
   "execution_count": null,
   "id": "272f546a",
   "metadata": {},
   "outputs": [
    {
     "name": "stdout",
     "output_type": "stream",
     "text": [
      "\n",
      " Float Field Validation\n"
     ]
    }
   ],
   "source": [
    "demo_float_field()"
   ]
  },
  {
   "cell_type": "code",
   "execution_count": null,
   "id": "1019d532",
   "metadata": {},
   "outputs": [],
   "source": [
    "def demo_bool_field():\n",
    "    print(\"\\n Boolean Field Default\")\n",
    "    product = ProductReview(\n",
    "        review_id=5,\n",
    "        username=\"JaneDoe\",\n",
    "        scores=[5, 4, 5],\n",
    "        price=Decimal(\"59.99\"),\n",
    "        rating=5.0\n",
    "    )\n",
    "    print(\"is_active =\", product.is_active)"
   ]
  },
  {
   "cell_type": "code",
   "execution_count": null,
   "id": "8d03021c",
   "metadata": {},
   "outputs": [
    {
     "name": "stdout",
     "output_type": "stream",
     "text": [
      "\n",
      " Boolean Field Default\n",
      "is_active = True\n"
     ]
    }
   ],
   "source": [
    "demo_bool_field()"
   ]
  },
  {
   "cell_type": "code",
   "execution_count": null,
   "id": "3793fb98",
   "metadata": {},
   "outputs": [],
   "source": [
    "def demo_datetime_field():\n",
    "    print(\"\\n Datetime Default Factory\")\n",
    "    product = ProductReview(\n",
    "        review_id=6,\n",
    "        username=\"TimeUser\",\n",
    "        scores=[3, 4, 5],\n",
    "        price=Decimal(\"25.00\"),\n",
    "        rating=4.5\n",
    "    )\n",
    "    print(\"created_at =\", product.created_at)"
   ]
  },
  {
   "cell_type": "code",
   "execution_count": null,
   "id": "8e5ecb47",
   "metadata": {},
   "outputs": [
    {
     "name": "stdout",
     "output_type": "stream",
     "text": [
      "\n",
      " Datetime Default Factory\n",
      "created_at = 2025-10-18 11:32:10.540493\n"
     ]
    }
   ],
   "source": [
    "demo_datetime_field()"
   ]
  },
  {
   "cell_type": "markdown",
   "id": "9c303efe",
   "metadata": {},
   "source": [
    "**Enums and Literals**"
   ]
  },
  {
   "cell_type": "markdown",
   "id": "dc1bda02",
   "metadata": {},
   "source": [
    "These restrict values to fixed options.\n",
    "\n",
    "- `Enum`: Use Enum when your allowed values are still fixed, but you might want more control\n",
    "\n",
    "- `Literal`: Literal is used when you want a small, fixed set of allowed string (or number) values — but you don’t need any extra logic or behavior."
   ]
  },
  {
   "cell_type": "code",
   "execution_count": null,
   "id": "d0c82e84",
   "metadata": {},
   "outputs": [
    {
     "name": "stdout",
     "output_type": "stream",
     "text": [
      "Gender.male\n"
     ]
    }
   ],
   "source": [
    "from typing import Literal\n",
    "from enum import Enum\n",
    "\n",
    "\n",
    "class Gender(str, Enum):\n",
    "    male = \"male\"\n",
    "    female = \"female\"\n",
    "\n",
    "gender = Gender\n",
    "print(gender.male)"
   ]
  },
  {
   "cell_type": "code",
   "execution_count": null,
   "id": "8fa40e02",
   "metadata": {},
   "outputs": [
    {
     "name": "stdout",
     "output_type": "stream",
     "text": [
      "Gender.female\n"
     ]
    }
   ],
   "source": [
    "class Person(BaseModel):\n",
    "    gender: Literal[\"male\", \"female\"]\n",
    "\n",
    "print(gender.female)"
   ]
  },
  {
   "cell_type": "markdown",
   "id": "d98508cb",
   "metadata": {},
   "source": [
    "`field_validator`"
   ]
  },
  {
   "cell_type": "markdown",
   "id": "d0f029ac",
   "metadata": {},
   "source": [
    "With this we can create our own logic"
   ]
  },
  {
   "cell_type": "code",
   "execution_count": null,
   "id": "df033682",
   "metadata": {},
   "outputs": [],
   "source": [
    "from pydantic import BaseModel, field_validator\n",
    "\n",
    "\n",
    "class Product(BaseModel):\n",
    "    name: str\n",
    "    price: float\n",
    "\n",
    "    @field_validator(\"price\")\n",
    "    def check_price(cls, v):\n",
    "        if v <= 0:\n",
    "            raise ValueError(\"Price must be positive\")\n",
    "        return v"
   ]
  },
  {
   "cell_type": "markdown",
   "id": "a4481f0f",
   "metadata": {},
   "source": [
    "Where You See `cls` -class and `v` - value\n",
    "\n",
    "You will see them inside validators — special methods in a Pydantic model that let you customize or extend validation logic."
   ]
  },
  {
   "cell_type": "markdown",
   "id": "af837ec4",
   "metadata": {},
   "source": [
    "`cls` is automatically passed when you define a class method. It refers to the model class itself, not an instance.\n",
    "\n",
    "In the example above cls refers to the `Product` class.\n",
    "\n",
    "You could use cls if you needed to access class-level attributes or methods. You will often see it there even if it’s not used — just because the validator must accept it."
   ]
  },
  {
   "cell_type": "markdown",
   "id": "99a8523c",
   "metadata": {},
   "source": [
    "`v` is the value of the field being validated.\n",
    "Pydantic passes it automatically when calling the validator. You can inspect or modify it before it’s stored. `v` will be whatever the user provided for the field price."
   ]
  },
  {
   "cell_type": "code",
   "execution_count": null,
   "id": "ed41f2ef",
   "metadata": {},
   "outputs": [],
   "source": [
    "from pydantic import BaseModel, Field\n",
    "\n",
    "class Numbers(BaseModel):\n",
    "    values: list[int] = Field(..., min_length=3, max_length=5)"
   ]
  },
  {
   "cell_type": "markdown",
   "id": "6852a364",
   "metadata": {},
   "source": [
    "`values: list[int]` - says this must be a list of integers\n",
    "\n",
    "`Field(..., min_length=3, max_length=5)` -sets constraints on list length\n",
    "\n",
    "`...` means the field is required\n",
    "\n",
    "`min_length=3` - at least 3 numbers\n",
    "\n",
    "`max_length=5` - at most 5 numbers"
   ]
  },
  {
   "cell_type": "code",
   "execution_count": null,
   "id": "81196562",
   "metadata": {},
   "outputs": [
    {
     "name": "stdout",
     "output_type": "stream",
     "text": [
      "values=[1, 2, 3]\n"
     ]
    }
   ],
   "source": [
    "print(Numbers(values=[1, 2, 3]))        #  valid\n",
    "# print(Numbers(values=[1, 2]))           #  ValueError: List should have at least 3 items\n",
    "# print(Numbers(values=[1, 2, 3, 4, 5, 6]))  #  ValueError: List should have at most 5 items"
   ]
  },
  {
   "cell_type": "markdown",
   "id": "9bab6662",
   "metadata": {},
   "source": [
    "...Read the error message"
   ]
  },
  {
   "cell_type": "markdown",
   "id": "061106bb",
   "metadata": {},
   "source": [
    "more example..."
   ]
  },
  {
   "cell_type": "code",
   "execution_count": null,
   "id": "76dd45a5",
   "metadata": {},
   "outputs": [],
   "source": [
    "from decimal import Decimal\n",
    "from pydantic import BaseModel, Field\n",
    "\n",
    "class Product(BaseModel):\n",
    "    name: str = Field(..., min_length=3, max_length=20)\n",
    "    quantity: int = Field(..., gt=0, lt=100)   # greater than 0, less than 100\n",
    "    prices: list[float] = Field(..., min_length=2, max_length=5)\n",
    "    cost: Decimal = Field(..., gt=0, max_digits=6, decimal_places=2)"
   ]
  },
  {
   "cell_type": "code",
   "execution_count": null,
   "id": "4f1e4ee8",
   "metadata": {},
   "outputs": [
    {
     "data": {
      "text/plain": [
       "Product(name='Laptop', quantity=10, prices=[1200.5, 1300.75], cost=Decimal('1500.00'))"
      ]
     },
     "execution_count": 68,
     "metadata": {},
     "output_type": "execute_result"
    }
   ],
   "source": [
    "Product(\n",
    "    name=\"Laptop\",\n",
    "    quantity=10,\n",
    "    prices=[1200.5, 1300.75],\n",
    "    cost=Decimal(\"1500.00\")\n",
    ")"
   ]
  },
  {
   "cell_type": "markdown",
   "id": "23000825",
   "metadata": {},
   "source": [
    "Try to change the values and rerun the code above"
   ]
  },
  {
   "cell_type": "code",
   "execution_count": 26,
   "id": "457bfecf",
   "metadata": {},
   "outputs": [],
   "source": [
    "from typing import Optional, List\n",
    "from pydantic import BaseModel, EmailStr, Field\n",
    "from enum import Enum\n",
    "\n",
    "class Gender(str, Enum):\n",
    "    male = \"male\"\n",
    "    female = \"female\"\n",
    "\n",
    "class User(BaseModel):\n",
    "    id: int = Field(..., gt=0)\n",
    "    name: str = Field(..., min_length=2, max_length=50)\n",
    "    age: int = Field(..., ge=0, le=120)\n",
    "    email: EmailStr\n",
    "    gender: Gender\n",
    "    skills: List[str] = Field(default_factory=list)\n",
    "    phone: Optional[str] = Field(None, pattern=r'^\\d{11}$')"
   ]
  },
  {
   "cell_type": "code",
   "execution_count": 33,
   "id": "071ffebd",
   "metadata": {},
   "outputs": [
    {
     "name": "stdout",
     "output_type": "stream",
     "text": [
      "id=1 name='Kudoro Esther' age=16 email='esther@aiengineering.ncc.ng' gender=<Gender.female: 'female'> skills=['Python', 'Machine Learning'] phone='08123456789'\n"
     ]
    }
   ],
   "source": [
    "user_data = {\n",
    "    \"id\": 1,\n",
    "    \"name\": \"Kudoro Esther\",\n",
    "    \"age\": 16,\n",
    "    \"email\": \"esther@aiengineering.ncc.ng\",\n",
    "    \"gender\": \"female\",\n",
    "    \"skills\": [\"Python\", \"Machine Learning\"],\n",
    "    \"phone\": \"08123456789\"\n",
    "}\n",
    "\n",
    "user = User(**user_data)\n",
    "print(user)"
   ]
  },
  {
   "cell_type": "markdown",
   "id": "32631219",
   "metadata": {},
   "source": [
    "Try varying your data to what was not defined in the constraint and rerun the code."
   ]
  },
  {
   "cell_type": "code",
   "execution_count": 35,
   "id": "ab2ddeab",
   "metadata": {},
   "outputs": [
    {
     "name": "stdout",
     "output_type": "stream",
     "text": [
      "{\"id\":1,\"name\":\"Kudoro Esther\",\"age\":16,\"email\":\"esther@aiengineering.ncc.ng\",\"gender\":\"female\",\"skills\":[\"Python\",\"Machine Learning\"],\"phone\":\"08123456789\"}\n",
      "{'id': 1, 'name': 'Kudoro Esther', 'age': 16, 'email': 'esther@aiengineering.ncc.ng', 'gender': <Gender.female: 'female'>, 'skills': ['Python', 'Machine Learning'], 'phone': '08123456789'}\n"
     ]
    }
   ],
   "source": [
    "# Lets Serialize\n",
    "\n",
    "print(user.model_dump_json())\n",
    "\n",
    "print(user.model_dump())"
   ]
  },
  {
   "cell_type": "code",
   "execution_count": null,
   "id": "f1986a31",
   "metadata": {},
   "outputs": [],
   "source": []
  }
 ],
 "metadata": {
  "kernelspec": {
   "display_name": "base",
   "language": "python",
   "name": "python3"
  },
  "language_info": {
   "codemirror_mode": {
    "name": "ipython",
    "version": 3
   },
   "file_extension": ".py",
   "mimetype": "text/x-python",
   "name": "python",
   "nbconvert_exporter": "python",
   "pygments_lexer": "ipython3",
   "version": "3.12.7"
  }
 },
 "nbformat": 4,
 "nbformat_minor": 5
}
