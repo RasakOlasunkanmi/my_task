{
 "cells": [
  {
   "cell_type": "code",
   "execution_count": 1,
   "id": "63a5c692",
   "metadata": {},
   "outputs": [],
   "source": [
    "# Understanding Numpy\n",
    "\n",
    "import numpy as np\n",
    "import matplotlib.pyplot as plt\n",
    "import time"
   ]
  },
  {
   "cell_type": "code",
   "execution_count": 2,
   "id": "cc7721dc",
   "metadata": {},
   "outputs": [
    {
     "name": "stdout",
     "output_type": "stream",
     "text": [
      "Numpy version: 1.26.4\n"
     ]
    }
   ],
   "source": [
    "# Check Numpy version\n",
    "print(f\"Numpy version: {np.__version__}\")"
   ]
  },
  {
   "cell_type": "code",
   "execution_count": 3,
   "id": "ac4f9441",
   "metadata": {},
   "outputs": [],
   "source": [
    "# Display setting for clearer output\n",
    "np.set_printoptions(precision=3, suppress=True)"
   ]
  },
  {
   "cell_type": "markdown",
   "id": "da6cda7c",
   "metadata": {},
   "source": [
    "Creating Numpy Arrays"
   ]
  },
  {
   "cell_type": "code",
   "execution_count": 4,
   "id": "5e0c55f0",
   "metadata": {},
   "outputs": [
    {
     "name": "stdout",
     "output_type": "stream",
     "text": [
      "1D array: [1 2 3 4 5]\n",
      "2D array:\n",
      " [[1 2 3]\n",
      " [4 5 6]]\n",
      "3D array:\n",
      " [[[1 2]\n",
      "  [3 4]]\n",
      "\n",
      " [[5 6]\n",
      "  [7 8]]]\n"
     ]
    }
   ],
   "source": [
    "# Creating arrays from Python lists\n",
    "# 1D array: A simple sequence of numbers\n",
    "\n",
    "arr1d = np.array([1, 2, 3, 4, 5])\n",
    "\n",
    "# 2D array: Think of this as a matrix or table with rows and columns\n",
    "arr2d = np.array([[1, 2, 3], \n",
    "                  [4, 5, 6]])\n",
    "\n",
    "# 3D array: Like a steak of 2D arrays - useful for images, time series, etc.\n",
    "arr3d = np.array([[[1, 2], [3, 4]], \n",
    "                  [[5, 6], [7, 8]]])\n",
    "\n",
    "print(\"1D array:\", arr1d)\n",
    "print(\"2D array:\\n\", arr2d)\n",
    "print(\"3D array:\\n\", arr3d)"
   ]
  },
  {
   "cell_type": "markdown",
   "id": "aae37520",
   "metadata": {},
   "source": [
    "Creating Special Arrays in Numpy"
   ]
  },
  {
   "cell_type": "code",
   "execution_count": 5,
   "id": "21f36827",
   "metadata": {},
   "outputs": [
    {
     "name": "stdout",
     "output_type": "stream",
     "text": [
      "Zeros array (3x4):\n",
      " [[0. 0. 0. 0.]\n",
      " [0. 0. 0. 0.]\n",
      " [0. 0. 0. 0.]]\n",
      "Ones array shape: (2, 3, 4)\n",
      "Empty array (contains random values):\n",
      " [[0. 0.]\n",
      " [0. 0.]]\n"
     ]
    }
   ],
   "source": [
    "# Creating arrays filled with zeros - useful for initializing arrays\n",
    "# Shape (3, 4) means 3 rows and 4 columns\n",
    "zeros = np.zeros((3, 4))\n",
    "\n",
    "# Creating arrays filled with ones - often used as starting points\n",
    "ones = np.ones((2, 3, 4))      # 3D array: 2 layers, 3 rows, 4 columns\n",
    "\n",
    "# Empty array - faster than zeros/ones but contains random values\n",
    "# Use when you'll immediately fill the array with real data\n",
    "empty = np.empty((2, 2))\n",
    "\n",
    "print(\"Zeros array (3x4):\\n\", zeros)\n",
    "print(\"Ones array shape:\", ones.shape)\n",
    "print(\"Empty array (contains random values):\\n\", empty)"
   ]
  },
  {
   "cell_type": "markdown",
   "id": "a230e7dc",
   "metadata": {},
   "source": [
    "NOTE: zeros() and ones() are memory-efficient ways to create arrays of specific sizes. empty() is fastest but contains garbage values, so only use it when you'll immediately overwrite the cotents."
   ]
  },
  {
   "cell_type": "code",
   "execution_count": 6,
   "id": "77db0fa9",
   "metadata": {},
   "outputs": [
    {
     "name": "stdout",
     "output_type": "stream",
     "text": [
      "Range array: [0 2 4 6 8]\n",
      "Linspace array: [0.   0.25 0.5  0.75 1.  ]\n",
      "Logspace array: [  1.      3.162  10.     31.623 100.   ]\n"
     ]
    }
   ],
   "source": [
    "# Range arrays - like Python's range() but more powerful\n",
    "range_arr = np.arange(0, 10, 2)  # Start at 0, end before 10, step by 2: [0, 2, 4, 6, 8]\n",
    "print(\"Range array:\", range_arr)\n",
    "\n",
    "# Linearly spaced arrays - divide a range into equal parts\n",
    "# From 0 to 1 with exactly 5 points (including endpoints)\n",
    "linspace_arr = np.linspace(0, 1, 5)\n",
    "print(\"Linspace array:\", linspace_arr)\n",
    "\n",
    "# Logarithmically spaced arrays - useful for scientific data\n",
    "# From 10^0 to 10^2 (1 to 100) with 5 points\n",
    "logspace_arr = np.logspace(0, 2, 5)\n",
    "print(\"Logspace array:\", logspace_arr)"
   ]
  },
  {
   "cell_type": "markdown",
   "id": "6a2e9f71",
   "metadata": {},
   "source": [
    "arange() works like Pyhton's range() but returns a Numpy array and works with floats.\n",
    "linspace() divides a range into equal segments - useful for plotting smooth curves.\n",
    "logspace() creates points that are evenly spaced on a logarithmic scale."
   ]
  },
  {
   "cell_type": "code",
   "execution_count": 7,
   "id": "7537f1f2",
   "metadata": {},
   "outputs": [
    {
     "name": "stdout",
     "output_type": "stream",
     "text": [
      "Identity matrix:\n",
      " [[1. 0. 0. 0.]\n",
      " [0. 1. 0. 0.]\n",
      " [0. 0. 1. 0.]\n",
      " [0. 0. 0. 1.]]\n",
      "Diagonal matrix:\n",
      " [[1 0 0 0]\n",
      " [0 2 0 0]\n",
      " [0 0 3 0]\n",
      " [0 0 0 4]]\n",
      "Full array (filled with 7s):\n",
      " [[7 7 7]\n",
      " [7 7 7]\n",
      " [7 7 7]]\n"
     ]
    }
   ],
   "source": [
    "# Identity matrix - diagonal of ones, zeros elsewhere\n",
    "# Essential for linear algebra operations\n",
    "identity = np.eye(4)    # 4x4 identity matrix\n",
    "\n",
    "# Diagonal matrix - put values on the diagonal\n",
    "diagonal = np.diag([1, 2, 3, 4]) # Diagonal matrix with specified diagonal values\n",
    "\n",
    "# Array filled with a specific value\n",
    "full_arr = np.full((3, 3), 7)      # 3x3 array filled with 7s\n",
    "\n",
    "print(\"Identity matrix:\\n\", identity)\n",
    "print(\"Diagonal matrix:\\n\", diagonal)\n",
    "print(\"Full array (filled with 7s):\\n\", full_arr)"
   ]
  },
  {
   "cell_type": "markdown",
   "id": "6cb73f95",
   "metadata": {},
   "source": [
    "Numpy Data types (dtypes)\n"
   ]
  },
  {
   "cell_type": "markdown",
   "id": "8e328999",
   "metadata": {},
   "source": [
    "Understanding data types is crucial for memory efficiency and numerical precision."
   ]
  },
  {
   "cell_type": "code",
   "execution_count": 8,
   "id": "10e4ff24",
   "metadata": {},
   "outputs": [
    {
     "name": "stdout",
     "output_type": "stream",
     "text": [
      "Integer array: int32\n",
      "Float array dtype: float64\n",
      "Boolean array dtype: [ True False  True]\n",
      "Converted array dtype: float32\n",
      "int32 uses 4 bytes per element\n",
      "float64 uses 8 bytes per element\n"
     ]
    }
   ],
   "source": [
    "# Explicit data types - control memory usage and precision\n",
    "int_arr = np.array([1, 2, 3], dtype=np.int32)    # 32-bit integers\n",
    "float_arr = np.array([1, 2, 3], dtype=np.float64) # 64-bit floats (double precision)\n",
    "bool_arr = np.array([True, False, True], dtype=np.bool_)     # Boolean values\n",
    "\n",
    "# Types conversion - control dtype of existing array\n",
    "converted = int_arr.astype(np.float32)   # Convert to 32-bit floats\n",
    "\n",
    "print(\"Integer array:\", int_arr.dtype)\n",
    "print(\"Float array dtype:\", float_arr.dtype)\n",
    "print(\"Boolean array dtype:\", bool_arr)\n",
    "print(\"Converted array dtype:\", converted.dtype)\n",
    "\n",
    "# Memory usage comparison\n",
    "print(f\"int32 uses {int_arr.itemsize} bytes per element\")\n",
    "print(f\"float64 uses {float_arr.itemsize} bytes per element\")"
   ]
  },
  {
   "cell_type": "markdown",
   "id": "4c30c6fe",
   "metadata": {},
   "source": [
    "Array Properties & Attributes"
   ]
  },
  {
   "cell_type": "markdown",
   "id": "faa252e6",
   "metadata": {},
   "source": [
    "Understanding array properties helps you work effectively with your data and debug issue"
   ]
  },
  {
   "cell_type": "code",
   "execution_count": 9,
   "id": "fd639e61",
   "metadata": {},
   "outputs": [
    {
     "name": "stdout",
     "output_type": "stream",
     "text": [
      "Shape: (3, 4, 5)\n",
      "Size: 60\n",
      "Ndim: 3\n",
      "Dtype: float64\n",
      "Itemsize: 8\n",
      "Memory usage: 480 bytes\n",
      "Memory usage: 0.46875 KB\n"
     ]
    }
   ],
   "source": [
    "# Create a sample 3D array for demonstration\n",
    "# Think of this as 3 layers, each with 4 rows 5 columns\n",
    "arr = np.random.randn(3, 4, 5)\n",
    "\n",
    "# Shape: The dimensions of the array (layers, rows, columns)\n",
    "print(\"Shape:\", arr.shape)\n",
    "\n",
    "# Size: Total number of elements (3 x 4 x 5 = 60)\n",
    "print(\"Size:\", arr.size)\n",
    "\n",
    "# Ndim: Number of dimensions (3D in this case)\n",
    "print(\"Ndim:\", arr.ndim)\n",
    "\n",
    "# Dtype: Data type of elements\n",
    "print(\"Dtype:\", arr.dtype)\n",
    "\n",
    "# Itemize: Memory size of each element in bytes\n",
    "print(\"Itemsize:\", arr.itemsize)   # 8 bytes for float64\n",
    "\n",
    "# Total memory usage in bytes\n",
    "print(\"Memory usage:\", arr.nbytes, \"bytes\")     # size x itemsize\n",
    "print(\"Memory usage:\", arr.nbytes / 1024, \"KB\")   # Convert to KB"
   ]
  },
  {
   "cell_type": "markdown",
   "id": "af13fd00",
   "metadata": {},
   "source": [
    "NOTE: These properties are essential for understanding your data's structure and memory requirements. Large datasets require careful attention to memory usage."
   ]
  },
  {
   "cell_type": "markdown",
   "id": "4ef8def8",
   "metadata": {},
   "source": [
    "Array Indexing & Slicing"
   ]
  },
  {
   "cell_type": "markdown",
   "id": "0d6465c1",
   "metadata": {},
   "source": [
    "Basic Indexing - Accessing Individual Elements"
   ]
  },
  {
   "cell_type": "markdown",
   "id": "fa1c29f9",
   "metadata": {},
   "source": [
    "** Numpy indexing is similar to Python lists but more powerful for multi-dimensional arrays"
   ]
  },
  {
   "cell_type": "code",
   "execution_count": 10,
   "id": "f8a9a740",
   "metadata": {},
   "outputs": [
    {
     "name": "stdout",
     "output_type": "stream",
     "text": [
      "First element: 10\n",
      "Last element: 50\n",
      "Slicing [1:4]: [20 30 40]\n",
      "Every 2nd element: [10 30 50]\n"
     ]
    }
   ],
   "source": [
    "# 1D array indexing - similar to Python lists\n",
    "arr1d = np.array([10, 20, 30, 40, 50])\n",
    "\n",
    "print(\"First element:\", arr1d[0])    # Index 0: 10\n",
    "print(\"Last element:\", arr1d[-1])    # Negative indexing: 50\n",
    "print(\"Slicing [1:4]:\", arr1d[1:4])   # Elements 1, 2, 3: [20, 30, 40]\n",
    "print(\"Every 2nd element:\", arr1d[::2])  # Step of 2: [10, 30, 50]"
   ]
  },
  {
   "cell_type": "markdown",
   "id": "933f5c5a",
   "metadata": {},
   "source": [
    "Negative indices count from the end (-1 is last element). Slicing uses [starts:stop:step] where stop is exclusive."
   ]
  },
  {
   "cell_type": "code",
   "execution_count": 11,
   "id": "942320d7",
   "metadata": {},
   "outputs": [
    {
     "name": "stdout",
     "output_type": "stream",
     "text": [
      "Element at row 1, column 2: 7\n",
      "First row: [1 2 3 4]\n",
      "Second column: [ 2  6 10]\n",
      "Subarray (rows 1-2, cols 1-2):\n",
      " [[ 6  7]\n",
      " [10 11]]\n"
     ]
    }
   ],
   "source": [
    "# 2D array indexing - row and column access\n",
    "arr2d = np.array([[1, 2, 3, 4],\n",
    "                  [5, 6, 7, 8],\n",
    "                  [9, 10, 11, 12]])\n",
    "\n",
    "# Acess specific element [row, column]\n",
    "print(\"Element at row 1, column 2:\", arr2d[1, 2])       # 7\n",
    "\n",
    "# Access entire rows or columns\n",
    "print(\"First row:\", arr2d[0, :])         # All columns of row 0\n",
    "print(\"Second column:\",  arr2d[:, 1])      # All rows of column 1\n",
    "\n",
    "# Subarray slicing: [row_start:row_end, col_start:col_end]\n",
    "print(\"Subarray (rows 1-2, cols 1-2):\\n\", arr2d[1:3, 1:3])"
   ]
  },
  {
   "cell_type": "markdown",
   "id": "a6f4354e",
   "metadata": {},
   "source": [
    "The comma seperates dimensons. : means \"all elements along this dimenson\". Slicing creates views of the original data when possible, not copies."
   ]
  },
  {
   "cell_type": "markdown",
   "id": "e622022b",
   "metadata": {},
   "source": [
    "Advanced Indexing - Powerful Selection Methods"
   ]
  },
  {
   "cell_type": "code",
   "execution_count": 12,
   "id": "136d4784",
   "metadata": {},
   "outputs": [
    {
     "name": "stdout",
     "output_type": "stream",
     "text": [
      "Fancy indexing: [10 30 50]\n",
      "Random order: [50 20 40 20]\n"
     ]
    }
   ],
   "source": [
    "# Fancy indexing - use arrays of indices to select multiple elements\n",
    "arr = np.array([10, 20, 30, 40, 50])\n",
    "indices = np.array([0, 2, 4])     # Select at positions 0, 2, 4\n",
    "print(\"Fancy indexing:\", arr[indices])   # [10, 30, 50]\n",
    "\n",
    "# This is much more flexible than simple slicing\n",
    "random_indices = np.array([4, 1, 3, 1])     # Can repeat and reorder\n",
    "print(\"Random order:\", arr[random_indices])   # [50, 20, 40, 20] "
   ]
  },
  {
   "cell_type": "markdown",
   "id": "01f68404",
   "metadata": {},
   "source": [
    "Fancy indexing lets you select elements in any order, repeat elements, and select non-contiguous elements. Very useful for data smapling and reordering."
   ]
  },
  {
   "cell_type": "code",
   "execution_count": 13,
   "id": "b4cbbaba",
   "metadata": {},
   "outputs": [
    {
     "name": "stdout",
     "output_type": "stream",
     "text": [
      "Original 2D array:\n",
      " [[ 0  1  2  3]\n",
      " [ 4  5  6  7]\n",
      " [ 8  9 10 11]]\n",
      "Elements at (0, 1) and (2, 3): [ 1 11]\n",
      "Selected rows:\n",
      " [[ 0  1  2  3]\n",
      " [ 8  9 10 11]]\n"
     ]
    }
   ],
   "source": [
    "# 2D fancy indexing - select specific row/column combinations\n",
    "arr2d = np.arange(12).reshape(3, 4)   # 3x4 array: [[0, 1, 2, 3], [4, 5, 6, 7], [8, 9, 10, 11]]\n",
    "print(\"Original 2D array:\\n\", arr2d)\n",
    "\n",
    "# Select elements at (row, col) pairs: (0, 1) and (2, 3)\n",
    "rows = np.array([0, 2])\n",
    "cols = np.array([1, 3])\n",
    "print(\"Elements at (0, 1) and (2, 3):\", arr2d[rows, cols])  # [1, 11]\n",
    "\n",
    "# Select entire rows using fancy indexing\n",
    "selected_rows = arr2d[[0, 2], :]    # Rows 0 and 2, all columns\n",
    "print(\"Selected rows:\\n\", selected_rows)"
   ]
  },
  {
   "cell_type": "markdown",
   "id": "e7d17727",
   "metadata": {},
   "source": [
    "When you provide arrays for both dimensions, NumPy pairs them element-wise. This is different from slicing, which creates a rectangular subarray. "
   ]
  },
  {
   "cell_type": "markdown",
   "id": "814aa4be",
   "metadata": {},
   "source": [
    "**Array Reshaping & Manipulation**\n"
   ]
  },
  {
   "cell_type": "markdown",
   "id": "8ea72a8e",
   "metadata": {},
   "source": [
    "- Reshaping changes how the same data is organized in memory without changing the actual values."
   ]
  },
  {
   "cell_type": "code",
   "execution_count": 14,
   "id": "a52d4f72",
   "metadata": {},
   "outputs": [
    {
     "name": "stdout",
     "output_type": "stream",
     "text": [
      "Original 1D array: [ 0  1  2  3  4  5  6  7  8  9 10 11]\n",
      "Reshaped to 3x4:\n",
      " [[ 0  1  2  3]\n",
      " [ 4  5  6  7]\n",
      " [ 8  9 10 11]]\n",
      "Reshaped to 2x2x3:\n",
      " [[[ 0  1  2]\n",
      "  [ 3  4  5]]\n",
      "\n",
      " [[ 6  7  8]\n",
      "  [ 9 10 11]]]\n",
      "Auto-reshaped to 4x?:\n",
      " [[ 0  1  2]\n",
      " [ 3  4  5]\n",
      " [ 6  7  8]\n",
      " [ 9 10 11]]\n"
     ]
    }
   ],
   "source": [
    "# Start with a 1D array\n",
    "arr = np.arange(12)   # [0, 1, 2, 3, 4, 5, 6, 7, 8, 9, 10, 11]\n",
    "print(\"Original 1D array:\", arr)\n",
    "\n",
    "# Reshape to 2D 3 rows x 4 columns\n",
    "reshaped_2d = arr.reshape(3, 4)\n",
    "print(\"Reshaped to 3x4:\\n\", reshaped_2d)\n",
    "\n",
    "# reshape to 3D: 2 layers x 2 rows x 3 columns\n",
    "reshaped_3d = arr.reshape(2, 2, 3)\n",
    "print(\"Reshaped to 2x2x3:\\n\", reshaped_3d)\n",
    "\n",
    "# Use -1 to let NumPy calculate one dimension automatically\n",
    "auto__reshape = arr.reshape(4, -1)   # 4 rows, NumPy calculates columns\n",
    "print(\"Auto-reshaped to 4x?:\\n\", auto__reshape)"
   ]
  },
  {
   "cell_type": "markdown",
   "id": "b765ffd9",
   "metadata": {},
   "source": [
    "The total number of elements must remain the same (12 in this case). Using -1 tells NumPy to calculate that dimension automatically. Reshaping creates a view when possible, not a copy."
   ]
  },
  {
   "cell_type": "code",
   "execution_count": 15,
   "id": "7cc66ebd",
   "metadata": {},
   "outputs": [
    {
     "name": "stdout",
     "output_type": "stream",
     "text": [
      "Flattened (copy): [1 2 3 4 5 6]\n",
      "Ravel (view if possible): [1 2 3 4 5 6]\n",
      "After modifying original:\n",
      "Flattened (unchanged): [1 2 3 4 5 6]\n",
      "Ravel (changed): [999   2   3   4   5   6]\n"
     ]
    }
   ],
   "source": [
    "# Flattening - convert multi-dimensional array to 1D\n",
    "arr2d = np.array([[1, 2, 3], [4, 5, 6]])\n",
    "\n",
    "# flatten() always returns a copy\n",
    "flattened = arr2d.flatten()\n",
    "print(\"Flattened (copy):\", flattened)\n",
    "\n",
    "# ravel() returns a view if possible (faster, memory efficient)\n",
    "ravel = arr2d.ravel()\n",
    "print(\"Ravel (view if possible):\", ravel)\n",
    "\n",
    "# Demonstrate the difference\n",
    "arr2d[0, 0] = 999\n",
    "print(\"After modifying original:\")\n",
    "print(\"Flattened (unchanged):\", flattened)    # Copy is independent\n",
    "print(\"Ravel (changed):\", ravel)   # View reflects changes"
   ]
  },
  {
   "cell_type": "markdown",
   "id": "99344d34",
   "metadata": {},
   "source": [
    "Use ravel() when you don't need to modify the flattened array independently. Use flatten() when you need a seperate copy that won't be affected by changes to the original."
   ]
  },
  {
   "cell_type": "markdown",
   "id": "92987cca",
   "metadata": {},
   "source": [
    "Transposing and Swapping Axes"
   ]
  },
  {
   "cell_type": "markdown",
   "id": "7df61910",
   "metadata": {},
   "source": [
    "** Transposing is essential for matrix operations and changing data orientation."
   ]
  },
  {
   "cell_type": "code",
   "execution_count": 16,
   "id": "cdfb868b",
   "metadata": {},
   "outputs": [
    {
     "name": "stdout",
     "output_type": "stream",
     "text": [
      "Original shape: (2, 3)\n",
      "Original:\n",
      " [[1 2 3]\n",
      " [4 5 6]]\n",
      "Transposed shape: (3, 2)\n",
      "Transposed:\n",
      " [[1 4]\n",
      " [2 5]\n",
      " [3 6]]\n",
      "Transpose method:\n",
      " [[1 4]\n",
      " [2 5]\n",
      " [3 6]]\n"
     ]
    }
   ],
   "source": [
    "# 2D transposition - flip rows and columns\n",
    "arr2d = np.array([[1, 2, 3], \n",
    "                  [4, 5, 6]])\n",
    "print(\"Original shape:\", arr2d.shape)   # (2, 3)\n",
    "print(\"Original:\\n\", arr2d)\n",
    "\n",
    "print(\"Transposed shape:\", arr2d.T.shape)  # (3, 2)\n",
    "print(\"Transposed:\\n\", arr2d.T)\n",
    "\n",
    "# Alternative transpose methods\n",
    "print(\"Transpose method:\\n\", arr2d.transpose())"
   ]
  },
  {
   "cell_type": "markdown",
   "id": "93832f34",
   "metadata": {},
   "source": [
    "Transposing swaps rows and columns. This is crucial for matrix multiplication and when you need to change data orientation (e.g., from samplesxfeatures to featuresxsamples)"
   ]
  },
  {
   "cell_type": "code",
   "execution_count": 17,
   "id": "5e6c0505",
   "metadata": {},
   "outputs": [
    {
     "name": "stdout",
     "output_type": "stream",
     "text": [
      "Original 3D shape: (2, 3, 4)\n",
      "Transposed 3D shape: (4, 2, 3)\n",
      "Moveaxis result shape: (3, 4, 2)\n"
     ]
    }
   ],
   "source": [
    "# Higher-dimensional transposition \n",
    "arr3d = np.arange(24).reshape(2, 3, 4)  # 2 layers, 3 rows, 4 columns\n",
    "print(\"Original 3D shape:\", arr3d.shape)   # (2, 3, 4)\n",
    "\n",
    "# Spcify new axis order: (axis0, axis1, axis2) -> (axis2, axis0, axis1)\n",
    "transposed_3d = arr3d.transpose(2, 0, 1)\n",
    "print(\"Transposed 3D shape:\", transposed_3d.shape)  # (4, 2, 3)\n",
    "\n",
    "# moveaxis is another way to rearrange axes\n",
    "moved = np.moveaxis(arr3d, 0, -1)  # Move first axis to last position\n",
    "print(\"Moveaxis result shape:\", moved.shape)  # (3, 4, 2)"
   ]
  },
  {
   "cell_type": "markdown",
   "id": "636e8c4a",
   "metadata": {},
   "source": [
    "For 3D+ arrays, you specify the new order of axes. This is useful for reshaping data for different algorithms or visualization requirements."
   ]
  },
  {
   "cell_type": "markdown",
   "id": "a113736f",
   "metadata": {},
   "source": [
    "Concatenating and Splitting Arrays"
   ]
  },
  {
   "cell_type": "markdown",
   "id": "dd4aa072",
   "metadata": {},
   "source": [
    "** Combining and dividing arrays is fundamental for data manipulation"
   ]
  },
  {
   "cell_type": "code",
   "execution_count": 18,
   "id": "78bb9618",
   "metadata": {},
   "outputs": [
    {
     "name": "stdout",
     "output_type": "stream",
     "text": [
      "Original arrays:\n",
      "Array 1:\n",
      " [[1 2]\n",
      " [3 4]]\n",
      "Array 2:\n",
      " [[5 6]\n",
      " [7 8]]\n",
      "Concatenated vertically (axis=0):\n",
      " [[1 2]\n",
      " [3 4]\n",
      " [5 6]\n",
      " [7 8]]\n",
      "Concatenated horizontally (axis=1):\n",
      " [[1 2 5 6]\n",
      " [3 4 7 8]]\n"
     ]
    }
   ],
   "source": [
    "# Conatenation - joining arrays along existing axes\n",
    "arr1 = np.array([[1, 2], [3, 4]])\n",
    "arr2 = np.array([[5, 6], [7, 8]])\n",
    "\n",
    "# Concatenating along different axes\n",
    "concat_rows = np.concatenate([arr1, arr2], axis=0)   # Stack vertically (add rows)\n",
    "concat_cols = np.concatenate([arr1, arr2], axis=1)   # Stack horizontally (add columns)\n",
    "\n",
    "print(\"Original arrays:\")\n",
    "print(\"Array 1:\\n\", arr1)\n",
    "print(\"Array 2:\\n\", arr2)\n",
    "print(\"Concatenated vertically (axis=0):\\n\", concat_rows)\n",
    "print(\"Concatenated horizontally (axis=1):\\n\", concat_cols)"
   ]
  },
  {
   "cell_type": "markdown",
   "id": "431e5b57",
   "metadata": {},
   "source": [
    "axis=0 means along rows (vertical stacking), axis=1 means along columns (horizontal stacking). Arrays must have compatible shapes along the non-concatenated dimensions."
   ]
  },
  {
   "cell_type": "code",
   "execution_count": 19,
   "id": "163fcace",
   "metadata": {},
   "outputs": [
    {
     "name": "stdout",
     "output_type": "stream",
     "text": [
      "vstack (vertical):\n",
      " [[1 2]\n",
      " [3 4]\n",
      " [5 6]\n",
      " [7 8]]\n",
      "hstack (horizontal):\n",
      " [[1 2 5 6]\n",
      " [3 4 7 8]]\n",
      "dstack shape: (2, 2, 2)\n",
      "Original array for splitting:\n",
      " [[ 0  1  2  3]\n",
      " [ 4  5  6  7]\n",
      " [ 8  9 10 11]]\n",
      "Split into 3 parts along rows:\n",
      "Part 0:\n",
      " [[0 1 2 3]]\n",
      "Part 1:\n",
      " [[4 5 6 7]]\n",
      "Part 2:\n",
      " [[ 8  9 10 11]]\n"
     ]
    }
   ],
   "source": [
    "# Convenient stacking functions\n",
    "vstack_result = np.vstack([arr1, arr2])   # Same as concatenate with axis=0\n",
    "hstack_result = np.hstack([arr1, arr2])   # Same as concatenate with axis=1\n",
    "dstack_result = np.dstack([arr1, arr2])   # Stack along depth (3rd dimension)\n",
    "\n",
    "print(\"vstack (vertical):\\n\", vstack_result)\n",
    "print(\"hstack (horizontal):\\n\", hstack_result)\n",
    "print(\"dstack shape:\", dstack_result.shape)    # Creates 3D array\n",
    "\n",
    "# Splitting arrays - opposite of concatenation\n",
    "arr = np.arange(12).reshape(3, 4)\n",
    "split_arrays = np.split(arr, 3, axis=0)    # Split into 3 parts along rows\n",
    "print(\"Original array for splitting:\\n\", arr)\n",
    "print(\"Split into 3 parts along rows:\")\n",
    "for i, split_part in enumerate(split_arrays):\n",
    "    print(f\"Part {i}:\\n\", split_part)"
   ]
  },
  {
   "cell_type": "markdown",
   "id": "d6f1fe41",
   "metadata": {},
   "source": [
    "Stacking functions are shortcuts for concatenation. Splitting divides an array into equal parts - useful for creating training/validation sets or processing data in chunks. "
   ]
  },
  {
   "cell_type": "markdown",
   "id": "198664c6",
   "metadata": {},
   "source": [
    "**Mathematical Operations**"
   ]
  },
  {
   "cell_type": "markdown",
   "id": "067ca9c3",
   "metadata": {},
   "source": [
    "**Elements-wise Operations - The Power of Vectorization**"
   ]
  },
  {
   "cell_type": "markdown",
   "id": "c67dc757",
   "metadata": {},
   "source": [
    "- NumPy's biggest advantage is performing operations on entire arrays without writing loop."
   ]
  },
  {
   "cell_type": "code",
   "execution_count": 20,
   "id": "8befb993",
   "metadata": {},
   "outputs": [
    {
     "name": "stdout",
     "output_type": "stream",
     "text": [
      "Array 1: [1 2 3 4]\n",
      "Array 2: [10 20 30 40]\n",
      "Addition: [11 22 33 44]\n",
      "Subtraction: [ 9 18 27 36]\n",
      "Multiplication: [ 10  40  90 160]\n",
      "Division: [0.1 0.1 0.1 0.1]\n",
      "Power: [ 1  4  9 16]\n",
      "Modulo: [1 2 0 1]\n"
     ]
    }
   ],
   "source": [
    "# Basic arithmetic operations work element-by-element\n",
    "arr1 = np.array([1, 2, 3, 4])\n",
    "arr2 = np.array([10, 20, 30, 40])\n",
    "\n",
    "print(\"Array 1:\", arr1)\n",
    "print(\"Array 2:\", arr2)\n",
    "\n",
    "# All operations happen element-wise automatically\n",
    "print(\"Addition:\", arr1 + arr2)    # [11, 22, 33, 44]\n",
    "print(\"Subtraction:\", arr2 - arr1) # [9, 18, 27, 36]\n",
    "print(\"Multiplication:\", arr1 * arr2)  # [10, 40, 90, 160]\n",
    "print(\"Division:\", arr1 / arr2)        # [10, 10, 10, 10]\n",
    "print(\"Power:\", arr1 ** 2)            # [1, 4, 9, 16]\n",
    "print(\"Modulo:\", arr2 % 3)           # [1, 2, 0, 1]"
   ]
  },
  {
   "cell_type": "markdown",
   "id": "ae7f479e",
   "metadata": {},
   "source": [
    "This vectorization is much  faster than Python loops because the operations are implemented in optimized C code. Each operation applies to corresponding elements."
   ]
  },
  {
   "cell_type": "code",
   "execution_count": 21,
   "id": "442899a0",
   "metadata": {},
   "outputs": [
    {
     "name": "stdout",
     "output_type": "stream",
     "text": [
      "Scalar operations:\n",
      "Add 10 to all elements: [11 12 13 14]\n",
      "Multiply all by 3: [ 3  6  9 12]\n",
      "Divide all by 2: [0.5 1.  1.5 2. ]\n",
      "Compound operation (arr1 + 5) * 2 -1: [11 13 15 17]\n"
     ]
    }
   ],
   "source": [
    "# Opeartions with scalars - broadcasting in action\n",
    "print(\"Scalar operations:\")\n",
    "print(\"Add 10 to all elements:\", arr1 + 10)   # [11, 12, 13, 14]\n",
    "print(\"Multiply all by 3:\", arr1 * 3)     # [3, 6, 9, 12]\n",
    "print(\"Divide all by 2:\", arr1 / 2)       # [0.5, 1, 1.5, 2]\n",
    "\n",
    "# Compound operations\n",
    "result = (arr1 + 5) * 2 - 1              # ((arr1 + 5) * 2) - 1\n",
    "print(\"Compound operation (arr1 + 5) * 2 -1:\", result)"
   ]
  },
  {
   "cell_type": "markdown",
   "id": "e8b52d3f",
   "metadata": {},
   "source": [
    "When you operate on arrays with scalars, the scalar is automatically \"broadcast\" to match the array shape. This is much more readable and efficient than manual loops."
   ]
  },
  {
   "cell_type": "markdown",
   "id": "4a838ba5",
   "metadata": {},
   "source": [
    "**Mathematical Functions - Beyond Basic Arithmetic**"
   ]
  },
  {
   "cell_type": "markdown",
   "id": "cc93cfa4",
   "metadata": {},
   "source": [
    "- NumPy provides vectorized versions of most mathematical function"
   ]
  },
  {
   "cell_type": "code",
   "execution_count": 22,
   "id": "51f7423f",
   "metadata": {},
   "outputs": [
    {
     "name": "stdout",
     "output_type": "stream",
     "text": [
      "Original array: [ 1  4  9 16 25]\n",
      "Square root: [1. 2. 3. 4. 5.]\n",
      "Square: [  1  16  81 256 625]\n",
      "Exponential: [ 2.718  7.389 20.086]\n",
      "Natural log: [0.    1.386 2.197 2.773 3.219]\n",
      "Log base 10: [0.    0.602 0.954 1.204 1.398]\n",
      "Log base 2: [0.    2.    3.17  4.    4.644]\n"
     ]
    }
   ],
   "source": [
    "# Common mathematical functions\n",
    "arr = np.array([1, 4, 9, 16, 25])\n",
    "print(\"Original array:\", arr)\n",
    "\n",
    "# Square roots and powers\n",
    "print(\"Square root:\", np.sqrt(arr))     # [1, 2, 3, 4, 5]\n",
    "print(\"Square:\", np.square(arr))       # [1, 16, 81, 256, 625]\n",
    "\n",
    "# Exponential and logarithmic functions\n",
    "small_arr = np.array([1, 2, 3])\n",
    "print(\"Exponential:\", np.exp(small_arr))    # [e^1, e^2, e^3]\n",
    "print(\"Natural log:\", np.log(arr))        # in(arr)\n",
    "print(\"Log base 10:\", np.log10(arr))\n",
    "print(\"Log base 2:\", np.log2(arr))"
   ]
  },
  {
   "cell_type": "markdown",
   "id": "ae8d041a",
   "metadata": {},
   "source": [
    "These functions are much faster than applying Python's math functions in a loop. They also habdle edge cases (like log of zero) more gracefully."
   ]
  },
  {
   "cell_type": "code",
   "execution_count": 23,
   "id": "383e01ae",
   "metadata": {},
   "outputs": [
    {
     "name": "stdout",
     "output_type": "stream",
     "text": [
      "Angles (radians:) [0.    0.785 1.571 3.142]\n",
      "SIne: [0.    0.707 1.    0.   ]\n",
      "Cosine:, [ 1.     0.707  0.    -1.   ]\n",
      "Tangent: [ 0.000e+00  1.000e+00  1.633e+16 -1.225e-16]\n",
      "Degree to radians: [0.    0.785 1.571 3.142]\n"
     ]
    }
   ],
   "source": [
    "# Trigonometric functions - essential for signal processing and geometry\n",
    "angles = np.array([0, np.pi/4, np.pi/2, np.pi])\n",
    "print(\"Angles (radians:)\", angles)\n",
    "print(\"SIne:\", np.sin(angles))     # [0, √2/2, 1, 0]\n",
    "print(\"Cosine:,\", np.cos(angles))  # [1, √2/2, 0, -1]\n",
    "print(\"Tangent:\", np.tan(angles))  # [0, 1, ∞, 0]\n",
    "\n",
    "# Convert degrees to radians\n",
    "degrees = np.array([0, 45, 90, 180])\n",
    "radians = np.deg2rad(degrees)\n",
    "print(\"Degree to radians:\", radians)"
   ]
  },
  {
   "cell_type": "markdown",
   "id": "b9522efd",
   "metadata": {},
   "source": [
    "Trigonometric functions expect angles in radians. Use deg2rad() and rad2deg() for conversions. These fucntions are essential for Signal precessing, Computer graphics, and Physics simulations."
   ]
  },
  {
   "cell_type": "code",
   "execution_count": 24,
   "id": "89c62b84",
   "metadata": {},
   "outputs": [
    {
     "name": "stdout",
     "output_type": "stream",
     "text": [
      "Original decimals: [ 1.234  5.678  9.999 -2.345]\n",
      "Round to 2 places: [ 1.23  5.68 10.   -2.35]\n",
      "Floor (round down): [ 1.  5.  9. -3.]\n",
      "Ceiling (round up): [ 2.  6. 10. -2.]\n",
      "Truncate (toward zero): [ 1.  5.  9. -2.]\n",
      "Absolute values: [1.234 5.678 9.999 2.345]\n",
      "Sign (-1, 0, or 1): [ 1.  1.  1. -1.]\n"
     ]
    }
   ],
   "source": [
    "# Rounding and comparison functions\n",
    "decimals = np.array([1.234, 5.678, 9.999, -2.345])\n",
    "print(\"Original decimals:\", decimals)\n",
    "\n",
    "print(\"Round to 2 places:\", np.round(decimals, 2))\n",
    "print(\"Floor (round down):\", np.floor(decimals))    # [1, 5, 9, -3]\n",
    "print(\"Ceiling (round up):\", np.ceil(decimals))   # [2, 6, 10, -2]\n",
    "print(\"Truncate (toward zero):\", np.trunc(decimals))  # [1, 5, 9, -2]\n",
    "\n",
    "# Absolute values and sign\n",
    "print(\"Absolute values:\", np.abs(decimals))\n",
    "print(\"Sign (-1, 0, or 1):\", np.sign(decimals))"
   ]
  },
  {
   "cell_type": "markdown",
   "id": "d4f6df67",
   "metadata": {},
   "source": [
    "Different rounding functions serve different purposes. floor() always rounds down, ceil() always rounds up, trunc() removes the decimal part, and round() rounds to nearest value."
   ]
  },
  {
   "cell_type": "markdown",
   "id": "f17ab236",
   "metadata": {},
   "source": [
    "**Aggregate Functions - Summarizing Your Data**"
   ]
  },
  {
   "cell_type": "markdown",
   "id": "5b50d376",
   "metadata": {},
   "source": [
    "- Aggregate functions reduce arrays to summary statistics"
   ]
  },
  {
   "cell_type": "code",
   "execution_count": 25,
   "id": "e1fc16a1",
   "metadata": {},
   "outputs": [
    {
     "name": "stdout",
     "output_type": "stream",
     "text": [
      "Sample array:\n",
      " [[1 2 3]\n",
      " [4 5 6]\n",
      " [7 8 9]]\n",
      "Sum of all elements: 45\n",
      "Mean of all elements: 5.0\n",
      "Standard deviation: 2.581988897471611\n",
      "Minimum value: 1\n",
      "Maximum value: 9\n"
     ]
    }
   ],
   "source": [
    "# Create a 2D array for demonstration\n",
    "arr = np.array([[1, 2, 3],\n",
    "                [4, 5, 6],\n",
    "                [7, 8, 9]])\n",
    "print(\"Sample array:\\n\", arr)\n",
    "\n",
    "# Aggregate across entire array\n",
    "print(\"Sum of all elements:\", np.sum(arr))   # 45\n",
    "print(\"Mean of all elements:\", np.mean(arr))  # 5.0\n",
    "print(\"Standard deviation:\", np.std(arr))     # 2.58\n",
    "print(\"Minimum value:\", np.min(arr))          # 1\n",
    "print(\"Maximum value:\",  np.max(arr))         # 9 "
   ]
  },
  {
   "cell_type": "markdown",
   "id": "18cfd945",
   "metadata": {},
   "source": [
    "When you don't specify an axis, these functions operate on the flattened array, giving you a single summary value for the dataset."
   ]
  },
  {
   "cell_type": "code",
   "execution_count": 26,
   "id": "fd5f2570",
   "metadata": {},
   "outputs": [
    {
     "name": "stdout",
     "output_type": "stream",
     "text": [
      "Sum along axis 0 (columns): [12 15 18]\n",
      "Sum along axis 1 (rows): [ 6 15 24]\n",
      "Mean along axis 0: [4. 5. 6.]\n",
      "Mean along axis 1: [2. 5. 8.]\n",
      "Position of max (flattened): 8\n",
      "Position of max along axis 0: [2 2 2]\n",
      "Position of max along axis 1: [2 2 2]\n"
     ]
    }
   ],
   "source": [
    "# Axis-specific aggregation - this is where NumPy!\n",
    "print(\"Sum along axis 0 (columns):\", np.sum(arr, axis=0))   # [12, 15, 18]\n",
    "print(\"Sum along axis 1 (rows):\", np.sum(arr, axis=1))      # [6, 15, 24]\n",
    "\n",
    "print(\"Mean along axis 0:\", np.mean(arr, axis=0))          # [4, 5, 6]\n",
    "print(\"Mean along axis 1:\", np.mean(arr, axis=1))          # [2, 5, 8]\n",
    "\n",
    "# Finding positions of extreme values\n",
    "print(\"Position of max (flattened):\", np.argmax(arr))   # 8 (element 9 at position 8)\n",
    "print(\"Position of max along axis 0:\", np.argmax(arr, axis=0))   # [2, 2, 2]\n",
    "print(\"Position of max along axis 1:\", np.argmax(arr, axis=1))   # [2, 2, 2]"
   ]
  },
  {
   "cell_type": "markdown",
   "id": "6ea80ae4",
   "metadata": {},
   "source": [
    "- axis=0: Operations go \"down\" the rows (result has same number of columns)\n",
    "- axis=1: Operations go \"across\" the columns (result has same number of rows)\n",
    "- argmax/argmin return indices, not values"
   ]
  },
  {
   "cell_type": "markdown",
   "id": "3ccffec7",
   "metadata": {},
   "source": [
    "**Broadcasting**"
   ]
  },
  {
   "cell_type": "markdown",
   "id": "7bc31d87",
   "metadata": {},
   "source": [
    "- Broadcasting is NumPy's way of performing operations on arrays with different shapes without explicitly reshaping them. This is one of NumPy's most powerful features"
   ]
  },
  {
   "cell_type": "code",
   "execution_count": 27,
   "id": "7892a838",
   "metadata": {},
   "outputs": [
    {
     "name": "stdout",
     "output_type": "stream",
     "text": [
      "Scalar: 5\n",
      "1D array: [1 2 3 4]\n",
      "2D array (column vector):\n",
      " [[10]\n",
      " [20]\n",
      " [30]]\n",
      "Scalar + 1D array: [6 7 8 9]\n",
      "2D + 1D broadcasting:\n",
      " [[11 12 13 14]\n",
      " [21 22 23 24]\n",
      " [31 32 33 34]]\n"
     ]
    }
   ],
   "source": [
    "# Broadcasting examples - arrays don't need the same shape!\n",
    "scalar = 5\n",
    "arr1d = np.array([1, 2, 3, 4])\n",
    "arr2d = np.array([[10], [20], [30]])   # Column vector\n",
    "\n",
    "print(\"Scalar:\", scalar)\n",
    "print(\"1D array:\", arr1d)\n",
    "print(\"2D array (column vector):\\n\", arr2d)\n",
    "\n",
    "# Scalar broadcasts to any shape\n",
    "result1 = scalar + arr1d\n",
    "print(\"Scalar + 1D array:\", result1)     # [6, 7, 8, 9]\n",
    "\n",
    "# 2D + 1D broadcasting\n",
    "result2 = arr2d + arr1d\n",
    "print(\"2D + 1D broadcasting:\\n\", result2)"
   ]
  },
  {
   "cell_type": "markdown",
   "id": "6cd8c7bd",
   "metadata": {},
   "source": [
    "- Broadcasting follows these rules:\n",
    "- Start from the trailing (rightmost) dimensions\n",
    "- Dimensions are compatible if they're equal or one is 1\n",
    "- Missing dimensions are assumed to be 1"
   ]
  },
  {
   "cell_type": "code",
   "execution_count": 28,
   "id": "1d814f14",
   "metadata": {},
   "outputs": [
    {
     "name": "stdout",
     "output_type": "stream",
     "text": [
      "Array a (4x1):\n",
      " [[0]\n",
      " [1]\n",
      " [2]\n",
      " [3]]\n",
      "Array b (1x5):\n",
      " [[0 1 2 3 4]]\n",
      "Broadcasting result (4x5:\n",
      ") [[0 1 2 3 4]\n",
      " [1 2 3 4 5]\n",
      " [2 3 4 5 6]\n",
      " [3 4 5 6 7]]\n",
      "Result shape: (4, 5)\n"
     ]
    }
   ],
   "source": [
    "# Visualizing broadcasting step by step\n",
    "a = np.arange(4).reshape(4, 1)     # Shape: (4, 1)\n",
    "b = np.arange(5).reshape(1, 5)     # Shape: (1, 5)\n",
    "\n",
    "print(\"Array a (4x1):\\n\", a)\n",
    "print(\"Array b (1x5):\\n\", b)\n",
    "\n",
    "# Broadcasting creates a 4x5 result\n",
    "result = a + b                          # Result shape: (4, 5)\n",
    "print(\"Broadcasting result (4x5:\\n)\", result)\n",
    "print(\"Result shape:\", result.shape)"
   ]
  },
  {
   "cell_type": "markdown",
   "id": "743975d0",
   "metadata": {},
   "source": [
    "Array a gets broadcast horizontally, array b gets broadcast vertically. This creates all pairwise combinations without storing redundant data."
   ]
  },
  {
   "cell_type": "code",
   "execution_count": 29,
   "id": "9ac2b1f6",
   "metadata": {},
   "outputs": [
    {
     "name": "stdout",
     "output_type": "stream",
     "text": [
      "Original array shape: (3,)\n",
      "Column vector shape: (3, 1)\n",
      "Column vector:\n",
      " [[1]\n",
      " [2]\n",
      " [3]]\n",
      "Row vector shape: (1, 3)\n"
     ]
    }
   ],
   "source": [
    "# Manual broadcasting with newaxis\n",
    "arr = np.array([1, 2, 3])     \n",
    "print(\"Original array shape:\", arr.shape)     # (3,)\n",
    "\n",
    "# Convert to column vector\n",
    "column_vector = arr[:, np.newaxis]      # Same as arr.reshape(-1, 1)\n",
    "print(\"Column vector shape:\", column_vector.shape)   # (3, 1)\n",
    "print(\"Column vector:\\n\", column_vector)\n",
    "\n",
    "# Convert to row vector (usually not needed - 1D arrays broadcast as rows)\n",
    "row_vector = arr[np.newaxis, :]                  # Same as arr.reshape(1, -1)\n",
    "print(\"Row vector shape:\", row_vector.shape)     # (1, 3)"
   ]
  },
  {
   "cell_type": "markdown",
   "id": "0dc68a1f",
   "metadata": {},
   "source": [
    "np.newaxis is an alias for None and adds a new axis of length 1. This gives you explicit control over broadcasting behavior"
   ]
  },
  {
   "cell_type": "markdown",
   "id": "f315a8bb",
   "metadata": {},
   "source": [
    "**Common Broadcasting Patterns**"
   ]
  },
  {
   "cell_type": "code",
   "execution_count": 30,
   "id": "688f7499",
   "metadata": {},
   "outputs": [
    {
     "name": "stdout",
     "output_type": "stream",
     "text": [
      "Original data shape: (5, 3)\n",
      "Original data:\n",
      " [[ 0.183 -0.842  0.005]\n",
      " [-0.398 -0.415  0.23 ]\n",
      " [-0.088  1.549  0.264]\n",
      " [ 0.19  -0.446  1.563]\n",
      " [-0.086  0.565 -0.006]]\n",
      "Column means: [-0.04   0.082  0.411]\n",
      "Centered data:\n",
      " [[ 0.223 -0.924 -0.406]\n",
      " [-0.358 -0.497 -0.181]\n",
      " [-0.048  1.466 -0.147]\n",
      " [ 0.229 -0.529  1.152]\n",
      " [-0.046  0.483 -0.417]]\n",
      "New column means (should be ~0): [-0. -0. -0.]\n"
     ]
    }
   ],
   "source": [
    "# Pattern 1: Centering data (subtract mean from each column)\n",
    "data = np.random.randn(5, 3)    # 5 samples, 3 features\n",
    "print(\"Original data shape:\", data.shape)\n",
    "print(\"Original data:\\n\", data)\n",
    "\n",
    "# Calculate mean of each column (feature)\n",
    "column_means = np.mean(data, axis=0)  # Shape (3,)\n",
    "print(\"Column means:\", column_means)\n",
    "\n",
    "# Subtract mean from each column (broadcasting!)\n",
    "centered_data = data - column_means   # (5, 3) - (3,) -> (5, 3)\n",
    "print(\"Centered data:\\n\", centered_data)\n",
    "print(\"New column means (should be ~0):\", np.mean(centered_data, axis=0))"
   ]
  },
  {
   "cell_type": "markdown",
   "id": "6acf51e7",
   "metadata": {},
   "source": [
    "This is a common preprocessing step in machine learning. The column means broadcast across all rows automatically."
   ]
  },
  {
   "cell_type": "code",
   "execution_count": 31,
   "id": "546ce55d",
   "metadata": {},
   "outputs": [
    {
     "name": "stdout",
     "output_type": "stream",
     "text": [
      "Random data:\n",
      " [[0.703 0.649 0.712]\n",
      " [0.23  0.905 0.439]\n",
      " [0.061 0.857 0.906]\n",
      " [0.217 0.473 0.125]]\n",
      "Row sums shape: (4, 1)\n",
      "Row sums:\n",
      " [[2.064]\n",
      " [1.573]\n",
      " [1.824]\n",
      " [0.815]]\n",
      "Normalized data (rows sum to 1):\n",
      " [[0.341 0.314 0.345]\n",
      " [0.146 0.575 0.279]\n",
      " [0.033 0.47  0.497]\n",
      " [0.267 0.581 0.153]]\n",
      "Row sums after normalization: [1. 1. 1. 1.]\n"
     ]
    }
   ],
   "source": [
    "# Pattern 2: Normalizing by row sums (useful for probabilities)\n",
    "data = np.random.rand(4, 3)   # Random data\n",
    "print(\"Random data:\\n\", data)\n",
    "\n",
    "# Calculate row sums\n",
    "row_sums = np.sum(data, axis=1, keepdims=True)   # Shape: (4, 1)\n",
    "print(\"Row sums shape:\", row_sums.shape)\n",
    "print(\"Row sums:\\n\", row_sums)\n",
    "\n",
    "# Normalize each row to sum to 1\n",
    "normalized = data / row_sums          # (4, 3) / (4, 1) broadcasts\n",
    "print(\"Normalized data (rows sum to 1):\\n\", normalized)\n",
    "print(\"Row sums after normalization:\", np.sum(normalized,axis=1))"
   ]
  },
  {
   "cell_type": "markdown",
   "id": "1368135a",
   "metadata": {},
   "source": [
    "keepdims=True preserves the dimension as size 1, making broadcasting explicit and avoiding shape errors."
   ]
  }
 ],
 "metadata": {
  "kernelspec": {
   "display_name": "base",
   "language": "python",
   "name": "python3"
  },
  "language_info": {
   "codemirror_mode": {
    "name": "ipython",
    "version": 3
   },
   "file_extension": ".py",
   "mimetype": "text/x-python",
   "name": "python",
   "nbconvert_exporter": "python",
   "pygments_lexer": "ipython3",
   "version": "3.12.7"
  }
 },
 "nbformat": 4,
 "nbformat_minor": 5
}
