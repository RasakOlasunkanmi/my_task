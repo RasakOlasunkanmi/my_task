{
 "cells": [
  {
   "cell_type": "code",
   "execution_count": null,
   "id": "3399d684",
   "metadata": {},
   "outputs": [],
   "source": []
  }
 ],
 "metadata": {
<<<<<<< HEAD
  "kernelspec": {
   "display_name": "dataenv (3.13.5)",
   "language": "python",
   "name": "python3"
  },
  "language_info": {
   "codemirror_mode": {
    "name": "ipython",
    "version": 3
   },
   "file_extension": ".py",
   "mimetype": "text/x-python",
   "name": "python",
   "nbconvert_exporter": "python",
   "pygments_lexer": "ipython3",
   "version": "3.13.5"
=======
  "language_info": {
   "name": "python"
>>>>>>> bc00b97fe4df9670ec5131faf344b848c3b698e3
  }
 },
 "nbformat": 4,
 "nbformat_minor": 5
}
