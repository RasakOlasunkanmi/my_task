{
 "cells": [
  {
   "cell_type": "markdown",
   "id": "5bc10c8c",
   "metadata": {},
   "source": [
    "**1. Create a 6x6 NumPy array with random integers between 1 and 50. Display the array.**\n"
   ]
  },
  {
   "cell_type": "code",
   "execution_count": 82,
   "id": "6c3b17eb",
   "metadata": {},
   "outputs": [
    {
     "data": {
      "text/plain": [
       "array([[29, 33, 29, 28, 20, 44],\n",
       "       [17, 30, 39, 35, 50, 38],\n",
       "       [48,  5, 13, 42, 24, 22],\n",
       "       [11, 50, 12,  9,  4, 16],\n",
       "       [22, 27, 10, 19, 35, 26],\n",
       "       [20, 36, 11, 43, 41,  8]])"
      ]
     },
     "execution_count": 82,
     "metadata": {},
     "output_type": "execute_result"
    }
   ],
   "source": [
    "import numpy as np\n",
    "\n",
    "arr = np.random.randint(51, size=(6, 6))\n",
    "arr\n"
   ]
  },
  {
   "cell_type": "markdown",
   "id": "a983c989",
   "metadata": {},
   "source": [
    "**2. Extract the following from the array you created in Question 1: The first two rows. The last three columns. All even numbers in the array.**"
   ]
  },
  {
   "cell_type": "code",
   "execution_count": 83,
   "id": "2a1a9e83",
   "metadata": {},
   "outputs": [
    {
     "name": "stdout",
     "output_type": "stream",
     "text": [
      "First 2 rows:\n",
      " [[29 33 29 28 20 44]\n",
      " [17 30 39 35 50 38]]\n",
      "Last 3 columns:\n",
      " [[28 20 44]\n",
      " [35 50 38]\n",
      " [42 24 22]\n",
      " [ 9  4 16]\n",
      " [19 35 26]\n",
      " [43 41  8]]\n",
      "Even numbers in the array:\n",
      " [28 20 44 30 50 38 48 42 24 22 50 12  4 16 22 10 26 20 36  8]\n"
     ]
    }
   ],
   "source": [
    "print(\"First 2 rows:\\n\", arr[:2])\n",
    "print(\"Last 3 columns:\\n\", arr[:, 3:])\n",
    "even_arr = arr[arr % 2 == 0]\n",
    "print(\"Even numbers in the array:\\n\", even_arr)"
   ]
  },
  {
   "cell_type": "markdown",
   "id": "edbcaa64",
   "metadata": {},
   "source": [
    "**3. Perform the following array transformations: Reshape the array into a 3D (3, 2, 6) array. Flatten the reshaped array back to 1D.**"
   ]
  },
  {
   "cell_type": "code",
   "execution_count": 84,
   "id": "5c725f0c",
   "metadata": {},
   "outputs": [
    {
     "name": "stdout",
     "output_type": "stream",
     "text": [
      "Reshaped array:\n",
      " [[[29 33 29 28 20 44]\n",
      "  [17 30 39 35 50 38]]\n",
      "\n",
      " [[48  5 13 42 24 22]\n",
      "  [11 50 12  9  4 16]]\n",
      "\n",
      " [[22 27 10 19 35 26]\n",
      "  [20 36 11 43 41  8]]]\n",
      "Flattened array:\n",
      " [29 33 29 28 20 44 17 30 39 35 50 38 48  5 13 42 24 22 11 50 12  9  4 16\n",
      " 22 27 10 19 35 26 20 36 11 43 41  8]\n"
     ]
    }
   ],
   "source": [
    "reshape_arr = arr.reshape(3, 2, 6)\n",
    "print(\"Reshaped array:\\n\", reshape_arr)\n",
    "flattened = reshape_arr.flatten()\n",
    "print(\"Flattened array:\\n\", flattened)"
   ]
  },
  {
   "cell_type": "markdown",
   "id": "3add53e7",
   "metadata": {},
   "source": [
    "**4. Generate a 4x4 identity matrix and replace the diagonal with numbers from 10 to 40, with a step of 10.**"
   ]
  },
  {
   "cell_type": "code",
   "execution_count": 90,
   "id": "a4da6b1e",
   "metadata": {},
   "outputs": [
    {
     "name": "stdout",
     "output_type": "stream",
     "text": [
      "Identity matrix (4x4):\n",
      " [[1. 0. 0. 0.]\n",
      " [0. 1. 0. 0.]\n",
      " [0. 0. 1. 0.]\n",
      " [0. 0. 0. 1.]]\n",
      "Identity matrix with 10, 20, 30, 40 as the diagonal:\n",
      " [[10  0  0  0]\n",
      " [ 0 20  0  0]\n",
      " [ 0  0 30  0]\n",
      " [ 0  0  0 40]]\n"
     ]
    }
   ],
   "source": [
    "identity_arr = np.eye(4)\n",
    "print(\"Identity matrix (4x4):\\n\", identity_arr)\n",
    "diagonal = np.diag([10, 20, 30, 40])\n",
    "print(\"Identity matrix with 10, 20, 30, 40 as the diagonal:\\n\", diagonal)"
   ]
  },
  {
   "cell_type": "markdown",
   "id": "0fcd8ab5",
   "metadata": {},
   "source": [
    "**5. Perform matrix multiplication between: A 3x4 matrix of random integers (1-10) A 4x3 matrix of random integers (1-10).**"
   ]
  },
  {
   "cell_type": "code",
   "execution_count": 94,
   "id": "6d464e34",
   "metadata": {},
   "outputs": [
    {
     "name": "stdout",
     "output_type": "stream",
     "text": [
      "[[ 8  1  9  5]\n",
      " [ 4 10  1  3]\n",
      " [ 4 10  1  2]]\n",
      "[[ 4  3  2]\n",
      " [ 8  7  2]\n",
      " [ 8  9  5]\n",
      " [10  3 10]]\n",
      "[[162 127 113]\n",
      " [134 100  63]\n",
      " [124  97  53]]\n"
     ]
    }
   ],
   "source": [
    "arr_a = np.random.randint(1, 11, size=(3, 4))\n",
    "print(arr_a)\n",
    "\n",
    "arr_b = np.random.randint(1, 11, size=(4, 3))\n",
    "print(arr_b)\n",
    "result = arr_a @ arr_b      # OR: result = np.dot(arr_a, arr_b)\n",
    "print(result)"
   ]
  },
  {
   "cell_type": "markdown",
   "id": "3448dfef",
   "metadata": {},
   "source": [
    "**6. Create a function that takes a 2D NumPy array as input and returns a new array where: All even numbers are squared. All odd numbers are replaced by -1.**"
   ]
  },
  {
   "cell_type": "code",
   "execution_count": 89,
   "id": "a69b4119",
   "metadata": {},
   "outputs": [
    {
     "name": "stdout",
     "output_type": "stream",
     "text": [
      "Original array:\n",
      " [[ 1  2  3  4]\n",
      " [ 5  6  7  8]\n",
      " [ 9 10 11 12]\n",
      " [13 14 15 16]]\n",
      "Array with function:\n",
      " [[ -1   4  -1  16]\n",
      " [ -1  36  -1  64]\n",
      " [ -1 100  -1 144]\n",
      " [ -1 196  -1 256]]\n"
     ]
    }
   ],
   "source": [
    "def numpy_2D(arr):\n",
    "    return np.where(arr % 2 ==0, arr ** 2, -1)\n",
    "\n",
    "arr_input = np.arange(1, 17).reshape(4, 4)\n",
    "print(\"Original array:\\n\", arr_input)\n",
    "print(\"Array with function:\\n\", numpy_2D(arr_input))"
   ]
  },
  {
   "cell_type": "code",
   "execution_count": null,
   "id": "4a769b46",
   "metadata": {},
   "outputs": [],
   "source": []
  }
 ],
 "metadata": {
  "kernelspec": {
   "display_name": "base",
   "language": "python",
   "name": "python3"
  },
  "language_info": {
   "codemirror_mode": {
    "name": "ipython",
    "version": 3
   },
   "file_extension": ".py",
   "mimetype": "text/x-python",
   "name": "python",
   "nbconvert_exporter": "python",
   "pygments_lexer": "ipython3",
   "version": "3.12.7"
  }
 },
 "nbformat": 4,
 "nbformat_minor": 5
}
