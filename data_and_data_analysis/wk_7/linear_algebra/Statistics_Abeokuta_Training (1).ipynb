{
  "cells": [
    {
      "cell_type": "markdown",
      "metadata": {
        "id": "C0LUU6FAwOlR"
      },
      "source": [
        "# ***INTRODUCTION TO STATISTICS***\n",
        "\n",
        "\n",
        "Welcome to this study on **Statistics for Data Science**!\n",
        "\n",
        "In this journey, we'll dive into key statistical concepts that are essential for AI and Machine Learning. We'll start with foundational concepts and progressively tackle more advanced topics, including probability, statistical inference, hypothesis testing, and regression.\n",
        "\n",
        "This notebook covers:\n",
        "- **Measures of Center**\n",
        "- **Measures of Spread**\n"
      ]
    },
    {
      "cell_type": "markdown",
      "metadata": {
        "id": "q_ghX1rAwxVM"
      },
      "source": [
        "## Introduction\n",
        "\n",
        "What is Statistics?\n",
        "\n",
        "- Statistics is the study of how to collect, analyze, and draw conclusions from data. It’s a hugely valuable tool that you can use to bring the future into focus and infer the answer to tons of questions. For example, what is the likelihood of someone purchasing your product,  how many jeans sizes should you manufacture to fit 95% of the population? Statistics can be used to answer lots of different types of questions, but being able to identify which type of statistics is needed is essential to drawing accurate conclusions.\n",
        "\n",
        "- Summary statisics generally discusses or gives insights to the summary of your data.\n",
        "\n",
        "\n",
        "\n"
      ]
    },
    {
      "cell_type": "markdown",
      "metadata": {
        "id": "2wI9dLpLxTsC"
      },
      "source": [
        "\n",
        "There are 2 types of Statistics namely; Descriptive and Inferrential Statistics.\n",
        "\n",
        "- Descriptive Statistics describes and summarizes our data.\n",
        "\n",
        "- While inferrential statistics in essential in making inferences and drawing conclusions about our data.\n",
        "\n",
        "\n",
        "[<img src=\"https://drive.google.com/uc?id=1nD0D1tIX1gZtqggMmg5-YFpwb2oFKwvA\" alt=\"Image Description\" width=\"800\"/>](https://github.com/anhhaibkhn/Data-Science-selfstudy-notes-Blog/blob/master/_notebooks/Introduction%20to%20Statistics%20in%20Python/pdfs/chapter1.pdf)"
      ]
    },
    {
      "cell_type": "code",
      "execution_count": 1,
      "metadata": {
        "colab": {
          "base_uri": "https://localhost:8080/"
        },
        "id": "VW9ms4lxp4FF",
        "outputId": "a882b18b-625a-4202-b8fb-f6fc991f6ab2"
      },
      "outputs": [
        {
          "name": "stdout",
          "output_type": "stream",
          "text": [
            "Requirement already satisfied: gdown in c:\\users\\ncc890\\desktop\\module_2_data & data_analysis\\dataenv\\lib\\site-packages (5.2.0)\n",
            "Requirement already satisfied: beautifulsoup4 in c:\\users\\ncc890\\desktop\\module_2_data & data_analysis\\dataenv\\lib\\site-packages (from gdown) (4.13.5)\n",
            "Requirement already satisfied: filelock in c:\\users\\ncc890\\desktop\\module_2_data & data_analysis\\dataenv\\lib\\site-packages (from gdown) (3.19.1)\n",
            "Requirement already satisfied: requests[socks] in c:\\users\\ncc890\\desktop\\module_2_data & data_analysis\\dataenv\\lib\\site-packages (from gdown) (2.32.5)\n",
            "Requirement already satisfied: tqdm in c:\\users\\ncc890\\desktop\\module_2_data & data_analysis\\dataenv\\lib\\site-packages (from gdown) (4.67.1)\n",
            "Requirement already satisfied: soupsieve>1.2 in c:\\users\\ncc890\\desktop\\module_2_data & data_analysis\\dataenv\\lib\\site-packages (from beautifulsoup4->gdown) (2.8)\n",
            "Requirement already satisfied: typing-extensions>=4.0.0 in c:\\users\\ncc890\\desktop\\module_2_data & data_analysis\\dataenv\\lib\\site-packages (from beautifulsoup4->gdown) (4.15.0)\n",
            "Requirement already satisfied: charset_normalizer<4,>=2 in c:\\users\\ncc890\\desktop\\module_2_data & data_analysis\\dataenv\\lib\\site-packages (from requests[socks]->gdown) (3.4.3)\n",
            "Requirement already satisfied: idna<4,>=2.5 in c:\\users\\ncc890\\desktop\\module_2_data & data_analysis\\dataenv\\lib\\site-packages (from requests[socks]->gdown) (3.10)\n",
            "Requirement already satisfied: urllib3<3,>=1.21.1 in c:\\users\\ncc890\\desktop\\module_2_data & data_analysis\\dataenv\\lib\\site-packages (from requests[socks]->gdown) (2.5.0)\n",
            "Requirement already satisfied: certifi>=2017.4.17 in c:\\users\\ncc890\\desktop\\module_2_data & data_analysis\\dataenv\\lib\\site-packages (from requests[socks]->gdown) (2025.8.3)\n",
            "Requirement already satisfied: PySocks!=1.5.7,>=1.5.6 in c:\\users\\ncc890\\desktop\\module_2_data & data_analysis\\dataenv\\lib\\site-packages (from requests[socks]->gdown) (1.7.1)\n",
            "Requirement already satisfied: colorama in c:\\users\\ncc890\\desktop\\module_2_data & data_analysis\\dataenv\\lib\\site-packages (from tqdm->gdown) (0.4.6)\n"
          ]
        }
      ],
      "source": [
        "!pip install gdown\n",
        "import gdown"
      ]
    },
    {
      "cell_type": "code",
      "execution_count": 2,
      "metadata": {
        "colab": {
          "base_uri": "https://localhost:8080/",
          "height": 105
        },
        "id": "J2oRu4J2wEJO",
        "outputId": "7d984245-c44b-4c03-de5c-218dc57b3d25"
      },
      "outputs": [
        {
          "name": "stderr",
          "output_type": "stream",
          "text": [
            "Downloading...\n",
            "From: https://drive.google.com/uc?id=1yB5qSBOLl96Y563nIewKOU8RN_gsY3dO\n",
            "To: c:\\Users\\ncc890\\Desktop\\Module_2_data & data_analysis\\data_and_data_analysis\\wk_7\\linear_algebra\\data.csv\n",
            "100%|██████████| 52.0k/52.0k [00:00<00:00, 279kB/s]\n"
          ]
        },
        {
          "data": {
            "text/plain": [
              "'data.csv'"
            ]
          },
          "execution_count": 2,
          "metadata": {},
          "output_type": "execute_result"
        }
      ],
      "source": [
        "\n",
        "\n",
        "file_id = '1yB5qSBOLl96Y563nIewKOU8RN_gsY3dO'  # Make sure it's a string\n",
        "gdown.download(f'https://drive.google.com/uc?id={file_id}', 'data.csv', quiet=False)\n"
      ]
    },
    {
      "cell_type": "code",
      "execution_count": 3,
      "metadata": {
        "id": "ryWpgh0_x1sZ"
      },
      "outputs": [],
      "source": [
        "import pandas as pd\n",
        "import numpy as np"
      ]
    },
    {
      "cell_type": "code",
      "execution_count": 4,
      "metadata": {
        "colab": {
          "base_uri": "https://localhost:8080/",
          "height": 206
        },
        "id": "59YkUY28x3eW",
        "outputId": "a8c7667a-c817-4fba-f1c8-acc054c325d9"
      },
      "outputs": [
        {
          "data": {
            "text/html": [
              "<div>\n",
              "<style scoped>\n",
              "    .dataframe tbody tr th:only-of-type {\n",
              "        vertical-align: middle;\n",
              "    }\n",
              "\n",
              "    .dataframe tbody tr th {\n",
              "        vertical-align: top;\n",
              "    }\n",
              "\n",
              "    .dataframe thead th {\n",
              "        text-align: right;\n",
              "    }\n",
              "</style>\n",
              "<table border=\"1\" class=\"dataframe\">\n",
              "  <thead>\n",
              "    <tr style=\"text-align: right;\">\n",
              "      <th></th>\n",
              "      <th>Unnamed: 0</th>\n",
              "      <th>country</th>\n",
              "      <th>food_category</th>\n",
              "      <th>consumption</th>\n",
              "      <th>co2_emission</th>\n",
              "    </tr>\n",
              "  </thead>\n",
              "  <tbody>\n",
              "    <tr>\n",
              "      <th>0</th>\n",
              "      <td>1</td>\n",
              "      <td>Argentina</td>\n",
              "      <td>pork</td>\n",
              "      <td>10.51</td>\n",
              "      <td>37.20</td>\n",
              "    </tr>\n",
              "    <tr>\n",
              "      <th>1</th>\n",
              "      <td>2</td>\n",
              "      <td>Argentina</td>\n",
              "      <td>poultry</td>\n",
              "      <td>38.66</td>\n",
              "      <td>41.53</td>\n",
              "    </tr>\n",
              "    <tr>\n",
              "      <th>2</th>\n",
              "      <td>3</td>\n",
              "      <td>Argentina</td>\n",
              "      <td>beef</td>\n",
              "      <td>55.48</td>\n",
              "      <td>1712.00</td>\n",
              "    </tr>\n",
              "    <tr>\n",
              "      <th>3</th>\n",
              "      <td>4</td>\n",
              "      <td>Argentina</td>\n",
              "      <td>lamb_goat</td>\n",
              "      <td>1.56</td>\n",
              "      <td>54.63</td>\n",
              "    </tr>\n",
              "    <tr>\n",
              "      <th>4</th>\n",
              "      <td>5</td>\n",
              "      <td>Argentina</td>\n",
              "      <td>fish</td>\n",
              "      <td>4.36</td>\n",
              "      <td>6.96</td>\n",
              "    </tr>\n",
              "  </tbody>\n",
              "</table>\n",
              "</div>"
            ],
            "text/plain": [
              "   Unnamed: 0    country food_category  consumption  co2_emission\n",
              "0           1  Argentina          pork        10.51         37.20\n",
              "1           2  Argentina       poultry        38.66         41.53\n",
              "2           3  Argentina          beef        55.48       1712.00\n",
              "3           4  Argentina     lamb_goat         1.56         54.63\n",
              "4           5  Argentina          fish         4.36          6.96"
            ]
          },
          "execution_count": 4,
          "metadata": {},
          "output_type": "execute_result"
        }
      ],
      "source": [
        "# Read the downloaded CSV file\n",
        "df = pd.read_csv('data.csv')\n",
        "df.head()"
      ]
    },
    {
      "cell_type": "markdown",
      "metadata": {
        "id": "6OY66UmCxsIF"
      },
      "source": [
        "## Measures of Center\n",
        "\n",
        "Measures of center are statistical values that describe the central tendency of a dataset. They provide a summary measure that represents the entire dataset, allowing you to understand where the majority of your data points lie. Understanding these measures help to summarize and describe data effectively.\n",
        "\n",
        "### 1. Mean\n",
        "\n",
        "- The **mean**, often referred to as the average, is calculated by summing all the values in a dataset and dividing by the number of values. It is a commonly used measure of center.\n",
        "  \n",
        "  **Formula:**\n",
        "\n",
        "$$\n",
        "\\text{Mean} (\\mu) = \\frac{\\sum_{i=1}^{n} x_i}{n}\n",
        "$$\n",
        "\n",
        "**Where:**\n",
        "- \\( $x_i$ \\) represents each value in the dataset.\n",
        "- \\( $n$ \\) is the total number of values.\n",
        "\n",
        "**Example:**\n",
        "For the dataset [5, 10, 15, 20] \\:\n",
        "\n",
        "$$\n",
        "\\text{Mean} = \\frac{5 + 10 + 15 + 20}{4} = \\frac{50}{4} = 12.5\n",
        "$$\n",
        "\n",
        "\n",
        "\n",
        "- **Considerations:** The mean can be influenced by outliers. For instance, in the dataset [1, 2, 3, 100] \\, the mean is significantly higher than most data points due to the outlier \"100\".\n",
        "\n",
        "### 2. Median\n",
        "\n",
        "- The **median** is the middle value when the dataset is ordered from least to greatest. If the dataset has an even number of observations, the median is the average of the two middle values. The median is a robust measure of center that is less affected by outliers.\n",
        "  \n",
        "  **Steps to Calculate Median:**\n",
        "  1. Sort the data in ascending order.\n",
        "  2. If the number of observations \\($n$\\) is odd, the median is the middle number.\n",
        "  3. If \\($n$\\) is even, the median is the average of the two middle numbers.\n",
        "\n",
        "  **Example:**\n",
        "\n",
        "  For the dataset  [1, 3, 6, 3, 7, 9, 8] \\:\n",
        "  - Sorted: [1, 3, 3, 6, 7, 8, 9] \\\n",
        "  - The Median is $6$, the $4th$ value\n",
        "\n",
        "  For the dataset [1, 2, 3, 5, 4, 6]:\n",
        "  - Sorted: [1, 2, 3, 4, 5, 6] \\\n",
        "  - The Median is:\n",
        "    $$\n",
        "    \\text{Median} = \\frac{3 + 4}{2} = 3.5\n",
        "    $$\n",
        "\n",
        "### 3. Mode\n",
        "\n",
        "- The **mode** is the value that appears most frequently in a dataset. A dataset may have one mode, more than one mode (bimodal or multimodal), or no mode at all if all values occur with the same frequency.\n",
        "\n",
        "- **Example:** For the dataset [1, 2, 2, 3, 4] \\:\n",
        "  - Mode: \\( $2$ \\)\n",
        "\n",
        "  For the dataset [1, 1, 2, 2, 3, 4] \\:\n",
        "  - The Modes are \\( $1$ \\) and \\( $2$ \\)  $i.e$, bimodal\n",
        "\n",
        "\n",
        "\n",
        "### Summary of Measures of Center\n",
        "\n",
        "- **Mean:** Sensitive to outliers, best for symmetric/normal distributions.\n",
        "- **Median:** Robust against outliers, represents the center in skewed distributions.\n",
        "- **Mode:** Useful for categorical data, indicates the most common value.\n",
        "\n",
        "\n",
        "\n",
        "\n",
        "Understanding the measures of center is important in Data Science to help summarize data with a single representative value. They assist in comparing different datasets, understanding trends, and making informed decisions based on data.\n",
        "\n",
        "[<img src=\"https://drive.google.com/uc?id=1fYdyU8Ris_FP1FFD_6ianuo8LgNSmJ68\" alt=\"Measures of Center\" width=\"600\"/>](https://www.google.com/url?sa=i&url=https%3A%2F%2Ftowardsai.net%2Fp%2Fl%2Fpython-statistical-analysis-measures-of-central-tendency-and-dispersion&psig=AOvVaw3eoQpaEtgizlksZ5lHMCZQ&ust=1730369714671000&source=images&cd=vfe&opi=89978449&ved=0CBQQjRxqFwoTCPij1dTvtYkDFQAAAAAdAAAAABAE)\n",
        "\n"
      ]
    },
    {
      "cell_type": "code",
      "execution_count": 5,
      "metadata": {
        "colab": {
          "base_uri": "https://localhost:8080/",
          "height": 424
        },
        "id": "TndCO8F-xrbc",
        "outputId": "138235f3-64dd-44df-ac94-455f39543a70"
      },
      "outputs": [
        {
          "data": {
            "text/html": [
              "<div>\n",
              "<style scoped>\n",
              "    .dataframe tbody tr th:only-of-type {\n",
              "        vertical-align: middle;\n",
              "    }\n",
              "\n",
              "    .dataframe tbody tr th {\n",
              "        vertical-align: top;\n",
              "    }\n",
              "\n",
              "    .dataframe thead th {\n",
              "        text-align: right;\n",
              "    }\n",
              "</style>\n",
              "<table border=\"1\" class=\"dataframe\">\n",
              "  <thead>\n",
              "    <tr style=\"text-align: right;\">\n",
              "      <th></th>\n",
              "      <th>Unnamed: 0</th>\n",
              "      <th>country</th>\n",
              "      <th>food_category</th>\n",
              "      <th>consumption</th>\n",
              "      <th>co2_emission</th>\n",
              "    </tr>\n",
              "  </thead>\n",
              "  <tbody>\n",
              "    <tr>\n",
              "      <th>0</th>\n",
              "      <td>1</td>\n",
              "      <td>Argentina</td>\n",
              "      <td>pork</td>\n",
              "      <td>10.51</td>\n",
              "      <td>37.20</td>\n",
              "    </tr>\n",
              "    <tr>\n",
              "      <th>1</th>\n",
              "      <td>2</td>\n",
              "      <td>Argentina</td>\n",
              "      <td>poultry</td>\n",
              "      <td>38.66</td>\n",
              "      <td>41.53</td>\n",
              "    </tr>\n",
              "    <tr>\n",
              "      <th>2</th>\n",
              "      <td>3</td>\n",
              "      <td>Argentina</td>\n",
              "      <td>beef</td>\n",
              "      <td>55.48</td>\n",
              "      <td>1712.00</td>\n",
              "    </tr>\n",
              "    <tr>\n",
              "      <th>3</th>\n",
              "      <td>4</td>\n",
              "      <td>Argentina</td>\n",
              "      <td>lamb_goat</td>\n",
              "      <td>1.56</td>\n",
              "      <td>54.63</td>\n",
              "    </tr>\n",
              "    <tr>\n",
              "      <th>4</th>\n",
              "      <td>5</td>\n",
              "      <td>Argentina</td>\n",
              "      <td>fish</td>\n",
              "      <td>4.36</td>\n",
              "      <td>6.96</td>\n",
              "    </tr>\n",
              "    <tr>\n",
              "      <th>...</th>\n",
              "      <td>...</td>\n",
              "      <td>...</td>\n",
              "      <td>...</td>\n",
              "      <td>...</td>\n",
              "      <td>...</td>\n",
              "    </tr>\n",
              "    <tr>\n",
              "      <th>1425</th>\n",
              "      <td>1426</td>\n",
              "      <td>Bangladesh</td>\n",
              "      <td>dairy</td>\n",
              "      <td>21.91</td>\n",
              "      <td>31.21</td>\n",
              "    </tr>\n",
              "    <tr>\n",
              "      <th>1426</th>\n",
              "      <td>1427</td>\n",
              "      <td>Bangladesh</td>\n",
              "      <td>wheat</td>\n",
              "      <td>17.47</td>\n",
              "      <td>3.33</td>\n",
              "    </tr>\n",
              "    <tr>\n",
              "      <th>1427</th>\n",
              "      <td>1428</td>\n",
              "      <td>Bangladesh</td>\n",
              "      <td>rice</td>\n",
              "      <td>171.73</td>\n",
              "      <td>219.76</td>\n",
              "    </tr>\n",
              "    <tr>\n",
              "      <th>1428</th>\n",
              "      <td>1429</td>\n",
              "      <td>Bangladesh</td>\n",
              "      <td>soybeans</td>\n",
              "      <td>0.61</td>\n",
              "      <td>0.27</td>\n",
              "    </tr>\n",
              "    <tr>\n",
              "      <th>1429</th>\n",
              "      <td>1430</td>\n",
              "      <td>Bangladesh</td>\n",
              "      <td>nuts</td>\n",
              "      <td>0.72</td>\n",
              "      <td>1.27</td>\n",
              "    </tr>\n",
              "  </tbody>\n",
              "</table>\n",
              "<p>1430 rows × 5 columns</p>\n",
              "</div>"
            ],
            "text/plain": [
              "      Unnamed: 0     country food_category  consumption  co2_emission\n",
              "0              1   Argentina          pork        10.51         37.20\n",
              "1              2   Argentina       poultry        38.66         41.53\n",
              "2              3   Argentina          beef        55.48       1712.00\n",
              "3              4   Argentina     lamb_goat         1.56         54.63\n",
              "4              5   Argentina          fish         4.36          6.96\n",
              "...          ...         ...           ...          ...           ...\n",
              "1425        1426  Bangladesh         dairy        21.91         31.21\n",
              "1426        1427  Bangladesh         wheat        17.47          3.33\n",
              "1427        1428  Bangladesh          rice       171.73        219.76\n",
              "1428        1429  Bangladesh      soybeans         0.61          0.27\n",
              "1429        1430  Bangladesh          nuts         0.72          1.27\n",
              "\n",
              "[1430 rows x 5 columns]"
            ]
          },
          "execution_count": 5,
          "metadata": {},
          "output_type": "execute_result"
        }
      ],
      "source": [
        "df"
      ]
    },
    {
      "cell_type": "code",
      "execution_count": null,
      "metadata": {
        "id": "gkI7O00Xs9YF"
      },
      "outputs": [],
      "source": []
    },
    {
      "cell_type": "code",
      "execution_count": 6,
      "metadata": {
        "id": "VGTBzHYpyL1V"
      },
      "outputs": [],
      "source": [
        "df.drop('Unnamed: 0', axis = 1, inplace = True)"
      ]
    },
    {
      "cell_type": "code",
      "execution_count": 7,
      "metadata": {
        "colab": {
          "base_uri": "https://localhost:8080/",
          "height": 424
        },
        "id": "yKznOz50r2G9",
        "outputId": "4ad07c80-59ac-4a0e-fcb6-02a402b3ed16"
      },
      "outputs": [
        {
          "data": {
            "text/html": [
              "<div>\n",
              "<style scoped>\n",
              "    .dataframe tbody tr th:only-of-type {\n",
              "        vertical-align: middle;\n",
              "    }\n",
              "\n",
              "    .dataframe tbody tr th {\n",
              "        vertical-align: top;\n",
              "    }\n",
              "\n",
              "    .dataframe thead th {\n",
              "        text-align: right;\n",
              "    }\n",
              "</style>\n",
              "<table border=\"1\" class=\"dataframe\">\n",
              "  <thead>\n",
              "    <tr style=\"text-align: right;\">\n",
              "      <th></th>\n",
              "      <th>country</th>\n",
              "      <th>food_category</th>\n",
              "      <th>consumption</th>\n",
              "      <th>co2_emission</th>\n",
              "    </tr>\n",
              "  </thead>\n",
              "  <tbody>\n",
              "    <tr>\n",
              "      <th>0</th>\n",
              "      <td>Argentina</td>\n",
              "      <td>pork</td>\n",
              "      <td>10.51</td>\n",
              "      <td>37.20</td>\n",
              "    </tr>\n",
              "    <tr>\n",
              "      <th>1</th>\n",
              "      <td>Argentina</td>\n",
              "      <td>poultry</td>\n",
              "      <td>38.66</td>\n",
              "      <td>41.53</td>\n",
              "    </tr>\n",
              "    <tr>\n",
              "      <th>2</th>\n",
              "      <td>Argentina</td>\n",
              "      <td>beef</td>\n",
              "      <td>55.48</td>\n",
              "      <td>1712.00</td>\n",
              "    </tr>\n",
              "    <tr>\n",
              "      <th>3</th>\n",
              "      <td>Argentina</td>\n",
              "      <td>lamb_goat</td>\n",
              "      <td>1.56</td>\n",
              "      <td>54.63</td>\n",
              "    </tr>\n",
              "    <tr>\n",
              "      <th>4</th>\n",
              "      <td>Argentina</td>\n",
              "      <td>fish</td>\n",
              "      <td>4.36</td>\n",
              "      <td>6.96</td>\n",
              "    </tr>\n",
              "    <tr>\n",
              "      <th>...</th>\n",
              "      <td>...</td>\n",
              "      <td>...</td>\n",
              "      <td>...</td>\n",
              "      <td>...</td>\n",
              "    </tr>\n",
              "    <tr>\n",
              "      <th>1425</th>\n",
              "      <td>Bangladesh</td>\n",
              "      <td>dairy</td>\n",
              "      <td>21.91</td>\n",
              "      <td>31.21</td>\n",
              "    </tr>\n",
              "    <tr>\n",
              "      <th>1426</th>\n",
              "      <td>Bangladesh</td>\n",
              "      <td>wheat</td>\n",
              "      <td>17.47</td>\n",
              "      <td>3.33</td>\n",
              "    </tr>\n",
              "    <tr>\n",
              "      <th>1427</th>\n",
              "      <td>Bangladesh</td>\n",
              "      <td>rice</td>\n",
              "      <td>171.73</td>\n",
              "      <td>219.76</td>\n",
              "    </tr>\n",
              "    <tr>\n",
              "      <th>1428</th>\n",
              "      <td>Bangladesh</td>\n",
              "      <td>soybeans</td>\n",
              "      <td>0.61</td>\n",
              "      <td>0.27</td>\n",
              "    </tr>\n",
              "    <tr>\n",
              "      <th>1429</th>\n",
              "      <td>Bangladesh</td>\n",
              "      <td>nuts</td>\n",
              "      <td>0.72</td>\n",
              "      <td>1.27</td>\n",
              "    </tr>\n",
              "  </tbody>\n",
              "</table>\n",
              "<p>1430 rows × 4 columns</p>\n",
              "</div>"
            ],
            "text/plain": [
              "         country food_category  consumption  co2_emission\n",
              "0      Argentina          pork        10.51         37.20\n",
              "1      Argentina       poultry        38.66         41.53\n",
              "2      Argentina          beef        55.48       1712.00\n",
              "3      Argentina     lamb_goat         1.56         54.63\n",
              "4      Argentina          fish         4.36          6.96\n",
              "...          ...           ...          ...           ...\n",
              "1425  Bangladesh         dairy        21.91         31.21\n",
              "1426  Bangladesh         wheat        17.47          3.33\n",
              "1427  Bangladesh          rice       171.73        219.76\n",
              "1428  Bangladesh      soybeans         0.61          0.27\n",
              "1429  Bangladesh          nuts         0.72          1.27\n",
              "\n",
              "[1430 rows x 4 columns]"
            ]
          },
          "execution_count": 7,
          "metadata": {},
          "output_type": "execute_result"
        }
      ],
      "source": [
        "df"
      ]
    },
    {
      "cell_type": "code",
      "execution_count": 8,
      "metadata": {
        "colab": {
          "base_uri": "https://localhost:8080/",
          "height": 394
        },
        "id": "HFnW-RCyyOyr",
        "outputId": "1bec7f8f-5380-4d3a-ddbc-025726b4ee61"
      },
      "outputs": [
        {
          "data": {
            "text/html": [
              "<div>\n",
              "<style scoped>\n",
              "    .dataframe tbody tr th:only-of-type {\n",
              "        vertical-align: middle;\n",
              "    }\n",
              "\n",
              "    .dataframe tbody tr th {\n",
              "        vertical-align: top;\n",
              "    }\n",
              "\n",
              "    .dataframe thead th {\n",
              "        text-align: right;\n",
              "    }\n",
              "</style>\n",
              "<table border=\"1\" class=\"dataframe\">\n",
              "  <thead>\n",
              "    <tr style=\"text-align: right;\">\n",
              "      <th></th>\n",
              "      <th>country</th>\n",
              "      <th>food_category</th>\n",
              "      <th>consumption</th>\n",
              "      <th>co2_emission</th>\n",
              "    </tr>\n",
              "  </thead>\n",
              "  <tbody>\n",
              "    <tr>\n",
              "      <th>count</th>\n",
              "      <td>1430</td>\n",
              "      <td>1430</td>\n",
              "      <td>1430.000000</td>\n",
              "      <td>1430.000000</td>\n",
              "    </tr>\n",
              "    <tr>\n",
              "      <th>unique</th>\n",
              "      <td>130</td>\n",
              "      <td>11</td>\n",
              "      <td>NaN</td>\n",
              "      <td>NaN</td>\n",
              "    </tr>\n",
              "    <tr>\n",
              "      <th>top</th>\n",
              "      <td>Argentina</td>\n",
              "      <td>pork</td>\n",
              "      <td>NaN</td>\n",
              "      <td>NaN</td>\n",
              "    </tr>\n",
              "    <tr>\n",
              "      <th>freq</th>\n",
              "      <td>11</td>\n",
              "      <td>130</td>\n",
              "      <td>NaN</td>\n",
              "      <td>NaN</td>\n",
              "    </tr>\n",
              "    <tr>\n",
              "      <th>mean</th>\n",
              "      <td>NaN</td>\n",
              "      <td>NaN</td>\n",
              "      <td>28.110406</td>\n",
              "      <td>74.383993</td>\n",
              "    </tr>\n",
              "    <tr>\n",
              "      <th>std</th>\n",
              "      <td>NaN</td>\n",
              "      <td>NaN</td>\n",
              "      <td>49.818044</td>\n",
              "      <td>152.098566</td>\n",
              "    </tr>\n",
              "    <tr>\n",
              "      <th>min</th>\n",
              "      <td>NaN</td>\n",
              "      <td>NaN</td>\n",
              "      <td>0.000000</td>\n",
              "      <td>0.000000</td>\n",
              "    </tr>\n",
              "    <tr>\n",
              "      <th>25%</th>\n",
              "      <td>NaN</td>\n",
              "      <td>NaN</td>\n",
              "      <td>2.365000</td>\n",
              "      <td>5.210000</td>\n",
              "    </tr>\n",
              "    <tr>\n",
              "      <th>50%</th>\n",
              "      <td>NaN</td>\n",
              "      <td>NaN</td>\n",
              "      <td>8.890000</td>\n",
              "      <td>16.530000</td>\n",
              "    </tr>\n",
              "    <tr>\n",
              "      <th>75%</th>\n",
              "      <td>NaN</td>\n",
              "      <td>NaN</td>\n",
              "      <td>28.132500</td>\n",
              "      <td>62.597500</td>\n",
              "    </tr>\n",
              "    <tr>\n",
              "      <th>max</th>\n",
              "      <td>NaN</td>\n",
              "      <td>NaN</td>\n",
              "      <td>430.760000</td>\n",
              "      <td>1712.000000</td>\n",
              "    </tr>\n",
              "  </tbody>\n",
              "</table>\n",
              "</div>"
            ],
            "text/plain": [
              "          country food_category  consumption  co2_emission\n",
              "count        1430          1430  1430.000000   1430.000000\n",
              "unique        130            11          NaN           NaN\n",
              "top     Argentina          pork          NaN           NaN\n",
              "freq           11           130          NaN           NaN\n",
              "mean          NaN           NaN    28.110406     74.383993\n",
              "std           NaN           NaN    49.818044    152.098566\n",
              "min           NaN           NaN     0.000000      0.000000\n",
              "25%           NaN           NaN     2.365000      5.210000\n",
              "50%           NaN           NaN     8.890000     16.530000\n",
              "75%           NaN           NaN    28.132500     62.597500\n",
              "max           NaN           NaN   430.760000   1712.000000"
            ]
          },
          "execution_count": 8,
          "metadata": {},
          "output_type": "execute_result"
        }
      ],
      "source": [
        "df.describe(include = 'all')"
      ]
    },
    {
      "cell_type": "code",
      "execution_count": 9,
      "metadata": {
        "id": "TefXfs8RyRer"
      },
      "outputs": [],
      "source": [
        "\n",
        "be_consumption =df[df['country'] == 'Belgium']\n",
        "\n"
      ]
    },
    {
      "cell_type": "code",
      "execution_count": 10,
      "metadata": {
        "colab": {
          "base_uri": "https://localhost:8080/",
          "height": 394
        },
        "id": "_3irOhRDuTEM",
        "outputId": "d9e5e4b0-235a-47bd-cb31-c97ada70d874"
      },
      "outputs": [
        {
          "data": {
            "text/html": [
              "<div>\n",
              "<style scoped>\n",
              "    .dataframe tbody tr th:only-of-type {\n",
              "        vertical-align: middle;\n",
              "    }\n",
              "\n",
              "    .dataframe tbody tr th {\n",
              "        vertical-align: top;\n",
              "    }\n",
              "\n",
              "    .dataframe thead th {\n",
              "        text-align: right;\n",
              "    }\n",
              "</style>\n",
              "<table border=\"1\" class=\"dataframe\">\n",
              "  <thead>\n",
              "    <tr style=\"text-align: right;\">\n",
              "      <th></th>\n",
              "      <th>country</th>\n",
              "      <th>food_category</th>\n",
              "      <th>consumption</th>\n",
              "      <th>co2_emission</th>\n",
              "    </tr>\n",
              "  </thead>\n",
              "  <tbody>\n",
              "    <tr>\n",
              "      <th>396</th>\n",
              "      <td>Belgium</td>\n",
              "      <td>pork</td>\n",
              "      <td>38.65</td>\n",
              "      <td>136.80</td>\n",
              "    </tr>\n",
              "    <tr>\n",
              "      <th>397</th>\n",
              "      <td>Belgium</td>\n",
              "      <td>poultry</td>\n",
              "      <td>12.20</td>\n",
              "      <td>13.11</td>\n",
              "    </tr>\n",
              "    <tr>\n",
              "      <th>398</th>\n",
              "      <td>Belgium</td>\n",
              "      <td>beef</td>\n",
              "      <td>15.63</td>\n",
              "      <td>482.31</td>\n",
              "    </tr>\n",
              "    <tr>\n",
              "      <th>399</th>\n",
              "      <td>Belgium</td>\n",
              "      <td>lamb_goat</td>\n",
              "      <td>1.32</td>\n",
              "      <td>46.23</td>\n",
              "    </tr>\n",
              "    <tr>\n",
              "      <th>400</th>\n",
              "      <td>Belgium</td>\n",
              "      <td>fish</td>\n",
              "      <td>18.97</td>\n",
              "      <td>30.29</td>\n",
              "    </tr>\n",
              "    <tr>\n",
              "      <th>401</th>\n",
              "      <td>Belgium</td>\n",
              "      <td>eggs</td>\n",
              "      <td>12.59</td>\n",
              "      <td>11.57</td>\n",
              "    </tr>\n",
              "    <tr>\n",
              "      <th>402</th>\n",
              "      <td>Belgium</td>\n",
              "      <td>dairy</td>\n",
              "      <td>236.19</td>\n",
              "      <td>336.43</td>\n",
              "    </tr>\n",
              "    <tr>\n",
              "      <th>403</th>\n",
              "      <td>Belgium</td>\n",
              "      <td>wheat</td>\n",
              "      <td>111.91</td>\n",
              "      <td>21.34</td>\n",
              "    </tr>\n",
              "    <tr>\n",
              "      <th>404</th>\n",
              "      <td>Belgium</td>\n",
              "      <td>rice</td>\n",
              "      <td>8.61</td>\n",
              "      <td>11.02</td>\n",
              "    </tr>\n",
              "    <tr>\n",
              "      <th>405</th>\n",
              "      <td>Belgium</td>\n",
              "      <td>soybeans</td>\n",
              "      <td>0.07</td>\n",
              "      <td>0.03</td>\n",
              "    </tr>\n",
              "    <tr>\n",
              "      <th>406</th>\n",
              "      <td>Belgium</td>\n",
              "      <td>nuts</td>\n",
              "      <td>7.32</td>\n",
              "      <td>12.96</td>\n",
              "    </tr>\n",
              "  </tbody>\n",
              "</table>\n",
              "</div>"
            ],
            "text/plain": [
              "     country food_category  consumption  co2_emission\n",
              "396  Belgium          pork        38.65        136.80\n",
              "397  Belgium       poultry        12.20         13.11\n",
              "398  Belgium          beef        15.63        482.31\n",
              "399  Belgium     lamb_goat         1.32         46.23\n",
              "400  Belgium          fish        18.97         30.29\n",
              "401  Belgium          eggs        12.59         11.57\n",
              "402  Belgium         dairy       236.19        336.43\n",
              "403  Belgium         wheat       111.91         21.34\n",
              "404  Belgium          rice         8.61         11.02\n",
              "405  Belgium      soybeans         0.07          0.03\n",
              "406  Belgium          nuts         7.32         12.96"
            ]
          },
          "execution_count": 10,
          "metadata": {},
          "output_type": "execute_result"
        }
      ],
      "source": [
        "be_consumption"
      ]
    },
    {
      "cell_type": "code",
      "execution_count": 11,
      "metadata": {
        "id": "FXnouJKRuqF8"
      },
      "outputs": [],
      "source": [
        "be_consume=be_consumption['consumption']"
      ]
    },
    {
      "cell_type": "code",
      "execution_count": 12,
      "metadata": {
        "colab": {
          "base_uri": "https://localhost:8080/"
        },
        "id": "viHOG9qZyVNc",
        "outputId": "00c340f1-535c-4621-8282-9282c4dc7b91"
      },
      "outputs": [
        {
          "name": "stdout",
          "output_type": "stream",
          "text": [
            "42.13272727272727\n"
          ]
        }
      ],
      "source": [
        "# Calculate mean and median consumption in Belgium\n",
        "\n",
        "print(np.mean(be_consume))\n"
      ]
    },
    {
      "cell_type": "code",
      "execution_count": 13,
      "metadata": {
        "colab": {
          "base_uri": "https://localhost:8080/"
        },
        "id": "caGLk9-byYA8",
        "outputId": "ae581493-b51d-4a4f-a63c-ce3f49649869"
      },
      "outputs": [
        {
          "name": "stdout",
          "output_type": "stream",
          "text": [
            "12.59\n"
          ]
        }
      ],
      "source": [
        "print(np.median(be_consume))"
      ]
    },
    {
      "cell_type": "code",
      "execution_count": 14,
      "metadata": {
        "id": "-uQ_WsUMycWt"
      },
      "outputs": [],
      "source": [
        "# Filter for USA\n",
        "usa_consumption = df[df['country'] == 'USA']\n",
        "\n"
      ]
    },
    {
      "cell_type": "code",
      "execution_count": 15,
      "metadata": {
        "colab": {
          "base_uri": "https://localhost:8080/",
          "height": 394
        },
        "id": "yl_62_lqvIzr",
        "outputId": "9bf09417-0297-48f9-ce79-53184a974543"
      },
      "outputs": [
        {
          "data": {
            "text/html": [
              "<div>\n",
              "<style scoped>\n",
              "    .dataframe tbody tr th:only-of-type {\n",
              "        vertical-align: middle;\n",
              "    }\n",
              "\n",
              "    .dataframe tbody tr th {\n",
              "        vertical-align: top;\n",
              "    }\n",
              "\n",
              "    .dataframe thead th {\n",
              "        text-align: right;\n",
              "    }\n",
              "</style>\n",
              "<table border=\"1\" class=\"dataframe\">\n",
              "  <thead>\n",
              "    <tr style=\"text-align: right;\">\n",
              "      <th></th>\n",
              "      <th>country</th>\n",
              "      <th>food_category</th>\n",
              "      <th>consumption</th>\n",
              "      <th>co2_emission</th>\n",
              "    </tr>\n",
              "  </thead>\n",
              "  <tbody>\n",
              "    <tr>\n",
              "      <th>55</th>\n",
              "      <td>USA</td>\n",
              "      <td>pork</td>\n",
              "      <td>27.64</td>\n",
              "      <td>97.83</td>\n",
              "    </tr>\n",
              "    <tr>\n",
              "      <th>56</th>\n",
              "      <td>USA</td>\n",
              "      <td>poultry</td>\n",
              "      <td>50.01</td>\n",
              "      <td>53.72</td>\n",
              "    </tr>\n",
              "    <tr>\n",
              "      <th>57</th>\n",
              "      <td>USA</td>\n",
              "      <td>beef</td>\n",
              "      <td>36.24</td>\n",
              "      <td>1118.29</td>\n",
              "    </tr>\n",
              "    <tr>\n",
              "      <th>58</th>\n",
              "      <td>USA</td>\n",
              "      <td>lamb_goat</td>\n",
              "      <td>0.43</td>\n",
              "      <td>15.06</td>\n",
              "    </tr>\n",
              "    <tr>\n",
              "      <th>59</th>\n",
              "      <td>USA</td>\n",
              "      <td>fish</td>\n",
              "      <td>12.35</td>\n",
              "      <td>19.72</td>\n",
              "    </tr>\n",
              "    <tr>\n",
              "      <th>60</th>\n",
              "      <td>USA</td>\n",
              "      <td>eggs</td>\n",
              "      <td>14.58</td>\n",
              "      <td>13.39</td>\n",
              "    </tr>\n",
              "    <tr>\n",
              "      <th>61</th>\n",
              "      <td>USA</td>\n",
              "      <td>dairy</td>\n",
              "      <td>254.69</td>\n",
              "      <td>362.78</td>\n",
              "    </tr>\n",
              "    <tr>\n",
              "      <th>62</th>\n",
              "      <td>USA</td>\n",
              "      <td>wheat</td>\n",
              "      <td>80.43</td>\n",
              "      <td>15.34</td>\n",
              "    </tr>\n",
              "    <tr>\n",
              "      <th>63</th>\n",
              "      <td>USA</td>\n",
              "      <td>rice</td>\n",
              "      <td>6.88</td>\n",
              "      <td>8.80</td>\n",
              "    </tr>\n",
              "    <tr>\n",
              "      <th>64</th>\n",
              "      <td>USA</td>\n",
              "      <td>soybeans</td>\n",
              "      <td>0.04</td>\n",
              "      <td>0.02</td>\n",
              "    </tr>\n",
              "    <tr>\n",
              "      <th>65</th>\n",
              "      <td>USA</td>\n",
              "      <td>nuts</td>\n",
              "      <td>7.86</td>\n",
              "      <td>13.91</td>\n",
              "    </tr>\n",
              "  </tbody>\n",
              "</table>\n",
              "</div>"
            ],
            "text/plain": [
              "   country food_category  consumption  co2_emission\n",
              "55     USA          pork        27.64         97.83\n",
              "56     USA       poultry        50.01         53.72\n",
              "57     USA          beef        36.24       1118.29\n",
              "58     USA     lamb_goat         0.43         15.06\n",
              "59     USA          fish        12.35         19.72\n",
              "60     USA          eggs        14.58         13.39\n",
              "61     USA         dairy       254.69        362.78\n",
              "62     USA         wheat        80.43         15.34\n",
              "63     USA          rice         6.88          8.80\n",
              "64     USA      soybeans         0.04          0.02\n",
              "65     USA          nuts         7.86         13.91"
            ]
          },
          "execution_count": 15,
          "metadata": {},
          "output_type": "execute_result"
        }
      ],
      "source": [
        "usa_consumption"
      ]
    },
    {
      "cell_type": "code",
      "execution_count": 16,
      "metadata": {
        "id": "yzr0QURZvQA-"
      },
      "outputs": [],
      "source": [
        "us_consume = usa_consumption['consumption']"
      ]
    },
    {
      "cell_type": "code",
      "execution_count": 17,
      "metadata": {
        "colab": {
          "base_uri": "https://localhost:8080/",
          "height": 429
        },
        "id": "TH7v19CcvTyb",
        "outputId": "4c5a2823-1bc8-4cba-c673-ffd77c510bb7"
      },
      "outputs": [
        {
          "data": {
            "text/plain": [
              "55     27.64\n",
              "56     50.01\n",
              "57     36.24\n",
              "58      0.43\n",
              "59     12.35\n",
              "60     14.58\n",
              "61    254.69\n",
              "62     80.43\n",
              "63      6.88\n",
              "64      0.04\n",
              "65      7.86\n",
              "Name: consumption, dtype: float64"
            ]
          },
          "execution_count": 17,
          "metadata": {},
          "output_type": "execute_result"
        }
      ],
      "source": [
        "us_consume"
      ]
    },
    {
      "cell_type": "code",
      "execution_count": 18,
      "metadata": {
        "colab": {
          "base_uri": "https://localhost:8080/"
        },
        "id": "zaLvcqHtyd6Q",
        "outputId": "00fe467a-375e-4ac8-e523-a083481e2504"
      },
      "outputs": [
        {
          "name": "stdout",
          "output_type": "stream",
          "text": [
            "44.650000000000006\n"
          ]
        }
      ],
      "source": [
        "# Calculate mean and median consumption in USA\n",
        "print(np.mean(us_consume))\n"
      ]
    },
    {
      "cell_type": "code",
      "execution_count": 19,
      "metadata": {
        "colab": {
          "base_uri": "https://localhost:8080/"
        },
        "id": "t6HgQqTkyfK5",
        "outputId": "d0a2cf0d-52ad-49f8-f7d3-ea37879fabce"
      },
      "outputs": [
        {
          "name": "stdout",
          "output_type": "stream",
          "text": [
            "14.58\n"
          ]
        }
      ],
      "source": [
        "print(np.median(us_consume))"
      ]
    },
    {
      "cell_type": "code",
      "execution_count": 20,
      "metadata": {
        "colab": {
          "base_uri": "https://localhost:8080/",
          "height": 490
        },
        "id": "YeYwtn8Jyh1F",
        "outputId": "23be46da-3d6b-43f7-d916-b2ef941340af"
      },
      "outputs": [
        {
          "data": {
            "text/plain": [
              "country\n",
              "Argentina       11\n",
              "Australia       11\n",
              "Albania         11\n",
              "Iceland         11\n",
              "New Zealand     11\n",
              "                ..\n",
              "Sierra Leone    11\n",
              "Sri Lanka       11\n",
              "Indonesia       11\n",
              "Liberia         11\n",
              "Bangladesh      11\n",
              "Name: count, Length: 130, dtype: int64"
            ]
          },
          "execution_count": 20,
          "metadata": {},
          "output_type": "execute_result"
        }
      ],
      "source": [
        "df['country'].value_counts()"
      ]
    },
    {
      "cell_type": "code",
      "execution_count": 21,
      "metadata": {
        "id": "nZoGDnCNykm1"
      },
      "outputs": [],
      "source": [
        "# Check the mode of the country column\n",
        "mode_country = df['country'].mode()"
      ]
    },
    {
      "cell_type": "code",
      "execution_count": 22,
      "metadata": {
        "colab": {
          "base_uri": "https://localhost:8080/"
        },
        "id": "T1v5csUtyl2s",
        "outputId": "9118efa4-5202-4cf5-b670-b4cbbb99bf64"
      },
      "outputs": [
        {
          "name": "stdout",
          "output_type": "stream",
          "text": [
            "Mode Country: 0        Albania\n",
            "1        Algeria\n",
            "2         Angola\n",
            "3      Argentina\n",
            "4        Armenia\n",
            "         ...    \n",
            "125      Uruguay\n",
            "126    Venezuela\n",
            "127      Vietnam\n",
            "128       Zambia\n",
            "129     Zimbabwe\n",
            "Name: country, Length: 130, dtype: object\n"
          ]
        }
      ],
      "source": [
        "print(\"Mode Country:\", mode_country)"
      ]
    },
    {
      "cell_type": "markdown",
      "metadata": {
        "id": "PZnYgvzRABKk"
      },
      "source": [
        "### Measures of Spread"
      ]
    },
    {
      "cell_type": "code",
      "execution_count": 23,
      "metadata": {
        "colab": {
          "base_uri": "https://localhost:8080/",
          "height": 424
        },
        "id": "MSirFGpcAAU1",
        "outputId": "c8acc6ce-f353-4473-d0cc-be1812d63d06"
      },
      "outputs": [
        {
          "data": {
            "text/html": [
              "<div>\n",
              "<style scoped>\n",
              "    .dataframe tbody tr th:only-of-type {\n",
              "        vertical-align: middle;\n",
              "    }\n",
              "\n",
              "    .dataframe tbody tr th {\n",
              "        vertical-align: top;\n",
              "    }\n",
              "\n",
              "    .dataframe thead th {\n",
              "        text-align: right;\n",
              "    }\n",
              "</style>\n",
              "<table border=\"1\" class=\"dataframe\">\n",
              "  <thead>\n",
              "    <tr style=\"text-align: right;\">\n",
              "      <th></th>\n",
              "      <th>country</th>\n",
              "      <th>food_category</th>\n",
              "      <th>consumption</th>\n",
              "      <th>co2_emission</th>\n",
              "    </tr>\n",
              "  </thead>\n",
              "  <tbody>\n",
              "    <tr>\n",
              "      <th>0</th>\n",
              "      <td>Argentina</td>\n",
              "      <td>pork</td>\n",
              "      <td>10.51</td>\n",
              "      <td>37.20</td>\n",
              "    </tr>\n",
              "    <tr>\n",
              "      <th>1</th>\n",
              "      <td>Argentina</td>\n",
              "      <td>poultry</td>\n",
              "      <td>38.66</td>\n",
              "      <td>41.53</td>\n",
              "    </tr>\n",
              "    <tr>\n",
              "      <th>2</th>\n",
              "      <td>Argentina</td>\n",
              "      <td>beef</td>\n",
              "      <td>55.48</td>\n",
              "      <td>1712.00</td>\n",
              "    </tr>\n",
              "    <tr>\n",
              "      <th>3</th>\n",
              "      <td>Argentina</td>\n",
              "      <td>lamb_goat</td>\n",
              "      <td>1.56</td>\n",
              "      <td>54.63</td>\n",
              "    </tr>\n",
              "    <tr>\n",
              "      <th>4</th>\n",
              "      <td>Argentina</td>\n",
              "      <td>fish</td>\n",
              "      <td>4.36</td>\n",
              "      <td>6.96</td>\n",
              "    </tr>\n",
              "    <tr>\n",
              "      <th>...</th>\n",
              "      <td>...</td>\n",
              "      <td>...</td>\n",
              "      <td>...</td>\n",
              "      <td>...</td>\n",
              "    </tr>\n",
              "    <tr>\n",
              "      <th>1425</th>\n",
              "      <td>Bangladesh</td>\n",
              "      <td>dairy</td>\n",
              "      <td>21.91</td>\n",
              "      <td>31.21</td>\n",
              "    </tr>\n",
              "    <tr>\n",
              "      <th>1426</th>\n",
              "      <td>Bangladesh</td>\n",
              "      <td>wheat</td>\n",
              "      <td>17.47</td>\n",
              "      <td>3.33</td>\n",
              "    </tr>\n",
              "    <tr>\n",
              "      <th>1427</th>\n",
              "      <td>Bangladesh</td>\n",
              "      <td>rice</td>\n",
              "      <td>171.73</td>\n",
              "      <td>219.76</td>\n",
              "    </tr>\n",
              "    <tr>\n",
              "      <th>1428</th>\n",
              "      <td>Bangladesh</td>\n",
              "      <td>soybeans</td>\n",
              "      <td>0.61</td>\n",
              "      <td>0.27</td>\n",
              "    </tr>\n",
              "    <tr>\n",
              "      <th>1429</th>\n",
              "      <td>Bangladesh</td>\n",
              "      <td>nuts</td>\n",
              "      <td>0.72</td>\n",
              "      <td>1.27</td>\n",
              "    </tr>\n",
              "  </tbody>\n",
              "</table>\n",
              "<p>1430 rows × 4 columns</p>\n",
              "</div>"
            ],
            "text/plain": [
              "         country food_category  consumption  co2_emission\n",
              "0      Argentina          pork        10.51         37.20\n",
              "1      Argentina       poultry        38.66         41.53\n",
              "2      Argentina          beef        55.48       1712.00\n",
              "3      Argentina     lamb_goat         1.56         54.63\n",
              "4      Argentina          fish         4.36          6.96\n",
              "...          ...           ...          ...           ...\n",
              "1425  Bangladesh         dairy        21.91         31.21\n",
              "1426  Bangladesh         wheat        17.47          3.33\n",
              "1427  Bangladesh          rice       171.73        219.76\n",
              "1428  Bangladesh      soybeans         0.61          0.27\n",
              "1429  Bangladesh          nuts         0.72          1.27\n",
              "\n",
              "[1430 rows x 4 columns]"
            ]
          },
          "execution_count": 23,
          "metadata": {},
          "output_type": "execute_result"
        }
      ],
      "source": [
        "df"
      ]
    },
    {
      "cell_type": "markdown",
      "metadata": {
        "id": "vpqOaTepAYab"
      },
      "source": [
        "\n",
        "## Measures of Spread\n",
        "\n",
        "Measures of spread, also known as measures of variability or dispersion, are statistical tools that describe how much the values in a dataset differ from each other and from the center, i.e., the mean. Understanding these measures enables us to interpret the distribution and consistency of the data. In other words, they show us how \"spread out\" or \"concentrated\" the data points are.\n",
        "[<img src=\"https://drive.google.com/uc?id=1Gw2Lx5IN5_mTA7j5OVlBBeXtd1NgEUsg\" alt=\"Measures of Center\" width=\"600\"/>](https://www.youtube.com/watch?v=-zUKM_AjKts)\n",
        "\n",
        "\n",
        "Some example use cases of measures of spread include:\n",
        "\n",
        "- Evaluating the consistency of test scores among students.\n",
        "- Analyzing the variability in sales data over time.\n",
        "- Assessing the risk and return in investment portfolios.\n",
        "\n",
        "Key measures of spread include:\n",
        "\n",
        "### 1. Variance\n",
        "\n",
        "- **Definition**: Variance measures how far a set of numbers is from their average value i.e mean. It calculates the average of the squared differences from the mean and provides insight into the degree of dispersion or spread in the dataset. It seeks to answer the question: How wide do the individual data points vary from the mean of the dataset? A higher variance indicates that the data points are more spread out from the mean (Outliers), while a lower variance suggests that the data points are closer to the mean.\n",
        "\n",
        "- **Importance**: Variance is important because it provides a mathematical basis for standard deviation and can give first hand insight into the presence of outlier.\n",
        "\n",
        "- **Formula**:\n",
        "  $$\n",
        "  \\text{Variance} (\\sigma^2) = \\frac{\\sum_{i=1}^{n} (x_i - \\mu)^2}{n}\n",
        "  $$\n",
        "\n",
        "- **Example**: Using the previous dataset [4, 8, 6, 5, 3] \\, the variance will be giving us:\n",
        "  $$\n",
        "  \\text{Variance} = 2.96\n",
        "  $$\n",
        "\n",
        "\n",
        "### 2. Standard Deviation(Std)\n",
        "\n",
        "- **Definition**: Standard deviation is a measure that quantifies the amount of variation or dispersion in a set of values. A low standard deviation indicates that the data points tend to be close to the mean, while a high standard deviation suggests that the data points are spread out over a larger range of values (Outliers). It is simply the squareroot of the variance\n",
        "\n",
        "- **Importance**: Standard deviation helps you understand how consistent or reliable your data is. For instance, if you're measuring test scores, a low standard deviation means that most students scored similarly, while a high standard deviation means that scores varied widely.\n",
        "\n",
        "- **Formula**:\n",
        "  $$\n",
        "  \\text{Standard Deviation} (\\sigma) = \\sqrt{\\frac{\\sum_{i=1}^{n} (x_i - \\mu)^2}{n}}\n",
        "  $$\n",
        "  Where:\n",
        "  - \\($x_i$\\) is each observation,\n",
        "  - \\($\\mu$\\) is the mean of the dataset,\n",
        "  - \\($n\\$) is the total number of values.\n",
        "\n",
        "- **Example**: Let's calculate the standard deviation for the dataset [4, 8, 6, 5, 3] \\:\n",
        "  1. **Calculate the Mean**:\n",
        "     $$\n",
        "     \\mu = \\frac{4 + 8 + 6 + 5 + 3}{5} = 5.2\n",
        "     $$\n",
        "  2. **Calculate the Variance** (the average of the squared differences from the mean):\n",
        "     $$\n",
        "     \\text{Variance} = \\frac{(4 - 5.2)^2 + (8 - 5.2)^2 + (6 - 5.2)^2 + (5 - 5.2)^2 + (3 - 5.2)^2}{5} = \\frac{(1.44 + 7.84 + 0.64 + 0.04 + 4.84)}{5} = \\frac{14.8}{5} = 2.96\n",
        "     $$\n",
        "  3. **Finally, calculate the Standard Deviation**:\n",
        "     $$\n",
        "     \\sigma = \\sqrt{2.96} \\approx 1.72\n",
        "     $$\n",
        "     [<img src=\"https://drive.google.com/uc?id=1zrVBK94AQ9c5ILPmTjzpF-wLEl_59vEl\" alt=\"Measures of Center\" width=\"500\"/>](https://stats.stackexchange.com/questions/476677/understanding-standard-deviation-in-normal-distribution)\n",
        "\n",
        "### 3. Range\n",
        "\n",
        "- **Definition**: The range is the simplest measure of spread and is calculated as the difference between the maximum and minimum values in a dataset.\n",
        "\n",
        "- **Importance**: The range gives a quick sense of the spread of the data but can be heavily influenced by outliers.\n",
        "\n",
        "- **Formula**:\n",
        "  $$\n",
        "  \\text{Range} = \\text{Max} - \\text{Min}\n",
        "  $$\n",
        "\n",
        "- **Example**: For the dataset $[4, 8, 6, 5, 3] \\$:\n",
        "  $$\n",
        "  \\text{Range} = 8 - 3 = 5\n",
        "  $$\n",
        "\n",
        "\n",
        "### 4. Percentiles\n",
        "\n",
        "\n",
        "- **Definition**: Percentiles are values that divide a dataset into 100 equal parts. The \\$k\\$-th percentile is the value below which $k$% of the data falls.\n",
        "\n",
        "- **Importance**: Percentiles provide insights into the relative standing of data points within a dataset and helps to identify the distribution of values.\n",
        "- **Example**: The $50th$ percentile is the median, which divides the data into two equal halves.\n",
        "\n",
        "[<img src=\"https://drive.google.com/uc?id=1cBTbSiYMcn_3555vRpoHUOp6l2p12nFO\" alt=\"Measures of Center\" width=\"500\"/>](https://www.timescale.com/blog/how-percentiles-work-and-why-theyre-better-than-averages/)\n",
        "\n",
        "### 5. Interquartile Range (IQR)\n",
        "\n",
        "- **Definition**: The interquartile range is a measure of statistical dispersion that describes the range within which  50% of the data points lie/fall. It is calculated as the difference between the third quartile ($Q3$) and the first quartile ($Q1$).\n",
        "\n",
        "- **Importance**: IQR is a robust measure of spread that is less affected by outliers than the range. It helps to identify the middle spread of the data.\n",
        "\n",
        "- **Formula**:\n",
        "  $$\n",
        "  \\text{IQR} = Q_3 - Q_1\n",
        "  $$\n",
        "  Where:\n",
        "  - $Q_1$ is the first quartile 25th percentile,\n",
        "  - $Q_3$ is the third quartile 75th percentile.\n",
        "\n",
        "### 6. Skewness\n",
        "\n",
        "- **Definition**: Skewness measures the asymmetry of the distribution of values in a dataset. It tells you whether the data points are skewed/drawn to the left or right of the mean. A skewness value of zero indicates a symmetric distribution.\n",
        "\n",
        "- **Types of Skewness**:\n",
        "  - **Positive Skewness**: The Tail is on the right side (data is skewed to the right). The mean is greater than the median.\n",
        "  - **Negative Skewness**: Tail on the left side (data is skewed to the left). The mean is less than the median.\n",
        "\n",
        "  [<img src=\"https://drive.google.com/uc?id=1ZJxwOGApc_IIi0aWltdxDpFSXNlOmIvx\" alt=\"Measures of Center\" width=\"500\"/>](https://medium.com/@dhaval.sony.504/everything-you-should-know-about-skewness-c5edf381cc6d)\n",
        "\n",
        "- **Formula**:\n",
        "  $$\n",
        "  \\text{Skewness} = \\frac{n}{(n-1)(n-2)} \\sum_{i=1}^{n} \\left(\\frac{x_i - \\mu}{\\sigma}\\right)^3\n",
        "  $$\n",
        "\n",
        "- **Example**: To calculate the skewness of the dataset $[1, 2, 2, 3, 10] \\$:\n",
        "  1. Calculate the mean μ and standard deviation σ.\n",
        "  2. Substitute  them into the skewness formula. You would find a positive skewness value indicating that the data is skewed to the right due to the presence of the outlier \"10\".\n",
        "\n",
        "### 7. Kurtosis\n",
        "\n",
        "- **Definition**: Kurtosis is a statistical measure that describes the distribution of data points in the tails relative to the overall distribution. It provides insights into the \"tailedness\" of the distribution. High kurtosis indicates heavy tails and a sharp peak (more outliers), while low kurtosis indicates light tails and a flatter peak.\n",
        "\n",
        "\n",
        "[<img src=\"https://drive.google.com/uc?id=16I8oJe6AC77-Fk_5JWi-KCoRYGrgSSS9\" alt=\"Measures of Center\" width=\"500\"/>](https://www.scribbr.com/statistics/kurtosis/)\n",
        "\n",
        "- **Types of Kurtosis**:\n",
        "  - **Leptokurtic**: Has High kurtosis (>3) - Data with heavy tails and a sharper peak, indicating potential outliers.\n",
        "  - **Mesokurtic**: Normal distribution (≈3) - Data with moderate tails, resembling a normal distribution.\n",
        "  - **Platykurtic**: Low kurtosis (<3) - Data with light tails and a flatter peak, suggesting fewer outliers.\n",
        "\n",
        "- **Formula**:\n",
        "  $$\n",
        "  \\text{Kurtosis} = \\frac{n(n+1)}{(n-1)(n-2)(n-3)} \\sum_{i=1}^{n} \\left(\\frac{x_i - \\mu}{\\sigma}\\right)^4 - \\frac{3(n-1)^2}{(n-2)(n-3)}\n",
        "  $$\n",
        "\n",
        "- **Example**: For a dataset  [1, 2, 3, 4, 5] , you can compute the kurtosis by substituting values into the formula.\n",
        "PS: calculating kurtosis typically requires statistical software for larger datasets.\n",
        "\n",
        "Understanding measures of spread is crucial for effectively interpreting data distributions. These measures help understand the variability, consistency, and overall characteristics of datasets. Measures like kurtosis and skewness, while often discussed in the context of spread, are more accurately described as measures of shape, as they provide detail into the distribution's characteristics rather than its variability alone.\n"
      ]
    },
    {
      "cell_type": "markdown",
      "metadata": {
        "id": "OthZXMxeA-vH"
      },
      "source": [
        "Let's Practice"
      ]
    },
    {
      "cell_type": "code",
      "execution_count": 24,
      "metadata": {
        "id": "roHib-o2A2O0"
      },
      "outputs": [],
      "source": [
        "co2_min = df['co2_emission'].min()  # Minimum value"
      ]
    },
    {
      "cell_type": "code",
      "execution_count": 25,
      "metadata": {
        "colab": {
          "base_uri": "https://localhost:8080/"
        },
        "id": "GTrCDZAmBye2",
        "outputId": "324f67a5-261b-4aa0-84c0-ba4d1072e2bc"
      },
      "outputs": [
        {
          "data": {
            "text/plain": [
              "np.float64(0.0)"
            ]
          },
          "execution_count": 25,
          "metadata": {},
          "output_type": "execute_result"
        }
      ],
      "source": [
        "co2_min"
      ]
    },
    {
      "cell_type": "code",
      "execution_count": 26,
      "metadata": {
        "id": "p7KzHzCgBDbF"
      },
      "outputs": [],
      "source": [
        "co2_max = df['co2_emission'].max()  # Maximum value"
      ]
    },
    {
      "cell_type": "code",
      "execution_count": 27,
      "metadata": {
        "colab": {
          "base_uri": "https://localhost:8080/"
        },
        "id": "Xkcf-KkBB3zJ",
        "outputId": "c42d863e-c59a-4a5d-cd3a-59f6ff00bfe3"
      },
      "outputs": [
        {
          "data": {
            "text/plain": [
              "np.float64(1712.0)"
            ]
          },
          "execution_count": 27,
          "metadata": {},
          "output_type": "execute_result"
        }
      ],
      "source": [
        "co2_max"
      ]
    },
    {
      "cell_type": "code",
      "execution_count": 28,
      "metadata": {
        "id": "bFe4U_DxBF-_"
      },
      "outputs": [],
      "source": [
        "co2_range = co2_max - co2_min       # Calculate range"
      ]
    },
    {
      "cell_type": "code",
      "execution_count": 29,
      "metadata": {
        "colab": {
          "base_uri": "https://localhost:8080/"
        },
        "id": "5yNKR2S-BIDs",
        "outputId": "9671d912-5a0a-4953-ac0e-a68ea311f43c"
      },
      "outputs": [
        {
          "name": "stdout",
          "output_type": "stream",
          "text": [
            "CO2 Emission Range: 1712.0\n"
          ]
        }
      ],
      "source": [
        "print(\"CO2 Emission Range:\", co2_range)"
      ]
    },
    {
      "cell_type": "code",
      "execution_count": 30,
      "metadata": {
        "colab": {
          "base_uri": "https://localhost:8080/",
          "height": 300
        },
        "id": "31a8Y2cPCCTy",
        "outputId": "55a70784-ad02-46d5-fcd7-3d4c970f58b9"
      },
      "outputs": [
        {
          "data": {
            "text/html": [
              "<div>\n",
              "<style scoped>\n",
              "    .dataframe tbody tr th:only-of-type {\n",
              "        vertical-align: middle;\n",
              "    }\n",
              "\n",
              "    .dataframe tbody tr th {\n",
              "        vertical-align: top;\n",
              "    }\n",
              "\n",
              "    .dataframe thead th {\n",
              "        text-align: right;\n",
              "    }\n",
              "</style>\n",
              "<table border=\"1\" class=\"dataframe\">\n",
              "  <thead>\n",
              "    <tr style=\"text-align: right;\">\n",
              "      <th></th>\n",
              "      <th>consumption</th>\n",
              "      <th>co2_emission</th>\n",
              "    </tr>\n",
              "  </thead>\n",
              "  <tbody>\n",
              "    <tr>\n",
              "      <th>count</th>\n",
              "      <td>1430.000000</td>\n",
              "      <td>1430.000000</td>\n",
              "    </tr>\n",
              "    <tr>\n",
              "      <th>mean</th>\n",
              "      <td>28.110406</td>\n",
              "      <td>74.383993</td>\n",
              "    </tr>\n",
              "    <tr>\n",
              "      <th>std</th>\n",
              "      <td>49.818044</td>\n",
              "      <td>152.098566</td>\n",
              "    </tr>\n",
              "    <tr>\n",
              "      <th>min</th>\n",
              "      <td>0.000000</td>\n",
              "      <td>0.000000</td>\n",
              "    </tr>\n",
              "    <tr>\n",
              "      <th>25%</th>\n",
              "      <td>2.365000</td>\n",
              "      <td>5.210000</td>\n",
              "    </tr>\n",
              "    <tr>\n",
              "      <th>50%</th>\n",
              "      <td>8.890000</td>\n",
              "      <td>16.530000</td>\n",
              "    </tr>\n",
              "    <tr>\n",
              "      <th>75%</th>\n",
              "      <td>28.132500</td>\n",
              "      <td>62.597500</td>\n",
              "    </tr>\n",
              "    <tr>\n",
              "      <th>max</th>\n",
              "      <td>430.760000</td>\n",
              "      <td>1712.000000</td>\n",
              "    </tr>\n",
              "  </tbody>\n",
              "</table>\n",
              "</div>"
            ],
            "text/plain": [
              "       consumption  co2_emission\n",
              "count  1430.000000   1430.000000\n",
              "mean     28.110406     74.383993\n",
              "std      49.818044    152.098566\n",
              "min       0.000000      0.000000\n",
              "25%       2.365000      5.210000\n",
              "50%       8.890000     16.530000\n",
              "75%      28.132500     62.597500\n",
              "max     430.760000   1712.000000"
            ]
          },
          "execution_count": 30,
          "metadata": {},
          "output_type": "execute_result"
        }
      ],
      "source": [
        "df.describe()"
      ]
    },
    {
      "cell_type": "code",
      "execution_count": 31,
      "metadata": {
        "colab": {
          "base_uri": "https://localhost:8080/"
        },
        "id": "ICAXF14sCJyY",
        "outputId": "65dce9f9-66d8-470b-a6d4-6f8a7b973395"
      },
      "outputs": [
        {
          "data": {
            "text/plain": [
              "np.float64(23133.97363855838)"
            ]
          },
          "execution_count": 31,
          "metadata": {},
          "output_type": "execute_result"
        }
      ],
      "source": [
        "df['co2_emission'].var()"
      ]
    },
    {
      "cell_type": "code",
      "execution_count": 32,
      "metadata": {
        "colab": {
          "base_uri": "https://localhost:8080/"
        },
        "id": "PaxKESu4CQ7g",
        "outputId": "4c090451-dd3b-4172-9ddf-6d255bf40086"
      },
      "outputs": [
        {
          "data": {
            "text/plain": [
              "np.float64(152.09856553747764)"
            ]
          },
          "execution_count": 32,
          "metadata": {},
          "output_type": "execute_result"
        }
      ],
      "source": [
        "df['co2_emission'].std()"
      ]
    },
    {
      "cell_type": "code",
      "execution_count": 33,
      "metadata": {
        "id": "Mc2PyNEqCX28"
      },
      "outputs": [],
      "source": [
        "percentiles = df['co2_emission'].quantile([0.10, 0.25, 0.50, 0.75])"
      ]
    },
    {
      "cell_type": "code",
      "execution_count": 34,
      "metadata": {
        "colab": {
          "base_uri": "https://localhost:8080/"
        },
        "id": "yC2us1KICaq3",
        "outputId": "72fe2d3c-df50-4792-feb8-da0388e70b7d"
      },
      "outputs": [
        {
          "name": "stdout",
          "output_type": "stream",
          "text": [
            "Percentiles:\n",
            " 0.10     0.6680\n",
            "0.25     5.2100\n",
            "0.50    16.5300\n",
            "0.75    62.5975\n",
            "Name: co2_emission, dtype: float64\n"
          ]
        }
      ],
      "source": [
        "print(\"Percentiles:\\n\", percentiles)"
      ]
    },
    {
      "cell_type": "code",
      "execution_count": 35,
      "metadata": {
        "id": "CA5MWKhOCjG3"
      },
      "outputs": [],
      "source": [
        "iqr = percentiles[0.75] - percentiles[0.25]"
      ]
    },
    {
      "cell_type": "code",
      "execution_count": 36,
      "metadata": {
        "colab": {
          "base_uri": "https://localhost:8080/"
        },
        "id": "d79qkIrhCl9L",
        "outputId": "c243ad08-9dad-4704-ca97-f3c322065fda"
      },
      "outputs": [
        {
          "name": "stdout",
          "output_type": "stream",
          "text": [
            "Interquartile Range (IQR): 57.3875\n"
          ]
        }
      ],
      "source": [
        "print(\"Interquartile Range (IQR):\", iqr)"
      ]
    },
    {
      "cell_type": "code",
      "execution_count": 37,
      "metadata": {
        "colab": {
          "base_uri": "https://localhost:8080/"
        },
        "id": "qA0BCuClC1ao",
        "outputId": "7a2b1737-36ab-4b48-ea7b-e9dd924aabaf"
      },
      "outputs": [
        {
          "name": "stdout",
          "output_type": "stream",
          "text": [
            "Percentiles:\n",
            " [0.6680000000000001, 5.21, 16.53, 62.597500000000004]\n"
          ]
        }
      ],
      "source": [
        "print(\"Percentiles:\\n\", list(percentiles))"
      ]
    },
    {
      "cell_type": "code",
      "execution_count": 38,
      "metadata": {
        "id": "85jufR7KC3Hl"
      },
      "outputs": [],
      "source": [
        "iqr = list(percentiles)[3] - list(percentiles)[1]"
      ]
    },
    {
      "cell_type": "code",
      "execution_count": 39,
      "metadata": {
        "colab": {
          "base_uri": "https://localhost:8080/"
        },
        "id": "K65QuBlQFAnS",
        "outputId": "0ef6e3dd-e0af-47ee-fb92-6a5f45a449e8"
      },
      "outputs": [
        {
          "name": "stdout",
          "output_type": "stream",
          "text": [
            "Interquartile Range (IQR): 57.3875\n"
          ]
        }
      ],
      "source": [
        "print(\"Interquartile Range (IQR):\", iqr)"
      ]
    },
    {
      "cell_type": "code",
      "execution_count": 40,
      "metadata": {
        "id": "9gJy6o98FI35"
      },
      "outputs": [],
      "source": [
        "skewness = df['co2_emission'].skew()"
      ]
    },
    {
      "cell_type": "code",
      "execution_count": 41,
      "metadata": {
        "colab": {
          "base_uri": "https://localhost:8080/"
        },
        "id": "1FU-ciIKFMcW",
        "outputId": "3629862a-54a9-4f30-ac18-f4ab63641e02"
      },
      "outputs": [
        {
          "name": "stdout",
          "output_type": "stream",
          "text": [
            "Skewness: 4.005538916322443\n"
          ]
        }
      ],
      "source": [
        "print(\"Skewness:\", skewness)"
      ]
    },
    {
      "cell_type": "code",
      "execution_count": 42,
      "metadata": {
        "id": "eB4IDFzQHxu0"
      },
      "outputs": [],
      "source": [
        "import matplotlib.pyplot as plt\n",
        "import seaborn as sns"
      ]
    },
    {
      "cell_type": "code",
      "execution_count": 43,
      "metadata": {
        "id": "nx8WhRH0H4Y-"
      },
      "outputs": [],
      "source": [
        "data = df['co2_emission']\n"
      ]
    },
    {
      "cell_type": "code",
      "execution_count": 44,
      "metadata": {
        "id": "OCUIR5tyH_gK"
      },
      "outputs": [],
      "source": [
        "# Calculate statistics\n",
        "mean_val = data.mean()\n",
        "median_val = data.median()\n",
        "mode_val = data.mode()[0]\n",
        "skewness = data.skew()"
      ]
    },
    {
      "cell_type": "code",
      "execution_count": 45,
      "metadata": {
        "colab": {
          "base_uri": "https://localhost:8080/",
          "height": 565
        },
        "id": "ocn5XaWRH782",
        "outputId": "baf78027-1c13-475e-cd9a-1a35d2ddbfa0"
      },
      "outputs": [
        {
          "data": {
            "image/png": "[encoded data removed]",
            "text/plain": [
              "<Figure size 1000x600 with 1 Axes>"
            ]
          },
          "metadata": {},
          "output_type": "display_data"
        }
      ],
      "source": [
        "# Plot histogram with KDE\n",
        "plt.figure(figsize=(10,6))\n",
        "sns.histplot(data, bins=30, kde=True, color=\"purple\")\n",
        "\n",
        "# Add vertical lines\n",
        "plt.axvline(mean_val, color='green', linestyle='--', linewidth=2, label=f'Mean = {mean_val:.2f}')\n",
        "plt.axvline(median_val, color='grey', linestyle='-', linewidth=2, label=f'Median = {median_val:.2f}')\n",
        "plt.axvline(mode_val, color='red', linestyle=':', linewidth=2, label=f'Mode = {mode_val:.2f}')\n",
        "\n",
        "# Add title and skewness\n",
        "plt.title(f\"CO2 Emission Distribution (Skewness = {skewness:.2f})\", fontsize=14)\n",
        "plt.xlabel(\"CO2 Emission\")\n",
        "plt.ylabel(\"Frequency\")\n",
        "plt.legend()\n",
        "\n",
        "plt.show()"
      ]
    },
    {
      "cell_type": "code",
      "execution_count": 46,
      "metadata": {
        "id": "sb5NycOiFRGy"
      },
      "outputs": [],
      "source": [
        "kurtosis = df['co2_emission'].kurtosis()"
      ]
    },
    {
      "cell_type": "code",
      "execution_count": 47,
      "metadata": {
        "colab": {
          "base_uri": "https://localhost:8080/"
        },
        "id": "l89H-NaaFTZg",
        "outputId": "e8cf1009-cc95-4cdd-98ef-aa4a1c23298d"
      },
      "outputs": [
        {
          "name": "stdout",
          "output_type": "stream",
          "text": [
            "Kurtosis: 21.85070219520907\n"
          ]
        }
      ],
      "source": [
        "print(\"Kurtosis:\", kurtosis)"
      ]
    },
    {
      "cell_type": "markdown",
      "metadata": {
        "id": "MhlpUGz_JGII"
      },
      "source": [
        "### Test of Hypothesis"
      ]
    },
    {
      "cell_type": "code",
      "execution_count": 48,
      "metadata": {
        "id": "OdIVl7gZJKxG"
      },
      "outputs": [],
      "source": [
        "from scipy import stats"
      ]
    },
    {
      "cell_type": "code",
      "execution_count": 49,
      "metadata": {
        "colab": {
          "base_uri": "https://localhost:8080/",
          "height": 424
        },
        "id": "kHZLEoGOqwSH",
        "outputId": "d2e2531b-3a18-4776-d1e7-5e173599ea1e"
      },
      "outputs": [
        {
          "data": {
            "text/html": [
              "<div>\n",
              "<style scoped>\n",
              "    .dataframe tbody tr th:only-of-type {\n",
              "        vertical-align: middle;\n",
              "    }\n",
              "\n",
              "    .dataframe tbody tr th {\n",
              "        vertical-align: top;\n",
              "    }\n",
              "\n",
              "    .dataframe thead th {\n",
              "        text-align: right;\n",
              "    }\n",
              "</style>\n",
              "<table border=\"1\" class=\"dataframe\">\n",
              "  <thead>\n",
              "    <tr style=\"text-align: right;\">\n",
              "      <th></th>\n",
              "      <th>country</th>\n",
              "      <th>food_category</th>\n",
              "      <th>consumption</th>\n",
              "      <th>co2_emission</th>\n",
              "    </tr>\n",
              "  </thead>\n",
              "  <tbody>\n",
              "    <tr>\n",
              "      <th>0</th>\n",
              "      <td>Argentina</td>\n",
              "      <td>pork</td>\n",
              "      <td>10.51</td>\n",
              "      <td>37.20</td>\n",
              "    </tr>\n",
              "    <tr>\n",
              "      <th>1</th>\n",
              "      <td>Argentina</td>\n",
              "      <td>poultry</td>\n",
              "      <td>38.66</td>\n",
              "      <td>41.53</td>\n",
              "    </tr>\n",
              "    <tr>\n",
              "      <th>2</th>\n",
              "      <td>Argentina</td>\n",
              "      <td>beef</td>\n",
              "      <td>55.48</td>\n",
              "      <td>1712.00</td>\n",
              "    </tr>\n",
              "    <tr>\n",
              "      <th>3</th>\n",
              "      <td>Argentina</td>\n",
              "      <td>lamb_goat</td>\n",
              "      <td>1.56</td>\n",
              "      <td>54.63</td>\n",
              "    </tr>\n",
              "    <tr>\n",
              "      <th>4</th>\n",
              "      <td>Argentina</td>\n",
              "      <td>fish</td>\n",
              "      <td>4.36</td>\n",
              "      <td>6.96</td>\n",
              "    </tr>\n",
              "    <tr>\n",
              "      <th>...</th>\n",
              "      <td>...</td>\n",
              "      <td>...</td>\n",
              "      <td>...</td>\n",
              "      <td>...</td>\n",
              "    </tr>\n",
              "    <tr>\n",
              "      <th>1425</th>\n",
              "      <td>Bangladesh</td>\n",
              "      <td>dairy</td>\n",
              "      <td>21.91</td>\n",
              "      <td>31.21</td>\n",
              "    </tr>\n",
              "    <tr>\n",
              "      <th>1426</th>\n",
              "      <td>Bangladesh</td>\n",
              "      <td>wheat</td>\n",
              "      <td>17.47</td>\n",
              "      <td>3.33</td>\n",
              "    </tr>\n",
              "    <tr>\n",
              "      <th>1427</th>\n",
              "      <td>Bangladesh</td>\n",
              "      <td>rice</td>\n",
              "      <td>171.73</td>\n",
              "      <td>219.76</td>\n",
              "    </tr>\n",
              "    <tr>\n",
              "      <th>1428</th>\n",
              "      <td>Bangladesh</td>\n",
              "      <td>soybeans</td>\n",
              "      <td>0.61</td>\n",
              "      <td>0.27</td>\n",
              "    </tr>\n",
              "    <tr>\n",
              "      <th>1429</th>\n",
              "      <td>Bangladesh</td>\n",
              "      <td>nuts</td>\n",
              "      <td>0.72</td>\n",
              "      <td>1.27</td>\n",
              "    </tr>\n",
              "  </tbody>\n",
              "</table>\n",
              "<p>1430 rows × 4 columns</p>\n",
              "</div>"
            ],
            "text/plain": [
              "         country food_category  consumption  co2_emission\n",
              "0      Argentina          pork        10.51         37.20\n",
              "1      Argentina       poultry        38.66         41.53\n",
              "2      Argentina          beef        55.48       1712.00\n",
              "3      Argentina     lamb_goat         1.56         54.63\n",
              "4      Argentina          fish         4.36          6.96\n",
              "...          ...           ...          ...           ...\n",
              "1425  Bangladesh         dairy        21.91         31.21\n",
              "1426  Bangladesh         wheat        17.47          3.33\n",
              "1427  Bangladesh          rice       171.73        219.76\n",
              "1428  Bangladesh      soybeans         0.61          0.27\n",
              "1429  Bangladesh          nuts         0.72          1.27\n",
              "\n",
              "[1430 rows x 4 columns]"
            ]
          },
          "execution_count": 49,
          "metadata": {},
          "output_type": "execute_result"
        }
      ],
      "source": [
        "df"
      ]
    },
    {
      "cell_type": "markdown",
      "metadata": {
        "id": "2rAMLYRYqX2c"
      },
      "source": [
        "#### One-Sample t-Test"
      ]
    },
    {
      "cell_type": "markdown",
      "metadata": {
        "id": "ai-10S3YqdKD"
      },
      "source": [
        "Question:\n",
        "Is the average beef consumption in Argentina significantly different from 50 kg/person/year?"
      ]
    },
    {
      "cell_type": "markdown",
      "metadata": {
        "id": "GMZmlU0PqiSb"
      },
      "source": [
        "H₀: Mean beef consumption in Argentina = 50\n",
        "\n",
        "H₁: Mean beef consumption in Argentina ≠ 50"
      ]
    },
    {
      "cell_type": "code",
      "execution_count": 69,
      "metadata": {
        "id": "SUy5yhLsqh5v"
      },
      "outputs": [],
      "source": [
        "# Select Argentina and Bangladesh beef consumption\n",
        "arg_beef = df[(df[\"country\"]==\"Argentina\") & (df[\"food_category\"]==\"beef\")]\n",
        "ban_beef = df[(df[\"country\"]==\"Bangladesh\") & (df[\"food_category\"]==\"beef\")]"
      ]
    },
    {
      "cell_type": "code",
      "execution_count": 75,
      "metadata": {
        "colab": {
          "base_uri": "https://localhost:8080/",
          "height": 89
        },
        "id": "EVXZERxJqZX3",
        "outputId": "1ee23db5-a899-495b-af4a-bd4e2b747add"
      },
      "outputs": [
        {
          "name": "stdout",
          "output_type": "stream",
          "text": [
            "Beef consumption for Argentina:\n",
            "      country food_category  consumption  co2_emission\n",
            "2  Argentina          beef        55.48        1712.0\n",
            "Beef consumption for Bangladesh:\n",
            "          country food_category  consumption  co2_emission\n",
            "1421  Bangladesh          beef         1.28          39.5\n"
          ]
        }
      ],
      "source": [
        "print(f\"Beef consumption for Argentina:\\n\", arg_beef)\n",
        "print(f\"Beef consumption for Bangladesh:\\n\", ban_beef)"
      ]
    },
    {
      "cell_type": "code",
      "execution_count": 52,
      "metadata": {
        "id": "bo0PiCZyrheX"
      },
      "outputs": [],
      "source": [
        "arg_consump = arg_beef[\"consumption\"]"
      ]
    },
    {
      "cell_type": "code",
      "execution_count": 53,
      "metadata": {
        "colab": {
          "base_uri": "https://localhost:8080/",
          "height": 115
        },
        "id": "fqWP6KxzrxEl",
        "outputId": "7da0a0f0-3b25-4667-8eb4-376b5a029bf6"
      },
      "outputs": [
        {
          "data": {
            "text/plain": [
              "2    55.48\n",
              "Name: consumption, dtype: float64"
            ]
          },
          "execution_count": 53,
          "metadata": {},
          "output_type": "execute_result"
        }
      ],
      "source": [
        "arg_consump"
      ]
    },
    {
      "cell_type": "code",
      "execution_count": 54,
      "metadata": {
        "colab": {
          "base_uri": "https://localhost:8080/"
        },
        "id": "qDdbW111r2tW",
        "outputId": "a08e6238-324a-4616-97f6-2d46e43cc05d"
      },
      "outputs": [
        {
          "data": {
            "text/plain": [
              "np.float64(55.48)"
            ]
          },
          "execution_count": 54,
          "metadata": {},
          "output_type": "execute_result"
        }
      ],
      "source": [
        "arg_consump_mean = arg_consump.mean()\n",
        "arg_consump_mean"
      ]
    },
    {
      "cell_type": "code",
      "execution_count": 55,
      "metadata": {
        "colab": {
          "base_uri": "https://localhost:8080/"
        },
        "id": "Wsm8FKgzrqyV",
        "outputId": "3dd006c6-803d-42b1-c6d8-b58fd30b866b"
      },
      "outputs": [
        {
          "name": "stdout",
          "output_type": "stream",
          "text": [
            "Mean Beef Consumption (Argentina): 55.48\n"
          ]
        }
      ],
      "source": [
        "print(\"Mean Beef Consumption (Argentina):\", arg_consump_mean)"
      ]
    },
    {
      "cell_type": "code",
      "execution_count": 56,
      "metadata": {
        "id": "j8-IDm1lsr-A"
      },
      "outputs": [],
      "source": [
        "arg_beef_samples = np.random.normal(loc=arg_consump_mean, scale=5, size=30)\n",
        "ban_beef_samples = np.random.normal(loc=arg_consump_mean, scale=5, size=30)"
      ]
    },
    {
      "cell_type": "code",
      "execution_count": 57,
      "metadata": {
        "colab": {
          "base_uri": "https://localhost:8080/"
        },
        "id": "GeOwZqYGsv1E",
        "outputId": "bc81659a-4916-4824-e293-1a9512003633"
      },
      "outputs": [
        {
          "data": {
            "text/plain": [
              "array([64.00462931, 52.12597907, 50.13463165, 52.91766575, 63.07631542,\n",
              "       56.78185728, 53.64706376, 52.26165224, 54.27954447, 52.40526134,\n",
              "       59.14717372, 47.74638617, 57.37062799, 52.95184842, 54.20188661,\n",
              "       52.30444022, 58.49137959, 53.58450981, 53.36104713, 52.41932781,\n",
              "       58.13376487, 53.52947112, 56.09849097, 61.45289253, 58.39312954,\n",
              "       53.34180668, 48.62056212, 54.09450802, 55.15083613, 59.04277823])"
            ]
          },
          "execution_count": 57,
          "metadata": {},
          "output_type": "execute_result"
        }
      ],
      "source": [
        "arg_beef_samples\n",
        "ban_beef_samples\n"
      ]
    },
    {
      "cell_type": "code",
      "execution_count": 59,
      "metadata": {
        "id": "5ucmwk0ysETe"
      },
      "outputs": [],
      "source": [
        "# One-sample t-test\n",
        "t_stat, p_val = stats.ttest_1samp(arg_beef_samples, 50)"
      ]
    },
    {
      "cell_type": "code",
      "execution_count": 60,
      "metadata": {
        "colab": {
          "base_uri": "https://localhost:8080/"
        },
        "id": "lFrJRe_usAjF",
        "outputId": "6943f719-8be3-4a28-d64b-f433dabdd009"
      },
      "outputs": [
        {
          "name": "stdout",
          "output_type": "stream",
          "text": [
            "T-statistic: 4.548131528396616\n"
          ]
        }
      ],
      "source": [
        "print(\"T-statistic:\", t_stat)"
      ]
    },
    {
      "cell_type": "code",
      "execution_count": 61,
      "metadata": {
        "colab": {
          "base_uri": "https://localhost:8080/"
        },
        "id": "xFUFgoBMtFi-",
        "outputId": "30da39b7-d7e5-45ce-f0e2-78503688cacf"
      },
      "outputs": [
        {
          "name": "stdout",
          "output_type": "stream",
          "text": [
            "P-value: 8.888311112093241e-05\n"
          ]
        }
      ],
      "source": [
        "print(\"P-value:\", p_val)"
      ]
    },
    {
      "cell_type": "markdown",
      "metadata": {
        "id": "hBUoR10QtPx2"
      },
      "source": [
        "Interpretation for Students:\n",
        "\n",
        "If p < 0.05, reject H₀ → beef consumption differs significantly.\n",
        "\n",
        "If p ≥ 0.05, fail to reject H₀."
      ]
    },
    {
      "cell_type": "markdown",
      "metadata": {
        "id": "V_66E9_8uaua"
      },
      "source": [
        "#### Correlation Analysis"
      ]
    },
    {
      "cell_type": "markdown",
      "metadata": {
        "id": "9FFnCndeucg8"
      },
      "source": [
        "Is there a relationship between food consumption and CO₂ emissions?"
      ]
    },
    {
      "cell_type": "markdown",
      "metadata": {
        "id": "EoRz0jwcunfS"
      },
      "source": [
        "H₀: No correlation between consumption and CO₂ emission\n",
        "\n",
        "H₁: There is a relationship correlation"
      ]
    },
    {
      "cell_type": "code",
      "execution_count": 62,
      "metadata": {
        "id": "zkwBWrOmugx6"
      },
      "outputs": [],
      "source": [
        "corr, p_val = stats.pearsonr(df[\"consumption\"], df[\"co2_emission\"])\n",
        "\n"
      ]
    },
    {
      "cell_type": "code",
      "execution_count": 63,
      "metadata": {
        "colab": {
          "base_uri": "https://localhost:8080/"
        },
        "id": "ga5vZ150uuD1",
        "outputId": "1aa5c208-9783-4682-d097-7ea58e4551ad"
      },
      "outputs": [
        {
          "name": "stdout",
          "output_type": "stream",
          "text": [
            "Correlation Coefficient: 0.334250704433365\n"
          ]
        }
      ],
      "source": [
        "\n",
        "print(\"Correlation Coefficient:\", corr)\n"
      ]
    },
    {
      "cell_type": "code",
      "execution_count": 64,
      "metadata": {
        "colab": {
          "base_uri": "https://localhost:8080/"
        },
        "id": "pBSzod6Guvvt",
        "outputId": "098d16b7-1ec3-4360-d235-2f72f319d93a"
      },
      "outputs": [
        {
          "name": "stdout",
          "output_type": "stream",
          "text": [
            "P-value: 1.1519382934888456e-38\n"
          ]
        }
      ],
      "source": [
        "print(\"P-value:\", p_val)"
      ]
    },
    {
      "cell_type": "markdown",
      "metadata": {
        "id": "eP9NAmYJu1ZJ"
      },
      "source": [
        "Interpretation:\n",
        "\n",
        "Correlation coefficient (r):\n",
        "\n",
        "Close to 1 → strong positive relation\n",
        "\n",
        "Close to -1 → strong negative relation\n",
        "\n",
        "Around 0 → no relation\n",
        "\n",
        "If p < 0.05, correlation is statistically significant."
      ]
    },
    {
      "cell_type": "code",
      "execution_count": 65,
      "metadata": {
        "colab": {
          "base_uri": "https://localhost:8080/",
          "height": 564
        },
        "collapsed": true,
        "id": "vlMbweIYu3pV",
        "outputId": "de018f70-9072-4cb6-d8bb-d690c6fa5690"
      },
      "outputs": [
        {
          "data": {
            "image/png": "[encoded data removed]",
            "text/plain": [
              "<Figure size 800x600 with 1 Axes>"
            ]
          },
          "metadata": {},
          "output_type": "display_data"
        }
      ],
      "source": [
        "plt.figure(figsize=(8,6))\n",
        "sns.scatterplot(x=\"consumption\", y=\"co2_emission\", data=df)\n",
        "plt.title(\"Consumption vs CO₂ Emission\")\n",
        "plt.show()"
      ]
    },
    {
      "cell_type": "markdown",
      "metadata": {
        "id": "fouBNOEN46Oo"
      },
      "source": [
        "### Task:\n",
        "\n",
        "Is the beef consumption in Argentina significantly different from that in Bangladesh?\n",
        "\n",
        "H₀: Mean beef consumption (Argentina) = Mean beef consumption (Bangladesh)\n",
        "\n",
        "H₁: Mean beef consumption (Argentina) ≠ Mean beef consumption (Bangladesh)"
      ]
    },
    {
      "cell_type": "code",
      "execution_count": 76,
      "metadata": {
        "colab": {
          "base_uri": "https://localhost:8080/",
          "height": 140
        },
        "id": "r4M85NUevkAi",
        "outputId": "1e14bb6b-a621-45a1-ca82-a46af759f226"
      },
      "outputs": [],
      "source": [
        "arg_beef_consumption = df[(df['country'] == 'Argentina') & (df['food_category'] == 'beef')]['consumption']\n",
        "ban_beef_consumption = df[(df['country'] == 'Bangladesh') & (df['food_category'] == 'beef')]['consumption']\n",
        "\n"
      ]
    },
    {
      "cell_type": "code",
      "execution_count": 78,
      "metadata": {},
      "outputs": [
        {
          "name": "stdout",
          "output_type": "stream",
          "text": [
            "Mean Beef Consumption (Argentina): 55.48\n",
            "Mean Beef Consumption (Bangladesh): 1.28\n"
          ]
        }
      ],
      "source": [
        "arg_consump_mean = arg_beef['consumption'].mean()\n",
        "print(\"Mean Beef Consumption (Argentina):\", arg_consump_mean)\n",
        "\n",
        "ban_consump_mean = ban_beef['consumption'].mean()\n",
        "print(\"Mean Beef Consumption (Bangladesh):\", ban_consump_mean)"
      ]
    },
    {
      "cell_type": "code",
      "execution_count": 79,
      "metadata": {},
      "outputs": [
        {
          "name": "stdout",
          "output_type": "stream",
          "text": [
            "arg_beef_samples\n",
            "[-1.72853306 10.54139092  1.21251388 -4.00855464  5.39272456 -4.82421825\n",
            "  2.32431798 -8.51835062 -5.36093024  2.26430618  4.9723329   2.13684141\n",
            "  0.70175859 -0.22551848 -6.11260995 -2.31922104 -1.02319385  6.56561113\n",
            "  2.99809145 -7.53520078  2.90041985 -0.6454114  -2.10461     4.33838144\n",
            "  6.43499761  5.9364006  -2.91608762 -0.26606188  2.93631716  6.15772564]\n",
            "\n",
            "arg_beef_samples\n",
            "[-1.72853306 10.54139092  1.21251388 -4.00855464  5.39272456 -4.82421825\n",
            "  2.32431798 -8.51835062 -5.36093024  2.26430618  4.9723329   2.13684141\n",
            "  0.70175859 -0.22551848 -6.11260995 -2.31922104 -1.02319385  6.56561113\n",
            "  2.99809145 -7.53520078  2.90041985 -0.6454114  -2.10461     4.33838144\n",
            "  6.43499761  5.9364006  -2.91608762 -0.26606188  2.93631716  6.15772564]\n"
          ]
        }
      ],
      "source": [
        "np.random.seed(42)\n",
        "arg_beef_samples = np.random.normal(loc=arg_consump_mean, scale=5, size=30)\n",
        "ban_beef_samples = np.random.normal(loc=ban_consump_mean, scale=5, size=30)\n",
        "\n",
        "print(f\"arg_beef_samples\\n{ban_beef_samples}\\n\\narg_beef_samples\\n{ban_beef_samples}\")"
      ]
    },
    {
      "cell_type": "code",
      "execution_count": 80,
      "metadata": {},
      "outputs": [
        {
          "name": "stdout",
          "output_type": "stream",
          "text": [
            "T-statistic: 45.56550535993598\n",
            "\n",
            "p-value: 4.127037734168484e-47\n"
          ]
        }
      ],
      "source": [
        "# Two independent t-test\n",
        "t_test, p_value = stats.ttest_ind(arg_beef_samples, ban_beef_samples)\n",
        "\n",
        "print(f\"T-statistic: {t_test}\")\n",
        "print(\"\\np-value:\", p_value)"
      ]
    },
    {
      "cell_type": "markdown",
      "metadata": {},
      "source": [
        "Based on the results of the independent samples t-test, we can interpret the findings as follows:\n",
        "\n",
        "- T-statistic: 45.57\n",
        "\n",
        "    This value indicates the size of the difference relative to the variation in our sample data.\n",
        "\n",
        "    A t-statistic this large suggests an extremely strong effect or difference between groups (or from a hypothesized value).\n",
        "\n",
        "    In most contexts, a t-statistic above 2 or 3 is considered significant, so 45.57 is off the charts.\n",
        "\n",
        "- p-value: 4.13 × 10⁻⁴⁷\n",
        "\n",
        "    This is the probability of observing a result as extreme as this one, assuming the null hypothesis is true.\n",
        "\n",
        "    A p-value this small (essentially zero) means the result is highly statistically significant.\n",
        "\n",
        "    It strongly suggests rejecting the null hypothesis.\n",
        "\n",
        "Conclusion\n",
        "Your results indicate a very strong and statistically significant effect. Whatever you're testing—whether it's a mean difference, regression coefficient, or other hypothesis; this outcome provides compelling evidence against the null hypothesis."
      ]
    }
  ],
  "metadata": {
    "colab": {
      "provenance": []
    },
    "kernelspec": {
      "display_name": "dataenv (3.13.5)",
      "language": "python",
      "name": "python3"
    },
    "language_info": {
      "codemirror_mode": {
        "name": "ipython",
        "version": 3
      },
      "file_extension": ".py",
      "mimetype": "text/x-python",
      "name": "python",
      "nbconvert_exporter": "python",
      "pygments_lexer": "ipython3",
      "version": "3.13.5"
    }
  },
  "nbformat": 4,
  "nbformat_minor": 0
}
