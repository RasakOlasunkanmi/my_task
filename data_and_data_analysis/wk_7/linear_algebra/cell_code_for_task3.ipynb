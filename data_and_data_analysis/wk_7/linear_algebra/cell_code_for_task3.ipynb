{
 "cells": [
  {
   "cell_type": "code",
   "execution_count": 2,
   "id": "1ea2780c",
   "metadata": {},
   "outputs": [],
   "source": [
    "import numpy as np"
   ]
  },
  {
   "cell_type": "code",
   "execution_count": 3,
   "id": "250011b9",
   "metadata": {},
   "outputs": [
    {
     "name": "stdout",
     "output_type": "stream",
     "text": [
      "cA =\n",
      " [[ 4 -2]\n",
      " [ 0  6]]\n",
      "dB =\n",
      " [[ 3 12]\n",
      " [-6 15]]\n",
      "(c+d)A =\n",
      " [[10 -5]\n",
      " [ 0 15]]\n"
     ]
    }
   ],
   "source": [
    "# Define matrices A and B\n",
    "A = np.array([[2, -1],\n",
    "              [0,  3]])\n",
    "B = np.array([[1,  4],\n",
    "              [-2, 5]])\n",
    "\n",
    "c, d = 2, 3  # Scalars\n",
    "\n",
    "# (a) Scalar multiplications\n",
    "cA = c * A\n",
    "dB = d * B\n",
    "sumA = (c + d) * A\n",
    "\n",
    "print(\"cA =\\n\", cA)\n",
    "print(\"dB =\\n\", dB)\n",
    "print(\"(c+d)A =\\n\", sumA)\n",
    "\n"
   ]
  },
  {
   "cell_type": "code",
   "execution_count": 4,
   "id": "56f5b96d",
   "metadata": {},
   "outputs": [
    {
     "name": "stdout",
     "output_type": "stream",
     "text": [
      "\n",
      "Associativity check:\n",
      "Left =\n",
      " [[12 -6]\n",
      " [ 0 18]] \n",
      "Right =\n",
      " [[12 -6]\n",
      " [ 0 18]]\n",
      "\n",
      "Distributivity over addition:\n",
      "LHS =\n",
      " [[ 6  6]\n",
      " [-4 16]] \n",
      "RHS =\n",
      " [[ 6  6]\n",
      " [-4 16]]\n",
      "\n",
      "Distributivity over scalar addition:\n",
      "Left =\n",
      " [[10 -5]\n",
      " [ 0 15]] \n",
      "Right =\n",
      " [[10 -5]\n",
      " [ 0 15]]\n"
     ]
    }
   ],
   "source": [
    "# (b) Verify scalar multiplication properties\n",
    "# Associativity: (cd)A == c(dA)\n",
    "left = (c * d) * A\n",
    "dA = d * A\n",
    "right = c * dA\n",
    "print(\"\\nAssociativity check:\\nLeft =\\n\", left, \"\\nRight =\\n\", right)\n",
    "\n",
    "# Distributivity over addition: c(A + B) == cA + cB\n",
    "LHS = c * (A + B)\n",
    "cB = c * B\n",
    "RHS = cA + cB\n",
    "print(\"\\nDistributivity over addition:\\nLHS =\\n\", LHS, \"\\nRHS =\\n\", RHS)\n",
    "\n",
    "# Distributivity over scalar addition: (c + d)A == cA + dA\n",
    "left = (c + d) * A\n",
    "right = cA + dA\n",
    "print(\"\\nDistributivity over scalar addition:\\nLeft =\\n\", left, \"\\nRight =\\n\", right)\n",
    "\n",
    "\n"
   ]
  },
  {
   "cell_type": "code",
   "execution_count": 5,
   "id": "48bbf502",
   "metadata": {},
   "outputs": [
    {
     "name": "stdout",
     "output_type": "stream",
     "text": [
      "\n",
      "A^T =\n",
      " [[ 2  0]\n",
      " [-1  3]]\n",
      "B^T =\n",
      " [[ 1 -2]\n",
      " [ 4  5]]\n"
     ]
    }
   ],
   "source": [
    "# (c) Transposes\n",
    "A_T = A.T\n",
    "B_T = B.T\n",
    "print(\"\\nA^T =\\n\", A_T)\n",
    "print(\"B^T =\\n\", B_T)\n",
    "\n"
   ]
  },
  {
   "cell_type": "code",
   "execution_count": 6,
   "id": "30acd924",
   "metadata": {},
   "outputs": [
    {
     "name": "stdout",
     "output_type": "stream",
     "text": [
      "\n",
      "Det(A) = 6\n",
      "Det(B) = 13\n",
      "\n",
      "A inverse =\n",
      " [[0.5        0.16666667]\n",
      " [0.         0.33333333]]\n",
      "B inverse =\n",
      " [[ 0.38461538 -0.30769231]\n",
      " [ 0.15384615  0.07692308]]\n"
     ]
    }
   ],
   "source": [
    "# (d) Determinants and Inverses\n",
    "detA = round(np.linalg.det(A))\n",
    "detB = round(np.linalg.det(B))\n",
    "print(\"\\nDet(A) =\", detA)\n",
    "print(\"Det(B) =\", detB)\n",
    "\n",
    "A_inv = np.linalg.inv(A)\n",
    "B_inv = np.linalg.inv(B)\n",
    "print(\"\\nA inverse =\\n\", A_inv)\n",
    "print(\"B inverse =\\n\", B_inv)"
   ]
  }
 ],
 "metadata": {
  "kernelspec": {
   "display_name": "base",
   "language": "python",
   "name": "python3"
  },
  "language_info": {
   "codemirror_mode": {
    "name": "ipython",
    "version": 3
   },
   "file_extension": ".py",
   "mimetype": "text/x-python",
   "name": "python",
   "nbconvert_exporter": "python",
   "pygments_lexer": "ipython3",
   "version": "3.12.7"
  }
 },
 "nbformat": 4,
 "nbformat_minor": 5
}
