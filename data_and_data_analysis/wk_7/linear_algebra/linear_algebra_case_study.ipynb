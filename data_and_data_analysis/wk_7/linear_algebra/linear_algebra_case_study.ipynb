{
 "cells": [
  {
   "cell_type": "markdown",
   "id": "73b1aa18",
   "metadata": {},
   "source": [
    "Exercise 1: Create a 5×4 Matrix and Compute Totals & Averages\n",
    "\n",
    "We define the scores of 5 students across 4 subjects (Math, English, Science, Physics)."
   ]
  },
  {
   "cell_type": "code",
   "execution_count": 2,
   "id": "807b6431",
   "metadata": {},
   "outputs": [],
   "source": [
    "import numpy as np"
   ]
  },
  {
   "cell_type": "code",
   "execution_count": 6,
   "id": "005b4963",
   "metadata": {},
   "outputs": [
    {
     "name": "stdout",
     "output_type": "stream",
     "text": [
      "\n",
      "Total score per student (row sums):\n"
     ]
    },
    {
     "data": {
      "text/plain": [
       "array([325, 290, 371, 267, 331])"
      ]
     },
     "execution_count": 6,
     "metadata": {},
     "output_type": "execute_result"
    }
   ],
   "source": [
    "# Compute total score per student (row sum).\n",
    "\n",
    "# Compute average score per subject (column mean).\n",
    "\n",
    "# Matrix of scores (5 students × 4 subjects)\n",
    "scores = np.array([\n",
    "    [80, 70, 90, 85],\n",
    "    [60, 85, 75, 70],\n",
    "    [95, 88, 92, 96],\n",
    "    [70, 60, 65, 72],\n",
    "    [85, 78, 80, 88]\n",
    "])\n",
    "\n",
    "# Total score per student (row sums)\n",
    "student_totals = np.sum(scores, axis=1)\n",
    "print(\"\\nTotal score per student (row sums):\")\n",
    "student_totals\n",
    "\n",
    "\n",
    "\n"
   ]
  },
  {
   "cell_type": "code",
   "execution_count": 5,
   "id": "b3f584e2",
   "metadata": {},
   "outputs": [
    {
     "name": "stdout",
     "output_type": "stream",
     "text": [
      "\n",
      "Average score per subject (column means):\n"
     ]
    },
    {
     "data": {
      "text/plain": [
       "array([78. , 76.2, 80.4, 82.2])"
      ]
     },
     "execution_count": 5,
     "metadata": {},
     "output_type": "execute_result"
    }
   ],
   "source": [
    "# Average score per subject (column means)\n",
    "subject_averages = np.mean(scores, axis=0)\n",
    "print(\"\\nAverage score per subject (column means):\")\n",
    "subject_averages"
   ]
  },
  {
   "cell_type": "markdown",
   "id": "35c02841",
   "metadata": {},
   "source": [
    "Exercise 2: Make Science 3× More Important\n",
    "\n",
    "We apply scalar multiplication: multiply the Physics column (3rd subject) by 3."
   ]
  },
  {
   "cell_type": "code",
   "execution_count": 13,
   "id": "c200ab02",
   "metadata": {},
   "outputs": [
    {
     "data": {
      "text/plain": [
       "array([495, 430, 563, 411, 507])"
      ]
     },
     "execution_count": 13,
     "metadata": {},
     "output_type": "execute_result"
    }
   ],
   "source": [
    "# Copy original matrix\n",
    "physics_scores = scores.copy()\n",
    "\n",
    "# Multiply Science column (index 2) by 3\n",
    "physics_scores[:, 3] = physics_scores[:, 3] * 3\n",
    "\n",
    "physics_scores\n",
    "\n",
    "# Recompute totals\n",
    "physics_totals = np.sum(physics_scores, axis=1)\n",
    "\n",
    "physics_totals\n"
   ]
  },
  {
   "cell_type": "code",
   "execution_count": null,
   "id": "94b5c16e",
   "metadata": {},
   "outputs": [],
   "source": []
  }
 ],
 "metadata": {
  "kernelspec": {
   "display_name": "base",
   "language": "python",
   "name": "python3"
  },
  "language_info": {
   "codemirror_mode": {
    "name": "ipython",
    "version": 3
   },
   "file_extension": ".py",
   "mimetype": "text/x-python",
   "name": "python",
   "nbconvert_exporter": "python",
   "pygments_lexer": "ipython3",
   "version": "3.12.7"
  }
 },
 "nbformat": 4,
 "nbformat_minor": 5
}
