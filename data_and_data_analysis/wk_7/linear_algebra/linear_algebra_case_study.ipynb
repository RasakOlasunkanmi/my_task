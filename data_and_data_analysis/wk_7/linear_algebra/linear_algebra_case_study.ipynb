{
 "cells": [
  {
   "cell_type": "code",
   "execution_count": 2,
   "id": "807b6431",
   "metadata": {},
   "outputs": [],
   "source": [
    "import numpy as np"
   ]
  },
  {
   "cell_type": "markdown",
   "id": "1dbe26ef",
   "metadata": {},
   "source": [
    "Exercise 1: Create a 5×4 Matrix and Compute Totals & Averages\n",
    "```c\n",
    "Defining the scores of 5 students across 4 subjects (Math, English, Science, Economics).\n",
    "\n",
    "Representing the scores of 5 students in 4 subjects (Math, English, Science, Economics) as a 5×4 dataset:\n",
    "\n",
    "Student 1 → 80, 70, 90, 85\n",
    "Student 2 → 60, 85, 75, 70\n",
    "Student 3 → 95, 88, 92, 96\n",
    "Student 4 → 70, 60, 65, 72\n",
    "Student 5 → 85, 78, 80, 88"
   ]
  },
  {
   "cell_type": "code",
   "execution_count": null,
   "id": "005b4963",
   "metadata": {},
   "outputs": [
    {
     "name": "stdout",
     "output_type": "stream",
     "text": [
      "\n",
      "Total score per student (row sums):\n"
     ]
    },
    {
     "data": {
      "text/plain": [
       "array([325, 290, 371, 267, 331])"
      ]
     },
     "execution_count": 6,
     "metadata": {},
     "output_type": "execute_result"
    }
   ],
   "source": [
    "# Compute total score per student (row sum).\n",
    "\n",
    "# Compute average score per subject (column mean).\n",
    "\n",
    "# Matrix of scores (5 students × 4 subjects)\n",
    "scores = np.array([\n",
    "    [80, 70, 90, 85],\n",
    "    [60, 85, 75, 70],\n",
    "    [95, 88, 92, 96],\n",
    "    [70, 60, 65, 72],\n",
    "    [85, 78, 80, 88]\n",
    "])\n",
    "\n",
    "# Total score per student (row sums)\n",
    "student_totals = np.sum(scores, axis=1)\n",
    "print(\"\\nTotal score per student (row sums):\")\n",
    "student_totals\n",
    "\n"
   ]
  },
  {
   "cell_type": "code",
   "execution_count": 5,
   "id": "b3f584e2",
   "metadata": {},
   "outputs": [
    {
     "name": "stdout",
     "output_type": "stream",
     "text": [
      "\n",
      "Average score per subject (column means):\n"
     ]
    },
    {
     "data": {
      "text/plain": [
       "array([78. , 76.2, 80.4, 82.2])"
      ]
     },
     "execution_count": 5,
     "metadata": {},
     "output_type": "execute_result"
    }
   ],
   "source": [
    "# Average score per subject (column means)\n",
    "subject_averages = np.mean(scores, axis=0)\n",
    "print(\"\\nAverage score per subject (column means):\")\n",
    "subject_averages"
   ]
  },
  {
   "cell_type": "markdown",
   "id": "35c02841",
   "metadata": {},
   "source": [
    "Exercise 2: Make Economics 3× More Important\n",
    "```c\n",
    "Applying scalar multiplication: multiply the Economics column (3rd subject) by 3.\n",
    "\n",
    "Total Score per Student (Row Sum)\n",
    "\n",
    "To find the total score for each student, we sum across the subjects:\n",
    "Adjusting Importance of Economics (4th Subject ×3)\n",
    "\n",
    "We multiply all values in the 4th column by 3:\n",
    "\n",
    "Student 1 → 80, 70, 90, 255\n",
    "Student 2 → 60, 85, 75, 210\n",
    "Student 3 → 95, 88, 92, 288\n",
    "Student 4 → 70, 60, 65, 216\n",
    "Student 5 → 85, 78, 80, 264\n",
    "\n",
    "New Totals after Adjustment\n",
    "\n",
    "Student 1 → 80 + 70 + 90 + 255 = 495\n",
    "Student 2 → 60 + 85 + 75 + 210 = 430\n",
    "Student 3 → 95 + 88 + 92 + 288 = 563\n",
    "Student 4 → 70 + 60 + 65 + 216 = 411\n",
    "Student 5 → 85 + 78 + 80 + 264 = 507"
   ]
  },
  {
   "cell_type": "code",
   "execution_count": 14,
   "id": "c200ab02",
   "metadata": {},
   "outputs": [
    {
     "data": {
      "text/plain": [
       "array([495, 430, 563, 411, 507])"
      ]
     },
     "execution_count": 14,
     "metadata": {},
     "output_type": "execute_result"
    }
   ],
   "source": [
    "# Copy original matrix\n",
    "new_scores = scores.copy()\n",
    "\n",
    "# Multiply Science column (index 2) by 3\n",
    "new_scores[:, 3] = new_scores[:, 3] * 3\n",
    "\n",
    "new_scores\n",
    "\n",
    "# Recompute totals\n",
    "new_totals = np.sum(new_scores, axis=1)\n",
    "\n",
    "new_totals\n"
   ]
  },
  {
   "cell_type": "markdown",
   "id": "d2ec4d00",
   "metadata": {},
   "source": [
    "Exercise 3: New Grading Weights (40%, 20%, 30%, 10%)\n",
    "```c\n",
    "weights vector (w) = [0.4, 0.2, 0.3, 0.1]\n",
    "Final_grade = Matrix multiplication:\n",
    "                                    G = Axw^T\n",
    "\n",
    "\n",
    "Where: \n",
    "    𝐺 is a column vector of grades (one per student).\n",
    "\n",
    "Final Grades Using Weights\n",
    "\n",
    "We assign weights to each subject:\n",
    "\n",
    "Math = 0.4\n",
    "English = 0.2\n",
    "Science = 0.3\n",
    "Economics = 0.1\n",
    "\n",
    "The final grade for each student is computed as:\n",
    "\n",
    "Final Grade = (Math × 0.4) + (English × 0.2) + (Science × 0.3) + (Economics × 0.1)\n",
    "\n",
    "Example (Student 1):\n",
    "(80 × 0.4) + (70 × 0.2) + (90 × 0.3) + (85 × 0.1)\n",
    "= 32 + 14 + 27 + 8.5 = 81.5\n",
    "\n",
    "Results for all students:\n",
    "\n",
    "Student 1 → 81.5\n",
    "Student 2 → 70.5\n",
    "Student 3 → 92.8\n",
    "Student 4 → 66.7\n",
    "Student 5 → 82.4\n",
    "\n",
    "Final Grades = 81.5, 70.5, 92.8, 66.7, 82.4"
   ]
  },
  {
   "cell_type": "code",
   "execution_count": 15,
   "id": "94b5c16e",
   "metadata": {},
   "outputs": [
    {
     "data": {
      "text/plain": [
       "array([81.5, 70.5, 92.8, 66.7, 82.4])"
      ]
     },
     "execution_count": 15,
     "metadata": {},
     "output_type": "execute_result"
    }
   ],
   "source": [
    "# Define weights\n",
    "weights = np.array([0.4, 0.2, 0.3, 0.1])\n",
    "\n",
    "# Compute final grades using matrix multiplication\n",
    "final_grades = scores @ weights\n",
    "\n",
    "final_grades\n"
   ]
  },
  {
   "cell_type": "markdown",
   "id": "707b13a9",
   "metadata": {},
   "source": [
    "Exercise 4: Compare Student 3 & Student 4 (Vector Subtraction)\n",
    "```c\n",
    "Compare scores of Student 3 and Student 4 across subjects:\n",
    "\n",
    "Comparison = Student 3 - Student 4\n",
    "\n",
    "Student 3 scores: 95, 88, 92, 96\n",
    "Student 4 scores: 70, 60, 65, 72\n",
    "\n",
    "Compute the difference (Student 3 − Student 4) for each subject:\n",
    "\n",
    "Math: 95 − 70 = 25\n",
    "\n",
    "English: 88 − 60 = 28\n",
    "\n",
    "Science: 92 − 65 = 27\n",
    "\n",
    "Economics: 96 − 72 = 24\n",
    "\n",
    "Differences = 25, 28, 27, 24\n",
    "\n",
    "Interpretation:\n",
    "\n",
    "A positive difference means Student 3 scored higher than Student 4 in that subject.\n",
    "\n",
    "Student 3 outperformed Student 4 in all four subjects.\n",
    "\n",
    "The largest margin is in English (28 points), followed by Science (27), Math (25), and Economics (24).\n",
    "\n",
    "Conclusion\n",
    "\n",
    "Overall, Student 3 performs consistently better than Student 4 across every subject, with the biggest advantage in English.\n"
   ]
  },
  {
   "cell_type": "code",
   "execution_count": 17,
   "id": "824afb8f",
   "metadata": {},
   "outputs": [
    {
     "data": {
      "text/plain": [
       "array([25, 28, 27, 24])"
      ]
     },
     "execution_count": 17,
     "metadata": {},
     "output_type": "execute_result"
    }
   ],
   "source": [
    "# Extract student 3 and student 4 (index 2 and 3)\n",
    "student3 = scores[2]\n",
    "student4 = scores[3]\n",
    "\n",
    "# Vector subtraction\n",
    "comparison = student3 - student4\n",
    "\n",
    "comparison\n",
    "\n",
    "# Note: Student 3 performed better than Student 4"
   ]
  },
  {
   "cell_type": "code",
   "execution_count": null,
   "id": "b861d842",
   "metadata": {},
   "outputs": [],
   "source": []
  }
 ],
 "metadata": {
  "kernelspec": {
   "display_name": "base",
   "language": "python",
   "name": "python3"
  },
  "language_info": {
   "codemirror_mode": {
    "name": "ipython",
    "version": 3
   },
   "file_extension": ".py",
   "mimetype": "text/x-python",
   "name": "python",
   "nbconvert_exporter": "python",
   "pygments_lexer": "ipython3",
   "version": "3.12.7"
  }
 },
 "nbformat": 4,
 "nbformat_minor": 5
}
