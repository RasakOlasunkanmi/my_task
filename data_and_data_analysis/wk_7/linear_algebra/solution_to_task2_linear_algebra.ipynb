{
 "cells": [
  {
   "cell_type": "markdown",
   "id": "42d2a643",
   "metadata": {},
   "source": [
    "##### Topic: Linear Algebra\n",
    "**Class Task 2**\n",
    "\n",
    "**Question**\n",
    "```c\n",
    "Given the following matrices:\n",
    "A = [[2, -1, 3], [0, 4, 1]]\n",
    "B = [[1, 2], [-2, 0], [5, -3]]\n",
    "```\n",
    "\n",
    "```\n",
    "a) Identify the number of rows and columns in each matrix.\n",
    "b) Determine whether the matrices can be multiplied. If so, specify whether it's (AB), (BA), or both.\n",
    "c) If the multiplication is defined, compute the resulting matrix.\n",
    "```"
   ]
  },
  {
   "cell_type": "markdown",
   "id": "bfbf5b80",
   "metadata": {},
   "source": [
    "##### Solution\n",
    "\n",
    "**a) Identify the number of rows and columns in each matrix.**\n",
    "```c\n",
    "- A has 2 rows and 3 columns --> 2x3.\n",
    "- B has 3 rows and 2 columns --> 3x2.\n",
    "```"
   ]
  },
  {
   "cell_type": "markdown",
   "id": "ec691553",
   "metadata": {},
   "source": [
    "**b) Determine whether the matrices can be multiplied. If so, specify whether it's (AB), (BA), or both.**\n",
    "```c\n",
    "- AB is defined because A's 3 columns = B's 3 rows. And the result will be 2x2.\n",
    "- BA is defined because B's 2 columns = A's 2 rows. And the result will be 3x3.\n",
    "- So, both (AB) and (BA) are defined.\n",
    "```"
   ]
  },
  {
   "cell_type": "markdown",
   "id": "a1fddd25",
   "metadata": {},
   "source": [
    "**c) If the multiplication is defined, compute the resulting matrix.**\n",
    "```c\n",
    "AB = [[(2)(1) + (-1)(-2) + (3)(5),   (2)(2) + (-1)(0) + (3)(-3)], [(0)(1) + (4)(-2) + (1)(5),   (0)(2) + (4)(0) + (1)(-3)]]\n",
    "\n",
    "AB = [[(2 + 2 + 15),  (4 + 0 - 9)], [(0 - 8 + 5),  (0 + 0 - 3)]]\n",
    "AB = [[19, -5], [-3, -3]]\n",
    "\n",
    "\n",
    "\n",
    "BA = [[(1)(2) + (2)(0),  (1)(-1) + (2)(4),  (1)(3) + (2)(1)], [(-2)(2) + (0)(0),  (-2)(-1) + (0)(4),  (-2)(3) + (0)(1)], [(5)(2) + (-3)(0),  (5)(-1) + (-3)(4),  (5)(3) + (-3)(1)]]\n",
    "\n",
    "BA = [[(2), (-1 + 8), (3 + 2)], [(-4), (2), (-6)], [(10), (-5 - 12), (15 - 3)]]\n",
    "BA = [[2, 7, 5], [-4, 2, -6], [10, -17, 12]]\n",
    "```"
   ]
  },
  {
   "cell_type": "markdown",
   "id": "b9d423fe",
   "metadata": {},
   "source": [
    "##### Code that does the computation of the matrix in the task in numpy"
   ]
  },
  {
   "cell_type": "code",
   "execution_count": 2,
   "id": "606134f9",
   "metadata": {},
   "outputs": [],
   "source": [
    "# Matrix Multiplication\n",
    "\n",
    "# import library\n",
    "import numpy as np"
   ]
  },
  {
   "cell_type": "code",
   "execution_count": null,
   "id": "e4d06fa4",
   "metadata": {},
   "outputs": [
    {
     "name": "stdout",
     "output_type": "stream",
     "text": [
      "Matrix A:\n",
      " [[ 2 -1  3]\n",
      " [ 0  4  1]]\n",
      "Shape of A: (2, 3)\n",
      "\n",
      "Matrix B:\n",
      " [[ 1  2]\n",
      " [-2  0]\n",
      " [ 5 -3]]\n",
      "Shape of B: (3, 2)\n"
     ]
    }
   ],
   "source": [
    "# Define matrices A and B\n",
    "# a) Identify the number of rows and columns in each matrix.\n",
    "\n",
    "A = np.array([[2, -1, 3], [0, 4, 1]])\n",
    "\n",
    "B = np.array([[1, 2], [-2, 0], [5, -3]])\n",
    "\n",
    "print(\"Matrix A:\\n\", A)\n",
    "print(\"Shape of A:\", A.shape)\n",
    "\n",
    "print(\"\\nMatrix B:\\n\", B)\n",
    "print(\"Shape of B:\", B.shape)"
   ]
  },
  {
   "cell_type": "code",
   "execution_count": 4,
   "id": "45bdbe3b",
   "metadata": {},
   "outputs": [
    {
     "name": "stdout",
     "output_type": "stream",
     "text": [
      "Can we compute AB?  Yes\n",
      "If valid, AB will have shape: (2, 2)\n",
      "\n",
      "Can we compute BA?  Yes\n",
      "If valid, BA will have shape: (3, 3)\n"
     ]
    }
   ],
   "source": [
    "# b) Determine whether the matrices can be multiplied. If so, specify whether it's (AB), (BA), or both.\n",
    "\n",
    "# Check conditions for matrix multiplication\n",
    "rows_A, cols_A = A.shape\n",
    "rows_B, cols_B = B.shape\n",
    "\n",
    "print(\"Can we compute AB? \", \"Yes\" if cols_A == rows_B else \"No\")\n",
    "print(\"If valid, AB will have shape:\", (rows_A, cols_B))\n",
    "\n",
    "print(\"\\nCan we compute BA? \", \"Yes\" if cols_B == rows_A else \"No\")\n",
    "print(\"If valid, BA will have shape:\", (rows_B, cols_A))\n"
   ]
  },
  {
   "cell_type": "code",
   "execution_count": null,
   "id": "fcf805d8",
   "metadata": {},
   "outputs": [
    {
     "name": "stdout",
     "output_type": "stream",
     "text": [
      "AB =\n",
      " [[19 -5]\n",
      " [-3 -3]]\n",
      "Shape of AB: (2, 2)\n"
     ]
    }
   ],
   "source": [
    "# c) If the multiplication is defined, compute the resulting matrix.\n",
    "\n",
    "# Compute AB\n",
    "AB = np.dot(A, B)\n",
    "print(\"AB =\\n\", AB)\n",
    "print(\"Shape of AB:\", AB.shape)\n"
   ]
  },
  {
   "cell_type": "code",
   "execution_count": 9,
   "id": "a5f455fa",
   "metadata": {},
   "outputs": [
    {
     "name": "stdout",
     "output_type": "stream",
     "text": [
      "BA =\n",
      " [[  2   7   5]\n",
      " [ -4   2  -6]\n",
      " [ 10 -17  12]]\n",
      "Shape of BA: (3, 3)\n"
     ]
    }
   ],
   "source": [
    "# Compute BA\n",
    "BA = np.dot(B, A)\n",
    "print(\"BA =\\n\", BA)\n",
    "print(\"Shape of BA:\", BA.shape)\n"
   ]
  },
  {
   "cell_type": "code",
   "execution_count": null,
   "id": "adf5ae97",
   "metadata": {},
   "outputs": [],
   "source": []
  }
 ],
 "metadata": {
  "kernelspec": {
   "display_name": "base",
   "language": "python",
   "name": "python3"
  },
  "language_info": {
   "codemirror_mode": {
    "name": "ipython",
    "version": 3
   },
   "file_extension": ".py",
   "mimetype": "text/x-python",
   "name": "python",
   "nbconvert_exporter": "python",
   "pygments_lexer": "ipython3",
   "version": "3.12.7"
  }
 },
 "nbformat": 4,
 "nbformat_minor": 5
}
