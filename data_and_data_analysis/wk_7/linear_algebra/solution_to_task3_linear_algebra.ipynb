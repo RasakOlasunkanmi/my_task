{
 "cells": [
  {
   "cell_type": "markdown",
   "id": "31bd4505",
   "metadata": {},
   "source": [
    "##### (a) Compute \\(cA\\), \\(dB\\), and \\((c+d)A\\)"
   ]
  },
  {
   "cell_type": "markdown",
   "id": "622fa155",
   "metadata": {},
   "source": [
    "Compute cA = 2A\n",
    "```c\n",
    "/* cA = 2 * A */\n",
    "cA[0][0] = 2 * 2;   // 4\n",
    "cA[0][1] = 2 * -1;  // -2\n",
    "cA[1][0] = 2 * 0;   // 0\n",
    "cA[1][1] = 2 * 3;   // 6\n",
    "\n",
    "/* cA = [ [4, -2], [0, 6] ] */"
   ]
  },
  {
   "cell_type": "markdown",
   "id": "ec7debe1",
   "metadata": {},
   "source": [
    "```c\n",
    "Compute dB = 3B\n",
    "\n",
    "/* dB = 3 * B */\n",
    "dB[0][0] = 3 * 1;   // 3\n",
    "dB[0][1] = 3 * 4;   // 12\n",
    "dB[1][0] = 3 * -2;  // -6\n",
    "dB[1][1] = 3 * 5;   // 15\n",
    "\n",
    "/* dB = [ [3, 12], [-6, 15] ] */\n"
   ]
  },
  {
   "cell_type": "markdown",
   "id": "6debe1fc",
   "metadata": {},
   "source": [
    "```c\n",
    "Compute (c + d)A = 5A\n",
    "\n",
    "/* (c+d)A = 5 * A */\n",
    "sumA[0][0] = 5 * 2;   // 10\n",
    "sumA[0][1] = 5 * -1;  // -5\n",
    "sumA[1][0] = 5 * 0;   // 0\n",
    "sumA[1][1] = 5 * 3;   // 15\n",
    "\n",
    "/* (c+d)A = [ [10, -5], [0, 15] ] */\n"
   ]
  },
  {
   "cell_type": "markdown",
   "id": "123f9a9d",
   "metadata": {},
   "source": [
    "##### (b) Verify Scalar Multiplication Properties (workings)"
   ]
  },
  {
   "cell_type": "markdown",
   "id": "17d3ea50",
   "metadata": {},
   "source": [
    "```c\n",
    "/* Associativity check */\n",
    "left = 6 * A;           // [[12, -6], [0, 18]]\n",
    "dA = 3 * A;             // [[6, -3], [0, 9]]\n",
    "right = 2 * dA;         // [[12, -6], [0, 18]]\n",
    "\n",
    "/* left == right: verified */\n"
   ]
  },
  {
   "cell_type": "markdown",
   "id": "46fa1a88",
   "metadata": {},
   "source": [
    "```c\n",
    "/* Distributivity over addition */\n",
    "(A + B) = [[3,3],[-2,8]];\n",
    "LHS = 2 * (A + B);  // [[6,6],[-4,16]]\n",
    "\n",
    "cA = [[4,-2],[0,6]];\n",
    "cB = 2 * B;        // [[2,8],[-4,10]]\n",
    "RHS = add(cA, cB); // [[6,6],[-4,16]]\n",
    "\n",
    "/* LHS == RHS: verified */\n"
   ]
  },
  {
   "cell_type": "markdown",
   "id": "458a9985",
   "metadata": {},
   "source": [
    "```c\n",
    "/* Distributivity over scalar addition */\n",
    "left = 5 * A;            // [[10,-5],[0,15]]\n",
    "cA = 2 * A;              // [[4,-2],[0,6]]\n",
    "dA = 3 * A;              // [[6,-3],[0,9]]\n",
    "right = add(cA, dA);     // [[10,-5],[0,15]]\n",
    "\n",
    "/* left == right: verified */\n"
   ]
  },
  {
   "cell_type": "markdown",
   "id": "b650d6de",
   "metadata": {},
   "source": [
    "##### (c) Transpose of both matrices"
   ]
  },
  {
   "cell_type": "markdown",
   "id": "3fbfdfc5",
   "metadata": {},
   "source": [
    "```c\n",
    "/* Transposes */\n",
    "A_T[0][0] = A[0][0]; A_T[0][1] = A[1][0]; // 2, 0\n",
    "A_T[1][0] = A[0][1]; A_T[1][1] = A[1][1]; // -1, 3\n",
    "\n",
    "B_T[0][0] = B[0][0]; B_T[0][1] = B[1][0]; // 1, -2\n",
    "B_T[1][0] = B[0][1]; B_T[1][1] = B[1][1]; // 4, 5\n"
   ]
  },
  {
   "cell_type": "markdown",
   "id": "5a610c90",
   "metadata": {},
   "source": [
    "##### (d) Determinants and Inverses"
   ]
  },
  {
   "cell_type": "markdown",
   "id": "9d222541",
   "metadata": {},
   "source": [
    "```c\n",
    "/* Determinants */\n",
    "detA = 2 * 3 - 0 * (-1);  // 6\n",
    "detB = 1 * 5 - (-2) * 4;  // 13\n"
   ]
  },
  {
   "cell_type": "markdown",
   "id": "83177b75",
   "metadata": {},
   "source": [
    "```c\n",
    "/* A inverse calculation */\n",
    "detA = 6;\n",
    "adjA = [[3, 1], [0, 2]];\n",
    "A_inv = (1.0/detA) * adjA; \n",
    "/* A_inv = [ [1/2, 1/6], [0, 1/3] ] */\n"
   ]
  },
  {
   "cell_type": "markdown",
   "id": "1bd970e6",
   "metadata": {},
   "source": [
    "```c\n",
    "/* B inverse calculation */\n",
    "detB = 13;\n",
    "adjB = [[5, -4], [2, 1]];\n",
    "B_inv = (1.0/detB) * adjB;\n",
    "/* B_inv = [ [5/13, -4/13], [2/13, 1/13] ] */\n"
   ]
  },
  {
   "cell_type": "markdown",
   "id": "466397c8",
   "metadata": {},
   "source": []
  }
 ],
 "metadata": {
  "language_info": {
   "name": "python"
  }
 },
 "nbformat": 4,
 "nbformat_minor": 5
}
