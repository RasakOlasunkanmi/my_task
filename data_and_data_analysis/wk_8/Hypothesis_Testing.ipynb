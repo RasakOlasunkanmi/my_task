{
 "cells": [
  {
   "cell_type": "markdown",
   "id": "e8bb70c1",
   "metadata": {},
   "source": [
    "**Types of Hypothesis Testing**\n",
    "\n",
    "**Given the folllowing Concepts:**\n",
    "- Chi-square test (for categorical data)\n",
    "- ANOVA (for comparing more than two means)\n",
    "- Two Tailed Tests\n",
    "- Proportion Tests"
   ]
  },
  {
   "cell_type": "markdown",
   "id": "32e6603d",
   "metadata": {},
   "source": [
    "**Chi-Square Test (for categorical data)**\n",
    "\n",
    "- It is a statistical test used to check whether there is a significant association between two categorical variables.\n",
    "\n",
    "- It is used when your data is in the form of categories (e.g., gender, preference, yes/no).\n",
    "\n",
    "- It compares the observed frequencies (actual counts in categories) to the expected frequencies (counts you would expect if there was no relationship).\n",
    "\n",
    "**Example:** A researcher wants to know if gender (male/female) is related to preference for product A or B. The chi-square test tells us if the differences in counts are significant or just random chance."
   ]
  },
  {
   "cell_type": "markdown",
   "id": "67a17e54",
   "metadata": {},
   "source": [
    "**ANOVA (Analysis of Variance – for comparing more than two means)**\n",
    "\n",
    "- It is a test that compares the means of 3 or more groups to see if at least one group mean is significantly different.\n",
    "\n",
    "- **Why not multiple t-tests?** Doing many t-tests increases error risk. ANOVA controls this by testing all groups together.\n",
    "\n",
    "- It compares the variance between groups to the variance within groups.\n",
    "\n",
    "NOTE: If between-group variance is much larger than within-group variance, at least one mean is different.\n",
    "\n",
    "**Example:** A teacher wants to compare the average exam scores of students in Class A, Class B, and Class C. ANOVA can check if there’s a real difference in performance."
   ]
  },
  {
   "cell_type": "markdown",
   "id": "057705fb",
   "metadata": {},
   "source": [
    "**Two-Tailed Tests**\n",
    "\n",
    "- It is a hypothesis test where we check for the possibility of the effect in both directions (greater than or less than).\n",
    "\n",
    "- It is used when you don’t have a specific direction in mind, only that there might be a difference.\n",
    "\n",
    "**Example:** Testing if the average height of a group is different from 170 cm. A two-tailed test considers the group could be taller or shorter than 170 cm."
   ]
  },
  {
   "cell_type": "markdown",
   "id": "6bd29a82",
   "metadata": {},
   "source": [
    "**Proportion Tests**\n",
    "\n",
    "- It is a hypothesis test used to compare proportions (fractions/percentages) instead of means.\n",
    "\n",
    "- It is used when data is binary (success/failure, yes/no, pass/fail).\n",
    "\n",
    "**Types:**\n",
    "\n",
    "1) One-sample proportion test: Compare a sample proportion to a known population proportion.\n",
    "\n",
    "2) Two-sample proportion test: Compare proportions from two groups.\n",
    "\n",
    "**How it works:**\n",
    "\n",
    "- Uses the standard error of proportions to see if the observed difference is significant.\n",
    "\n",
    "**Example:** Suppose 55% of people in a city prefer Brand X. A company samples 200 people and finds 120 prefer Brand X (60%). A one-sample proportion test can check if this 60% is significantly different from the claimed 55%."
   ]
  },
  {
   "cell_type": "markdown",
   "id": "3261f278",
   "metadata": {},
   "source": [
    "**In Summary**\n",
    "\n",
    "- Chi-square -> Tests relationships between categorical variables.\n",
    "\n",
    "- ANOVA -> Tests if 3+ group means are different.\n",
    "\n",
    "- Two-tailed test -> Looks for differences in both directions.\n",
    "\n",
    "- Proportion test -> Tests percentages/probabilities instead of means."
   ]
  }
 ],
 "metadata": {
  "language_info": {
   "name": "python"
  }
 },
 "nbformat": 4,
 "nbformat_minor": 5
}
