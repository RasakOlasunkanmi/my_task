{
 "cells": [
  {
   "cell_type": "markdown",
   "id": "de67820b",
   "metadata": {},
   "source": [
    "# Measures of Spread\n",
    "**Range and Variance**\n",
    "\n",
    "Question: Find the variance of the data below.\n",
    "```c\n",
    "4, 8, 6, 5, 3\n",
    "\n",
    "Solution\n",
    "\n",
    "mean = (4 + 8 + 6 + 5 + 3) / 5\n",
    "mean = (26) / 5\n",
    "mean = 5.2\n",
    "\n",
    "v1 = (4 - 5.2) = (-1.2)^2 = 1.44\n",
    "v2 = (8 - 5.2) = (2.8)^2 = 7.84\n",
    "v3 = (6 - 5.2) = (0.8)^2 = 0.64\n",
    "v4 = (5 - 5.2) = (-0.2)^2 = 0.04\n",
    "v5 = (3 - 5.2) = (-2.2)^2 = 4.84\n",
    "\n",
    "v = v1 + v2 + v3 + v4 + v5\n",
    "v = 14.8\n",
    "variance = v / 5 = 14.8 / 5\n",
    "variance = 2.96\n",
    "\n",
    "\n"
   ]
  }
 ],
 "metadata": {
  "language_info": {
   "name": "python"
  }
 },
 "nbformat": 4,
 "nbformat_minor": 5
}
