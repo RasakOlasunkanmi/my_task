{
 "cells": [
  {
   "cell_type": "markdown",
   "id": "0833a648",
   "metadata": {},
   "source": [
    "**Ingesting Data From Different Sources**"
   ]
  },
  {
   "cell_type": "code",
   "execution_count": 1,
   "id": "d1384e30",
   "metadata": {},
   "outputs": [],
   "source": [
    "# 1. From Github\n",
    "\n",
    "import pandas as pd\n",
    "import numpy as np"
   ]
  },
  {
   "cell_type": "code",
   "execution_count": 2,
   "id": "35636e04",
   "metadata": {},
   "outputs": [],
   "source": [
    "url = 'https://media.githubusercontent.com/media/RasakOlasunkanmi/Practice_datasets/refs/heads/master/df_results.csv'"
   ]
  },
  {
   "cell_type": "code",
   "execution_count": 3,
   "id": "9d37502d",
   "metadata": {},
   "outputs": [
    {
     "data": {
      "text/html": [
       "<div>\n",
       "<style scoped>\n",
       "    .dataframe tbody tr th:only-of-type {\n",
       "        vertical-align: middle;\n",
       "    }\n",
       "\n",
       "    .dataframe tbody tr th {\n",
       "        vertical-align: top;\n",
       "    }\n",
       "\n",
       "    .dataframe thead th {\n",
       "        text-align: right;\n",
       "    }\n",
       "</style>\n",
       "<table border=\"1\" class=\"dataframe\">\n",
       "  <thead>\n",
       "    <tr style=\"text-align: right;\">\n",
       "      <th></th>\n",
       "      <th>Actual(y)</th>\n",
       "      <th>Predicted(y)</th>\n",
       "      <th>Difference</th>\n",
       "    </tr>\n",
       "  </thead>\n",
       "  <tbody>\n",
       "    <tr>\n",
       "      <th>0</th>\n",
       "      <td>1.61000</td>\n",
       "      <td>2.259910</td>\n",
       "      <td>0.649910</td>\n",
       "    </tr>\n",
       "    <tr>\n",
       "      <th>1</th>\n",
       "      <td>5.00001</td>\n",
       "      <td>4.621255</td>\n",
       "      <td>0.378755</td>\n",
       "    </tr>\n",
       "    <tr>\n",
       "      <th>2</th>\n",
       "      <td>3.96400</td>\n",
       "      <td>3.320540</td>\n",
       "      <td>0.643460</td>\n",
       "    </tr>\n",
       "    <tr>\n",
       "      <th>3</th>\n",
       "      <td>1.18100</td>\n",
       "      <td>1.873280</td>\n",
       "      <td>0.692280</td>\n",
       "    </tr>\n",
       "    <tr>\n",
       "      <th>4</th>\n",
       "      <td>0.93400</td>\n",
       "      <td>1.194990</td>\n",
       "      <td>0.260990</td>\n",
       "    </tr>\n",
       "  </tbody>\n",
       "</table>\n",
       "</div>"
      ],
      "text/plain": [
       "   Actual(y)  Predicted(y)  Difference\n",
       "0    1.61000      2.259910    0.649910\n",
       "1    5.00001      4.621255    0.378755\n",
       "2    3.96400      3.320540    0.643460\n",
       "3    1.18100      1.873280    0.692280\n",
       "4    0.93400      1.194990    0.260990"
      ]
     },
     "execution_count": 3,
     "metadata": {},
     "output_type": "execute_result"
    }
   ],
   "source": [
    "df = pd.read_csv(url)\n",
    "df.head()"
   ]
  },
  {
   "cell_type": "code",
   "execution_count": 4,
   "id": "bc27c5de",
   "metadata": {},
   "outputs": [],
   "source": [
    "# 2. From Google Drive\n",
    "\n",
    "import gdown\n",
    "rwa_link = 'https://drive.google.com/file/d/19wkLXYW6kDEzyeCED1OpALEmsDZP-GgL/view?usp=sharing'\n",
    "id = \"19wkLXYW6kDEzyeCED1OpALEmsDZP-GgL\""
   ]
  },
  {
   "cell_type": "code",
   "execution_count": 6,
   "id": "4b9901db",
   "metadata": {},
   "outputs": [
    {
     "name": "stderr",
     "output_type": "stream",
     "text": [
      "Downloading...\n",
      "From: https://drive.google.com/uc?id=19wkLXYW6kDEzyeCED1OpALEmsDZP-GgL\n",
      "To: c:\\Users\\olasunkanmi\\Desktop\\my_task\\data_and_data_analysis\\wk_8\\Bikers.csv\n",
      "100%|██████████| 29.4M/29.4M [02:44<00:00, 179kB/s] \n"
     ]
    },
    {
     "data": {
      "text/plain": [
       "'Bikers.csv'"
      ]
     },
     "execution_count": 6,
     "metadata": {},
     "output_type": "execute_result"
    }
   ],
   "source": [
    "gdown.download(f\"https://drive.google.com/uc?id={id}\", quiet=False)"
   ]
  },
  {
   "cell_type": "code",
   "execution_count": null,
   "id": "6b5457b7",
   "metadata": {},
   "outputs": [],
   "source": [
    "df2 = df.copy()"
   ]
  },
  {
   "cell_type": "code",
   "execution_count": null,
   "id": "c71c8696",
   "metadata": {},
   "outputs": [],
   "source": [
    "# 3. Read from Wikipedia\n",
    "# Read in your url from wikipedia\n",
    "\n",
    "import requests\n"
   ]
  }
 ],
 "metadata": {
  "kernelspec": {
   "display_name": "base",
   "language": "python",
   "name": "python3"
  },
  "language_info": {
   "codemirror_mode": {
    "name": "ipython",
    "version": 3
   },
   "file_extension": ".py",
   "mimetype": "text/x-python",
   "name": "python",
   "nbconvert_exporter": "python",
   "pygments_lexer": "ipython3",
   "version": "3.12.7"
  }
 },
 "nbformat": 4,
 "nbformat_minor": 5
}
