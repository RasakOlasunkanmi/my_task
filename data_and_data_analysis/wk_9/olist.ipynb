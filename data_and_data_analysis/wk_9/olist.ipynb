{
 "cells": [
  {
   "cell_type": "code",
   "execution_count": 1,
   "id": "541919fe",
   "metadata": {},
   "outputs": [],
   "source": [
    "import pandas as pd\n",
    "import numpy as np\n",
    "from zipfile import ZipFile\n",
    "from functools import reduce\n",
    "import matplotlib.pyplot as plt\n",
    "from scipy import stats\n",
    "import os\n",
    "import warnings\n",
    "warnings.filterwarnings('ignore')"
   ]
  },
  {
   "cell_type": "code",
   "execution_count": 2,
   "id": "158bb632",
   "metadata": {},
   "outputs": [],
   "source": [
    "pd.set_option('display.max_columns', None)\n",
    "pd.set_option('display.width', 1000)"
   ]
  },
  {
   "cell_type": "code",
   "execution_count": 3,
   "id": "5fa2e8f7",
   "metadata": {},
   "outputs": [],
   "source": [
    "path = r\"C:\\Users\\olasunkanmi\\Downloads\\archive (2).zip\"\n",
    "\n",
    "extracted_file = \"data_files\""
   ]
  },
  {
   "cell_type": "code",
   "execution_count": 4,
   "id": "b95e4aed",
   "metadata": {},
   "outputs": [],
   "source": [
    "with ZipFile(path, \"r\") as f:\n",
    "    f.extractall(\"data_files\")"
   ]
  },
  {
   "cell_type": "code",
   "execution_count": null,
   "id": "8dab5c71",
   "metadata": {},
   "outputs": [],
   "source": [
    "data_frames = "
   ]
  }
 ],
 "metadata": {
  "kernelspec": {
   "display_name": "base",
   "language": "python",
   "name": "python3"
  },
  "language_info": {
   "codemirror_mode": {
    "name": "ipython",
    "version": 3
   },
   "file_extension": ".py",
   "mimetype": "text/x-python",
   "name": "python",
   "nbconvert_exporter": "python",
   "pygments_lexer": "ipython3",
   "version": "3.12.7"
  }
 },
 "nbformat": 4,
 "nbformat_minor": 5
}
