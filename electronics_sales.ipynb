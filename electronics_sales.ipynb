{
 "cells": [
  {
   "cell_type": "code",
   "execution_count": 3,
   "id": "abf368db",
   "metadata": {},
   "outputs": [],
   "source": [
    "# import necessary libraries\n",
    "import pandas as pd\n",
    "import numpy as np\n",
    "import matplotlib.pyplot as plt\n",
    "import seaborn as sns\n",
    "from pathlib import Path\n",
    "import warnings\n",
    "warnings.filterwarnings(\"ignore\")\n",
    "\n",
    "pd.set_option('display.max_columns', None)\n",
    "pd.set_option('display.width', 1000)\n",
    "\n",
    "\n",
    "# create a workspace directory\n",
    "workspace = Path(\"workspace\")\n",
    "workspace.mkdir(exist_ok=True)\n",
    "electronics_sales = workspace / \"eletronic_sales.xlsx\""
   ]
  },
  {
   "cell_type": "code",
   "execution_count": 4,
   "id": "ad96e558",
   "metadata": {},
   "outputs": [
    {
     "data": {
      "text/html": [
       "<div>\n",
       "<style scoped>\n",
       "    .dataframe tbody tr th:only-of-type {\n",
       "        vertical-align: middle;\n",
       "    }\n",
       "\n",
       "    .dataframe tbody tr th {\n",
       "        vertical-align: top;\n",
       "    }\n",
       "\n",
       "    .dataframe thead th {\n",
       "        text-align: right;\n",
       "    }\n",
       "</style>\n",
       "<table border=\"1\" class=\"dataframe\">\n",
       "  <thead>\n",
       "    <tr style=\"text-align: right;\">\n",
       "      <th></th>\n",
       "      <th>Date</th>\n",
       "      <th>Branch</th>\n",
       "      <th>Sales Agent</th>\n",
       "      <th>Products</th>\n",
       "      <th>Units</th>\n",
       "      <th>Price</th>\n",
       "    </tr>\n",
       "  </thead>\n",
       "  <tbody>\n",
       "    <tr>\n",
       "      <th>0</th>\n",
       "      <td>2014-09-01</td>\n",
       "      <td>Woji</td>\n",
       "      <td>Chinedu</td>\n",
       "      <td>Apple</td>\n",
       "      <td>2</td>\n",
       "      <td>125.00</td>\n",
       "    </tr>\n",
       "    <tr>\n",
       "      <th>1</th>\n",
       "      <td>2015-06-17</td>\n",
       "      <td>Woji</td>\n",
       "      <td>Emeka</td>\n",
       "      <td>Apple</td>\n",
       "      <td>5</td>\n",
       "      <td>125.00</td>\n",
       "    </tr>\n",
       "    <tr>\n",
       "      <th>2</th>\n",
       "      <td>2015-09-10</td>\n",
       "      <td>Woji</td>\n",
       "      <td>Ibrahim</td>\n",
       "      <td>Lenovo</td>\n",
       "      <td>7</td>\n",
       "      <td>1.29</td>\n",
       "    </tr>\n",
       "    <tr>\n",
       "      <th>3</th>\n",
       "      <td>2015-11-17</td>\n",
       "      <td>Woji</td>\n",
       "      <td>Tolu</td>\n",
       "      <td>HP</td>\n",
       "      <td>11</td>\n",
       "      <td>4.99</td>\n",
       "    </tr>\n",
       "    <tr>\n",
       "      <th>4</th>\n",
       "      <td>2015-10-31</td>\n",
       "      <td>Woji</td>\n",
       "      <td>Tonye</td>\n",
       "      <td>Lenovo</td>\n",
       "      <td>14</td>\n",
       "      <td>1.29</td>\n",
       "    </tr>\n",
       "  </tbody>\n",
       "</table>\n",
       "</div>"
      ],
      "text/plain": [
       "        Date Branch Sales Agent Products  Units   Price\n",
       "0 2014-09-01   Woji     Chinedu    Apple      2  125.00\n",
       "1 2015-06-17   Woji       Emeka    Apple      5  125.00\n",
       "2 2015-09-10   Woji     Ibrahim   Lenovo      7    1.29\n",
       "3 2015-11-17   Woji        Tolu       HP     11    4.99\n",
       "4 2015-10-31   Woji       Tonye   Lenovo     14    1.29"
      ]
     },
     "execution_count": 4,
     "metadata": {},
     "output_type": "execute_result"
    }
   ],
   "source": [
    "# View a snapshot of the data\n",
    "df = pd.read_excel(electronics_sales)\n",
    "df.head()"
   ]
  },
  {
   "cell_type": "code",
   "execution_count": 5,
   "id": "5c477c90",
   "metadata": {},
   "outputs": [],
   "source": [
    "## What makes a dirty data?\n",
    "# Missing values\n",
    "\n",
    "# Duplicates\n",
    "# inconsistent data columns\n",
    "# wrong datatype ....>to change datatypes we use \".astype()\" ----> to check datatypes we use \"dtypes\"\n",
    "# incomplete data\n",
    "\n",
    "## Why do we need to clean data? We clean data to ensure\n",
    "# --->Data integrity, accuracy and consistency---->\n",
    "\n",
    "\n",
    "## Data anaysis pipeline\n",
    "#1. ETL (Extract, Transform and Load)\n",
    "#2. creating data model for visualization\n",
    "#3. building dashboard\n",
    "#4. Reporting and presentation\n",
    "\n",
    "## Data Science pipeline\n",
    "#1. Preliminary analysis\n",
    "#2. EDA Exploratory data analysis\n",
    "#3. Data cleaning\n",
    "#4. Analysis(Data Wrangling)\n",
    "#5. Data preprocessing and data mining\n",
    "#6. Building your model(prediction, forcasting, classification, clustering)\n",
    "#7. Reporting and visualization\n",
    "#8. Deployment\n",
    "#9. Maintenance and monitoring\n",
    "#10.Support and troubleshooting\n",
    "#----> Please note that from step2 to step5 is an iterative process that is dependent on step 6. Step 6 itself could also be iterative"
   ]
  },
  {
   "cell_type": "code",
   "execution_count": 6,
   "id": "2a093d60",
   "metadata": {},
   "outputs": [],
   "source": [
    "# Do a little bit of feature engineering\n",
    "\n",
    "# add rvenue column\n",
    "# To create a new column, you start with creating the new columns as a variable name\n",
    "# and then assign it to the dataframe with the new column name in square brackets\n",
    "\n",
    "df[\"Revenue(NGN)\"] = round(df[\"Units\"]*df[\"Price\"] * 1000,2)"
   ]
  },
  {
   "cell_type": "markdown",
   "id": "6db7def8",
   "metadata": {},
   "source": [
    "**Feature Engineering**\n",
    "* Explanation:\n",
    "\n",
    "Feature Engineering - This means 3 things, one is useful here and the other two for ML. Feature engineering in this context has to do with creating a new feature or column by combining, extracting or simply doing calculation on an existing column or fature."
   ]
  },
  {
   "cell_type": "code",
   "execution_count": 7,
   "id": "5b8f4c8f",
   "metadata": {},
   "outputs": [
    {
     "data": {
      "text/html": [
       "<div>\n",
       "<style scoped>\n",
       "    .dataframe tbody tr th:only-of-type {\n",
       "        vertical-align: middle;\n",
       "    }\n",
       "\n",
       "    .dataframe tbody tr th {\n",
       "        vertical-align: top;\n",
       "    }\n",
       "\n",
       "    .dataframe thead th {\n",
       "        text-align: right;\n",
       "    }\n",
       "</style>\n",
       "<table border=\"1\" class=\"dataframe\">\n",
       "  <thead>\n",
       "    <tr style=\"text-align: right;\">\n",
       "      <th></th>\n",
       "      <th>Date</th>\n",
       "      <th>Branch</th>\n",
       "      <th>Sales Agent</th>\n",
       "      <th>Products</th>\n",
       "      <th>Units</th>\n",
       "      <th>Price</th>\n",
       "      <th>Revenue(NGN)</th>\n",
       "    </tr>\n",
       "  </thead>\n",
       "  <tbody>\n",
       "    <tr>\n",
       "      <th>0</th>\n",
       "      <td>2014-09-01</td>\n",
       "      <td>Woji</td>\n",
       "      <td>Chinedu</td>\n",
       "      <td>Apple</td>\n",
       "      <td>2</td>\n",
       "      <td>125.00</td>\n",
       "      <td>250000.0</td>\n",
       "    </tr>\n",
       "    <tr>\n",
       "      <th>1</th>\n",
       "      <td>2015-06-17</td>\n",
       "      <td>Woji</td>\n",
       "      <td>Emeka</td>\n",
       "      <td>Apple</td>\n",
       "      <td>5</td>\n",
       "      <td>125.00</td>\n",
       "      <td>625000.0</td>\n",
       "    </tr>\n",
       "    <tr>\n",
       "      <th>2</th>\n",
       "      <td>2015-09-10</td>\n",
       "      <td>Woji</td>\n",
       "      <td>Ibrahim</td>\n",
       "      <td>Lenovo</td>\n",
       "      <td>7</td>\n",
       "      <td>1.29</td>\n",
       "      <td>9030.0</td>\n",
       "    </tr>\n",
       "    <tr>\n",
       "      <th>3</th>\n",
       "      <td>2015-11-17</td>\n",
       "      <td>Woji</td>\n",
       "      <td>Tolu</td>\n",
       "      <td>HP</td>\n",
       "      <td>11</td>\n",
       "      <td>4.99</td>\n",
       "      <td>54890.0</td>\n",
       "    </tr>\n",
       "    <tr>\n",
       "      <th>4</th>\n",
       "      <td>2015-10-31</td>\n",
       "      <td>Woji</td>\n",
       "      <td>Tonye</td>\n",
       "      <td>Lenovo</td>\n",
       "      <td>14</td>\n",
       "      <td>1.29</td>\n",
       "      <td>18060.0</td>\n",
       "    </tr>\n",
       "  </tbody>\n",
       "</table>\n",
       "</div>"
      ],
      "text/plain": [
       "        Date Branch Sales Agent Products  Units   Price  Revenue(NGN)\n",
       "0 2014-09-01   Woji     Chinedu    Apple      2  125.00      250000.0\n",
       "1 2015-06-17   Woji       Emeka    Apple      5  125.00      625000.0\n",
       "2 2015-09-10   Woji     Ibrahim   Lenovo      7    1.29        9030.0\n",
       "3 2015-11-17   Woji        Tolu       HP     11    4.99       54890.0\n",
       "4 2015-10-31   Woji       Tonye   Lenovo     14    1.29       18060.0"
      ]
     },
     "execution_count": 7,
     "metadata": {},
     "output_type": "execute_result"
    }
   ],
   "source": [
    "# View to see if the changes has been effected\n",
    "df.head()"
   ]
  },
  {
   "cell_type": "code",
   "execution_count": 8,
   "id": "730b48dd",
   "metadata": {},
   "outputs": [
    {
     "data": {
      "text/plain": [
       "Date            datetime64[ns]\n",
       "Branch                  object\n",
       "Sales Agent             object\n",
       "Products                object\n",
       "Units                    int64\n",
       "Price                  float64\n",
       "Revenue(NGN)           float64\n",
       "dtype: object"
      ]
     },
     "execution_count": 8,
     "metadata": {},
     "output_type": "execute_result"
    }
   ],
   "source": [
    "# Let's check the datatypes of our columns\n",
    "df.dtypes"
   ]
  },
  {
   "cell_type": "code",
   "execution_count": 9,
   "id": "ef21e3da",
   "metadata": {},
   "outputs": [],
   "source": [
    "# Lets convert the date column to datetime\n",
    "# using \"pd.to_datetime()\" function\n",
    "\n",
    "#to_datetime() function converts a string or a number to a datetime object\n",
    "df[\"Date\"] = pd.to_datetime(df[\"Date\"])"
   ]
  },
  {
   "cell_type": "code",
   "execution_count": 10,
   "id": "3836917a",
   "metadata": {},
   "outputs": [
    {
     "data": {
      "text/plain": [
       "Date            datetime64[ns]\n",
       "Branch                  object\n",
       "Sales Agent             object\n",
       "Products                object\n",
       "Units                    int64\n",
       "Price                  float64\n",
       "Revenue(NGN)           float64\n",
       "dtype: object"
      ]
     },
     "execution_count": 10,
     "metadata": {},
     "output_type": "execute_result"
    }
   ],
   "source": [
    "# Lets check the datatypes again\n",
    "df.dtypes"
   ]
  },
  {
   "cell_type": "code",
   "execution_count": 11,
   "id": "549b7411",
   "metadata": {},
   "outputs": [
    {
     "data": {
      "text/plain": [
       "<Axes: xlabel='Data Types', ylabel='Count'>"
      ]
     },
     "execution_count": 11,
     "metadata": {},
     "output_type": "execute_result"
    },
    {
     "data": {
      "image/png": "[encoded data removed]",
      "text/plain": [
       "<Figure size 640x480 with 1 Axes>"
      ]
     },
     "metadata": {},
     "output_type": "display_data"
    }
   ],
   "source": [
    "# Lets just plot this to see if it works\n",
    "df.dtypes.value_counts().plot(kind=\"bar\", xlabel = \"Data Types\", ylabel = \"Count\")"
   ]
  },
  {
   "cell_type": "code",
   "execution_count": 12,
   "id": "b07ce056",
   "metadata": {},
   "outputs": [],
   "source": [
    "# Lets work on our datatime to extract the month, year, and week name\n",
    "# Using \"dt.year\", \"dt.month_name()\", \"day_name()\"\n",
    "\n",
    "df[\"Year\"] = df[\"Date\"].dt.year\n",
    "df[\"Month\"] = df[\"Date\"].dt.month_name()\n",
    "df[\"Week\"] = df[\"Date\"].dt.day_name()"
   ]
  },
  {
   "cell_type": "code",
   "execution_count": 19,
   "id": "fa50647f",
   "metadata": {},
   "outputs": [
    {
     "data": {
      "text/html": [
       "<div>\n",
       "<style scoped>\n",
       "    .dataframe tbody tr th:only-of-type {\n",
       "        vertical-align: middle;\n",
       "    }\n",
       "\n",
       "    .dataframe tbody tr th {\n",
       "        vertical-align: top;\n",
       "    }\n",
       "\n",
       "    .dataframe thead th {\n",
       "        text-align: right;\n",
       "    }\n",
       "</style>\n",
       "<table border=\"1\" class=\"dataframe\">\n",
       "  <thead>\n",
       "    <tr style=\"text-align: right;\">\n",
       "      <th></th>\n",
       "      <th>Date</th>\n",
       "      <th>Branch</th>\n",
       "      <th>Sales Agent</th>\n",
       "      <th>Products</th>\n",
       "      <th>Units</th>\n",
       "      <th>Price</th>\n",
       "      <th>Revenue(NGN)</th>\n",
       "      <th>Year</th>\n",
       "      <th>Month</th>\n",
       "      <th>Week</th>\n",
       "    </tr>\n",
       "  </thead>\n",
       "  <tbody>\n",
       "    <tr>\n",
       "      <th>0</th>\n",
       "      <td>2014-09-01</td>\n",
       "      <td>Woji</td>\n",
       "      <td>Chinedu</td>\n",
       "      <td>Apple</td>\n",
       "      <td>2</td>\n",
       "      <td>125.00</td>\n",
       "      <td>250000.0</td>\n",
       "      <td>2014</td>\n",
       "      <td>September</td>\n",
       "      <td>Monday</td>\n",
       "    </tr>\n",
       "    <tr>\n",
       "      <th>1</th>\n",
       "      <td>2015-06-17</td>\n",
       "      <td>Woji</td>\n",
       "      <td>Emeka</td>\n",
       "      <td>Apple</td>\n",
       "      <td>5</td>\n",
       "      <td>125.00</td>\n",
       "      <td>625000.0</td>\n",
       "      <td>2015</td>\n",
       "      <td>June</td>\n",
       "      <td>Wednesday</td>\n",
       "    </tr>\n",
       "    <tr>\n",
       "      <th>2</th>\n",
       "      <td>2015-09-10</td>\n",
       "      <td>Woji</td>\n",
       "      <td>Ibrahim</td>\n",
       "      <td>Lenovo</td>\n",
       "      <td>7</td>\n",
       "      <td>1.29</td>\n",
       "      <td>9030.0</td>\n",
       "      <td>2015</td>\n",
       "      <td>September</td>\n",
       "      <td>Thursday</td>\n",
       "    </tr>\n",
       "    <tr>\n",
       "      <th>3</th>\n",
       "      <td>2015-11-17</td>\n",
       "      <td>Woji</td>\n",
       "      <td>Tolu</td>\n",
       "      <td>HP</td>\n",
       "      <td>11</td>\n",
       "      <td>4.99</td>\n",
       "      <td>54890.0</td>\n",
       "      <td>2015</td>\n",
       "      <td>November</td>\n",
       "      <td>Tuesday</td>\n",
       "    </tr>\n",
       "    <tr>\n",
       "      <th>4</th>\n",
       "      <td>2015-10-31</td>\n",
       "      <td>Woji</td>\n",
       "      <td>Tonye</td>\n",
       "      <td>Lenovo</td>\n",
       "      <td>14</td>\n",
       "      <td>1.29</td>\n",
       "      <td>18060.0</td>\n",
       "      <td>2015</td>\n",
       "      <td>October</td>\n",
       "      <td>Saturday</td>\n",
       "    </tr>\n",
       "  </tbody>\n",
       "</table>\n",
       "</div>"
      ],
      "text/plain": [
       "        Date Branch Sales Agent Products  Units   Price  Revenue(NGN)  Year      Month       Week\n",
       "0 2014-09-01   Woji     Chinedu    Apple      2  125.00      250000.0  2014  September     Monday\n",
       "1 2015-06-17   Woji       Emeka    Apple      5  125.00      625000.0  2015       June  Wednesday\n",
       "2 2015-09-10   Woji     Ibrahim   Lenovo      7    1.29        9030.0  2015  September   Thursday\n",
       "3 2015-11-17   Woji        Tolu       HP     11    4.99       54890.0  2015   November    Tuesday\n",
       "4 2015-10-31   Woji       Tonye   Lenovo     14    1.29       18060.0  2015    October   Saturday"
      ]
     },
     "execution_count": 19,
     "metadata": {},
     "output_type": "execute_result"
    }
   ],
   "source": [
    "df.head()"
   ]
  },
  {
   "cell_type": "markdown",
   "id": "adda6224",
   "metadata": {},
   "source": [
    "#2.0 Steps to Analysis\n",
    "**Note:** This is after you have followed the ETL(Extract Transform Load) frame work, this is you importing your dataset, cleaning and preparing it for analysis\n",
    "\n",
    "### A. Work on the KPI's (Key performance index of this data)\n",
    "1. Total units sold\n",
    "2. Total Revenue\n",
    "3. Average Revenue per unit\n",
    "4. Numbers of products\n",
    "5. Numbers of Sales Agents\n",
    "\n",
    "### B. Work on the insights by creating models(Note that creating models in data analysis is different from building models in machine learning)\n",
    "1. Total monthly revenue by Year\n",
    "2. Total revenue by branch\n",
    "3. Total revenue by products\n",
    "4. Total revenue by sales agent\n",
    "5. Total revenue by week\n",
    "6. Total revenue by month\n",
    "7. Trends of sales\n",
    "\n",
    "### C. Build your dash board\n",
    "1. Add the title of your analysis.\n",
    "2. Add the business/company\n",
    "3. Add your KPI's\n",
    "4. Add Charts with appropriate labelling\n",
    "5. Add your slicer if you are working with streamlit or excel or PowerBi or Tableau to make your dashboard interactive(if not, exclude it)\n",
    "\n",
    "### C. Report your insights\n",
    "1. Start with the an executive summary briefly explaining what you and briefly introducing the KPI's.\n",
    "2. Explain your insights in a narative and relatable way using your visuals.\n",
    "\n",
    "### D. Make recommendation\n",
    "1. What should the business owner to increase monthly sales\n",
    "2. Which of the brannches should be given more attention\n",
    "3. Which products should be removed from the stock, which products should be purchased more\n",
    "4. Which of the sales agents should be given more incentives/promoted to sales managers position"
   ]
  },
  {
   "cell_type": "markdown",
   "id": "63e3abcd",
   "metadata": {},
   "source": [
    "### A. Working on the PKI's"
   ]
  },
  {
   "cell_type": "code",
   "execution_count": 14,
   "id": "97c5acd0",
   "metadata": {},
   "outputs": [
    {
     "name": "stdout",
     "output_type": "stream",
     "text": [
      "Total goods sold: 2121 units\n"
     ]
    }
   ],
   "source": [
    "#1. Total units sold\n",
    "\n",
    "Total_goods_sold = df[\"Units\"].sum()\n",
    "print(f\"Total goods sold: {Total_goods_sold} units\")"
   ]
  },
  {
   "cell_type": "code",
   "execution_count": 15,
   "id": "ecee016a",
   "metadata": {},
   "outputs": [
    {
     "name": "stdout",
     "output_type": "stream",
     "text": [
      "Total Revenue: NGN19627880.0\n"
     ]
    }
   ],
   "source": [
    "#2. Total Revenue\n",
    "Total_Revenue = df[\"Revenue(NGN)\"].sum()\n",
    "print(f\"Total Revenue: NGN{Total_Revenue}\")"
   ]
  },
  {
   "cell_type": "code",
   "execution_count": 16,
   "id": "5b19b816",
   "metadata": {},
   "outputs": [
    {
     "name": "stdout",
     "output_type": "stream",
     "text": [
      "Average Revenue per unit: NGN9254.07\n"
     ]
    }
   ],
   "source": [
    "#3. Average Revenue per unit\n",
    "## using \"round() function to approximate to 2 decimal places\"\n",
    "Average_Revenue_per_unit = round(Total_Revenue / Total_goods_sold,2)\n",
    "print(f\"Average Revenue per unit: NGN{Average_Revenue_per_unit}\")"
   ]
  },
  {
   "cell_type": "code",
   "execution_count": 17,
   "id": "4d1f2c3c",
   "metadata": {},
   "outputs": [
    {
     "name": "stdout",
     "output_type": "stream",
     "text": [
      "Number of products: 5\n"
     ]
    }
   ],
   "source": [
    "#4. Numbers of products\n",
    "## Using the .nunique() function to get the number of unique values\n",
    "Number_of_products = df[\"Products\"].nunique()\n",
    "print(f\"Number of products: {Number_of_products}\")"
   ]
  },
  {
   "cell_type": "code",
   "execution_count": 20,
   "id": "15c48f6f",
   "metadata": {},
   "outputs": [
    {
     "name": "stdout",
     "output_type": "stream",
     "text": [
      "Numbers of sales agents: 11\n"
     ]
    }
   ],
   "source": [
    "#5. Numbers of Sales Agents\n",
    "Numbers_of_sales_agents = df[\"Sales Agent\"].nunique()\n",
    "print(f\"Numbers of sales agents: {Numbers_of_sales_agents}\")"
   ]
  },
  {
   "cell_type": "markdown",
   "id": "58f805ba",
   "metadata": {},
   "source": [
    "**B. Work on the insights by creating models and plotting their charts.**"
   ]
  },
  {
   "cell_type": "code",
   "execution_count": 21,
   "id": "5b8f0161",
   "metadata": {},
   "outputs": [],
   "source": [
    "# Set index using the date column\n",
    "df.set_index(\"Date\", inplace=True)"
   ]
  },
  {
   "cell_type": "markdown",
   "id": "b2713f77",
   "metadata": {},
   "source": [
    "Task: Calculate the Total Monthly revenue for year 2015 and plot the chart using 3 visualization packages in python"
   ]
  },
  {
   "cell_type": "code",
   "execution_count": 22,
   "id": "8ba13ab3",
   "metadata": {},
   "outputs": [
    {
     "data": {
      "text/plain": [
       "array([2014, 2015], dtype=int32)"
      ]
     },
     "execution_count": 22,
     "metadata": {},
     "output_type": "execute_result"
    }
   ],
   "source": [
    "df.Year.unique()"
   ]
  },
  {
   "cell_type": "code",
   "execution_count": 23,
   "id": "589dabc4",
   "metadata": {},
   "outputs": [],
   "source": [
    "sales_2015 = df[df[\"Year\"] == 2015]"
   ]
  },
  {
   "cell_type": "code",
   "execution_count": 39,
   "id": "1c8edec8",
   "metadata": {},
   "outputs": [
    {
     "data": {
      "text/html": [
       "<div>\n",
       "<style scoped>\n",
       "    .dataframe tbody tr th:only-of-type {\n",
       "        vertical-align: middle;\n",
       "    }\n",
       "\n",
       "    .dataframe tbody tr th {\n",
       "        vertical-align: top;\n",
       "    }\n",
       "\n",
       "    .dataframe thead th {\n",
       "        text-align: right;\n",
       "    }\n",
       "</style>\n",
       "<table border=\"1\" class=\"dataframe\">\n",
       "  <thead>\n",
       "    <tr style=\"text-align: right;\">\n",
       "      <th></th>\n",
       "      <th>Branch</th>\n",
       "      <th>Sales Agent</th>\n",
       "      <th>Products</th>\n",
       "      <th>Units</th>\n",
       "      <th>Price</th>\n",
       "      <th>Revenue(NGN)</th>\n",
       "      <th>Year</th>\n",
       "      <th>Month</th>\n",
       "      <th>Week</th>\n",
       "    </tr>\n",
       "    <tr>\n",
       "      <th>Date</th>\n",
       "      <th></th>\n",
       "      <th></th>\n",
       "      <th></th>\n",
       "      <th></th>\n",
       "      <th></th>\n",
       "      <th></th>\n",
       "      <th></th>\n",
       "      <th></th>\n",
       "      <th></th>\n",
       "    </tr>\n",
       "  </thead>\n",
       "  <tbody>\n",
       "    <tr>\n",
       "      <th>2015-06-17</th>\n",
       "      <td>Woji</td>\n",
       "      <td>Emeka</td>\n",
       "      <td>Apple</td>\n",
       "      <td>5</td>\n",
       "      <td>125.00</td>\n",
       "      <td>625000.0</td>\n",
       "      <td>2015</td>\n",
       "      <td>June</td>\n",
       "      <td>Wednesday</td>\n",
       "    </tr>\n",
       "    <tr>\n",
       "      <th>2015-09-10</th>\n",
       "      <td>Woji</td>\n",
       "      <td>Ibrahim</td>\n",
       "      <td>Lenovo</td>\n",
       "      <td>7</td>\n",
       "      <td>1.29</td>\n",
       "      <td>9030.0</td>\n",
       "      <td>2015</td>\n",
       "      <td>September</td>\n",
       "      <td>Thursday</td>\n",
       "    </tr>\n",
       "    <tr>\n",
       "      <th>2015-11-17</th>\n",
       "      <td>Woji</td>\n",
       "      <td>Tolu</td>\n",
       "      <td>HP</td>\n",
       "      <td>11</td>\n",
       "      <td>4.99</td>\n",
       "      <td>54890.0</td>\n",
       "      <td>2015</td>\n",
       "      <td>November</td>\n",
       "      <td>Tuesday</td>\n",
       "    </tr>\n",
       "    <tr>\n",
       "      <th>2015-10-31</th>\n",
       "      <td>Woji</td>\n",
       "      <td>Tonye</td>\n",
       "      <td>Lenovo</td>\n",
       "      <td>14</td>\n",
       "      <td>1.29</td>\n",
       "      <td>18060.0</td>\n",
       "      <td>2015</td>\n",
       "      <td>October</td>\n",
       "      <td>Saturday</td>\n",
       "    </tr>\n",
       "    <tr>\n",
       "      <th>2015-12-21</th>\n",
       "      <td>Woji</td>\n",
       "      <td>Tonye</td>\n",
       "      <td>HP</td>\n",
       "      <td>28</td>\n",
       "      <td>4.99</td>\n",
       "      <td>139720.0</td>\n",
       "      <td>2015</td>\n",
       "      <td>December</td>\n",
       "      <td>Monday</td>\n",
       "    </tr>\n",
       "    <tr>\n",
       "      <th>2015-08-07</th>\n",
       "      <td>Woji</td>\n",
       "      <td>Emeka</td>\n",
       "      <td>Dell</td>\n",
       "      <td>42</td>\n",
       "      <td>23.95</td>\n",
       "      <td>1005900.0</td>\n",
       "      <td>2015</td>\n",
       "      <td>August</td>\n",
       "      <td>Friday</td>\n",
       "    </tr>\n",
       "    <tr>\n",
       "      <th>2015-01-15</th>\n",
       "      <td>Woji</td>\n",
       "      <td>Ibrahim</td>\n",
       "      <td>HP</td>\n",
       "      <td>46</td>\n",
       "      <td>8.99</td>\n",
       "      <td>413540.0</td>\n",
       "      <td>2015</td>\n",
       "      <td>January</td>\n",
       "      <td>Thursday</td>\n",
       "    </tr>\n",
       "    <tr>\n",
       "      <th>2015-03-24</th>\n",
       "      <td>Woji</td>\n",
       "      <td>Tolu</td>\n",
       "      <td>Dell</td>\n",
       "      <td>50</td>\n",
       "      <td>4.99</td>\n",
       "      <td>249500.0</td>\n",
       "      <td>2015</td>\n",
       "      <td>March</td>\n",
       "      <td>Tuesday</td>\n",
       "    </tr>\n",
       "    <tr>\n",
       "      <th>2015-05-14</th>\n",
       "      <td>Woji</td>\n",
       "      <td>Ibrahim</td>\n",
       "      <td>Lenovo</td>\n",
       "      <td>53</td>\n",
       "      <td>1.29</td>\n",
       "      <td>68370.0</td>\n",
       "      <td>2015</td>\n",
       "      <td>May</td>\n",
       "      <td>Thursday</td>\n",
       "    </tr>\n",
       "    <tr>\n",
       "      <th>2015-07-21</th>\n",
       "      <td>Woji</td>\n",
       "      <td>George</td>\n",
       "      <td>Dell</td>\n",
       "      <td>55</td>\n",
       "      <td>12.49</td>\n",
       "      <td>686950.0</td>\n",
       "      <td>2015</td>\n",
       "      <td>July</td>\n",
       "      <td>Tuesday</td>\n",
       "    </tr>\n",
       "    <tr>\n",
       "      <th>2015-04-10</th>\n",
       "      <td>Woji</td>\n",
       "      <td>Tonye</td>\n",
       "      <td>Lenovo</td>\n",
       "      <td>66</td>\n",
       "      <td>1.99</td>\n",
       "      <td>131340.0</td>\n",
       "      <td>2015</td>\n",
       "      <td>April</td>\n",
       "      <td>Friday</td>\n",
       "    </tr>\n",
       "    <tr>\n",
       "      <th>2015-05-31</th>\n",
       "      <td>Woji</td>\n",
       "      <td>Ibrahim</td>\n",
       "      <td>HP</td>\n",
       "      <td>80</td>\n",
       "      <td>8.99</td>\n",
       "      <td>719200.0</td>\n",
       "      <td>2015</td>\n",
       "      <td>May</td>\n",
       "      <td>Sunday</td>\n",
       "    </tr>\n",
       "    <tr>\n",
       "      <th>2015-02-01</th>\n",
       "      <td>Woji</td>\n",
       "      <td>Chinedu</td>\n",
       "      <td>HP</td>\n",
       "      <td>87</td>\n",
       "      <td>15.00</td>\n",
       "      <td>1305000.0</td>\n",
       "      <td>2015</td>\n",
       "      <td>February</td>\n",
       "      <td>Sunday</td>\n",
       "    </tr>\n",
       "    <tr>\n",
       "      <th>2015-12-04</th>\n",
       "      <td>Woji</td>\n",
       "      <td>Tolu</td>\n",
       "      <td>HP</td>\n",
       "      <td>94</td>\n",
       "      <td>19.99</td>\n",
       "      <td>1879060.0</td>\n",
       "      <td>2015</td>\n",
       "      <td>December</td>\n",
       "      <td>Friday</td>\n",
       "    </tr>\n",
       "    <tr>\n",
       "      <th>2015-02-18</th>\n",
       "      <td>GRA</td>\n",
       "      <td>Blessing</td>\n",
       "      <td>HP</td>\n",
       "      <td>4</td>\n",
       "      <td>4.99</td>\n",
       "      <td>19960.0</td>\n",
       "      <td>2015</td>\n",
       "      <td>February</td>\n",
       "      <td>Wednesday</td>\n",
       "    </tr>\n",
       "    <tr>\n",
       "      <th>2015-07-04</th>\n",
       "      <td>GRA</td>\n",
       "      <td>Blessing</td>\n",
       "      <td>Dell</td>\n",
       "      <td>62</td>\n",
       "      <td>4.99</td>\n",
       "      <td>309380.0</td>\n",
       "      <td>2015</td>\n",
       "      <td>July</td>\n",
       "      <td>Saturday</td>\n",
       "    </tr>\n",
       "    <tr>\n",
       "      <th>2015-04-27</th>\n",
       "      <td>GRA</td>\n",
       "      <td>Torbari</td>\n",
       "      <td>Compaq</td>\n",
       "      <td>96</td>\n",
       "      <td>4.99</td>\n",
       "      <td>479040.0</td>\n",
       "      <td>2015</td>\n",
       "      <td>April</td>\n",
       "      <td>Monday</td>\n",
       "    </tr>\n",
       "    <tr>\n",
       "      <th>2015-08-24</th>\n",
       "      <td>Town</td>\n",
       "      <td>Uche</td>\n",
       "      <td>Apple</td>\n",
       "      <td>3</td>\n",
       "      <td>275.00</td>\n",
       "      <td>825000.0</td>\n",
       "      <td>2015</td>\n",
       "      <td>August</td>\n",
       "      <td>Monday</td>\n",
       "    </tr>\n",
       "    <tr>\n",
       "      <th>2015-03-07</th>\n",
       "      <td>Town</td>\n",
       "      <td>Uche</td>\n",
       "      <td>HP</td>\n",
       "      <td>7</td>\n",
       "      <td>19.99</td>\n",
       "      <td>139930.0</td>\n",
       "      <td>2015</td>\n",
       "      <td>March</td>\n",
       "      <td>Saturday</td>\n",
       "    </tr>\n",
       "    <tr>\n",
       "      <th>2015-10-14</th>\n",
       "      <td>Town</td>\n",
       "      <td>Tunde</td>\n",
       "      <td>HP</td>\n",
       "      <td>57</td>\n",
       "      <td>19.99</td>\n",
       "      <td>1139430.0</td>\n",
       "      <td>2015</td>\n",
       "      <td>October</td>\n",
       "      <td>Wednesday</td>\n",
       "    </tr>\n",
       "    <tr>\n",
       "      <th>2015-09-27</th>\n",
       "      <td>Town</td>\n",
       "      <td>Uche</td>\n",
       "      <td>Compaq</td>\n",
       "      <td>76</td>\n",
       "      <td>1.99</td>\n",
       "      <td>151240.0</td>\n",
       "      <td>2015</td>\n",
       "      <td>September</td>\n",
       "      <td>Sunday</td>\n",
       "    </tr>\n",
       "  </tbody>\n",
       "</table>\n",
       "</div>"
      ],
      "text/plain": [
       "           Branch Sales Agent Products  Units   Price  Revenue(NGN)  Year      Month       Week\n",
       "Date                                                                                           \n",
       "2015-06-17   Woji       Emeka    Apple      5  125.00      625000.0  2015       June  Wednesday\n",
       "2015-09-10   Woji     Ibrahim   Lenovo      7    1.29        9030.0  2015  September   Thursday\n",
       "2015-11-17   Woji        Tolu       HP     11    4.99       54890.0  2015   November    Tuesday\n",
       "2015-10-31   Woji       Tonye   Lenovo     14    1.29       18060.0  2015    October   Saturday\n",
       "2015-12-21   Woji       Tonye       HP     28    4.99      139720.0  2015   December     Monday\n",
       "2015-08-07   Woji       Emeka     Dell     42   23.95     1005900.0  2015     August     Friday\n",
       "2015-01-15   Woji     Ibrahim       HP     46    8.99      413540.0  2015    January   Thursday\n",
       "2015-03-24   Woji        Tolu     Dell     50    4.99      249500.0  2015      March    Tuesday\n",
       "2015-05-14   Woji     Ibrahim   Lenovo     53    1.29       68370.0  2015        May   Thursday\n",
       "2015-07-21   Woji      George     Dell     55   12.49      686950.0  2015       July    Tuesday\n",
       "2015-04-10   Woji       Tonye   Lenovo     66    1.99      131340.0  2015      April     Friday\n",
       "2015-05-31   Woji     Ibrahim       HP     80    8.99      719200.0  2015        May     Sunday\n",
       "2015-02-01   Woji     Chinedu       HP     87   15.00     1305000.0  2015   February     Sunday\n",
       "2015-12-04   Woji        Tolu       HP     94   19.99     1879060.0  2015   December     Friday\n",
       "2015-02-18    GRA    Blessing       HP      4    4.99       19960.0  2015   February  Wednesday\n",
       "2015-07-04    GRA    Blessing     Dell     62    4.99      309380.0  2015       July   Saturday\n",
       "2015-04-27    GRA     Torbari   Compaq     96    4.99      479040.0  2015      April     Monday\n",
       "2015-08-24   Town        Uche    Apple      3  275.00      825000.0  2015     August     Monday\n",
       "2015-03-07   Town        Uche       HP      7   19.99      139930.0  2015      March   Saturday\n",
       "2015-10-14   Town       Tunde       HP     57   19.99     1139430.0  2015    October  Wednesday\n",
       "2015-09-27   Town        Uche   Compaq     76    1.99      151240.0  2015  September     Sunday"
      ]
     },
     "execution_count": 39,
     "metadata": {},
     "output_type": "execute_result"
    }
   ],
   "source": [
    "#1. Filtering\n",
    "#2. Grouping\n",
    "#3. Visuals\n",
    "\n",
    "# lets start analysing this dataset for insights\n",
    "\n",
    "\n",
    "\n",
    "\n",
    "\n",
    "# 1. Monthly revenue in 2015\n",
    "\n",
    "# step1: Filter for 2015\n",
    "\n",
    "sales_2015 = df[df[\"Year\"] == 2015]\n",
    "sales_2015.head(25)"
   ]
  },
  {
   "cell_type": "code",
   "execution_count": 41,
   "id": "9e43f521",
   "metadata": {},
   "outputs": [
    {
     "data": {
      "text/plain": [
       "Month\n",
       "April         610380.0\n",
       "August       1830900.0\n",
       "December     2018780.0\n",
       "February     1324960.0\n",
       "January       413540.0\n",
       "July          996330.0\n",
       "June          625000.0\n",
       "March         389430.0\n",
       "May           787570.0\n",
       "November       54890.0\n",
       "October      1157490.0\n",
       "September     160270.0\n",
       "Name: Revenue(NGN), dtype: float64"
      ]
     },
     "execution_count": 41,
     "metadata": {},
     "output_type": "execute_result"
    }
   ],
   "source": [
    "# Step2:\n",
    "# I am using the .sort_index() to arrange the output, so the arrangement is done on the index\n",
    "Total_monthly_revenue_2015 = sales_2015.groupby(\"Month\")[\"Revenue(NGN)\"].sum().sort_index()\n",
    "Total_monthly_revenue_2015"
   ]
  },
  {
   "cell_type": "code",
   "execution_count": 42,
   "id": "58949a7f",
   "metadata": {},
   "outputs": [
    {
     "data": {
      "text/plain": [
       "Month\n",
       "November       54890.0\n",
       "September     160270.0\n",
       "March         389430.0\n",
       "January       413540.0\n",
       "April         610380.0\n",
       "June          625000.0\n",
       "May           787570.0\n",
       "July          996330.0\n",
       "October      1157490.0\n",
       "February     1324960.0\n",
       "August       1830900.0\n",
       "December     2018780.0\n",
       "Name: Revenue(NGN), dtype: float64"
      ]
     },
     "execution_count": 42,
     "metadata": {},
     "output_type": "execute_result"
    }
   ],
   "source": [
    "# I am using the .sort_values() to arrange the output, so the arrangement is done base on the values\n",
    "\n",
    "Total_monthly_revenue_sort_2015 = Total_monthly_revenue_2015.sort_values(ascending=True)\n",
    "Total_monthly_revenue_sort_2015"
   ]
  },
  {
   "cell_type": "code",
   "execution_count": 43,
   "id": "d763e158",
   "metadata": {},
   "outputs": [
    {
     "data": {
      "text/plain": [
       "<Axes: xlabel='Month', ylabel='Revenue(NGN)'>"
      ]
     },
     "execution_count": 43,
     "metadata": {},
     "output_type": "execute_result"
    },
    {
     "data": {
      "image/png": "[encoded data removed]",
      "text/plain": [
       "<Figure size 640x480 with 1 Axes>"
      ]
     },
     "metadata": {},
     "output_type": "display_data"
    }
   ],
   "source": [
    "# Lets put this in a plot using pandas\n",
    "Total_monthly_revenue_sort_2015.plot(kind = \"bar\", xlabel = \"Month\", ylabel = \"Revenue(NGN)\")"
   ]
  },
  {
   "cell_type": "code",
   "execution_count": 44,
   "id": "5b1d722b",
   "metadata": {},
   "outputs": [
    {
     "data": {
      "image/png": "[encoded data removed]",
      "text/plain": [
       "<Figure size 640x480 with 1 Axes>"
      ]
     },
     "metadata": {},
     "output_type": "display_data"
    }
   ],
   "source": [
    "# Lets use matplotlib\n",
    "plt.bar(Total_monthly_revenue_sort_2015.index, Total_monthly_revenue_sort_2015.values)\n",
    "plt.xlabel(\"Month\")\n",
    "plt.ylabel(\"Revenue(NGN)\")\n",
    "plt.title(\"Monthly Revenue in 2015\")\n",
    "plt.xticks(rotation = 45)\n",
    "plt.show()"
   ]
  },
  {
   "cell_type": "markdown",
   "id": "83abb4f8",
   "metadata": {},
   "source": [
    "Student Task1: Follow the same step and calculate the monthly revenue for 2014 and plot that charts using the 3 visualization packages in python."
   ]
  },
  {
   "cell_type": "markdown",
   "id": "14dde6ff",
   "metadata": {},
   "source": [
    "**Solutions**"
   ]
  },
  {
   "cell_type": "code",
   "execution_count": 31,
   "id": "af2f1236",
   "metadata": {},
   "outputs": [],
   "source": [
    "sales_2014 = df[df[\"Year\"] == 2014]"
   ]
  },
  {
   "cell_type": "code",
   "execution_count": 32,
   "id": "de9ff660",
   "metadata": {},
   "outputs": [
    {
     "data": {
      "text/html": [
       "<div>\n",
       "<style scoped>\n",
       "    .dataframe tbody tr th:only-of-type {\n",
       "        vertical-align: middle;\n",
       "    }\n",
       "\n",
       "    .dataframe tbody tr th {\n",
       "        vertical-align: top;\n",
       "    }\n",
       "\n",
       "    .dataframe thead th {\n",
       "        text-align: right;\n",
       "    }\n",
       "</style>\n",
       "<table border=\"1\" class=\"dataframe\">\n",
       "  <thead>\n",
       "    <tr style=\"text-align: right;\">\n",
       "      <th></th>\n",
       "      <th>Branch</th>\n",
       "      <th>Sales Agent</th>\n",
       "      <th>Products</th>\n",
       "      <th>Units</th>\n",
       "      <th>Price</th>\n",
       "      <th>Revenue(NGN)</th>\n",
       "      <th>Year</th>\n",
       "      <th>Month</th>\n",
       "      <th>Week</th>\n",
       "    </tr>\n",
       "    <tr>\n",
       "      <th>Date</th>\n",
       "      <th></th>\n",
       "      <th></th>\n",
       "      <th></th>\n",
       "      <th></th>\n",
       "      <th></th>\n",
       "      <th></th>\n",
       "      <th></th>\n",
       "      <th></th>\n",
       "      <th></th>\n",
       "    </tr>\n",
       "  </thead>\n",
       "  <tbody>\n",
       "    <tr>\n",
       "      <th>2014-09-01</th>\n",
       "      <td>Woji</td>\n",
       "      <td>Chinedu</td>\n",
       "      <td>Apple</td>\n",
       "      <td>2</td>\n",
       "      <td>125.00</td>\n",
       "      <td>250000.0</td>\n",
       "      <td>2014</td>\n",
       "      <td>September</td>\n",
       "      <td>Monday</td>\n",
       "    </tr>\n",
       "    <tr>\n",
       "      <th>2014-02-26</th>\n",
       "      <td>Woji</td>\n",
       "      <td>Ibrahim</td>\n",
       "      <td>Compaq</td>\n",
       "      <td>27</td>\n",
       "      <td>19.99</td>\n",
       "      <td>539730.0</td>\n",
       "      <td>2014</td>\n",
       "      <td>February</td>\n",
       "      <td>Wednesday</td>\n",
       "    </tr>\n",
       "    <tr>\n",
       "      <th>2014-10-05</th>\n",
       "      <td>Woji</td>\n",
       "      <td>George</td>\n",
       "      <td>HP</td>\n",
       "      <td>28</td>\n",
       "      <td>8.99</td>\n",
       "      <td>251720.0</td>\n",
       "      <td>2014</td>\n",
       "      <td>October</td>\n",
       "      <td>Sunday</td>\n",
       "    </tr>\n",
       "    <tr>\n",
       "      <th>2014-02-09</th>\n",
       "      <td>Woji</td>\n",
       "      <td>Tolu</td>\n",
       "      <td>Lenovo</td>\n",
       "      <td>36</td>\n",
       "      <td>4.99</td>\n",
       "      <td>179640.0</td>\n",
       "      <td>2014</td>\n",
       "      <td>February</td>\n",
       "      <td>Sunday</td>\n",
       "    </tr>\n",
       "    <tr>\n",
       "      <th>2014-01-23</th>\n",
       "      <td>Woji</td>\n",
       "      <td>Emeka</td>\n",
       "      <td>HP</td>\n",
       "      <td>50</td>\n",
       "      <td>19.99</td>\n",
       "      <td>999500.0</td>\n",
       "      <td>2014</td>\n",
       "      <td>January</td>\n",
       "      <td>Thursday</td>\n",
       "    </tr>\n",
       "    <tr>\n",
       "      <th>2014-12-12</th>\n",
       "      <td>Woji</td>\n",
       "      <td>Chinedu</td>\n",
       "      <td>Lenovo</td>\n",
       "      <td>67</td>\n",
       "      <td>1.29</td>\n",
       "      <td>86430.0</td>\n",
       "      <td>2014</td>\n",
       "      <td>December</td>\n",
       "      <td>Friday</td>\n",
       "    </tr>\n",
       "    <tr>\n",
       "      <th>2014-04-18</th>\n",
       "      <td>Woji</td>\n",
       "      <td>Tonye</td>\n",
       "      <td>Lenovo</td>\n",
       "      <td>75</td>\n",
       "      <td>1.99</td>\n",
       "      <td>149250.0</td>\n",
       "      <td>2014</td>\n",
       "      <td>April</td>\n",
       "      <td>Friday</td>\n",
       "    </tr>\n",
       "    <tr>\n",
       "      <th>2014-05-05</th>\n",
       "      <td>Woji</td>\n",
       "      <td>Tolu</td>\n",
       "      <td>Lenovo</td>\n",
       "      <td>90</td>\n",
       "      <td>4.99</td>\n",
       "      <td>449100.0</td>\n",
       "      <td>2014</td>\n",
       "      <td>May</td>\n",
       "      <td>Monday</td>\n",
       "    </tr>\n",
       "    <tr>\n",
       "      <th>2014-06-25</th>\n",
       "      <td>Woji</td>\n",
       "      <td>George</td>\n",
       "      <td>Lenovo</td>\n",
       "      <td>90</td>\n",
       "      <td>4.99</td>\n",
       "      <td>449100.0</td>\n",
       "      <td>2014</td>\n",
       "      <td>June</td>\n",
       "      <td>Wednesday</td>\n",
       "    </tr>\n",
       "    <tr>\n",
       "      <th>2014-11-25</th>\n",
       "      <td>Woji</td>\n",
       "      <td>Emeka</td>\n",
       "      <td>Dell</td>\n",
       "      <td>96</td>\n",
       "      <td>4.99</td>\n",
       "      <td>479040.0</td>\n",
       "      <td>2014</td>\n",
       "      <td>November</td>\n",
       "      <td>Tuesday</td>\n",
       "    </tr>\n",
       "  </tbody>\n",
       "</table>\n",
       "</div>"
      ],
      "text/plain": [
       "           Branch Sales Agent Products  Units   Price  Revenue(NGN)  Year      Month       Week\n",
       "Date                                                                                           \n",
       "2014-09-01   Woji     Chinedu    Apple      2  125.00      250000.0  2014  September     Monday\n",
       "2014-02-26   Woji     Ibrahim   Compaq     27   19.99      539730.0  2014   February  Wednesday\n",
       "2014-10-05   Woji      George       HP     28    8.99      251720.0  2014    October     Sunday\n",
       "2014-02-09   Woji        Tolu   Lenovo     36    4.99      179640.0  2014   February     Sunday\n",
       "2014-01-23   Woji       Emeka       HP     50   19.99      999500.0  2014    January   Thursday\n",
       "2014-12-12   Woji     Chinedu   Lenovo     67    1.29       86430.0  2014   December     Friday\n",
       "2014-04-18   Woji       Tonye   Lenovo     75    1.99      149250.0  2014      April     Friday\n",
       "2014-05-05   Woji        Tolu   Lenovo     90    4.99      449100.0  2014        May     Monday\n",
       "2014-06-25   Woji      George   Lenovo     90    4.99      449100.0  2014       June  Wednesday\n",
       "2014-11-25   Woji       Emeka     Dell     96    4.99      479040.0  2014   November    Tuesday"
      ]
     },
     "execution_count": 32,
     "metadata": {},
     "output_type": "execute_result"
    }
   ],
   "source": [
    "#1. Filtering\n",
    "#2. Grouping\n",
    "#3. Visuals\n",
    "\n",
    "# lets start analysing this dataset for insights\n",
    "\n",
    "\n",
    "\n",
    "\n",
    "\n",
    "# 1. Monthly revenue in 2014\n",
    "\n",
    "# step1: Filter for 2014\n",
    "\n",
    "sales_2014 = df[df[\"Year\"] == 2014]\n",
    "sales_2014.head(10)"
   ]
  },
  {
   "cell_type": "code",
   "execution_count": null,
   "id": "35d5c094",
   "metadata": {},
   "outputs": [
    {
     "data": {
      "text/plain": [
       "Month\n",
       "April         448650.0\n",
       "August        174650.0\n",
       "December     1269690.0\n",
       "February      719370.0\n",
       "January      1188550.0\n",
       "July         1676900.0\n",
       "June          988500.0\n",
       "March         167440.0\n",
       "May           512780.0\n",
       "November      778890.0\n",
       "October       827080.0\n",
       "September     505840.0\n",
       "Name: Revenue(NGN), dtype: float64"
      ]
     },
     "execution_count": 33,
     "metadata": {},
     "output_type": "execute_result"
    }
   ],
   "source": [
    "# Step2:\n",
    "# I am using the .sort_index() to arrange the output, so the arrangement is done on the index\n",
    "Total_monthly_revenue_2014 = sales_2014.groupby(\"Month\")[\"Revenue(NGN)\"].sum().sort_index()\n",
    "Total_monthly_revenue_2014"
   ]
  },
  {
   "cell_type": "code",
   "execution_count": 34,
   "id": "c32904a1",
   "metadata": {},
   "outputs": [
    {
     "data": {
      "text/plain": [
       "np.float64(19627880.0)"
      ]
     },
     "execution_count": 34,
     "metadata": {},
     "output_type": "execute_result"
    }
   ],
   "source": [
    "# I am using the .sort_values() to arrange the output, sp the arrangement is done base on the values\n",
    "\n",
    "Total_monthly_revenue = sales_2014.groupby(\"Month\")[\"Revenue(NGN)\"].sum().sort_values(ascending = False)\n",
    "Total_Revenue"
   ]
  },
  {
   "cell_type": "code",
   "execution_count": null,
   "id": "6eaeaefa",
   "metadata": {},
   "outputs": [],
   "source": []
  }
 ],
 "metadata": {
  "kernelspec": {
   "display_name": "dataenv (3.13.5)",
   "language": "python",
   "name": "python3"
  },
  "language_info": {
   "codemirror_mode": {
    "name": "ipython",
    "version": 3
   },
   "file_extension": ".py",
   "mimetype": "text/x-python",
   "name": "python",
   "nbconvert_exporter": "python",
   "pygments_lexer": "ipython3",
   "version": "3.13.5"
  }
 },
 "nbformat": 4,
 "nbformat_minor": 5
}
