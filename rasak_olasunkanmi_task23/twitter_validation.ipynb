{
 "cells": [
  {
   "cell_type": "code",
   "execution_count": 1,
   "id": "60a391ad",
   "metadata": {},
   "outputs": [],
   "source": [
    "from typing import Callable\n",
    "from pydantic import BaseModel, field_validator, ValidationError\n",
    "import re\n",
    "import warnings\n",
    "warnings.filterwarnings('ignore')"
   ]
  },
  {
   "cell_type": "code",
   "execution_count": 3,
   "id": "cfa16dee",
   "metadata": {},
   "outputs": [
    {
     "name": "stdout",
     "output_type": "stream",
     "text": [
      "Example of a successful post\n",
      "Valid Twitter username: @olami\n",
      "Post: I am one of the best graduating student from GEN AI FELLOWSHIP as an AI Engineer.\n",
      "\n",
      "Example of a failing post\n",
      "Error: Invalid Twitter data: 1 validation error for TwitterPostModel\n",
      "username\n",
      "  Value error, Twitter username must start with '@' [type=value_error, input_value='sammy!', input_type=str]\n",
      "    For further information visit https://errors.pydantic.dev/2.8/v/value_error\n"
     ]
    }
   ],
   "source": [
    "class TwitterPostModel(BaseModel):\n",
    "    username: str\n",
    "    post: str\n",
    "\n",
    "    @field_validator('username')\n",
    "    def validate_twitter_username(cls, v):\n",
    "        if not v.startswith('@'):\n",
    "            raise ValueError(\"Twitter username must start with '@'\")\n",
    "        if len(v) < 2 or len(v) > 16:  # '@' + up to 15 chars\n",
    "            raise ValueError(\"Twitter username must include '@' and 1–15 valid characters\")\n",
    "        if not re.match(r'^@[A-Za-z0-9_]+$', v):\n",
    "            raise ValueError(\"Twitter username may contain only letters, numbers, and underscores after '@'\")\n",
    "        return v\n",
    "\n",
    "    @field_validator('post')\n",
    "    def validate_twitter_post(cls, v):\n",
    "        if not v or len(v) > 280:\n",
    "            raise ValueError(\"Twitter post must be non-empty and at most 280 characters\")\n",
    "        return v\n",
    "\n",
    "\n",
    "def twitter_post_validator(func: Callable[[str, str], None]) -> Callable[[str, str], None]:\n",
    "    def wrapper(username: str, post: str):\n",
    "        try:\n",
    "            TwitterPostModel(username=username, post=post)\n",
    "        except ValidationError as e:\n",
    "            raise ValueError(f\"Invalid Twitter data: {e}\")\n",
    "        return func(username, post)\n",
    "    return wrapper\n",
    "\n",
    "\n",
    "@twitter_post_validator\n",
    "def print_twitter_post(username: str, post: str):\n",
    "    print(f\"Valid Twitter username: {username}\")\n",
    "    print(f\"Post: {post}\")\n",
    "\n",
    "\n",
    "if __name__ == \"__main__\":\n",
    "    try:\n",
    "        print(\"Example of a successful post\")\n",
    "        print_twitter_post(\"@olami\", \"I am one of the best graduating student from GEN AI FELLOWSHIP as an AI Engineer.\")\n",
    "    except ValueError as e:\n",
    "        print(\"Error:\", e)\n",
    "        \n",
    "        \n",
    "    print(\"\\nExample of a failing post\")\n",
    "    try:\n",
    "        print_twitter_post(\"sammy!\", \"This will fail because username lacks @ or has invalid chars\")\n",
    "    except ValueError as e:\n",
    "        print(\"Error:\", e)\n"
   ]
  },
  {
   "cell_type": "code",
   "execution_count": null,
   "id": "ea085014",
   "metadata": {},
   "outputs": [],
   "source": []
  }
 ],
 "metadata": {
  "kernelspec": {
   "display_name": "base",
   "language": "python",
   "name": "python3"
  },
  "language_info": {
   "codemirror_mode": {
    "name": "ipython",
    "version": 3
   },
   "file_extension": ".py",
   "mimetype": "text/x-python",
   "name": "python",
   "nbconvert_exporter": "python",
   "pygments_lexer": "ipython3",
   "version": "3.12.7"
  }
 },
 "nbformat": 4,
 "nbformat_minor": 5
}
